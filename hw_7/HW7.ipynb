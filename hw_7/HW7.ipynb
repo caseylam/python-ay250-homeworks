{
 "cells": [
  {
   "cell_type": "markdown",
   "id": "da4770f6",
   "metadata": {},
   "source": [
    "1. Create a flask-based website that provides a query interface to BibTeX\n",
    "bibliographic data.\n",
    "\n",
    "The website must allow a user to upload a BibTeX file,\n",
    "store the contents of the file in a database, and provide a query interface to the\n",
    "database.\n",
    "\n",
    "Upon insertion, each set of bibliography entries (contained within the “.bib”\n",
    "file) is a “collection”, and the collection name is provided by the user. \n",
    "\n",
    "This is\n",
    "useful if a user has multiple BibTex files, possibly relating to different research\n",
    "projects or pertaining to different fields of study.\n",
    "\n",
    "The database must have columns for citation tag, author list, journal, volume,\n",
    "pages, year, title, and collection. \n",
    "\n",
    "The website provides a query interface by\n",
    "passing user-entered SQL statements to sqlite3.\n",
    "\n",
    "2. Get your (public) GitHub repo setup with Travis CI and make sure that you\n",
    "have at least 70% code coverage."
   ]
  },
  {
   "cell_type": "markdown",
   "id": "0a57eb7b",
   "metadata": {},
   "source": [
    "### Stuff below: how to upload files. Copied from flask website."
   ]
  },
  {
   "cell_type": "code",
   "execution_count": 1,
   "id": "1732a4c0",
   "metadata": {},
   "outputs": [
    {
     "name": "stdout",
     "output_type": "stream",
     "text": [
      "Overwriting app.py\n"
     ]
    }
   ],
   "source": [
    "%%writefile app.py\n",
    "# https://flask.palletsprojects.com/en/2.1.x/patterns/fileuploads/\n",
    "import os\n",
    "import pandas as pd\n",
    "import numpy as np\n",
    "from flask import Flask, flash, request, redirect, url_for, send_from_directory, render_template\n",
    "from werkzeug.utils import secure_filename\n",
    "from pybtex.database import parse_file \n",
    "import sqlite3\n",
    "\n",
    "\"\"\"\n",
    "Useful examples: https://stackoverflow.com/questions/62004957/crating-an-if-statement-for-different-html-option-in-flask-python\n",
    "\"\"\"\n",
    "\n",
    "UPLOAD_FOLDER = '/home/jovyan/python-ay250-homeworks/hw_7/bibuploads'\n",
    "ALLOWED_EXTENSIONS = {'bib'}\n",
    "\n",
    "app = Flask(__name__)\n",
    "app.config['UPLOAD_FOLDER'] = UPLOAD_FOLDER\n",
    "def allowed_file(filename):\n",
    "    return '.' in filename and \\\n",
    "           filename.rsplit('.', 1)[1].lower() in ALLOWED_EXTENSIONS\n",
    "\n",
    "def parse_bib_to_df(bibfile, collection_name):\n",
    "    \"\"\"\n",
    "    Parse a bibtex file into a pandas dataframe.\n",
    "    Keeps only the tag, author, journal, volume, pages, year,\n",
    "    (For easy insertion into an SQL database later.)\n",
    "    \n",
    "    bibfile : a .bib file\n",
    "    collection_name : string\n",
    "    \"\"\"\n",
    "    bib_data = parse_file(bibfile, \"bibtex\")\n",
    "\n",
    "    tag_list = []\n",
    "    author_list = []\n",
    "    journal_list = []\n",
    "    volume_list = []\n",
    "    pages_list = []\n",
    "    year_list = []\n",
    "    title_list = []\n",
    "    collection_list = []\n",
    "\n",
    "    for tag in list(bib_data.entries.keys()):\n",
    "        if 'Author' in bib_data.entries[tag].persons:\n",
    "            for author_name in list(bib_data.entries[tag].persons['Author']):\n",
    "                author = author_name.last_names[0][1:-1]\n",
    "                if 'journal' in bib_data.entries[tag].fields._dict:\n",
    "                    journal = bib_data.entries[tag].fields._dict['journal'][1:]\n",
    "                else:\n",
    "                    journal = np.nan\n",
    "\n",
    "                if 'volume' in bib_data.entries[tag].fields._dict: \n",
    "                    volume = int(bib_data.entries[tag].fields._dict['volume'])\n",
    "                else:\n",
    "                    journal = np.nan\n",
    "\n",
    "                if 'pages' in bib_data.entries[tag].fields._dict: \n",
    "                    pages = bib_data.entries[tag].fields._dict['pages']\n",
    "                else:\n",
    "                    journal = np.nan\n",
    "\n",
    "                if 'year' in bib_data.entries[tag].fields._dict: \n",
    "                    year = int(bib_data.entries[tag].fields._dict['year'])\n",
    "                else:\n",
    "                    journal = np.nan\n",
    "\n",
    "                if 'title' in bib_data.entries[tag].fields._dict: \n",
    "                    title = bib_data.entries[tag].fields._dict['title'][1:-1]\n",
    "                else:\n",
    "                    journal = np.nan\n",
    "\n",
    "                tag_list.append(tag)\n",
    "                author_list.append(author)\n",
    "                journal_list.append(journal)\n",
    "                volume_list.append(volume)\n",
    "                pages_list.append(pages)\n",
    "                year_list.append(year)\n",
    "                title_list.append(title)\n",
    "                collection_list.append(collection_name)\n",
    "\n",
    "    df = pd.DataFrame({'tag': tag_list, 'author': author_list,\n",
    "                        'journal' : journal_list, 'volume' : volume_list,\n",
    "                        'pages' : pages_list, 'year' : year_list,\n",
    "                        'title' : title_list, 'collection' : collection_list})\n",
    "    \n",
    "    return df\n",
    "\n",
    "def df_to_sql(df):\n",
    "    # FIXME: SAVE THIS TO A PARTICULAR PLACE??\n",
    "    connection = sqlite3.connect(\"bibliography.db\")\n",
    "\n",
    "    cursor = connection.cursor()\n",
    "\n",
    "    sql_cmd = \"\"\"CREATE TABLE bibliography \n",
    "                (iid INTEGER  NOT NULL  PRIMARY KEY  AUTOINCREMENT DEFAULT 0, \n",
    "                tag TEXT, \n",
    "                author TEXT, \n",
    "                journal TEXT, \n",
    "                volume FLOAT, \n",
    "                pages TEXT,\n",
    "                year FLOAT,\n",
    "                title TEXT,\n",
    "                collection TEXT)\"\"\"\n",
    "\n",
    "    cursor.execute(sql_cmd)\n",
    "    connection.commit()\n",
    "    \n",
    "    df = df.where(pd.notnull(df), None)\n",
    "    for ii, row in df.iterrows():\n",
    "        iparams = (row['tag'], row['author'], row['journal'], row['volume'], \n",
    "                   row['pages'], row['year'], row['title'], row['collection'])\n",
    "        sql_cmd = \"\"\"INSERT INTO bibliography\n",
    "                    (tag, author, journal, volume, pages, year, title, collection)\n",
    "                    VALUES (?, ?, ?, ?, ?, ?, ?, ?)\"\"\"\n",
    "\n",
    "        cursor.execute(sql_cmd, iparams)\n",
    "    connection.commit()\n",
    "    return\n",
    "\n",
    "@app.route('/', methods=['GET', 'POST'])\n",
    "def start_page():\n",
    "    if os.listdir(UPLOAD_FOLDER) == []:\n",
    "        return render_template('start_empty.html', upload_file=url_for('upload_file'))\n",
    "\n",
    "    else:\n",
    "        return render_template('start_filled.html', \n",
    "                               upload_file=url_for('upload_file'), query_db=url_for('query_db'))\n",
    "\n",
    "@app.route('/update', methods=['GET', 'POST'])\n",
    "def upload_file():\n",
    "    # FIXME: figure out how to save the collection name.\n",
    "    # Also need to figure out these if statements and error stuff.\n",
    "    if request.method == 'POST':\n",
    "        # check if the post request has the file part\n",
    "        if 'file' not in request.files:\n",
    "            flash('No file part')\n",
    "            return redirect(request.url)\n",
    "        file = request.files['file']\n",
    "        # If the user does not select a file, the browser submits an\n",
    "        # empty file without a filename.\n",
    "        if file.filename == '':\n",
    "            flash('No selected file')\n",
    "            return redirect(request.url)\n",
    "        if file and allowed_file(file.filename):\n",
    "            collection_name = request.form['collname']\n",
    "            filename = secure_filename(file.filename)\n",
    "            bibfile = os.path.join(app.config['UPLOAD_FOLDER'], filename)\n",
    "            file.save(bibfile)\n",
    "            \n",
    "            # Save bib into dataframe\n",
    "            bibdf = parse_bib_to_df(bibfile, collection_name)\n",
    "            df_to_sql(bibdf)\n",
    "            \n",
    "            return redirect(url_for('start_page'))\n",
    "    return render_template('upload_file.html')\n",
    "\n",
    "    \n",
    "@app.route('/query', methods=['GET', 'POST'])\n",
    "def query_db():\n",
    "    if request.method == 'POST':\n",
    "        connection = sqlite3.connect(\"bibliography.db\")\n",
    "        cursor = connection.cursor()\n",
    "        sql_cmd = request.form['query']\n",
    "        cursor.execute(sql_cmd)\n",
    "\n",
    "        db_info = cursor.fetchall()\n",
    "        \n",
    "        return render_template('display.html', len = len(db_info), db_info = db_info)\n",
    "\n",
    "    return render_template('query.html')\n",
    "\n",
    "@app.route('/uploads/<name>')\n",
    "def download_file(name):\n",
    "    return send_from_directory(app.config[\"UPLOAD_FOLDER\"], name)\n",
    "\n",
    "if __name__ == '__main__':\n",
    "    app.run(port=8000, debug = True)"
   ]
  },
  {
   "cell_type": "code",
   "execution_count": null,
   "id": "c355e3a6",
   "metadata": {},
   "outputs": [
    {
     "name": "stdout",
     "output_type": "stream",
     "text": [
      " * Serving Flask app 'app' (lazy loading)\n",
      " * Environment: production\n",
      "\u001b[31m   WARNING: This is a development server. Do not use it in a production deployment.\u001b[0m\n",
      "\u001b[2m   Use a production WSGI server instead.\u001b[0m\n",
      " * Debug mode: on\n",
      " * Running on http://127.0.0.1:8000/ (Press CTRL+C to quit)\n",
      " * Restarting with stat\n",
      " * Debugger is active!\n",
      " * Debugger PIN: 450-013-370\n",
      "[('1998A&A...330..515F',), ('1998A&A...330..515F',), ('1998A&A...330..515F',), ('1998A&A...330..515F',), ('1998A&A...330..515F',), ('1998A&A...330..515F',), ('1998A&A...330..515F',), ('1998A&A...330..515F',), ('2001AJ....122.2587C',), ('2001AJ....122.2587C',), ('2001AJ....122.2587C',), ('2001AJ....122.2587C',), ('2001AJ....122.2587C',), ('2001AJ....122.2587C',), ('2001AJ....122.2587C',), ('2001AJ....122.2587C',), ('2001AJ....122.2587C',), ('2001AJ....122.2587C',), ('2007A&A...474..653V',), ('1994ApJ...427..628F',), ('1994ApJ...427..628F',), ('1994ApJ...427..628F',), ('1994ApJ...427..628F',), ('1994ApJ...427..628F',), ('1994ApJ...427..628F',), ('1994ApJ...427..628F',), ('1994ApJ...427..628F',), ('1994ApJ...427..628F',), ('1994ApJ...427..628F',), ('1994ApJ...427..628F',), ('1994ApJ...427..628F',), ('1994ApJ...427..628F',), ('1994ApJ...427..628F',), ('1994ApJ...427..628F',), ('2006ASPC..351..751B',), ('2006ASPC..351..751B',), ('2006ASPC..351..751B',), ('2006ASPC..351..751B',), ('2006ASPC..351..751B',), ('1996A&AS..117..393B',), ('1996A&AS..117..393B',), ('1997ApJ...486...60D',), ('1997ESASP.402..657S',), ('2003LNP...635..281R',), ('2003LNP...635..265W',), ('2003LNP...635..243C',), ('2003LNP...635..229G',), ('2003LNP...635..229G',), ('2003LNP...635..203H',), ('2003LNP...635..203H',), ('2003LNP...635..203H',), ('2003LNP...635..203H',), ('2003LNP...635..187S',), ('2003LNP...635..175P',), ('2003LNP...635..123K',), ('2003LNP...635..123K',), ('2003LNP...635..105C',), ('2003LNP...635..105C',), ('2003LNP...635...85B',), ('2003LNP...635...71S',), ('2003LNP...635...45F',), ('2003LNP...635...21F',), ('2003LNP...635...21F',), ('2003LNP...635...21F',), ('2003LNP...635....1M',), ('2003LNP...635....1M',), ('2008MNRAS.389.1336K',), ('2008MNRAS.389.1336K',), ('2008MNRAS.389.1336K',), ('2008MNRAS.389.1336K',), ('2008MNRAS.389.1336K',), ('2008MNRAS.389.1336K',), ('2008MNRAS.389.1336K',), ('1987ARA&A..25..345F',), ('1987ARA&A..25..345F',), ('2006ARA&A..44...93S',), ('2006ARA&A..44...93S',), ('2002AJ....124.1213D',), ('1978MNRAS.183..569D',), ('1978MNRAS.183..569D',), ('1978MNRAS.183..569D',), ('2008JPhCS.118a2010E',), ('2008JPhCS.118a2010E',), ('1995AJ....110.1476K',), ('1995AJ....110.1476K',), ('1995AJ....110.1476K',), ('1908AnHar..60...87L',), ('1912HarCi.173....1L',), ('1912HarCi.173....1L',), ('2001ApJ...553...47F',), ('2001ApJ...553...47F',), ('2001ApJ...553...47F',), ('2001ApJ...553...47F',), ('2001ApJ...553...47F',), ('2001ApJ...553...47F',), ('2001ApJ...553...47F',), ('2001ApJ...553...47F',), ('2001ApJ...553...47F',), ('2001ApJ...553...47F',), ('2001ApJ...553...47F',), ('2001ApJ...553...47F',), ('2001ApJ...553...47F',), ('2001ApJ...553...47F',), ('2001ApJ...553...47F',), ('1997MNRAS.286L...1F',), ('1997MNRAS.286L...1F',), ('1998A&A...335L..81L',), ('1998A&A...335L..81L',), ('1998A&A...335L..81L',), ('1998A&A...335L..81L',), ('1998A&A...335L..81L',), ('1997MNRAS.287..955V',), ('1997MNRAS.287..955V',), ('1997MNRAS.287..955V',), ('1997MNRAS.287..955V',), ('2006MNRAS.372.1675S',), ('2006MNRAS.372.1675S',), ('2006MNRAS.372.1675S',), ('2008arXiv0806.3019F',), ('2008ApJ...679...71F',), ('2008ApJ...679...71F',), ('2008ApJ...679...71F',), ('2008ApJ...679...71F',), ('2008ApJ...679...71F',), ('2008MNRAS.386.2115F',), ('2008MNRAS.386.2115F',), ('2008MNRAS.386.2115F',), ('2008MNRAS.386.2115F',), ('2008MNRAS.386.2115F',), ('1998salg.conf..263M',), ('1998salg.conf..263M',), ('2006MNRAS.370.1979M',), ('2006MNRAS.370.1979M',), ('2006MNRAS.370.1979M',), ('2006MNRAS.370.1979M',), ('2006MNRAS.370.1979M',), ('2006MNRAS.370.1979M',), ('2006MNRAS.370.1979M',), ('2006MNRAS.370.1979M',), ('2006MNRAS.370.1979M',), ('2006MNRAS.370.1979M',), ('2006MNRAS.370.1979M',), ('2006MNRAS.370.1979M',), ('2006MNRAS.370.1979M',), ('2006MNRAS.370.1979M',), ('2009ASPC..411..493S',), ('2009ASPC..411..493S',), ('2009ASPC..411..493S',), ('2009ASPC..411..493S',), ('2009ASPC..411..493S',), ('2009ASPC..411..493S',), ('2009ASPC..411..493S',), ('2006AJ....132.1014C',), ('2006AJ....132.1014C',), ('2006AJ....132.1014C',), ('2006AJ....132.1014C',), ('2006AJ....132.1014C',), ('2006AJ....132.1014C',), ('2006AJ....132.1014C',), ('2009MmSAI..80...97C',), ('2006AJ....131.1163S',), ('2006AJ....131.1163S',), ('2006AJ....131.1163S',), ('2006AJ....131.1163S',), ('2006AJ....131.1163S',), ('2006AJ....131.1163S',), ('2006AJ....131.1163S',), ('2006AJ....131.1163S',), ('2006AJ....131.1163S',), ('2006AJ....131.1163S',), ('2006AJ....131.1163S',), ('2006AJ....131.1163S',), ('2006AJ....131.1163S',), ('2006AJ....131.1163S',), ('2006AJ....131.1163S',), ('2006AJ....131.1163S',), ('2006AJ....131.1163S',), ('2006AJ....131.1163S',), ('2006AJ....131.1163S',), ('2006AJ....131.1163S',), ('2006AJ....131.1163S',), ('2006AJ....131.1163S',), ('2006AJ....131.1163S',), ('2006AJ....131.1163S',), ('2006AJ....131.1163S',), ('2006AJ....131.1163S',), ('2006AJ....131.1163S',), ('2006AJ....131.1163S',), ('2006AJ....131.1163S',), ('2006AJ....131.1163S',), ('2006AJ....131.1163S',)]\n",
      "127.0.0.1 - - [11/Apr/2022 21:47:41] \"POST /query HTTP/1.1\" 200 -\n",
      "127.0.0.1 - - [11/Apr/2022 21:48:04] \"GET /query HTTP/1.1\" 200 -\n"
     ]
    }
   ],
   "source": [
    "!python app.py"
   ]
  },
  {
   "cell_type": "markdown",
   "id": "fd62d5e4",
   "metadata": {},
   "source": [
    "### Stuff below: just playing around with pybtex and making sure know how to read files."
   ]
  },
  {
   "cell_type": "code",
   "execution_count": 1,
   "id": "422df0f6",
   "metadata": {},
   "outputs": [],
   "source": [
    "from pybtex.database import parse_file \n",
    "\n",
    "bib_data = parse_file('/home/jovyan/python-seminar/Homeworks/hw_7/hw_7_data/homework_7_refs.bib', \"bibtex\")"
   ]
  },
  {
   "cell_type": "code",
   "execution_count": 2,
   "id": "35cc386b",
   "metadata": {
    "scrolled": true
   },
   "outputs": [
    {
     "data": {
      "text/plain": [
       "['1998A&A...330..515F',\n",
       " '2001AJ....122.2587C',\n",
       " '2007A&A...474..653V',\n",
       " '1994ApJ...427..628F',\n",
       " '2006ASPC..351..751B',\n",
       " '1996A&AS..117..393B',\n",
       " '1997ApJ...486...60D',\n",
       " '1997ESASP.402..657S',\n",
       " '2003LNP...635..281R',\n",
       " '2003LNP...635..265W',\n",
       " '2003LNP...635..243C',\n",
       " '2003LNP...635..229G',\n",
       " '2003LNP...635..203H',\n",
       " '2003LNP...635..187S',\n",
       " '2003LNP...635..175P',\n",
       " '2003LNP...635..123K',\n",
       " '2003LNP...635..105C',\n",
       " '2003LNP...635...85B',\n",
       " '2003LNP...635...71S',\n",
       " '2003LNP...635...45F',\n",
       " '2003LNP...635...21F',\n",
       " '2003LNP...635....1M',\n",
       " '2008MNRAS.389.1336K',\n",
       " '1987ARA&A..25..345F',\n",
       " '2006ARA&A..44...93S',\n",
       " '2002AJ....124.1213D',\n",
       " '1978MNRAS.183..569D',\n",
       " '2008JPhCS.118a2010E',\n",
       " '1995AJ....110.1476K',\n",
       " '1908AnHar..60...87L',\n",
       " '1912HarCi.173....1L',\n",
       " '2001ApJ...553...47F',\n",
       " '1997ESASP1200.....P',\n",
       " '1997MNRAS.286L...1F',\n",
       " '1998A&A...335L..81L',\n",
       " '1997MNRAS.287..955V',\n",
       " '2006MNRAS.372.1675S',\n",
       " '2008arXiv0806.3019F',\n",
       " '2008ApJ...679...71F',\n",
       " '2008MNRAS.386.2115F',\n",
       " '1998salg.conf..263M',\n",
       " '2006MNRAS.370.1979M',\n",
       " '2009ASPC..411..493S',\n",
       " '2006AJ....132.1014C',\n",
       " '2009MmSAI..80...97C',\n",
       " '2006AJ....131.1163S']"
      ]
     },
     "execution_count": 2,
     "metadata": {},
     "output_type": "execute_result"
    }
   ],
   "source": [
    "# Get all citation tags.\n",
    "list(bib_data.entries.keys())"
   ]
  },
  {
   "cell_type": "code",
   "execution_count": 3,
   "id": "e655bb16",
   "metadata": {},
   "outputs": [
    {
     "data": {
      "text/plain": [
       "[Person('{Fernley}, J.'),\n",
       " Person('{Barnes}, T. G.'),\n",
       " Person('{Skillen}, I.'),\n",
       " Person('{Hawley}, S. L.'),\n",
       " Person('{Hanley}, C. J.'),\n",
       " Person('{Evans}, D. W.'),\n",
       " Person('{Solano}, E.'),\n",
       " Person('{Garrido}, R.')]"
      ]
     },
     "execution_count": 3,
     "metadata": {},
     "output_type": "execute_result"
    }
   ],
   "source": [
    "# For a given citation tag, get the author list.\n",
    "bib_data.entries['1998A&A...330..515F'].persons['Author']\n",
    "# Get just the last name of the entry.\n",
    "#bib_data.entries['1998A&A...330..515F'].persons['Author'][0].last_names"
   ]
  },
  {
   "cell_type": "code",
   "execution_count": 6,
   "id": "dbafc6da",
   "metadata": {},
   "outputs": [
    {
     "name": "stdout",
     "output_type": "stream",
     "text": [
      "journal: \n",
      "\\aap\n",
      "<class 'str'>\n",
      "volume: \n",
      "330\n",
      "<class 'str'>\n",
      "pages: \n",
      "515-520\n",
      "<class 'str'>\n",
      "year: \n",
      "1998\n",
      "<class 'int'>\n",
      "title: \n",
      "{The absolute magnitudes of RR Lyraes from HIPPARCOS parallaxes and proper motions}\n",
      "<class 'str'>\n"
     ]
    }
   ],
   "source": [
    "# For a given citation tag, get the...\n",
    "# journal\n",
    "journal = bib_data.entries['1998A&A...330..515F'].fields._dict['journal']\n",
    "print('journal: ')\n",
    "print(journal)\n",
    "print(type(journal))\n",
    "# volume\n",
    "volume = bib_data.entries['1998A&A...330..515F'].fields._dict['volume']\n",
    "print('volume: ')\n",
    "print(volume)\n",
    "print(type(volume))\n",
    "# pages\n",
    "pages = bib_data.entries['1998A&A...330..515F'].fields._dict['pages']\n",
    "print('pages: ')\n",
    "print(pages)\n",
    "print(type(pages))\n",
    "# year\n",
    "year = bib_data.entries['1998A&A...330..515F'].fields._dict['year']\n",
    "print('year: ')\n",
    "print(int(year))\n",
    "print(type(int(year)))\n",
    "# title\n",
    "title = bib_data.entries['1998A&A...330..515F'].fields._dict['title']\n",
    "print('title: ')\n",
    "print(title)\n",
    "print(type(title))\n",
    "# collection: the user defines this."
   ]
  },
  {
   "cell_type": "markdown",
   "id": "61555a4e",
   "metadata": {},
   "source": [
    "### STUFF BELOW: Framework for reading in .bib file into sqlite3 database.\n",
    "Note to fix: the collection should be passed in by the user."
   ]
  },
  {
   "cell_type": "code",
   "execution_count": 7,
   "id": "d959116c",
   "metadata": {},
   "outputs": [],
   "source": [
    "import pandas as pd\n",
    "import numpy as np\n",
    "\n",
    "bib_data = parse_file('/home/jovyan/python-seminar/Homeworks/hw_7/hw_7_data/homework_7_refs.bib', \"bibtex\")\n",
    "\n",
    "tag_list = []\n",
    "author_list = []\n",
    "journal_list = []\n",
    "volume_list = []\n",
    "pages_list = []\n",
    "year_list = []\n",
    "title_list = []\n",
    "collection_list = []\n",
    "\n",
    "for tag in list(bib_data.entries.keys()):\n",
    "    if 'Author' in bib_data.entries[tag].persons:\n",
    "        for author_name in list(bib_data.entries[tag].persons['Author']):\n",
    "            author = author_name.last_names[0][1:-1]\n",
    "            if 'journal' in bib_data.entries[tag].fields._dict:\n",
    "                journal = bib_data.entries[tag].fields._dict['journal'][1:]\n",
    "            else:\n",
    "                journal = np.nan\n",
    "                \n",
    "            if 'volume' in bib_data.entries[tag].fields._dict: \n",
    "                volume = int(bib_data.entries[tag].fields._dict['volume'])\n",
    "            else:\n",
    "                journal = np.nan\n",
    "                \n",
    "            if 'pages' in bib_data.entries[tag].fields._dict: \n",
    "                pages = bib_data.entries[tag].fields._dict['pages']\n",
    "            else:\n",
    "                journal = np.nan\n",
    "                \n",
    "            if 'year' in bib_data.entries[tag].fields._dict: \n",
    "                year = int(bib_data.entries[tag].fields._dict['year'])\n",
    "            else:\n",
    "                journal = np.nan\n",
    "                \n",
    "            if 'title' in bib_data.entries[tag].fields._dict: \n",
    "                title = bib_data.entries[tag].fields._dict['title'][1:-1]\n",
    "            else:\n",
    "                journal = np.nan\n",
    "                \n",
    "            collection = 'astronomy'\n",
    "            \n",
    "            tag_list.append(tag)\n",
    "            author_list.append(author)\n",
    "            journal_list.append(journal)\n",
    "            volume_list.append(volume)\n",
    "            pages_list.append(pages)\n",
    "            year_list.append(year)\n",
    "            title_list.append(title)\n",
    "            collection_list.append(collection)\n",
    "            \n",
    "df = pd.DataFrame({'tag': tag_list, 'author': author_list,\n",
    "                    'journal' : journal_list, 'volume' : volume_list,\n",
    "                    'pages' : pages_list, 'year' : year_list,\n",
    "                    'title' : title_list, 'collection' : collection_list})"
   ]
  },
  {
   "cell_type": "code",
   "execution_count": 8,
   "id": "f3b65623",
   "metadata": {},
   "outputs": [],
   "source": [
    "import pandas as pd\n",
    "import sqlite3\n",
    "\n",
    "!rm bibliography.db\n",
    "\n",
    "connection = sqlite3.connect(\"bibliography.db\")\n",
    "\n",
    "cursor = connection.cursor()\n",
    "\n",
    "sql_cmd = \"\"\"CREATE TABLE bibliography \n",
    "            (iid INTEGER  NOT NULL  PRIMARY KEY  AUTOINCREMENT DEFAULT 0, \n",
    "            tag TEXT, \n",
    "            author TEXT, \n",
    "            journal TEXT, \n",
    "            volume FLOAT, \n",
    "            pages TEXT,\n",
    "            year FLOAT,\n",
    "            title TEXT,\n",
    "            collection TEXT)\"\"\"\n",
    "\n",
    "cursor.execute(sql_cmd)\n",
    "connection.commit()"
   ]
  },
  {
   "cell_type": "code",
   "execution_count": 9,
   "id": "da76a196",
   "metadata": {},
   "outputs": [],
   "source": [
    "# if no author, sometimes it's editor.\n",
    "df = df.where(pd.notnull(df), None)\n",
    "for ii, row in df.iterrows():\n",
    "    iparams = (row['tag'], row['author'], row['journal'], row['volume'], \n",
    "               row['pages'], row['year'], row['title'], row['collection'])\n",
    "    sql_cmd = \"\"\"INSERT INTO bibliography\n",
    "                (tag, author, journal, volume, pages, year, title, collection)\n",
    "                VALUES (?, ?, ?, ?, ?, ?, ?, ?)\"\"\"\n",
    "    \n",
    "    cursor.execute(sql_cmd, iparams)\n",
    "connection.commit()"
   ]
  },
  {
   "cell_type": "code",
   "execution_count": 10,
   "id": "d1009f1b",
   "metadata": {},
   "outputs": [
    {
     "name": "stdout",
     "output_type": "stream",
     "text": [
      "45\n",
      "46\n"
     ]
    }
   ],
   "source": [
    "sql_cmd = \"SELECT tag FROM bibliography\"\n",
    "cursor.execute(sql_cmd)\n",
    "\n",
    "db_info = cursor.fetchall()\n",
    "# for entry in db_info:\n",
    "#     print(entry)\n",
    "    \n",
    "print(len(np.unique(db_info)))\n",
    "print(len(bib_data.entries.keys())) # one entry had no authors, but rather, editor."
   ]
  },
  {
   "cell_type": "markdown",
   "id": "84a064ee",
   "metadata": {},
   "source": [
    "# SCRATCH WORK BELOW"
   ]
  },
  {
   "cell_type": "markdown",
   "id": "03629346",
   "metadata": {},
   "source": [
    "Useful things (besides flask website):\n",
    "\n",
    "    * https://medium.com/featurepreneur/uploading-files-using-flask-ec9fb4c7d438"
   ]
  },
  {
   "cell_type": "code",
   "execution_count": 2,
   "id": "a7d81f0c",
   "metadata": {},
   "outputs": [
    {
     "name": "stdout",
     "output_type": "stream",
     "text": [
      "Overwriting fhello.py\n"
     ]
    }
   ],
   "source": [
    "%%writefile fhello.py\n",
    "from flask import Flask\n",
    "app = Flask(__name__)\n",
    "\n",
    "@app.route(\"/\")\n",
    "def hello():\n",
    "    return \"Hello World, for real!\"\n",
    "\n",
    "if __name__ == \"__main__\":\n",
    "    app.run(port=8000)"
   ]
  },
  {
   "cell_type": "code",
   "execution_count": 2,
   "id": "900a1b87",
   "metadata": {},
   "outputs": [
    {
     "name": "stdout",
     "output_type": "stream",
     "text": [
      " * Serving Flask app 'fhello' (lazy loading)\n",
      " * Environment: production\n",
      "\u001b[31m   WARNING: This is a development server. Do not use it in a production deployment.\u001b[0m\n",
      "\u001b[2m   Use a production WSGI server instead.\u001b[0m\n",
      " * Debug mode: off\n"
     ]
    },
    {
     "name": "stderr",
     "output_type": "stream",
     "text": [
      " * Running on http://127.0.0.1:8000/ (Press CTRL+C to quit)\n",
      "127.0.0.1 - - [08/Apr/2022 18:46:59] \"GET / HTTP/1.1\" 200 -\n",
      "127.0.0.1 - - [08/Apr/2022 18:47:00] \"GET /favicon.ico HTTP/1.1\" 404 -\n"
     ]
    }
   ],
   "source": [
    "%run fhello.py "
   ]
  },
  {
   "cell_type": "code",
   "execution_count": 3,
   "id": "77b445cf",
   "metadata": {},
   "outputs": [
    {
     "name": "stdout",
     "output_type": "stream",
     "text": [
      "Writing urls.py\n"
     ]
    }
   ],
   "source": [
    "%%writefile urls.py\n",
    "from flask import Flask\n",
    "\n",
    "app = Flask(__name__)\n",
    "app.debug = True\n",
    "\n",
    "## this will route / and /hello \n",
    "## the function \"hi()\" is called a \"view function\"\n",
    "@app.route(\"/\")\n",
    "@app.route('/hello')\n",
    "def hi():\n",
    "    return \"<font color='red'>Hello!</font>\"\n",
    "\n",
    "## this will route URLs like: /user/josh \n",
    "@app.route('/user/<username>')\n",
    "def show_user_profile(username):\n",
    "    return 'hello, username =  %s' % username\n",
    "\n",
    "## this will route URLs like: /post/1234\n",
    "@app.route('/post/<int:post_id>')\n",
    "def show_post(post_id):\n",
    "    return 'Post # = %d' % post_id\n",
    "\n",
    "# here we show off multiple input and defaults\n",
    "@app.route(\"/doc/<int:docid>/page/<int:pageid>\")\n",
    "@app.route(\"/doc/<int:docid>\", defaults={'pageid': 10})\n",
    "def show_document_pages(docid,pageid):\n",
    "    return \"Doc = %i  and Page = %i\" % (docid,pageid)\n",
    "\n",
    "## a different way to add URL rules\n",
    "## this connects the function hi() to the url /hola\n",
    "## nice thing by doing it this way is that you could see all your\n",
    "## mappings in one place\n",
    "app.add_url_rule('/hola', \"say_hola\", hi)\n",
    "\n",
    "if __name__ == \"__main__\":\n",
    "    app.run(port=5012)"
   ]
  },
  {
   "cell_type": "code",
   "execution_count": 5,
   "id": "7146e983",
   "metadata": {},
   "outputs": [
    {
     "name": "stdout",
     "output_type": "stream",
     "text": [
      " * Serving Flask app 'urls' (lazy loading)\n",
      " * Environment: production\n",
      "\u001b[31m   WARNING: This is a development server. Do not use it in a production deployment.\u001b[0m\n",
      "\u001b[2m   Use a production WSGI server instead.\u001b[0m\n",
      " * Debug mode: on\n"
     ]
    },
    {
     "name": "stderr",
     "output_type": "stream",
     "text": [
      " * Running on http://127.0.0.1:5012/ (Press CTRL+C to quit)\n",
      " * Restarting with stat\n",
      " * Debugger is active!\n",
      " * Debugger PIN: 450-013-370\n"
     ]
    }
   ],
   "source": [
    "%run urls.py "
   ]
  },
  {
   "cell_type": "code",
   "execution_count": 2,
   "id": "0bd952e0",
   "metadata": {},
   "outputs": [],
   "source": [
    "from pybtex.database import parse_file    \n",
    "\n",
    "bib_data = parse_file('/home/jovyan/python-seminar/Homeworks/hw_7/hw_7_data/homework_7_refs.bib', \"bibtex\")"
   ]
  },
  {
   "cell_type": "code",
   "execution_count": 1,
   "id": "2b02f80d",
   "metadata": {},
   "outputs": [
    {
     "name": "stdout",
     "output_type": "stream",
     "text": [
      "Overwriting app.py\n"
     ]
    }
   ],
   "source": [
    "%%writefile app.py\n",
    "# https://flask.palletsprojects.com/en/2.1.x/patterns/fileuploads/\n",
    "import os\n",
    "from flask import Flask, flash, request, redirect, url_for\n",
    "from werkzeug.utils import secure_filename\n",
    "\n",
    "# UPLOAD_FOLDER = '/path/to/the/uploads'\n",
    "UPLOAD_FOLDER = '/home/jovyan/python-ay250-homeworks/hw_7/static'\n",
    "ALLOWED_EXTENSIONS = {'txt', 'pdf', 'png', 'jpg', 'jpeg', 'gif'}\n",
    "\n",
    "app = Flask(__name__)\n",
    "app.config['UPLOAD_FOLDER'] = UPLOAD_FOLDER\n",
    "def allowed_file(filename):\n",
    "    return '.' in filename and \\\n",
    "           filename.rsplit('.', 1)[1].lower() in ALLOWED_EXTENSIONS\n",
    "\n",
    "@app.route('/', methods=['GET', 'POST'])\n",
    "def upload_file():\n",
    "    if request.method == 'POST':\n",
    "        # check if the post request has the file part\n",
    "        if 'file' not in request.files:\n",
    "            flash('No file part')\n",
    "            return redirect(request.url)\n",
    "        file = request.files['file']\n",
    "        # If the user does not select a file, the browser submits an\n",
    "        # empty file without a filename.\n",
    "        if file.filename == '':\n",
    "            flash('No selected file')\n",
    "            return redirect(request.url)\n",
    "        if file and allowed_file(file.filename):\n",
    "            filename = secure_filename(file.filename)\n",
    "            file.save(os.path.join(app.config['UPLOAD_FOLDER'], filename))\n",
    "            return redirect(url_for('download_file', name=filename))\n",
    "    return '''\n",
    "    <!doctype html>\n",
    "    <title>Upload new File</title>\n",
    "    <h1>Upload new File</h1>\n",
    "    <form method=post enctype=multipart/form-data>\n",
    "      <input type=file name=file>\n",
    "      <input type=submit value=Upload>\n",
    "    </form>\n",
    "    '''\n",
    "\n",
    "from flask import send_from_directory\n",
    "\n",
    "@app.route('/uploads/<name>')\n",
    "def download_file(name):\n",
    "    return send_from_directory(app.config[\"UPLOAD_FOLDER\"], name)\n",
    "\n",
    "if __name__ == '__main__':\n",
    "    app.run(port=8000, debug = True)"
   ]
  },
  {
   "cell_type": "code",
   "execution_count": null,
   "id": "509454f1",
   "metadata": {},
   "outputs": [],
   "source": []
  }
 ],
 "metadata": {
  "kernelspec": {
   "display_name": "Python 3 (ipykernel)",
   "language": "python",
   "name": "python3"
  },
  "language_info": {
   "codemirror_mode": {
    "name": "ipython",
    "version": 3
   },
   "file_extension": ".py",
   "mimetype": "text/x-python",
   "name": "python",
   "nbconvert_exporter": "python",
   "pygments_lexer": "ipython3",
   "version": "3.9.9"
  }
 },
 "nbformat": 4,
 "nbformat_minor": 5
}
