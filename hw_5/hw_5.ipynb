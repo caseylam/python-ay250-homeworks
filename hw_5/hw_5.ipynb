{
 "cells": [
  {
   "cell_type": "markdown",
   "metadata": {},
   "source": [
    "# Homework 5: Weather Prediction\n",
    "\n",
    "## Due Tues Mar 8, 2022 @ 8 pm\n",
    "\n",
    "## Casey Lam, casey_lam@berkeley.edu\n",
    "\n",
    "## Collaborators: #hw5-discussion channel\n",
    "\n",
    "In this assignment we will create a database to analyze historical weather data and discovery the relationships between major cities."
   ]
  },
  {
   "cell_type": "markdown",
   "metadata": {},
   "source": [
    "### 1) Use the data supplied of airport codes (ICAO_airports.csv) and top airports (top_airports.csv) to make a table of 50 most travelled airports in the US and containing relevant information, like name, wikipedia link, latitude, longitude."
   ]
  },
  {
   "cell_type": "code",
   "execution_count": 1,
   "metadata": {},
   "outputs": [],
   "source": [
    "import pandas as pd\n",
    "import sqlite3"
   ]
  },
  {
   "cell_type": "markdown",
   "metadata": {},
   "source": [
    "Load up the supplied data and take a look at what's in the tables."
   ]
  },
  {
   "cell_type": "code",
   "execution_count": 2,
   "metadata": {},
   "outputs": [],
   "source": [
    "icao = pd.read_csv('ICAO_airports.csv')\n",
    "top = pd.read_csv('top_airports.csv')"
   ]
  },
  {
   "cell_type": "code",
   "execution_count": 3,
   "metadata": {},
   "outputs": [
    {
     "data": {
      "text/html": [
       "<div>\n",
       "<style scoped>\n",
       "    .dataframe tbody tr th:only-of-type {\n",
       "        vertical-align: middle;\n",
       "    }\n",
       "\n",
       "    .dataframe tbody tr th {\n",
       "        vertical-align: top;\n",
       "    }\n",
       "\n",
       "    .dataframe thead th {\n",
       "        text-align: right;\n",
       "    }\n",
       "</style>\n",
       "<table border=\"1\" class=\"dataframe\">\n",
       "  <thead>\n",
       "    <tr style=\"text-align: right;\">\n",
       "      <th></th>\n",
       "      <th>id</th>\n",
       "      <th>ident</th>\n",
       "      <th>type</th>\n",
       "      <th>name</th>\n",
       "      <th>latitude_deg</th>\n",
       "      <th>longitude_deg</th>\n",
       "      <th>elevation_ft</th>\n",
       "      <th>continent</th>\n",
       "      <th>iso_country</th>\n",
       "      <th>iso_region</th>\n",
       "      <th>municipality</th>\n",
       "      <th>scheduled_service</th>\n",
       "      <th>gps_code</th>\n",
       "      <th>iata_code</th>\n",
       "      <th>local_code</th>\n",
       "      <th>home_link</th>\n",
       "      <th>wikipedia_link</th>\n",
       "      <th>keywords</th>\n",
       "    </tr>\n",
       "  </thead>\n",
       "  <tbody>\n",
       "    <tr>\n",
       "      <th>0</th>\n",
       "      <td>6523</td>\n",
       "      <td>00A</td>\n",
       "      <td>heliport</td>\n",
       "      <td>Total Rf Heliport</td>\n",
       "      <td>40.070801</td>\n",
       "      <td>-74.933601</td>\n",
       "      <td>11.0</td>\n",
       "      <td>NaN</td>\n",
       "      <td>US</td>\n",
       "      <td>US-PA</td>\n",
       "      <td>Bensalem</td>\n",
       "      <td>no</td>\n",
       "      <td>00A</td>\n",
       "      <td>NaN</td>\n",
       "      <td>00A</td>\n",
       "      <td>NaN</td>\n",
       "      <td>NaN</td>\n",
       "      <td>NaN</td>\n",
       "    </tr>\n",
       "    <tr>\n",
       "      <th>1</th>\n",
       "      <td>6524</td>\n",
       "      <td>00AK</td>\n",
       "      <td>small_airport</td>\n",
       "      <td>Lowell Field</td>\n",
       "      <td>59.949200</td>\n",
       "      <td>-151.695999</td>\n",
       "      <td>450.0</td>\n",
       "      <td>NaN</td>\n",
       "      <td>US</td>\n",
       "      <td>US-AK</td>\n",
       "      <td>Anchor Point</td>\n",
       "      <td>no</td>\n",
       "      <td>00AK</td>\n",
       "      <td>NaN</td>\n",
       "      <td>00AK</td>\n",
       "      <td>NaN</td>\n",
       "      <td>NaN</td>\n",
       "      <td>NaN</td>\n",
       "    </tr>\n",
       "    <tr>\n",
       "      <th>2</th>\n",
       "      <td>6525</td>\n",
       "      <td>00AL</td>\n",
       "      <td>small_airport</td>\n",
       "      <td>Epps Airpark</td>\n",
       "      <td>34.864799</td>\n",
       "      <td>-86.770302</td>\n",
       "      <td>820.0</td>\n",
       "      <td>NaN</td>\n",
       "      <td>US</td>\n",
       "      <td>US-AL</td>\n",
       "      <td>Harvest</td>\n",
       "      <td>no</td>\n",
       "      <td>00AL</td>\n",
       "      <td>NaN</td>\n",
       "      <td>00AL</td>\n",
       "      <td>NaN</td>\n",
       "      <td>NaN</td>\n",
       "      <td>NaN</td>\n",
       "    </tr>\n",
       "    <tr>\n",
       "      <th>3</th>\n",
       "      <td>6526</td>\n",
       "      <td>00AR</td>\n",
       "      <td>heliport</td>\n",
       "      <td>Newport Hospital &amp; Clinic Heliport</td>\n",
       "      <td>35.608700</td>\n",
       "      <td>-91.254898</td>\n",
       "      <td>237.0</td>\n",
       "      <td>NaN</td>\n",
       "      <td>US</td>\n",
       "      <td>US-AR</td>\n",
       "      <td>Newport</td>\n",
       "      <td>no</td>\n",
       "      <td>00AR</td>\n",
       "      <td>NaN</td>\n",
       "      <td>00AR</td>\n",
       "      <td>NaN</td>\n",
       "      <td>NaN</td>\n",
       "      <td>NaN</td>\n",
       "    </tr>\n",
       "    <tr>\n",
       "      <th>4</th>\n",
       "      <td>6527</td>\n",
       "      <td>00AZ</td>\n",
       "      <td>small_airport</td>\n",
       "      <td>Cordes Airport</td>\n",
       "      <td>34.305599</td>\n",
       "      <td>-112.165001</td>\n",
       "      <td>3810.0</td>\n",
       "      <td>NaN</td>\n",
       "      <td>US</td>\n",
       "      <td>US-AZ</td>\n",
       "      <td>Cordes</td>\n",
       "      <td>no</td>\n",
       "      <td>00AZ</td>\n",
       "      <td>NaN</td>\n",
       "      <td>00AZ</td>\n",
       "      <td>NaN</td>\n",
       "      <td>NaN</td>\n",
       "      <td>NaN</td>\n",
       "    </tr>\n",
       "  </tbody>\n",
       "</table>\n",
       "</div>"
      ],
      "text/plain": [
       "     id ident           type                                name  \\\n",
       "0  6523   00A       heliport                   Total Rf Heliport   \n",
       "1  6524  00AK  small_airport                        Lowell Field   \n",
       "2  6525  00AL  small_airport                        Epps Airpark   \n",
       "3  6526  00AR       heliport  Newport Hospital & Clinic Heliport   \n",
       "4  6527  00AZ  small_airport                      Cordes Airport   \n",
       "\n",
       "   latitude_deg  longitude_deg  elevation_ft continent iso_country iso_region  \\\n",
       "0     40.070801     -74.933601          11.0       NaN          US      US-PA   \n",
       "1     59.949200    -151.695999         450.0       NaN          US      US-AK   \n",
       "2     34.864799     -86.770302         820.0       NaN          US      US-AL   \n",
       "3     35.608700     -91.254898         237.0       NaN          US      US-AR   \n",
       "4     34.305599    -112.165001        3810.0       NaN          US      US-AZ   \n",
       "\n",
       "   municipality scheduled_service gps_code iata_code local_code home_link  \\\n",
       "0      Bensalem                no      00A       NaN        00A       NaN   \n",
       "1  Anchor Point                no     00AK       NaN       00AK       NaN   \n",
       "2       Harvest                no     00AL       NaN       00AL       NaN   \n",
       "3       Newport                no     00AR       NaN       00AR       NaN   \n",
       "4        Cordes                no     00AZ       NaN       00AZ       NaN   \n",
       "\n",
       "  wikipedia_link keywords  \n",
       "0            NaN      NaN  \n",
       "1            NaN      NaN  \n",
       "2            NaN      NaN  \n",
       "3            NaN      NaN  \n",
       "4            NaN      NaN  "
      ]
     },
     "execution_count": 3,
     "metadata": {},
     "output_type": "execute_result"
    }
   ],
   "source": [
    "icao.head(5)"
   ]
  },
  {
   "cell_type": "code",
   "execution_count": 4,
   "metadata": {},
   "outputs": [
    {
     "data": {
      "text/html": [
       "<div>\n",
       "<style scoped>\n",
       "    .dataframe tbody tr th:only-of-type {\n",
       "        vertical-align: middle;\n",
       "    }\n",
       "\n",
       "    .dataframe tbody tr th {\n",
       "        vertical-align: top;\n",
       "    }\n",
       "\n",
       "    .dataframe thead th {\n",
       "        text-align: right;\n",
       "    }\n",
       "</style>\n",
       "<table border=\"1\" class=\"dataframe\">\n",
       "  <thead>\n",
       "    <tr style=\"text-align: right;\">\n",
       "      <th></th>\n",
       "      <th>City</th>\n",
       "      <th>FAA</th>\n",
       "      <th>IATA</th>\n",
       "      <th>ICAO</th>\n",
       "      <th>Airport</th>\n",
       "      <th>Role</th>\n",
       "      <th>Enplanements</th>\n",
       "    </tr>\n",
       "  </thead>\n",
       "  <tbody>\n",
       "    <tr>\n",
       "      <th>0</th>\n",
       "      <td>Atlanta</td>\n",
       "      <td>ATL</td>\n",
       "      <td>ATL</td>\n",
       "      <td>KATL</td>\n",
       "      <td>Hartsfield-Jackson Atlanta International Airport</td>\n",
       "      <td>P-L</td>\n",
       "      <td>43130585</td>\n",
       "    </tr>\n",
       "    <tr>\n",
       "      <th>1</th>\n",
       "      <td>Chicago</td>\n",
       "      <td>ORD</td>\n",
       "      <td>ORD</td>\n",
       "      <td>KORD</td>\n",
       "      <td>Chicago O'Hare International Airport</td>\n",
       "      <td>P-L</td>\n",
       "      <td>32171831</td>\n",
       "    </tr>\n",
       "    <tr>\n",
       "      <th>2</th>\n",
       "      <td>Los Angeles</td>\n",
       "      <td>LAX</td>\n",
       "      <td>LAX</td>\n",
       "      <td>KLAX</td>\n",
       "      <td>Los Angeles International Airport</td>\n",
       "      <td>P-L</td>\n",
       "      <td>30528737</td>\n",
       "    </tr>\n",
       "    <tr>\n",
       "      <th>3</th>\n",
       "      <td>Dallas-Fort Worth</td>\n",
       "      <td>DFW</td>\n",
       "      <td>DFW</td>\n",
       "      <td>KDFW</td>\n",
       "      <td>Dallas/Fort Worth International Airport</td>\n",
       "      <td>P-L</td>\n",
       "      <td>27100656</td>\n",
       "    </tr>\n",
       "    <tr>\n",
       "      <th>4</th>\n",
       "      <td>Denver</td>\n",
       "      <td>DEN</td>\n",
       "      <td>DEN</td>\n",
       "      <td>KDEN</td>\n",
       "      <td>Denver International Airport</td>\n",
       "      <td>P-L</td>\n",
       "      <td>25241962</td>\n",
       "    </tr>\n",
       "  </tbody>\n",
       "</table>\n",
       "</div>"
      ],
      "text/plain": [
       "                City  FAA IATA  ICAO  \\\n",
       "0            Atlanta  ATL  ATL  KATL   \n",
       "1            Chicago  ORD  ORD  KORD   \n",
       "2        Los Angeles  LAX  LAX  KLAX   \n",
       "3  Dallas-Fort Worth  DFW  DFW  KDFW   \n",
       "4             Denver  DEN  DEN  KDEN   \n",
       "\n",
       "                                            Airport Role  Enplanements  \n",
       "0  Hartsfield-Jackson Atlanta International Airport  P-L      43130585  \n",
       "1              Chicago O'Hare International Airport  P-L      32171831  \n",
       "2                 Los Angeles International Airport  P-L      30528737  \n",
       "3           Dallas/Fort Worth International Airport  P-L      27100656  \n",
       "4                      Denver International Airport  P-L      25241962  "
      ]
     },
     "execution_count": 4,
     "metadata": {},
     "output_type": "execute_result"
    }
   ],
   "source": [
    "top.head(5)"
   ]
  },
  {
   "cell_type": "markdown",
   "metadata": {},
   "source": [
    "Create the database, make two tables (icao, top), and put the relevant information from each csv file into the tables. "
   ]
  },
  {
   "cell_type": "code",
   "execution_count": 5,
   "metadata": {},
   "outputs": [],
   "source": [
    "# !rm airports.db\n",
    "\n",
    "# connection = sqlite3.connect(\"airports.db\")\n",
    "\n",
    "# cursor = connection.cursor()\n",
    "\n",
    "# sql_cmd = \"\"\"CREATE TABLE icao \n",
    "#             (iid INTEGER  NOT NULL  PRIMARY KEY  AUTOINCREMENT DEFAULT 0, \n",
    "#             name TEXT, \n",
    "#             wikipedia_link TEXT, \n",
    "#             iata TEXT, \n",
    "#             latitude_deg FLOAT, \n",
    "#             longitude_deg FLOAT)\"\"\"\n",
    "\n",
    "# cursor.execute(sql_cmd)\n",
    "\n",
    "# sql_cmd = \"\"\"CREATE TABLE top \n",
    "#             (tid INTEGER  NOT NULL  PRIMARY KEY  AUTOINCREMENT DEFAULT 0, \n",
    "#             name TEXT, \n",
    "#             iata TEXT)\"\"\"\n",
    "\n",
    "# cursor.execute(sql_cmd)\n",
    "# connection.commit()"
   ]
  },
  {
   "cell_type": "code",
   "execution_count": 6,
   "metadata": {},
   "outputs": [],
   "source": [
    "# icao = icao.where(pd.notnull(icao), None)\n",
    "# for ii, row in icao.iterrows():\n",
    "#     iparams = (row['name'], row['wikipedia_link'], row['iata_code'], row['latitude_deg'], row['longitude_deg'])\n",
    "#     sql_cmd = \"\"\"INSERT INTO icao\n",
    "#                 (name, wikipedia_link, iata, latitude_deg, longitude_deg)\n",
    "#                 VALUES (?, ?, ?, ?, ?)\"\"\"\n",
    "    \n",
    "#     cursor.execute(sql_cmd, iparams)\n",
    "# connection.commit()"
   ]
  },
  {
   "cell_type": "code",
   "execution_count": 7,
   "metadata": {},
   "outputs": [],
   "source": [
    "# top = top.where(pd.notnull(top), None)\n",
    "# for ii, row in top.iterrows():\n",
    "#     iparams = (row['Airport'], row['IATA'])\n",
    "#     sql_cmd = \"\"\"INSERT INTO top\n",
    "#                 (name, iata)\n",
    "#                 VALUES (?, ?)\"\"\"\n",
    "    \n",
    "#     cursor.execute(sql_cmd, iparams)\n",
    "# connection.commit()    "
   ]
  },
  {
   "cell_type": "code",
   "execution_count": 8,
   "metadata": {},
   "outputs": [],
   "source": [
    "#########\n",
    "# Just to see what happens.\n",
    "#########\n",
    "\n",
    "# sql_cmd = \"SELECT * FROM icao WHERE longitude_deg > 0\"\n",
    "# cursor.execute(sql_cmd)\n",
    "\n",
    "# db_info = cursor.fetchall()\n",
    "# for entry in db_info:\n",
    "#     print(entry)"
   ]
  },
  {
   "cell_type": "markdown",
   "metadata": {},
   "source": [
    "Now use left join and save the output as a new table called icao_top, which now is a table of the 50 most travelled airports in the US containing the airport name, IATA, wikipedia link, latitude, and longitude."
   ]
  },
  {
   "cell_type": "code",
   "execution_count": 9,
   "metadata": {
    "scrolled": true
   },
   "outputs": [],
   "source": [
    "# sql_cmd = \"\"\"CREATE TABLE icao_top AS\n",
    "#             SELECT top.name, top.iata, icao.wikipedia_link, icao.latitude_deg, icao.longitude_deg\n",
    "#             FROM top LEFT JOIN icao ON\n",
    "#             top.iata = icao.iata\"\"\"\n",
    "\n",
    "# cursor.execute(sql_cmd)\n",
    "# connection.commit()"
   ]
  },
  {
   "cell_type": "code",
   "execution_count": 10,
   "metadata": {},
   "outputs": [],
   "source": [
    "# #########\n",
    "# # Just to make sure it worked.\n",
    "# #########\n",
    "\n",
    "# sql_cmd = \"SELECT * FROM icao_top\"\n",
    "\n",
    "# cursor.execute(sql_cmd)\n",
    "\n",
    "# db_info = cursor.fetchall()\n",
    "# print(len(db_info))\n",
    "# for entry in db_info: \n",
    "#     print(entry)"
   ]
  },
  {
   "cell_type": "markdown",
   "metadata": {},
   "source": [
    "### 2) Build another table that will hold historical weather information: min/max temperature, relative humidity, and precipitation."
   ]
  },
  {
   "cell_type": "code",
   "execution_count": 11,
   "metadata": {},
   "outputs": [],
   "source": [
    "# sql_cmd = \"\"\"CREATE TABLE weather\n",
    "#             (wid INTEGER  NOT NULL  PRIMARY KEY  AUTOINCREMENT DEFAULT 0, \n",
    "#             date DATE,\n",
    "#             lat FLOAT,\n",
    "#             long FLOAT,\n",
    "#             min_temp FLOAT,\n",
    "#             max_temp FLOAT,\n",
    "#             min_relhumid FLOAT,\n",
    "#             max_relhumid FLOAT,\n",
    "#             precip FLOAT)\"\"\"\n",
    "# cursor.execute(sql_cmd)\n",
    "# connection.commit()"
   ]
  },
  {
   "cell_type": "markdown",
   "metadata": {},
   "source": [
    "### 3) Using the data from the xarray/netCDF4 example in class, populate the database from 1990-2000."
   ]
  },
  {
   "cell_type": "code",
   "execution_count": 12,
   "metadata": {},
   "outputs": [],
   "source": [
    "import xarray as xr\n",
    "import numpy as np"
   ]
  },
  {
   "cell_type": "markdown",
   "metadata": {},
   "source": [
    "Grab all the data we want (min/max temp, relative humidity, precipitation) from the online catalog."
   ]
  },
  {
   "cell_type": "code",
   "execution_count": 13,
   "metadata": {
    "scrolled": true
   },
   "outputs": [],
   "source": [
    "# temp: tasmax/tasmin, RH: rhsmax/rhsmin, precipitation: pr\n",
    "# downward shortwave solar radiation(rsds), eastward wind(uas), \n",
    "# northward wind(vas), and specific humidity(huss)\n",
    "\n",
    "datatype = \"tasmax\" \n",
    "\n",
    "data_path = (\"http://thredds.northwestknowledge.net:8080/\"\n",
    "             f\"thredds/dodsC/agg_macav2metdata_{datatype}\"\n",
    "             \"_BNU-ESM_r1i1p1_historical_1950_2005_CONUS_daily.nc\")\n",
    "\n",
    "max_temp_xr_all = xr.open_dataset(data_path)  \n",
    "max_temp_xr = max_temp_xr_all['air_temperature'].sel(time=slice(\"1990\", \"2000\"))"
   ]
  },
  {
   "cell_type": "code",
   "execution_count": 14,
   "metadata": {
    "scrolled": true
   },
   "outputs": [],
   "source": [
    "datatype = \"tasmin\" \n",
    "\n",
    "data_path = (\"http://thredds.northwestknowledge.net:8080/\"\n",
    "             f\"thredds/dodsC/agg_macav2metdata_{datatype}\"\n",
    "             \"_BNU-ESM_r1i1p1_historical_1950_2005_CONUS_daily.nc\")\n",
    "\n",
    "min_temp_xr_all = xr.open_dataset(data_path)  \n",
    "min_temp_xr = min_temp_xr_all['air_temperature'].sel(time=slice(\"1990\", \"2000\"))"
   ]
  },
  {
   "cell_type": "code",
   "execution_count": 15,
   "metadata": {
    "scrolled": true
   },
   "outputs": [],
   "source": [
    "datatype = \"rhsmax\" \n",
    "\n",
    "data_path = (\"http://thredds.northwestknowledge.net:8080/\"\n",
    "             f\"thredds/dodsC/agg_macav2metdata_{datatype}\"\n",
    "             \"_BNU-ESM_r1i1p1_historical_1950_2005_CONUS_daily.nc\")\n",
    "\n",
    "max_rhum_xr_all = xr.open_dataset(data_path) \n",
    "max_rhum_xr = max_rhum_xr_all['relative_humidity'].sel(time=slice(\"1990\", \"2000\"))"
   ]
  },
  {
   "cell_type": "code",
   "execution_count": 16,
   "metadata": {
    "scrolled": true
   },
   "outputs": [],
   "source": [
    "datatype = \"rhsmin\" \n",
    "\n",
    "data_path = (\"http://thredds.northwestknowledge.net:8080/\"\n",
    "             f\"thredds/dodsC/agg_macav2metdata_{datatype}\"\n",
    "             \"_BNU-ESM_r1i1p1_historical_1950_2005_CONUS_daily.nc\")\n",
    "\n",
    "min_rhum_xr_all = xr.open_dataset(data_path) \n",
    "min_rhum_xr = min_rhum_xr_all['relative_humidity'].sel(time=slice(\"1990\", \"2000\"))"
   ]
  },
  {
   "cell_type": "code",
   "execution_count": 17,
   "metadata": {
    "scrolled": true
   },
   "outputs": [],
   "source": [
    "datatype = \"pr\" \n",
    "\n",
    "data_path = (\"http://thredds.northwestknowledge.net:8080/\"\n",
    "             f\"thredds/dodsC/agg_macav2metdata_{datatype}\"\n",
    "             \"_BNU-ESM_r1i1p1_historical_1950_2005_CONUS_daily.nc\")\n",
    "\n",
    "precip_xr_all = xr.open_dataset(data_path) \n",
    "precip_xr = precip_xr_all['precipitation'].sel(time=slice(\"1990\", \"2000\"))"
   ]
  },
  {
   "cell_type": "markdown",
   "metadata": {},
   "source": [
    "Just get the longitudes and latitudes that match, otherwise it will take forever to make the database."
   ]
  },
  {
   "cell_type": "code",
   "execution_count": 20,
   "metadata": {},
   "outputs": [],
   "source": [
    "connection = sqlite3.connect(\"airports.db\")\n",
    "\n",
    "cursor = connection.cursor()"
   ]
  },
  {
   "cell_type": "code",
   "execution_count": 21,
   "metadata": {},
   "outputs": [
    {
     "name": "stdout",
     "output_type": "stream",
     "text": [
      "50\n"
     ]
    }
   ],
   "source": [
    "lon_arr = np.zeros(50)\n",
    "lat_arr = np.zeros(50)\n",
    "# Fix... figure out how to save this.\n",
    "sql_cmd = \"SELECT latitude_deg, longitude_deg FROM icao_top\"\n",
    "\n",
    "cursor.execute(sql_cmd)\n",
    "db_info = cursor.fetchall()\n",
    "print(len(db_info))\n",
    "for ii, entry in enumerate(db_info): \n",
    "    lat_arr[ii] = entry[0]\n",
    "    lon_arr[ii] = entry[1]"
   ]
  },
  {
   "cell_type": "code",
   "execution_count": 22,
   "metadata": {},
   "outputs": [
    {
     "name": "stdout",
     "output_type": "stream",
     "text": [
      "[24]\n",
      "[24 35]\n"
     ]
    },
    {
     "data": {
      "text/plain": [
       "[<matplotlib.lines.Line2D at 0x7fb30950a100>]"
      ]
     },
     "execution_count": 22,
     "metadata": {},
     "output_type": "execute_result"
    },
    {
     "data": {
      "image/png": "[encoded data removed]",
      "text/plain": [
       "<Figure size 432x288 with 1 Axes>"
      ]
     },
     "metadata": {
      "needs_background": "light"
     },
     "output_type": "display_data"
    }
   ],
   "source": [
    "lon_idx_arr = []\n",
    "lat_idx_arr = []\n",
    "\n",
    "for ii, lon in enumerate(lon_arr):\n",
    "    lon_idx_arr.append(np.abs(precip_xr['lon'].values - (lon + 360)).argmin())\n",
    "\n",
    "for ii, lat in enumerate(lat_arr):\n",
    "    lat_idx_arr.append(np.abs(precip_xr['lat'].values - lat).argmin())\n",
    "    \n",
    "# Note there are two places they don't match up. It's obvious when plotting.\n",
    "#np.diff(precip_xr['lat']).mean()\n",
    "#np.diff(precip_xr['lon']).mean()\n",
    "print(np.where(precip_xr['lon'].values[lon_idx_arr] - (lon_arr + 360) > 0.04)[0])\n",
    "print(np.where(precip_xr['lat'].values[lat_idx_arr] - lat_arr > 0.04)[0])\n",
    "\n",
    "lonidx = np.where(precip_xr['lon'].values[lon_idx_arr] - (lon_arr + 360) > 0.04)[0]\n",
    "latidx = np.where(precip_xr['lat'].values[lat_idx_arr] - lat_arr > 0.04)[0]\n",
    "\n",
    "import matplotlib.pyplot as plt\n",
    "\n",
    "plt.plot([precip_xr['lon'].min(), precip_xr['lon'].min(), precip_xr['lon'].max(), precip_xr['lon'].max(), precip_xr['lon'].min()],\n",
    "         [precip_xr['lat'].min(), precip_xr['lat'].max(), precip_xr['lat'].max(), precip_xr['lat'].min(), precip_xr['lat'].min()])\n",
    "plt.plot(lon_arr + 360, lat_arr, 'o')"
   ]
  },
  {
   "cell_type": "code",
   "execution_count": 23,
   "metadata": {},
   "outputs": [],
   "source": [
    "# float(min_temp_xr.isel(lon=500, lat=500).values[0])"
   ]
  },
  {
   "cell_type": "markdown",
   "metadata": {},
   "source": [
    "Put into database."
   ]
  },
  {
   "cell_type": "code",
   "execution_count": 24,
   "metadata": {},
   "outputs": [],
   "source": [
    "# # ~1000 seconds to write the table.\n",
    "# import time\n",
    "# t1 = time.time()\n",
    "# for ii in np.arange(50):\n",
    "#     lon_idx = lon_idx_arr[ii]\n",
    "#     lat_idx = lat_idx_arr[ii]\n",
    "#     lat = min_temp_xr.isel(lon=lon_idx, lat=lat_idx)['lat'].values\n",
    "#     lon = min_temp_xr.isel(lon=lon_idx, lat=lat_idx)['lon'].values\n",
    "#     min_temp = min_temp_xr.isel(lon=lon_idx, lat=lat_idx).values\n",
    "#     max_temp = max_temp_xr.isel(lon=lon_idx, lat=lat_idx).values\n",
    "#     min_rhum = min_rhum_xr.isel(lon=lon_idx, lat=lat_idx).values\n",
    "#     max_rhum = max_rhum_xr.isel(lon=lon_idx, lat=lat_idx).values\n",
    "#     precip = precip_xr.isel(lon=lon_idx, lat=lat_idx).values\n",
    "#     for jj, time_xr in enumerate(precip_xr['time']):\n",
    "#         params = (str(time_xr.dt.strftime('%Y-%m-%d').values),\n",
    "#                   float(lat_arr[ii]),\n",
    "#                   float(lon_arr[ii]),\n",
    "#                   float(min_temp[jj]),\n",
    "#                   float(max_temp[jj]),\n",
    "#                   float(min_rhum[jj]),\n",
    "#                   float(max_rhum[jj]),\n",
    "#                   float(precip[jj]))\n",
    "#         sql_cmd = \"\"\"INSERT INTO weather\n",
    "#                     (date, lat, long, min_temp, max_temp, min_relhumid, max_relhumid, precip)\n",
    "#                     VALUES (?, ?, ?, ?, ?, ?, ?, ?)\"\"\"\n",
    "# # Need to add lat, lon    \n",
    "    \n",
    "#         cursor.execute(sql_cmd, params)\n",
    "# connection.commit()\n",
    "# t2 = time.time()\n",
    "\n",
    "# print(t2 - t1)"
   ]
  },
  {
   "cell_type": "code",
   "execution_count": 25,
   "metadata": {},
   "outputs": [
    {
     "name": "stdout",
     "output_type": "stream",
     "text": [
      "33.6366996765137 -84.4281005859375\n",
      "41.97859955 -87.90480042\n"
     ]
    }
   ],
   "source": [
    "print(lat_arr[0], lon_arr[0])\n",
    "print(lat_arr[1], lon_arr[1])"
   ]
  },
  {
   "cell_type": "code",
   "execution_count": 26,
   "metadata": {},
   "outputs": [
    {
     "name": "stdout",
     "output_type": "stream",
     "text": [
      "0.2608908219791711\n",
      "0.4570341753727899\n",
      "-0.14685553268355958\n",
      "-0.0017091775993104714\n"
     ]
    }
   ],
   "source": [
    "max_temp1 = np.empty((50, 4018))\n",
    "max_temp2 = np.empty((50, 4018))\n",
    "\n",
    "precip1 = np.empty((50, 4018))\n",
    "precip2 = np.empty((50, 4018))\n",
    "\n",
    "for ii in np.arange(50):\n",
    "    sql_cmd = \"SELECT max_temp, precip FROM weather WHERE lat={0} AND long={1}\".format(lat_arr[ii], lon_arr[ii])\n",
    "    cursor.execute(sql_cmd)\n",
    "\n",
    "    db_info = cursor.fetchall()\n",
    "    for ee, entry in enumerate(db_info):\n",
    "        max_temp1[ee] = entry[0]\n",
    "        precip1[ee] = entry[1]\n",
    "    \n",
    "print(np.corrcoef(np.diff(max_temp1), np.diff(max_temp2))[0,1])\n",
    "print(np.corrcoef(np.diff(max_temp1)[1:], np.diff(max_temp2)[:-1])[0,1])\n",
    "print(np.corrcoef(np.diff(max_temp1)[3:], np.diff(max_temp2)[:-3])[0,1])\n",
    "print(np.corrcoef(np.diff(max_temp1)[7:], np.diff(max_temp2)[:-7])[0,1])"
   ]
  },
  {
   "cell_type": "markdown",
   "metadata": {},
   "source": [
    "### 4) For each pair of cities/airports determine how the daily change of temperature high and precipitation from one city predicts the daily change of the other city 1, 3, & 7 days in advance. (Note: for correlations between pairs, try np.corrcoef.)"
   ]
  },
  {
   "cell_type": "code",
   "execution_count": null,
   "metadata": {},
   "outputs": [],
   "source": [
    "sql_cmd = \"SELECT latitude_deg FROM icao_top\"\n",
    "cursor.execute(sql_cmd)\n",
    "\n",
    "db_info = cursor.fetchall()\n",
    "for entry in db_info: \n",
    "    print(entry[0])"
   ]
  },
  {
   "cell_type": "code",
   "execution_count": null,
   "metadata": {},
   "outputs": [],
   "source": [
    "sql_cmd = \"SELECT latitude_deg FROM icao_top\"\n",
    "\n",
    "cursor.execute(sql_cmd)\n",
    "\n",
    "db_info = cursor.fetchall()\n",
    "for entry in db_info: \n",
    "    print(entry[0])"
   ]
  },
  {
   "cell_type": "code",
   "execution_count": null,
   "metadata": {},
   "outputs": [],
   "source": [
    "sql_cmd = \"SELECT * FROM weather WHERE lat = 33.6366996765137\"\n",
    "cursor.execute(sql_cmd)"
   ]
  },
  {
   "cell_type": "code",
   "execution_count": null,
   "metadata": {
    "scrolled": true
   },
   "outputs": [],
   "source": [
    "db_info = cursor.fetchall()\n",
    "for entry in db_info: \n",
    "    print(entry)"
   ]
  },
  {
   "cell_type": "code",
   "execution_count": null,
   "metadata": {},
   "outputs": [],
   "source": [
    "# Just to see what happens.\n",
    "sql_cmd = \"SELECT * FROM icao WHERE latitude_deg = 33.6366996765137\"\n",
    "cursor.execute(sql_cmd)\n",
    "\n",
    "db_info = cursor.fetchall()\n",
    "for entry in db_info:\n",
    "    print(entry)"
   ]
  },
  {
   "cell_type": "code",
   "execution_count": null,
   "metadata": {},
   "outputs": [],
   "source": [
    "import numpy as np \n",
    "np.corrcoef"
   ]
  },
  {
   "cell_type": "markdown",
   "metadata": {},
   "source": [
    "### 5) Plot the correlation strengths for the 10 top pairs for all three dates, for temperature and precipitation (separately) as a function of distance. Also make a plot as a function of longitude different. What trends do you see?"
   ]
  },
  {
   "cell_type": "code",
   "execution_count": null,
   "metadata": {},
   "outputs": [],
   "source": []
  }
 ],
 "metadata": {
  "kernelspec": {
   "display_name": "Python 3 (ipykernel)",
   "language": "python",
   "name": "python3"
  },
  "language_info": {
   "codemirror_mode": {
    "name": "ipython",
    "version": 3
   },
   "file_extension": ".py",
   "mimetype": "text/x-python",
   "name": "python",
   "nbconvert_exporter": "python",
   "pygments_lexer": "ipython3",
   "version": "3.9.9"
  },
  "toc": {
   "base_numbering": 1,
   "nav_menu": {},
   "number_sections": true,
   "sideBar": true,
   "skip_h1_title": false,
   "title_cell": "Table of Contents",
   "title_sidebar": "Contents",
   "toc_cell": false,
   "toc_position": {},
   "toc_section_display": true,
   "toc_window_display": false
  },
  "varInspector": {
   "cols": {
    "lenName": 16,
    "lenType": 16,
    "lenVar": 40
   },
   "kernels_config": {
    "python": {
     "delete_cmd_postfix": "",
     "delete_cmd_prefix": "del ",
     "library": "var_list.py",
     "varRefreshCmd": "print(var_dic_list())"
    },
    "r": {
     "delete_cmd_postfix": ") ",
     "delete_cmd_prefix": "rm(",
     "library": "var_list.r",
     "varRefreshCmd": "cat(var_dic_list()) "
    }
   },
   "types_to_exclude": [
    "module",
    "function",
    "builtin_function_or_method",
    "instance",
    "_Feature"
   ],
   "window_display": false
  }
 },
 "nbformat": 4,
 "nbformat_minor": 1
}
