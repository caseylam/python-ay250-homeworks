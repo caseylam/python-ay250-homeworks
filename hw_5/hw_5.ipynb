{
 "cells": [
  {
   "cell_type": "markdown",
   "metadata": {},
   "source": [
    "# Homework 5: Weather Prediction\n",
    "\n",
    "## Due Tues Mar 8, 2022 @ 8 pm\n",
    "\n",
    "## Casey Lam, casey_lam@berkeley.edu\n",
    "\n",
    "## Collaborators: #hw5-discussion channel\n",
    "\n",
    "In this assignment we will create a database to analyze historical weather data and discovery the relationships between major cities."
   ]
  },
  {
   "cell_type": "markdown",
   "metadata": {},
   "source": [
    "### 1) Use the data supplied of airport codes (ICAO_airports.csv) and top airports (top_airports.csv) to make a table of 50 most travelled airports in the US and containing relevant information, like name, wikipedia link, latitude, longitude.\n",
    "\n",
    "Note: I've commented out a lot of code in this section where I created and populated the tables, so I don't accidentally delete and overwrite things when I rerun the whole notebook."
   ]
  },
  {
   "cell_type": "code",
   "execution_count": 1,
   "metadata": {},
   "outputs": [],
   "source": [
    "import pandas as pd\n",
    "import sqlite3"
   ]
  },
  {
   "cell_type": "markdown",
   "metadata": {},
   "source": [
    "Load up the supplied data and take a look at what's in the tables."
   ]
  },
  {
   "cell_type": "code",
   "execution_count": 2,
   "metadata": {},
   "outputs": [],
   "source": [
    "icao = pd.read_csv('ICAO_airports.csv')\n",
    "top = pd.read_csv('top_airports.csv')"
   ]
  },
  {
   "cell_type": "code",
   "execution_count": 3,
   "metadata": {},
   "outputs": [
    {
     "data": {
      "text/html": [
       "<div>\n",
       "<style scoped>\n",
       "    .dataframe tbody tr th:only-of-type {\n",
       "        vertical-align: middle;\n",
       "    }\n",
       "\n",
       "    .dataframe tbody tr th {\n",
       "        vertical-align: top;\n",
       "    }\n",
       "\n",
       "    .dataframe thead th {\n",
       "        text-align: right;\n",
       "    }\n",
       "</style>\n",
       "<table border=\"1\" class=\"dataframe\">\n",
       "  <thead>\n",
       "    <tr style=\"text-align: right;\">\n",
       "      <th></th>\n",
       "      <th>id</th>\n",
       "      <th>ident</th>\n",
       "      <th>type</th>\n",
       "      <th>name</th>\n",
       "      <th>latitude_deg</th>\n",
       "      <th>longitude_deg</th>\n",
       "      <th>elevation_ft</th>\n",
       "      <th>continent</th>\n",
       "      <th>iso_country</th>\n",
       "      <th>iso_region</th>\n",
       "      <th>municipality</th>\n",
       "      <th>scheduled_service</th>\n",
       "      <th>gps_code</th>\n",
       "      <th>iata_code</th>\n",
       "      <th>local_code</th>\n",
       "      <th>home_link</th>\n",
       "      <th>wikipedia_link</th>\n",
       "      <th>keywords</th>\n",
       "    </tr>\n",
       "  </thead>\n",
       "  <tbody>\n",
       "    <tr>\n",
       "      <th>0</th>\n",
       "      <td>6523</td>\n",
       "      <td>00A</td>\n",
       "      <td>heliport</td>\n",
       "      <td>Total Rf Heliport</td>\n",
       "      <td>40.070801</td>\n",
       "      <td>-74.933601</td>\n",
       "      <td>11.0</td>\n",
       "      <td>NaN</td>\n",
       "      <td>US</td>\n",
       "      <td>US-PA</td>\n",
       "      <td>Bensalem</td>\n",
       "      <td>no</td>\n",
       "      <td>00A</td>\n",
       "      <td>NaN</td>\n",
       "      <td>00A</td>\n",
       "      <td>NaN</td>\n",
       "      <td>NaN</td>\n",
       "      <td>NaN</td>\n",
       "    </tr>\n",
       "    <tr>\n",
       "      <th>1</th>\n",
       "      <td>6524</td>\n",
       "      <td>00AK</td>\n",
       "      <td>small_airport</td>\n",
       "      <td>Lowell Field</td>\n",
       "      <td>59.949200</td>\n",
       "      <td>-151.695999</td>\n",
       "      <td>450.0</td>\n",
       "      <td>NaN</td>\n",
       "      <td>US</td>\n",
       "      <td>US-AK</td>\n",
       "      <td>Anchor Point</td>\n",
       "      <td>no</td>\n",
       "      <td>00AK</td>\n",
       "      <td>NaN</td>\n",
       "      <td>00AK</td>\n",
       "      <td>NaN</td>\n",
       "      <td>NaN</td>\n",
       "      <td>NaN</td>\n",
       "    </tr>\n",
       "    <tr>\n",
       "      <th>2</th>\n",
       "      <td>6525</td>\n",
       "      <td>00AL</td>\n",
       "      <td>small_airport</td>\n",
       "      <td>Epps Airpark</td>\n",
       "      <td>34.864799</td>\n",
       "      <td>-86.770302</td>\n",
       "      <td>820.0</td>\n",
       "      <td>NaN</td>\n",
       "      <td>US</td>\n",
       "      <td>US-AL</td>\n",
       "      <td>Harvest</td>\n",
       "      <td>no</td>\n",
       "      <td>00AL</td>\n",
       "      <td>NaN</td>\n",
       "      <td>00AL</td>\n",
       "      <td>NaN</td>\n",
       "      <td>NaN</td>\n",
       "      <td>NaN</td>\n",
       "    </tr>\n",
       "    <tr>\n",
       "      <th>3</th>\n",
       "      <td>6526</td>\n",
       "      <td>00AR</td>\n",
       "      <td>heliport</td>\n",
       "      <td>Newport Hospital &amp; Clinic Heliport</td>\n",
       "      <td>35.608700</td>\n",
       "      <td>-91.254898</td>\n",
       "      <td>237.0</td>\n",
       "      <td>NaN</td>\n",
       "      <td>US</td>\n",
       "      <td>US-AR</td>\n",
       "      <td>Newport</td>\n",
       "      <td>no</td>\n",
       "      <td>00AR</td>\n",
       "      <td>NaN</td>\n",
       "      <td>00AR</td>\n",
       "      <td>NaN</td>\n",
       "      <td>NaN</td>\n",
       "      <td>NaN</td>\n",
       "    </tr>\n",
       "    <tr>\n",
       "      <th>4</th>\n",
       "      <td>6527</td>\n",
       "      <td>00AZ</td>\n",
       "      <td>small_airport</td>\n",
       "      <td>Cordes Airport</td>\n",
       "      <td>34.305599</td>\n",
       "      <td>-112.165001</td>\n",
       "      <td>3810.0</td>\n",
       "      <td>NaN</td>\n",
       "      <td>US</td>\n",
       "      <td>US-AZ</td>\n",
       "      <td>Cordes</td>\n",
       "      <td>no</td>\n",
       "      <td>00AZ</td>\n",
       "      <td>NaN</td>\n",
       "      <td>00AZ</td>\n",
       "      <td>NaN</td>\n",
       "      <td>NaN</td>\n",
       "      <td>NaN</td>\n",
       "    </tr>\n",
       "  </tbody>\n",
       "</table>\n",
       "</div>"
      ],
      "text/plain": [
       "     id ident           type                                name  \\\n",
       "0  6523   00A       heliport                   Total Rf Heliport   \n",
       "1  6524  00AK  small_airport                        Lowell Field   \n",
       "2  6525  00AL  small_airport                        Epps Airpark   \n",
       "3  6526  00AR       heliport  Newport Hospital & Clinic Heliport   \n",
       "4  6527  00AZ  small_airport                      Cordes Airport   \n",
       "\n",
       "   latitude_deg  longitude_deg  elevation_ft continent iso_country iso_region  \\\n",
       "0     40.070801     -74.933601          11.0       NaN          US      US-PA   \n",
       "1     59.949200    -151.695999         450.0       NaN          US      US-AK   \n",
       "2     34.864799     -86.770302         820.0       NaN          US      US-AL   \n",
       "3     35.608700     -91.254898         237.0       NaN          US      US-AR   \n",
       "4     34.305599    -112.165001        3810.0       NaN          US      US-AZ   \n",
       "\n",
       "   municipality scheduled_service gps_code iata_code local_code home_link  \\\n",
       "0      Bensalem                no      00A       NaN        00A       NaN   \n",
       "1  Anchor Point                no     00AK       NaN       00AK       NaN   \n",
       "2       Harvest                no     00AL       NaN       00AL       NaN   \n",
       "3       Newport                no     00AR       NaN       00AR       NaN   \n",
       "4        Cordes                no     00AZ       NaN       00AZ       NaN   \n",
       "\n",
       "  wikipedia_link keywords  \n",
       "0            NaN      NaN  \n",
       "1            NaN      NaN  \n",
       "2            NaN      NaN  \n",
       "3            NaN      NaN  \n",
       "4            NaN      NaN  "
      ]
     },
     "execution_count": 3,
     "metadata": {},
     "output_type": "execute_result"
    }
   ],
   "source": [
    "icao.head(5)"
   ]
  },
  {
   "cell_type": "code",
   "execution_count": 4,
   "metadata": {},
   "outputs": [
    {
     "data": {
      "text/html": [
       "<div>\n",
       "<style scoped>\n",
       "    .dataframe tbody tr th:only-of-type {\n",
       "        vertical-align: middle;\n",
       "    }\n",
       "\n",
       "    .dataframe tbody tr th {\n",
       "        vertical-align: top;\n",
       "    }\n",
       "\n",
       "    .dataframe thead th {\n",
       "        text-align: right;\n",
       "    }\n",
       "</style>\n",
       "<table border=\"1\" class=\"dataframe\">\n",
       "  <thead>\n",
       "    <tr style=\"text-align: right;\">\n",
       "      <th></th>\n",
       "      <th>City</th>\n",
       "      <th>FAA</th>\n",
       "      <th>IATA</th>\n",
       "      <th>ICAO</th>\n",
       "      <th>Airport</th>\n",
       "      <th>Role</th>\n",
       "      <th>Enplanements</th>\n",
       "    </tr>\n",
       "  </thead>\n",
       "  <tbody>\n",
       "    <tr>\n",
       "      <th>0</th>\n",
       "      <td>Atlanta</td>\n",
       "      <td>ATL</td>\n",
       "      <td>ATL</td>\n",
       "      <td>KATL</td>\n",
       "      <td>Hartsfield-Jackson Atlanta International Airport</td>\n",
       "      <td>P-L</td>\n",
       "      <td>43130585</td>\n",
       "    </tr>\n",
       "    <tr>\n",
       "      <th>1</th>\n",
       "      <td>Chicago</td>\n",
       "      <td>ORD</td>\n",
       "      <td>ORD</td>\n",
       "      <td>KORD</td>\n",
       "      <td>Chicago O'Hare International Airport</td>\n",
       "      <td>P-L</td>\n",
       "      <td>32171831</td>\n",
       "    </tr>\n",
       "    <tr>\n",
       "      <th>2</th>\n",
       "      <td>Los Angeles</td>\n",
       "      <td>LAX</td>\n",
       "      <td>LAX</td>\n",
       "      <td>KLAX</td>\n",
       "      <td>Los Angeles International Airport</td>\n",
       "      <td>P-L</td>\n",
       "      <td>30528737</td>\n",
       "    </tr>\n",
       "    <tr>\n",
       "      <th>3</th>\n",
       "      <td>Dallas-Fort Worth</td>\n",
       "      <td>DFW</td>\n",
       "      <td>DFW</td>\n",
       "      <td>KDFW</td>\n",
       "      <td>Dallas/Fort Worth International Airport</td>\n",
       "      <td>P-L</td>\n",
       "      <td>27100656</td>\n",
       "    </tr>\n",
       "    <tr>\n",
       "      <th>4</th>\n",
       "      <td>Denver</td>\n",
       "      <td>DEN</td>\n",
       "      <td>DEN</td>\n",
       "      <td>KDEN</td>\n",
       "      <td>Denver International Airport</td>\n",
       "      <td>P-L</td>\n",
       "      <td>25241962</td>\n",
       "    </tr>\n",
       "  </tbody>\n",
       "</table>\n",
       "</div>"
      ],
      "text/plain": [
       "                City  FAA IATA  ICAO  \\\n",
       "0            Atlanta  ATL  ATL  KATL   \n",
       "1            Chicago  ORD  ORD  KORD   \n",
       "2        Los Angeles  LAX  LAX  KLAX   \n",
       "3  Dallas-Fort Worth  DFW  DFW  KDFW   \n",
       "4             Denver  DEN  DEN  KDEN   \n",
       "\n",
       "                                            Airport Role  Enplanements  \n",
       "0  Hartsfield-Jackson Atlanta International Airport  P-L      43130585  \n",
       "1              Chicago O'Hare International Airport  P-L      32171831  \n",
       "2                 Los Angeles International Airport  P-L      30528737  \n",
       "3           Dallas/Fort Worth International Airport  P-L      27100656  \n",
       "4                      Denver International Airport  P-L      25241962  "
      ]
     },
     "execution_count": 4,
     "metadata": {},
     "output_type": "execute_result"
    }
   ],
   "source": [
    "top.head(5)"
   ]
  },
  {
   "cell_type": "markdown",
   "metadata": {},
   "source": [
    "Create the database, make two tables (icao, top), and put the relevant information from each csv file into the tables. "
   ]
  },
  {
   "cell_type": "code",
   "execution_count": 5,
   "metadata": {},
   "outputs": [],
   "source": [
    "!rm airports.db\n",
    "\n",
    "connection = sqlite3.connect(\"airports.db\")\n",
    "\n",
    "cursor = connection.cursor()\n",
    "\n",
    "sql_cmd = \"\"\"CREATE TABLE icao \n",
    "            (iid INTEGER  NOT NULL  PRIMARY KEY  AUTOINCREMENT DEFAULT 0, \n",
    "            name TEXT, \n",
    "            wikipedia_link TEXT, \n",
    "            iata TEXT, \n",
    "            latitude_deg FLOAT, \n",
    "            longitude_deg FLOAT)\"\"\"\n",
    "\n",
    "cursor.execute(sql_cmd)\n",
    "\n",
    "sql_cmd = \"\"\"CREATE TABLE top \n",
    "            (tid INTEGER  NOT NULL  PRIMARY KEY  AUTOINCREMENT DEFAULT 0, \n",
    "            name TEXT, \n",
    "            iata TEXT)\"\"\"\n",
    "\n",
    "cursor.execute(sql_cmd)\n",
    "connection.commit()"
   ]
  },
  {
   "cell_type": "code",
   "execution_count": 6,
   "metadata": {},
   "outputs": [],
   "source": [
    "icao = icao.where(pd.notnull(icao), None)\n",
    "for ii, row in icao.iterrows():\n",
    "    iparams = (row['name'], row['wikipedia_link'], row['iata_code'], row['latitude_deg'], row['longitude_deg'])\n",
    "    sql_cmd = \"\"\"INSERT INTO icao\n",
    "                (name, wikipedia_link, iata, latitude_deg, longitude_deg)\n",
    "                VALUES (?, ?, ?, ?, ?)\"\"\"\n",
    "    \n",
    "    cursor.execute(sql_cmd, iparams)\n",
    "connection.commit()"
   ]
  },
  {
   "cell_type": "code",
   "execution_count": 7,
   "metadata": {},
   "outputs": [],
   "source": [
    "top = top.where(pd.notnull(top), None)\n",
    "for ii, row in top.iterrows():\n",
    "    iparams = (row['Airport'], row['IATA'])\n",
    "    sql_cmd = \"\"\"INSERT INTO top\n",
    "                (name, iata)\n",
    "                VALUES (?, ?)\"\"\"\n",
    "    \n",
    "    cursor.execute(sql_cmd, iparams)\n",
    "connection.commit()    "
   ]
  },
  {
   "cell_type": "code",
   "execution_count": 8,
   "metadata": {},
   "outputs": [],
   "source": [
    "# #########\n",
    "# # Just to test and make sure this works.\n",
    "# #########\n",
    "\n",
    "# sql_cmd = \"SELECT * FROM icao WHERE longitude_deg > 0\"\n",
    "# cursor.execute(sql_cmd)\n",
    "\n",
    "# db_info = cursor.fetchall()\n",
    "# for entry in db_info:\n",
    "#     print(entry)"
   ]
  },
  {
   "cell_type": "markdown",
   "metadata": {},
   "source": [
    "Now use left join and save the output as a new table called icao_top, which now is a table of the 50 most travelled airports in the US containing the airport name, IATA, wikipedia link, latitude, and longitude."
   ]
  },
  {
   "cell_type": "code",
   "execution_count": 9,
   "metadata": {
    "scrolled": true
   },
   "outputs": [],
   "source": [
    "sql_cmd = \"\"\"CREATE TABLE icao_top AS\n",
    "            SELECT top.name, top.iata, icao.wikipedia_link, icao.latitude_deg, icao.longitude_deg\n",
    "            FROM top LEFT JOIN icao ON\n",
    "            top.iata = icao.iata\"\"\"\n",
    "\n",
    "cursor.execute(sql_cmd)\n",
    "connection.commit()"
   ]
  },
  {
   "cell_type": "code",
   "execution_count": 10,
   "metadata": {},
   "outputs": [
    {
     "name": "stdout",
     "output_type": "stream",
     "text": [
      "50\n",
      "('Hartsfield-Jackson Atlanta International Airport', 'ATL', 'http://en.wikipedia.org/wiki/Hartsfield-Jackson_Atlanta_International_Airport', 33.6366996765137, -84.4281005859375)\n",
      "(\"Chicago O'Hare International Airport\", 'ORD', \"http://en.wikipedia.org/wiki/O'Hare_International_Airport\", 41.97859955, -87.90480042)\n",
      "('Los Angeles International Airport', 'LAX', 'http://en.wikipedia.org/wiki/Los_Angeles_International_Airport', 33.94250107, -118.4079971)\n",
      "('Dallas/Fort Worth International Airport', 'DFW', 'http://en.wikipedia.org/wiki/Dallas-Fort_Worth_International_Airport', 32.896800994873, -97.0380020141602)\n",
      "('Denver International Airport', 'DEN', 'http://en.wikipedia.org/wiki/Denver_International_Airport', 39.8616981506348, -104.672996520996)\n",
      "('John F. Kennedy International Airport', 'JFK', 'http://en.wikipedia.org/wiki/John_F._Kennedy_International_Airport', 40.63980103, -73.77890015)\n",
      "('San Francisco International Airport', 'SFO', 'http://en.wikipedia.org/wiki/San_Francisco_International_Airport', 37.6189994812012, -122.375)\n",
      "('George Bush Intercontinental Airport', 'IAH', 'http://en.wikipedia.org/wiki/George_Bush_Intercontinental_Airport', 29.9843997955322, -95.3414001464844)\n",
      "('McCarran International Airport', 'LAS', 'http://en.wikipedia.org/wiki/McCarran_International_Airport', 36.08010101, -115.1520004)\n",
      "('Phoenix Sky Harbor International Airport', 'PHX', 'http://en.wikipedia.org/wiki/Phoenix_Sky_Harbor_International_Airport', 33.4342994689941, -112.012001037598)\n",
      "('Charlotte/Douglas International Airport', 'CLT', 'http://en.wikipedia.org/wiki/Charlotte/Douglas_International_Airport', 35.2140007019043, -80.9430999755859)\n",
      "('Miami International Airport', 'MIA', 'http://en.wikipedia.org/wiki/Miami_International_Airport', 25.7931995391846, -80.2906036376953)\n",
      "('Orlando International Airport', 'MCO', 'http://en.wikipedia.org/wiki/Orlando_International_Airport', 28.4293994903564, -81.3089981079102)\n",
      "('Newark Liberty International Airport', 'EWR', 'http://en.wikipedia.org/wiki/Newark_Liberty_International_Airport', 40.6925010681152, -74.168701171875)\n",
      "('Detroit Metropolitan Wayne County Airport', 'DTW', 'http://en.wikipedia.org/wiki/Detroit_Metropolitan_Wayne_County_Airport', 42.2123985290527, -83.353401184082)\n",
      "('Minneapolis-St. Paul International Airport (Wold-Chamberlain Field)', 'MSP', 'http://en.wikipedia.org/wiki/Minneapolis-Saint_Paul_International_Airport', 44.8819999695, -93.2218017578)\n",
      "('Seattle-Tacoma International Airport', 'SEA', 'http://en.wikipedia.org/wiki/Seattle-Tacoma_International_Airport', 47.4490013122559, -122.30899810791)\n",
      "('Philadelphia International Airport', 'PHL', 'http://en.wikipedia.org/wiki/Philadelphia_International_Airport', 39.871898651123, -75.241096496582)\n",
      "('Gen. Edward Lawrence Logan International Airport', 'BOS', 'http://en.wikipedia.org/wiki/Logan_International_Airport', 42.36429977, -71.00520325)\n",
      "('LaGuardia Airport (and Marine Air Terminal)', 'LGA', 'http://en.wikipedia.org/wiki/LaGuardia_Airport', 40.77719879, -73.87259674)\n",
      "('Washington Dulles International Airport', 'IAD', 'http://en.wikipedia.org/wiki/Washington_Dulles_International_Airport', 38.94449997, -77.45580292)\n",
      "('Baltimore/Washington International Thurgood Marshall Airport', 'BWI', 'http://en.wikipedia.org/wiki/Baltimore-Washington_International_Thurgood_Marshall_Airport', 39.17539978, -76.66829681)\n",
      "('Fort Lauderdale–Hollywood International Airport', 'FLL', 'http://en.wikipedia.org/wiki/Fort_Lauderdale-Hollywood_International_Airport', 26.0725994110107, -80.152702331543)\n",
      "('Salt Lake City International Airport', 'SLC', 'http://en.wikipedia.org/wiki/Salt_Lake_City_International_Airport', 40.7883987426758, -111.977996826172)\n",
      "('Honolulu International Airport / Hickam AFB', 'HNL', 'http://en.wikipedia.org/wiki/Honolulu_International_Airport', 21.3187007904053, -157.921997070312)\n",
      "('Ronald Reagan Washington National Airport', 'DCA', 'http://en.wikipedia.org/wiki/Ronald_Reagan_Washington_National_Airport', 38.8521003723145, -77.0376968383789)\n",
      "('Chicago Midway International Airport', 'MDW', 'http://en.wikipedia.org/wiki/Chicago_Midway_International_Airport', 41.7859992980957, -87.7524032592773)\n",
      "('San Diego International Airport', 'SAN', 'http://en.wikipedia.org/wiki/San_Diego_International_Airport', 32.7336006164551, -117.190002441406)\n",
      "('Tampa International Airport', 'TPA', 'http://en.wikipedia.org/wiki/Tampa_International_Airport', 27.9755001068115, -82.533203125)\n",
      "('Portland International Airport', 'PDX', 'http://en.wikipedia.org/wiki/Portland_International_Airport', 45.58869934, -122.5979996)\n",
      "('Lambert-St. Louis International Airport', 'STL', 'http://en.wikipedia.org/wiki/Lambert-St._Louis_International_Airport', 38.7486991882324, -90.370002746582)\n",
      "('Kansas City International Airport', 'MCI', None, 39.2975997924805, -94.7138977050781)\n",
      "('Memphis International Airport', 'MEM', 'http://en.wikipedia.org/wiki/Memphis_International_Airport', 35.0424003601074, -89.9766998291016)\n",
      "('Cleveland-Hopkins International Airport', 'CLE', 'http://en.wikipedia.org/wiki/Cleveland_Hopkins_International_Airport', 41.4117012024, -81.8498001099)\n",
      "('Oakland International Airport', 'OAK', 'http://en.wikipedia.org/wiki/Oakland_International_Airport', 37.7212982177734, -122.221000671387)\n",
      "('Luis Muñoz Marín International Airport', 'SJU', 'http://en.wikipedia.org/wiki/Luis_Mu%C3%B1oz_Mar%C3%ADn_International_Airport', 18.4393997192383, -66.0018005371094)\n",
      "('Raleigh-Durham International Airport', 'RDU', 'http://en.wikipedia.org/wiki/Raleigh-Durham_International_Airport', 35.8776016235352, -78.7874984741211)\n",
      "('Nashville International Airport (Berry Field)', 'BNA', 'http://en.wikipedia.org/wiki/Nashville_International_Airport', 36.1245002746582, -86.6781997680664)\n",
      "('Sacramento International Airport', 'SMF', 'http://en.wikipedia.org/wiki/Sacramento_International_Airport', 38.6954002380371, -121.591003417969)\n",
      "('William P. Hobby Airport', 'HOU', 'http://en.wikipedia.org/wiki/William_P._Hobby_Airport', 29.64539909, -95.27890015)\n",
      "('John Wayne Airport – Orange County (was Orange County Airport)', 'SNA', 'http://en.wikipedia.org/wiki/John_Wayne_Airport', 33.67570114, -117.8679962)\n",
      "('Austin-Bergstrom International Airport', 'AUS', 'http://en.wikipedia.org/wiki/Austin-Bergstrom_International_Airport', 30.1944999694824, -97.6698989868164)\n",
      "('Norman Y. Mineta San José International Airport', 'SJC', 'http://en.wikipedia.org/wiki/San_Jose_International_Airport', 37.3625984191895, -121.929000854492)\n",
      "('Louis Armstrong New Orleans International Airport', 'MSY', 'http://en.wikipedia.org/wiki/Louis_Armstrong_New_Orleans_International_Airport', 29.9934005737305, -90.2580032348633)\n",
      "('Pittsburgh International Airport', 'PIT', 'http://en.wikipedia.org/wiki/Pittsburgh_International_Airport', 40.49150085, -80.23290253)\n",
      "('San Antonio International Airport', 'SAT', 'http://en.wikipedia.org/wiki/San_Antonio_International_Airport', 29.5337009429932, -98.4698028564453)\n",
      "('Cincinnati/Northern Kentucky International Airport', 'CVG', 'http://en.wikipedia.org/wiki/Cincinnati/Northern_Kentucky_International_Airport', 39.0488014221, -84.6678009033)\n",
      "('General Mitchell International Airport', 'MKE', 'http://en.wikipedia.org/wiki/General_Mitchell_International_Airport', 42.9472007751465, -87.896598815918)\n",
      "('Dallas Love Field', 'DAL', 'http://en.wikipedia.org/wiki/Dallas_Love_Field', 32.8470993041992, -96.8517990112305)\n",
      "('Indianapolis International Airport', 'IND', 'http://en.wikipedia.org/wiki/Indianapolis_International_Airport', 39.7173004150391, -86.2944030761719)\n"
     ]
    }
   ],
   "source": [
    "#########\n",
    "# Just to make sure it worked.\n",
    "#########\n",
    "\n",
    "sql_cmd = \"SELECT * FROM icao_top\"\n",
    "\n",
    "cursor.execute(sql_cmd)\n",
    "\n",
    "db_info = cursor.fetchall()\n",
    "print(len(db_info))\n",
    "for entry in db_info: \n",
    "    print(entry)"
   ]
  },
  {
   "cell_type": "markdown",
   "metadata": {},
   "source": [
    "### 2) Build another table that will hold historical weather information: min/max temperature, relative humidity, and precipitation."
   ]
  },
  {
   "cell_type": "code",
   "execution_count": 11,
   "metadata": {},
   "outputs": [],
   "source": [
    "sql_cmd = \"\"\"CREATE TABLE weather\n",
    "            (wid INTEGER  NOT NULL  PRIMARY KEY  AUTOINCREMENT DEFAULT 0, \n",
    "            date DATE,\n",
    "            lat FLOAT,\n",
    "            long FLOAT,\n",
    "            min_temp FLOAT,\n",
    "            max_temp FLOAT,\n",
    "            min_relhumid FLOAT,\n",
    "            max_relhumid FLOAT,\n",
    "            precip FLOAT)\"\"\"\n",
    "cursor.execute(sql_cmd)\n",
    "connection.commit()"
   ]
  },
  {
   "cell_type": "markdown",
   "metadata": {},
   "source": [
    "### 3) Using the data from the xarray/netCDF4 example in class, populate the database from 1990-2000."
   ]
  },
  {
   "cell_type": "code",
   "execution_count": 12,
   "metadata": {},
   "outputs": [],
   "source": [
    "import xarray as xr\n",
    "import numpy as np"
   ]
  },
  {
   "cell_type": "markdown",
   "metadata": {},
   "source": [
    "Grab all the data we want (min/max temp, relative humidity, precipitation) from the online catalog."
   ]
  },
  {
   "cell_type": "code",
   "execution_count": 13,
   "metadata": {
    "scrolled": true
   },
   "outputs": [],
   "source": [
    "# temp: tasmax/tasmin, RH: rhsmax/rhsmin, precipitation: pr\n",
    "# downward shortwave solar radiation(rsds), eastward wind(uas), \n",
    "# northward wind(vas), and specific humidity(huss)\n",
    "\n",
    "datatype = \"tasmax\" \n",
    "\n",
    "data_path = (\"http://thredds.northwestknowledge.net:8080/\"\n",
    "             f\"thredds/dodsC/agg_macav2metdata_{datatype}\"\n",
    "             \"_BNU-ESM_r1i1p1_historical_1950_2005_CONUS_daily.nc\")\n",
    "\n",
    "max_temp_xr_all = xr.open_dataset(data_path)  \n",
    "max_temp_xr = max_temp_xr_all['air_temperature'].sel(time=slice(\"1990\", \"2000\"))"
   ]
  },
  {
   "cell_type": "code",
   "execution_count": 14,
   "metadata": {
    "scrolled": true
   },
   "outputs": [],
   "source": [
    "datatype = \"tasmin\" \n",
    "\n",
    "data_path = (\"http://thredds.northwestknowledge.net:8080/\"\n",
    "             f\"thredds/dodsC/agg_macav2metdata_{datatype}\"\n",
    "             \"_BNU-ESM_r1i1p1_historical_1950_2005_CONUS_daily.nc\")\n",
    "\n",
    "min_temp_xr_all = xr.open_dataset(data_path)  \n",
    "min_temp_xr = min_temp_xr_all['air_temperature'].sel(time=slice(\"1990\", \"2000\"))"
   ]
  },
  {
   "cell_type": "code",
   "execution_count": 15,
   "metadata": {
    "scrolled": true
   },
   "outputs": [],
   "source": [
    "datatype = \"rhsmax\" \n",
    "\n",
    "data_path = (\"http://thredds.northwestknowledge.net:8080/\"\n",
    "             f\"thredds/dodsC/agg_macav2metdata_{datatype}\"\n",
    "             \"_BNU-ESM_r1i1p1_historical_1950_2005_CONUS_daily.nc\")\n",
    "\n",
    "max_rhum_xr_all = xr.open_dataset(data_path) \n",
    "max_rhum_xr = max_rhum_xr_all['relative_humidity'].sel(time=slice(\"1990\", \"2000\"))"
   ]
  },
  {
   "cell_type": "code",
   "execution_count": 16,
   "metadata": {
    "scrolled": true
   },
   "outputs": [],
   "source": [
    "datatype = \"rhsmin\" \n",
    "\n",
    "data_path = (\"http://thredds.northwestknowledge.net:8080/\"\n",
    "             f\"thredds/dodsC/agg_macav2metdata_{datatype}\"\n",
    "             \"_BNU-ESM_r1i1p1_historical_1950_2005_CONUS_daily.nc\")\n",
    "\n",
    "min_rhum_xr_all = xr.open_dataset(data_path) \n",
    "min_rhum_xr = min_rhum_xr_all['relative_humidity'].sel(time=slice(\"1990\", \"2000\"))"
   ]
  },
  {
   "cell_type": "code",
   "execution_count": 17,
   "metadata": {
    "scrolled": true
   },
   "outputs": [],
   "source": [
    "datatype = \"pr\" \n",
    "\n",
    "data_path = (\"http://thredds.northwestknowledge.net:8080/\"\n",
    "             f\"thredds/dodsC/agg_macav2metdata_{datatype}\"\n",
    "             \"_BNU-ESM_r1i1p1_historical_1950_2005_CONUS_daily.nc\")\n",
    "\n",
    "precip_xr_all = xr.open_dataset(data_path) \n",
    "precip_xr = precip_xr_all['precipitation'].sel(time=slice(\"1990\", \"2000\"))"
   ]
  },
  {
   "cell_type": "markdown",
   "metadata": {},
   "source": [
    "Load up the database (which was created in the commented out code above)."
   ]
  },
  {
   "cell_type": "code",
   "execution_count": 18,
   "metadata": {},
   "outputs": [],
   "source": [
    "# connection = sqlite3.connect(\"airports.db\")\n",
    "\n",
    "# cursor = connection.cursor()"
   ]
  },
  {
   "cell_type": "markdown",
   "metadata": {},
   "source": [
    "Just get the longitudes and latitudes that match, otherwise it will take forever to make the database."
   ]
  },
  {
   "cell_type": "code",
   "execution_count": 19,
   "metadata": {},
   "outputs": [],
   "source": [
    "lon_arr = np.zeros(50)\n",
    "lat_arr = np.zeros(50)\n",
    "\n",
    "sql_cmd = \"SELECT latitude_deg, longitude_deg FROM icao_top\"\n",
    "\n",
    "cursor.execute(sql_cmd)\n",
    "db_info = cursor.fetchall()\n",
    "for ii, entry in enumerate(db_info): \n",
    "    lat_arr[ii] = entry[0]\n",
    "    lon_arr[ii] = entry[1]"
   ]
  },
  {
   "cell_type": "code",
   "execution_count": 20,
   "metadata": {},
   "outputs": [
    {
     "name": "stdout",
     "output_type": "stream",
     "text": [
      "48\n"
     ]
    }
   ],
   "source": [
    "idx = np.where((lon_arr + 360 > precip_xr['lon'].values.min() - 0.04) &\n",
    "         (lon_arr + 360 < precip_xr['lon'].values.max() + 0.04) &\n",
    "         (lat_arr > precip_xr['lat'].values.min() - 0.04) &\n",
    "         (lat_arr < precip_xr['lat'].values.max() + 0.04))[0]\n",
    "print(len(idx))\n",
    "\n",
    "lon_arr = lon_arr[idx]\n",
    "lat_arr = lat_arr[idx]\n",
    "n_good = len(idx)"
   ]
  },
  {
   "cell_type": "code",
   "execution_count": 24,
   "metadata": {},
   "outputs": [
    {
     "data": {
      "text/plain": [
       "[<matplotlib.lines.Line2D at 0x7fa531de5880>]"
      ]
     },
     "execution_count": 24,
     "metadata": {},
     "output_type": "execute_result"
    },
    {
     "data": {
      "image/png": "[encoded data removed]",
      "text/plain": [
       "<Figure size 432x288 with 1 Axes>"
      ]
     },
     "metadata": {
      "needs_background": "light"
     },
     "output_type": "display_data"
    }
   ],
   "source": [
    "lon_idx_arr = []\n",
    "lat_idx_arr = []\n",
    "\n",
    "for ii, lon in enumerate(lon_arr):\n",
    "    lon_idx_arr.append(np.abs(precip_xr['lon'].values - (lon + 360)).argmin())\n",
    "\n",
    "for ii, lat in enumerate(lat_arr):\n",
    "    lat_idx_arr.append(np.abs(precip_xr['lat'].values - lat).argmin())\n",
    "    \n",
    "# Note there are two places they don't match up. It's obvious when plotting.\n",
    "#np.diff(precip_xr['lat']).mean()\n",
    "#np.diff(precip_xr['lon']).mean()\n",
    "\n",
    "lonidx = np.where(precip_xr['lon'].values[lon_idx_arr] - (lon_arr + 360) > 0.04)[0]\n",
    "latidx = np.where(precip_xr['lat'].values[lat_idx_arr] - lat_arr > 0.04)[0]\n",
    "\n",
    "import matplotlib.pyplot as plt\n",
    "\n",
    "plt.plot([precip_xr['lon'].min(), precip_xr['lon'].min(), precip_xr['lon'].max(), precip_xr['lon'].max(), precip_xr['lon'].min()],\n",
    "         [precip_xr['lat'].min(), precip_xr['lat'].max(), precip_xr['lat'].max(), precip_xr['lat'].min(), precip_xr['lat'].min()])\n",
    "plt.plot(lon_arr + 360, lat_arr, 'o')"
   ]
  },
  {
   "cell_type": "markdown",
   "metadata": {},
   "source": [
    "Put into database."
   ]
  },
  {
   "cell_type": "code",
   "execution_count": 25,
   "metadata": {},
   "outputs": [
    {
     "name": "stdout",
     "output_type": "stream",
     "text": [
      "921.2018775939941\n"
     ]
    }
   ],
   "source": [
    "# ~1000 seconds to write the table.\n",
    "import time\n",
    "t1 = time.time()\n",
    "for ii in np.arange(n_good):\n",
    "    lon_idx = lon_idx_arr[ii]\n",
    "    lat_idx = lat_idx_arr[ii]\n",
    "    lat = min_temp_xr.isel(lon=lon_idx, lat=lat_idx)['lat'].values\n",
    "    lon = min_temp_xr.isel(lon=lon_idx, lat=lat_idx)['lon'].values\n",
    "    min_temp = min_temp_xr.isel(lon=lon_idx, lat=lat_idx).values\n",
    "    max_temp = max_temp_xr.isel(lon=lon_idx, lat=lat_idx).values\n",
    "    min_rhum = min_rhum_xr.isel(lon=lon_idx, lat=lat_idx).values\n",
    "    max_rhum = max_rhum_xr.isel(lon=lon_idx, lat=lat_idx).values\n",
    "    precip = precip_xr.isel(lon=lon_idx, lat=lat_idx).values\n",
    "    for jj, time_xr in enumerate(precip_xr['time']):\n",
    "        params = (str(time_xr.dt.strftime('%Y-%m-%d').values),\n",
    "                  float(lat_arr[ii]),\n",
    "                  float(lon_arr[ii]),\n",
    "                  float(min_temp[jj]),\n",
    "                  float(max_temp[jj]),\n",
    "                  float(min_rhum[jj]),\n",
    "                  float(max_rhum[jj]),\n",
    "                  float(precip[jj]))\n",
    "        sql_cmd = \"\"\"INSERT INTO weather\n",
    "                    (date, lat, long, min_temp, max_temp, min_relhumid, max_relhumid, precip)\n",
    "                    VALUES (?, ?, ?, ?, ?, ?, ?, ?)\"\"\"\n",
    "    \n",
    "        cursor.execute(sql_cmd, params)\n",
    "connection.commit()\n",
    "t2 = time.time()\n",
    "\n",
    "print(t2 - t1)"
   ]
  },
  {
   "cell_type": "code",
   "execution_count": null,
   "metadata": {},
   "outputs": [],
   "source": [
    "# ngood = 48\n",
    "\n",
    "# lon_arr = np.zeros(ngood)\n",
    "# lat_arr = np.zeros(ngood)\n",
    "\n",
    "# sql_cmd = \"\"\"SELECT latitude_deg, longitude_deg FROM icao_top \n",
    "#              WHERE longitude_deg > -124.77215576 AND\n",
    "#                    longitude_deg < -67.0647583 AND\n",
    "#                    latitude_deg > 25.06307793 AND\n",
    "#                    latitude_deg < 49.3960228\"\"\"\n",
    "\n",
    "# cursor.execute(sql_cmd)\n",
    "# db_info = cursor.fetchall()\n",
    "# for ii, entry in enumerate(db_info): \n",
    "#     lat_arr[ii] = entry[0]\n",
    "#     lon_arr[ii] = entry[1]\n",
    "        \n",
    "# sql_cmd = \"\"\"CREATE TABLE weather\n",
    "#             (wid INTEGER  NOT NULL  PRIMARY KEY  AUTOINCREMENT DEFAULT 0, \n",
    "#             date DATE,\n",
    "#             lat FLOAT,\n",
    "#             long FLOAT,\n",
    "#             min_temp FLOAT,\n",
    "#             max_temp FLOAT,\n",
    "#             min_relhumid FLOAT,\n",
    "#             max_relhumid FLOAT,\n",
    "#             precip FLOAT)\"\"\"\n",
    "# cursor.execute(sql_cmd)\n",
    "# connection.commit()\n",
    "\n",
    "# # ~1000 seconds to write the table.\n",
    "# import time\n",
    "# t1 = time.time()\n",
    "# for ii in np.arange(48):\n",
    "#     lon_idx = lon_idx_arr[ii]\n",
    "#     lat_idx = lat_idx_arr[ii]\n",
    "#     lat = min_temp_xr.isel(lon=lon_idx, lat=lat_idx)['lat'].values\n",
    "#     lon = min_temp_xr.isel(lon=lon_idx, lat=lat_idx)['lon'].values\n",
    "#     min_temp = min_temp_xr.isel(lon=lon_idx, lat=lat_idx).values\n",
    "#     max_temp = max_temp_xr.isel(lon=lon_idx, lat=lat_idx).values\n",
    "#     min_rhum = min_rhum_xr.isel(lon=lon_idx, lat=lat_idx).values\n",
    "#     max_rhum = max_rhum_xr.isel(lon=lon_idx, lat=lat_idx).values\n",
    "#     precip = precip_xr.isel(lon=lon_idx, lat=lat_idx).values\n",
    "#     for jj, time_xr in enumerate(precip_xr['time']):\n",
    "#         params = (str(time_xr.dt.strftime('%Y-%m-%d').values),\n",
    "#                   float(lat_arr[ii]),\n",
    "#                   float(lon_arr[ii]),\n",
    "#                   float(min_temp[jj]),\n",
    "#                   float(max_temp[jj]),\n",
    "#                   float(min_rhum[jj]),\n",
    "#                   float(max_rhum[jj]),\n",
    "#                   float(precip[jj]))\n",
    "#         sql_cmd = \"\"\"INSERT INTO weather\n",
    "#                     (date, lat, long, min_temp, max_temp, min_relhumid, max_relhumid, precip)\n",
    "#                     VALUES (?, ?, ?, ?, ?, ?, ?, ?)\"\"\"\n",
    "    \n",
    "#         cursor.execute(sql_cmd, params)\n",
    "# connection.commit()\n",
    "# t2 = time.time()\n",
    "\n",
    "# print(t2 - t1)"
   ]
  },
  {
   "cell_type": "code",
   "execution_count": null,
   "metadata": {},
   "outputs": [],
   "source": [
    "# print(lat_arr[0], lon_arr[0])\n",
    "# print(lat_arr[1], lon_arr[1])"
   ]
  },
  {
   "cell_type": "code",
   "execution_count": null,
   "metadata": {},
   "outputs": [],
   "source": [
    "# print(precip_xr['lon'].min() - 360)\n",
    "# print(precip_xr['lon'].max() - 360)\n",
    "# print(precip_xr['lat'].min())\n",
    "# print(precip_xr['lat'].max())\n",
    "\n",
    "# ngood = len(db_info)\n",
    "\n",
    "# lon_arr = np.zeros(ngood)\n",
    "# lat_arr = np.zeros(ngood)\n",
    "\n",
    "# sql_cmd = \"\"\"SELECT latitude_deg, longitude_deg FROM icao_top \n",
    "#              WHERE longitude_deg > -124.77215576 AND\n",
    "#                    longitude_deg < -67.0647583 AND\n",
    "#                    latitude_deg > 25.06307793 AND\n",
    "#                    latitude_deg < 49.3960228\"\"\"\n",
    "\n",
    "# cursor.execute(sql_cmd)\n",
    "# db_info = cursor.fetchall()\n",
    "# for ii, entry in enumerate(db_info): \n",
    "#     lat_arr[ii] = entry[0]\n",
    "#     lon_arr[ii] = entry[1]"
   ]
  },
  {
   "cell_type": "code",
   "execution_count": null,
   "metadata": {},
   "outputs": [],
   "source": [
    "# len(np.where((precip_xr['lon'] - 360 > -124.77215576) & (precip_xr['lon'] - 360 < -67.0647583))[0])"
   ]
  },
  {
   "cell_type": "code",
   "execution_count": null,
   "metadata": {},
   "outputs": [],
   "source": [
    "# sql_cmd = \"SELECT * FROM weather_new\"\n",
    "# cursor.execute(sql_cmd)\n",
    "\n",
    "# db_info = cursor.fetchall()\n",
    "# print(len(db_info))\n",
    "# for ee, entry in enumerate(db_info):\n",
    "#     print(entry)"
   ]
  },
  {
   "cell_type": "markdown",
   "metadata": {},
   "source": [
    "### 4) For each pair of cities/airports determine how the daily change of temperature high and precipitation from one city predicts the daily change of the other city 1, 3, & 7 days in advance. (Note: for correlations between pairs, try np.corrcoef.)"
   ]
  },
  {
   "cell_type": "code",
   "execution_count": 29,
   "metadata": {
    "scrolled": true
   },
   "outputs": [],
   "source": [
    "max_temp_arr = np.empty((n_good, 4018))\n",
    "\n",
    "precip_arr = np.empty((n_good, 4018))\n",
    "\n",
    "for ii in np.arange(n_good):\n",
    "    sql_cmd = \"SELECT max_temp, precip FROM weather WHERE lat={0} AND long={1} ORDER BY date\".format(lat_arr[ii], lon_arr[ii])\n",
    "    cursor.execute(sql_cmd)\n",
    "\n",
    "    db_info = cursor.fetchall()\n",
    "    for ee, entry in enumerate(db_info):\n",
    "        max_temp_arr[ii, ee] = entry[0]\n",
    "        precip_arr[ii, ee] = entry[1]"
   ]
  },
  {
   "cell_type": "code",
   "execution_count": 31,
   "metadata": {},
   "outputs": [],
   "source": [
    "import itertools\n",
    "combos = list(itertools.combinations(np.arange(n_good), 2))\n",
    "\n",
    "d0 = np.empty(len(combos))\n",
    "d1 = np.empty(len(combos))\n",
    "d3 = np.empty(len(combos))\n",
    "d7 = np.empty(len(combos))"
   ]
  },
  {
   "cell_type": "code",
   "execution_count": 32,
   "metadata": {},
   "outputs": [],
   "source": [
    "for ii in np.arange(len(combos)):\n",
    "    idx1 = combos[ii][0]\n",
    "    idx2 = combos[ii][1]\n",
    "    d0[ii] = np.corrcoef(np.diff(max_temp_arr[idx1]), np.diff(max_temp_arr[idx2]))[0,1]\n",
    "    d1[ii] = np.corrcoef(np.diff(max_temp_arr[idx1])[1:], np.diff(max_temp_arr[idx2])[:-1])[0,1]\n",
    "    d3[ii] = np.corrcoef(np.diff(max_temp_arr[idx1])[3:], np.diff(max_temp_arr[idx2])[:-3])[0,1]\n",
    "    d7[ii] = np.corrcoef(np.diff(max_temp_arr[idx1])[7:], np.diff(max_temp_arr[idx2])[:-7])[0,1]"
   ]
  },
  {
   "cell_type": "code",
   "execution_count": 33,
   "metadata": {},
   "outputs": [],
   "source": [
    "sep = np.empty(len(combos))\n",
    "dlon = np.empty(len(combos))\n",
    "\n",
    "lat_arr_rad = np.deg2rad(lat_arr)\n",
    "lon_arr_rad = np.deg2rad(lon_arr)\n",
    "\n",
    "for ii in np.arange(len(combos)):\n",
    "    idx1 = combos[ii][0]\n",
    "    idx2 = combos[ii][1]\n",
    "    lat1 = lat_arr_rad[idx1]\n",
    "    lat2 = lat_arr_rad[idx2]\n",
    "    lon1 = lon_arr_rad[idx1]\n",
    "    lon2 = lon_arr_rad[idx2]\n",
    "    term1 = np.sin(0.5 * (lat2 - lat1))**2\n",
    "    term2 = np.cos(lat1) * np.cos(lat2) * np.sin(0.5 * (lon2 - lon1))**2\n",
    "    sep[ii] = np.arcsin(np.sqrt(term1 + term2))\n",
    "    dlon[ii] = lon2 - lon1"
   ]
  },
  {
   "cell_type": "code",
   "execution_count": 34,
   "metadata": {},
   "outputs": [
    {
     "data": {
      "text/plain": [
       "<matplotlib.lines.Line2D at 0x7fa53131ad60>"
      ]
     },
     "execution_count": 34,
     "metadata": {},
     "output_type": "execute_result"
    },
    {
     "data": {
      "image/png": "[encoded data removed]",
      "text/plain": [
       "<Figure size 432x288 with 1 Axes>"
      ]
     },
     "metadata": {
      "needs_background": "light"
     },
     "output_type": "display_data"
    },
    {
     "data": {
      "image/png": "[encoded data removed]",
      "text/plain": [
       "<Figure size 432x288 with 1 Axes>"
      ]
     },
     "metadata": {
      "needs_background": "light"
     },
     "output_type": "display_data"
    }
   ],
   "source": [
    "plt.figure(1)\n",
    "plt.clf()\n",
    "plt.plot(sep, d0, '.', label='$\\Delta = 0$ day')\n",
    "plt.plot(sep, d1, '.', label='$\\Delta = 1$ day')\n",
    "plt.plot(sep, d3, '.', label='$\\Delta = 3$ day')\n",
    "plt.plot(sep, d7, '.', label='$\\Delta = 7$ day')\n",
    "plt.legend()\n",
    "plt.xlabel('Separation (arcsin(sqrt(haversine)))')\n",
    "plt.ylabel('Correlation coefficient')\n",
    "plt.axhline(y=0, color='k', ls = ':')\n",
    "\n",
    "plt.figure(2)\n",
    "plt.clf()\n",
    "plt.plot(dlon, d0, '.', label='$\\Delta = 0$ day')\n",
    "plt.plot(dlon, d1, '.', label='$\\Delta = 1$ day')\n",
    "plt.plot(dlon, d3, '.', label='$\\Delta = 3$ day')\n",
    "plt.plot(dlon, d7, '.', label='$\\Delta = 7$ day')\n",
    "plt.legend()\n",
    "plt.xlabel('Longitude difference (deg)')\n",
    "plt.ylabel('Correlation coefficient')\n",
    "plt.axhline(y=0, color='k', ls = ':')"
   ]
  },
  {
   "cell_type": "markdown",
   "metadata": {},
   "source": [
    "### 5) Plot the correlation strengths for the 10 top pairs for all three dates, for temperature and precipitation (separately) as a function of distance. Also make a plot as a function of longitude different. What trends do you see?"
   ]
  },
  {
   "cell_type": "code",
   "execution_count": 37,
   "metadata": {},
   "outputs": [],
   "source": [
    "d0_sortidx = np.argsort(d0)\n",
    "d1_sortidx = np.argsort(d1)\n",
    "d3_sortidx = np.argsort(d3)\n",
    "d7_sortidx = np.argsort(d7)"
   ]
  },
  {
   "cell_type": "code",
   "execution_count": 38,
   "metadata": {},
   "outputs": [
    {
     "data": {
      "text/plain": [
       "<matplotlib.legend.Legend at 0x7fa5311401c0>"
      ]
     },
     "execution_count": 38,
     "metadata": {},
     "output_type": "execute_result"
    },
    {
     "data": {
      "image/png": "[encoded data removed]",
      "text/plain": [
       "<Figure size 432x288 with 1 Axes>"
      ]
     },
     "metadata": {
      "needs_background": "light"
     },
     "output_type": "display_data"
    },
    {
     "data": {
      "image/png": "[encoded data removed]",
      "text/plain": [
       "<Figure size 432x288 with 1 Axes>"
      ]
     },
     "metadata": {
      "needs_background": "light"
     },
     "output_type": "display_data"
    }
   ],
   "source": [
    "plt.figure(1)\n",
    "plt.clf()\n",
    "plt.plot(sep[d1_sortidx][::-1][0:10], d1[d1_sortidx][::-1][0:10], 'o', label='$\\Delta = 1$ day')\n",
    "plt.plot(sep[d3_sortidx][::-1][0:10], d3[d3_sortidx][::-1][0:10], 'o', label='$\\Delta = 3$ day')\n",
    "plt.plot(sep[d7_sortidx][::-1][0:10], d7[d7_sortidx][::-1][0:10], 'o', label='$\\Delta = 7$ day')\n",
    "plt.legend()\n",
    "\n",
    "plt.figure(2)\n",
    "plt.clf()\n",
    "plt.plot(dlon[d1_sortidx][::-1][0:10], d1[d1_sortidx][::-1][0:10], 'o', label='$\\Delta = 1$ day')\n",
    "plt.plot(dlon[d3_sortidx][::-1][0:10], d3[d3_sortidx][::-1][0:10], 'o', label='$\\Delta = 3$ day')\n",
    "plt.plot(dlon[d7_sortidx][::-1][0:10], d7[d7_sortidx][::-1][0:10], 'o', label='$\\Delta = 7$ day')\n",
    "plt.legend()"
   ]
  },
  {
   "cell_type": "code",
   "execution_count": null,
   "metadata": {},
   "outputs": [],
   "source": []
  }
 ],
 "metadata": {
  "kernelspec": {
   "display_name": "Python 3 (ipykernel)",
   "language": "python",
   "name": "python3"
  },
  "language_info": {
   "codemirror_mode": {
    "name": "ipython",
    "version": 3
   },
   "file_extension": ".py",
   "mimetype": "text/x-python",
   "name": "python",
   "nbconvert_exporter": "python",
   "pygments_lexer": "ipython3",
   "version": "3.9.9"
  },
  "toc": {
   "base_numbering": 1,
   "nav_menu": {},
   "number_sections": true,
   "sideBar": true,
   "skip_h1_title": false,
   "title_cell": "Table of Contents",
   "title_sidebar": "Contents",
   "toc_cell": false,
   "toc_position": {},
   "toc_section_display": true,
   "toc_window_display": false
  },
  "varInspector": {
   "cols": {
    "lenName": 16,
    "lenType": 16,
    "lenVar": 40
   },
   "kernels_config": {
    "python": {
     "delete_cmd_postfix": "",
     "delete_cmd_prefix": "del ",
     "library": "var_list.py",
     "varRefreshCmd": "print(var_dic_list())"
    },
    "r": {
     "delete_cmd_postfix": ") ",
     "delete_cmd_prefix": "rm(",
     "library": "var_list.r",
     "varRefreshCmd": "cat(var_dic_list()) "
    }
   },
   "types_to_exclude": [
    "module",
    "function",
    "builtin_function_or_method",
    "instance",
    "_Feature"
   ],
   "window_display": false
  }
 },
 "nbformat": 4,
 "nbformat_minor": 1
}
