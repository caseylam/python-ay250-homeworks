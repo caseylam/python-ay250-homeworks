{
 "cells": [
  {
   "cell_type": "code",
   "execution_count": 8,
   "id": "5335617c",
   "metadata": {},
   "outputs": [],
   "source": [
    "import ftplib\n",
    "from sqlalchemy import create_engine, text\n",
    "from sqlalchemy.sql import select\n",
    "from bs4 import BeautifulSoup\n",
    "import numpy as np \n",
    "from io import BytesIO\n",
    "import pandas as pd\n",
    "import time \n",
    "from urllib.request import urlopen\n",
    "import numexpr as ne\n",
    "import requests"
   ]
  },
  {
   "cell_type": "markdown",
   "id": "4dd869df",
   "metadata": {},
   "source": [
    "This notebook outlines how to dump the lightcurves and alerts into databases. Let's use SQLAlchemy Core.\n",
    "\n",
    "First, let's put the lightcurves into the database."
   ]
  },
  {
   "cell_type": "code",
   "execution_count": 9,
   "id": "ce343613",
   "metadata": {},
   "outputs": [],
   "source": [
    "engine = create_engine('sqlite:///foo.db')\n",
    "conn = engine.connect()"
   ]
  },
  {
   "cell_type": "markdown",
   "id": "a8e68f35",
   "metadata": {},
   "source": [
    "# MOA"
   ]
  },
  {
   "cell_type": "code",
   "execution_count": 99,
   "id": "972ed940",
   "metadata": {},
   "outputs": [
    {
     "name": "stdout",
     "output_type": "stream",
     "text": [
      "Time to write table: 31 sec for 10 alerts\n"
     ]
    }
   ],
   "source": [
    "# So we don't have to deal with the log10 complaining.\n",
    "import warnings\n",
    "warnings.filterwarnings(\"ignore\")\n",
    "\n",
    "url = \"http://www.massey.ac.nz/~iabond/moa/alert2022/alert.php\"\n",
    "response = urlopen(url)\n",
    "html = response.read()\n",
    "response.close()\n",
    "soup = BeautifulSoup(html,\"html.parser\")\n",
    "links = soup.find_all('a', href=True)\n",
    "alert_dirs = []\n",
    "# Get a list of all the bulge microlensing alerts\n",
    "for ii, link in enumerate(links):\n",
    "    if 'BLG' in link.text:\n",
    "        alert_dirs.append(links[ii]['href'])\n",
    "        \n",
    "counter = 0\n",
    "\n",
    "t0 = time.time()\n",
    "\n",
    "for nn, alert_dir in enumerate(alert_dirs[0:10]):\n",
    "    url = \"http://www.massey.ac.nz/~iabond/moa/alert2022/\" + alert_dir\n",
    "    response = urlopen(url)\n",
    "    html = response.read()\n",
    "    response.close()\n",
    "    soup = BeautifulSoup(html,\"html.parser\")\n",
    "\n",
    "    # Get the magnitude and flux offsets.\n",
    "    foo = soup.find('b').next_sibling\n",
    "    moff = foo.split('=')[1].split('-')[0].strip(' ')\n",
    "    bah = soup.find('sub').next_sibling\n",
    "    foff = bah.split('+')[1].split(')')[0].strip(' ')\n",
    "\n",
    "    # Now convert these into floats\n",
    "    m = ne.evaluate(moff)\n",
    "    f = ne.evaluate(foff)\n",
    "\n",
    "    # Now scrape the .dat file into a pandas dataframe.\n",
    "    url = \"https://www.massey.ac.nz/~iabond/moa/alert2022/fetchtxt.php?path=moa/ephot/phot-\" + \\\n",
    "            alert_dir.strip('display.php?id=') + \".dat\"\n",
    "    bytes_data = requests.get(url).content\n",
    "    df = pd.read_csv(BytesIO(bytes_data), \n",
    "                     delim_whitespace=True, skiprows=11, skipfooter=1, header=None, engine='python', \n",
    "                     names=['hjd', 'delta_flux', 'flux_err', 'foo1', 'foo2', 'foo3', 'foo4', 'foo5'])\n",
    "\n",
    "    df['mag'] = m - 2.5*np.log10(df['delta_flux'] + f)\n",
    "    df['mag_err'] = 1.09 * df['flux_err']/(df['delta_flux'] + f)\n",
    "    df['alert_name'] = 'MB22' + str(nn + 1).zfill(3)  # need to make sure this always works.\n",
    "\n",
    "    df.dropna(axis='index', how='any', inplace=True)\n",
    "\n",
    "    cols = ['hjd', 'mag', 'mag_err', 'alert_name']\n",
    "    df[cols].to_sql(con=engine, schema=None, name=\"moa\", if_exists=\"append\", index=False)\n",
    "    counter += 1\n",
    "t1 = time.time()\n",
    "\n",
    "print('Time to write table: {0:.0f} sec for {1} alerts'.format(t1 - t0, counter))"
   ]
  },
  {
   "cell_type": "markdown",
   "id": "5c328ce0",
   "metadata": {},
   "source": [
    "# OGLE"
   ]
  },
  {
   "cell_type": "code",
   "execution_count": 100,
   "id": "86cda875",
   "metadata": {},
   "outputs": [
    {
     "name": "stdout",
     "output_type": "stream",
     "text": [
      "Time to write table: 14 sec for 9 alerts\n"
     ]
    }
   ],
   "source": [
    "ftp = ftplib.FTP(\"ftp.astrouw.edu.pl\")\n",
    "ftp.login()\n",
    "ftp.cwd(\"ogle/ogle4/ews/2019/\")\n",
    "\n",
    "counter = 0\n",
    "\n",
    "t0 = time.time()\n",
    "\n",
    "for nn in np.arange(start=1, stop=10, step=1):\n",
    "    ftp.cwd(\"blg-\" + str(nn).zfill(4))\n",
    "    \n",
    "    flo = BytesIO()\n",
    "    ftp.retrbinary('RETR phot.dat', flo.write)\n",
    "    flo.seek(0)\n",
    "    df = pd.read_fwf(flo, header=0, names=['hjd', 'mag', 'mag_err', 'see', 'sky'])\n",
    "    \n",
    "    df['alert_name'] = 'OB19' + str(nn + 1).zfill(4) \n",
    "\n",
    "    cols = ['hjd', 'mag', 'mag_err', 'alert_name']\n",
    "    df[cols].to_sql(con=engine, schema=None, name=\"ogle\", if_exists=\"append\", index=False)\n",
    "    \n",
    "    ftp.cwd(\"../\")\n",
    "    \n",
    "    counter += 1\n",
    "t1 = time.time()\n",
    "\n",
    "print('Time to write table: {0:.0f} sec for {1} alerts'.format(t1 - t0, counter))"
   ]
  },
  {
   "cell_type": "markdown",
   "id": "34ef9e8e",
   "metadata": {},
   "source": [
    "# KMTNet"
   ]
  },
  {
   "cell_type": "code",
   "execution_count": 10,
   "id": "9192a462",
   "metadata": {},
   "outputs": [
    {
     "ename": "KeyboardInterrupt",
     "evalue": "",
     "output_type": "error",
     "traceback": [
      "\u001b[0;31m---------------------------------------------------------------------------\u001b[0m",
      "\u001b[0;31mKeyboardInterrupt\u001b[0m                         Traceback (most recent call last)",
      "\u001b[0;32m<ipython-input-10-d6a3fe96a10a>\u001b[0m in \u001b[0;36m<module>\u001b[0;34m\u001b[0m\n\u001b[1;32m      6\u001b[0m     \u001b[0;31m# For KMTNet, get data from all the telescopes?\u001b[0m\u001b[0;34m\u001b[0m\u001b[0;34m\u001b[0m\u001b[0;34m\u001b[0m\u001b[0m\n\u001b[1;32m      7\u001b[0m     \u001b[0murl\u001b[0m \u001b[0;34m=\u001b[0m \u001b[0;34m\"https://kmtnet.kasi.re.kr/~ulens/event/2022/view.php?event=KMT-2022-BLG-\"\u001b[0m \u001b[0;34m+\u001b[0m \u001b[0mstr\u001b[0m\u001b[0;34m(\u001b[0m\u001b[0mnn\u001b[0m\u001b[0;34m)\u001b[0m\u001b[0;34m.\u001b[0m\u001b[0mzfill\u001b[0m\u001b[0;34m(\u001b[0m\u001b[0;36m4\u001b[0m\u001b[0;34m)\u001b[0m\u001b[0;34m\u001b[0m\u001b[0;34m\u001b[0m\u001b[0m\n\u001b[0;32m----> 8\u001b[0;31m     \u001b[0mresponse\u001b[0m \u001b[0;34m=\u001b[0m \u001b[0murlopen\u001b[0m\u001b[0;34m(\u001b[0m\u001b[0murl\u001b[0m\u001b[0;34m)\u001b[0m\u001b[0;34m\u001b[0m\u001b[0;34m\u001b[0m\u001b[0m\n\u001b[0m\u001b[1;32m      9\u001b[0m     \u001b[0mhtml\u001b[0m \u001b[0;34m=\u001b[0m \u001b[0mresponse\u001b[0m\u001b[0;34m.\u001b[0m\u001b[0mread\u001b[0m\u001b[0;34m(\u001b[0m\u001b[0;34m)\u001b[0m\u001b[0;34m\u001b[0m\u001b[0;34m\u001b[0m\u001b[0m\n\u001b[1;32m     10\u001b[0m     \u001b[0mresponse\u001b[0m\u001b[0;34m.\u001b[0m\u001b[0mclose\u001b[0m\u001b[0;34m(\u001b[0m\u001b[0;34m)\u001b[0m\u001b[0;34m\u001b[0m\u001b[0;34m\u001b[0m\u001b[0m\n",
      "\u001b[0;32m/opt/anaconda3/envs/astroconda/lib/python3.7/urllib/request.py\u001b[0m in \u001b[0;36murlopen\u001b[0;34m(url, data, timeout, cafile, capath, cadefault, context)\u001b[0m\n\u001b[1;32m    220\u001b[0m     \u001b[0;32melse\u001b[0m\u001b[0;34m:\u001b[0m\u001b[0;34m\u001b[0m\u001b[0;34m\u001b[0m\u001b[0m\n\u001b[1;32m    221\u001b[0m         \u001b[0mopener\u001b[0m \u001b[0;34m=\u001b[0m \u001b[0m_opener\u001b[0m\u001b[0;34m\u001b[0m\u001b[0;34m\u001b[0m\u001b[0m\n\u001b[0;32m--> 222\u001b[0;31m     \u001b[0;32mreturn\u001b[0m \u001b[0mopener\u001b[0m\u001b[0;34m.\u001b[0m\u001b[0mopen\u001b[0m\u001b[0;34m(\u001b[0m\u001b[0murl\u001b[0m\u001b[0;34m,\u001b[0m \u001b[0mdata\u001b[0m\u001b[0;34m,\u001b[0m \u001b[0mtimeout\u001b[0m\u001b[0;34m)\u001b[0m\u001b[0;34m\u001b[0m\u001b[0;34m\u001b[0m\u001b[0m\n\u001b[0m\u001b[1;32m    223\u001b[0m \u001b[0;34m\u001b[0m\u001b[0m\n\u001b[1;32m    224\u001b[0m \u001b[0;32mdef\u001b[0m \u001b[0minstall_opener\u001b[0m\u001b[0;34m(\u001b[0m\u001b[0mopener\u001b[0m\u001b[0;34m)\u001b[0m\u001b[0;34m:\u001b[0m\u001b[0;34m\u001b[0m\u001b[0;34m\u001b[0m\u001b[0m\n",
      "\u001b[0;32m/opt/anaconda3/envs/astroconda/lib/python3.7/urllib/request.py\u001b[0m in \u001b[0;36mopen\u001b[0;34m(self, fullurl, data, timeout)\u001b[0m\n\u001b[1;32m    523\u001b[0m             \u001b[0mreq\u001b[0m \u001b[0;34m=\u001b[0m \u001b[0mmeth\u001b[0m\u001b[0;34m(\u001b[0m\u001b[0mreq\u001b[0m\u001b[0;34m)\u001b[0m\u001b[0;34m\u001b[0m\u001b[0;34m\u001b[0m\u001b[0m\n\u001b[1;32m    524\u001b[0m \u001b[0;34m\u001b[0m\u001b[0m\n\u001b[0;32m--> 525\u001b[0;31m         \u001b[0mresponse\u001b[0m \u001b[0;34m=\u001b[0m \u001b[0mself\u001b[0m\u001b[0;34m.\u001b[0m\u001b[0m_open\u001b[0m\u001b[0;34m(\u001b[0m\u001b[0mreq\u001b[0m\u001b[0;34m,\u001b[0m \u001b[0mdata\u001b[0m\u001b[0;34m)\u001b[0m\u001b[0;34m\u001b[0m\u001b[0;34m\u001b[0m\u001b[0m\n\u001b[0m\u001b[1;32m    526\u001b[0m \u001b[0;34m\u001b[0m\u001b[0m\n\u001b[1;32m    527\u001b[0m         \u001b[0;31m# post-process response\u001b[0m\u001b[0;34m\u001b[0m\u001b[0;34m\u001b[0m\u001b[0;34m\u001b[0m\u001b[0m\n",
      "\u001b[0;32m/opt/anaconda3/envs/astroconda/lib/python3.7/urllib/request.py\u001b[0m in \u001b[0;36m_open\u001b[0;34m(self, req, data)\u001b[0m\n\u001b[1;32m    541\u001b[0m         \u001b[0mprotocol\u001b[0m \u001b[0;34m=\u001b[0m \u001b[0mreq\u001b[0m\u001b[0;34m.\u001b[0m\u001b[0mtype\u001b[0m\u001b[0;34m\u001b[0m\u001b[0;34m\u001b[0m\u001b[0m\n\u001b[1;32m    542\u001b[0m         result = self._call_chain(self.handle_open, protocol, protocol +\n\u001b[0;32m--> 543\u001b[0;31m                                   '_open', req)\n\u001b[0m\u001b[1;32m    544\u001b[0m         \u001b[0;32mif\u001b[0m \u001b[0mresult\u001b[0m\u001b[0;34m:\u001b[0m\u001b[0;34m\u001b[0m\u001b[0;34m\u001b[0m\u001b[0m\n\u001b[1;32m    545\u001b[0m             \u001b[0;32mreturn\u001b[0m \u001b[0mresult\u001b[0m\u001b[0;34m\u001b[0m\u001b[0;34m\u001b[0m\u001b[0m\n",
      "\u001b[0;32m/opt/anaconda3/envs/astroconda/lib/python3.7/urllib/request.py\u001b[0m in \u001b[0;36m_call_chain\u001b[0;34m(self, chain, kind, meth_name, *args)\u001b[0m\n\u001b[1;32m    501\u001b[0m         \u001b[0;32mfor\u001b[0m \u001b[0mhandler\u001b[0m \u001b[0;32min\u001b[0m \u001b[0mhandlers\u001b[0m\u001b[0;34m:\u001b[0m\u001b[0;34m\u001b[0m\u001b[0;34m\u001b[0m\u001b[0m\n\u001b[1;32m    502\u001b[0m             \u001b[0mfunc\u001b[0m \u001b[0;34m=\u001b[0m \u001b[0mgetattr\u001b[0m\u001b[0;34m(\u001b[0m\u001b[0mhandler\u001b[0m\u001b[0;34m,\u001b[0m \u001b[0mmeth_name\u001b[0m\u001b[0;34m)\u001b[0m\u001b[0;34m\u001b[0m\u001b[0;34m\u001b[0m\u001b[0m\n\u001b[0;32m--> 503\u001b[0;31m             \u001b[0mresult\u001b[0m \u001b[0;34m=\u001b[0m \u001b[0mfunc\u001b[0m\u001b[0;34m(\u001b[0m\u001b[0;34m*\u001b[0m\u001b[0margs\u001b[0m\u001b[0;34m)\u001b[0m\u001b[0;34m\u001b[0m\u001b[0;34m\u001b[0m\u001b[0m\n\u001b[0m\u001b[1;32m    504\u001b[0m             \u001b[0;32mif\u001b[0m \u001b[0mresult\u001b[0m \u001b[0;32mis\u001b[0m \u001b[0;32mnot\u001b[0m \u001b[0;32mNone\u001b[0m\u001b[0;34m:\u001b[0m\u001b[0;34m\u001b[0m\u001b[0;34m\u001b[0m\u001b[0m\n\u001b[1;32m    505\u001b[0m                 \u001b[0;32mreturn\u001b[0m \u001b[0mresult\u001b[0m\u001b[0;34m\u001b[0m\u001b[0;34m\u001b[0m\u001b[0m\n",
      "\u001b[0;32m/opt/anaconda3/envs/astroconda/lib/python3.7/urllib/request.py\u001b[0m in \u001b[0;36mhttps_open\u001b[0;34m(self, req)\u001b[0m\n\u001b[1;32m   1391\u001b[0m         \u001b[0;32mdef\u001b[0m \u001b[0mhttps_open\u001b[0m\u001b[0;34m(\u001b[0m\u001b[0mself\u001b[0m\u001b[0;34m,\u001b[0m \u001b[0mreq\u001b[0m\u001b[0;34m)\u001b[0m\u001b[0;34m:\u001b[0m\u001b[0;34m\u001b[0m\u001b[0;34m\u001b[0m\u001b[0m\n\u001b[1;32m   1392\u001b[0m             return self.do_open(http.client.HTTPSConnection, req,\n\u001b[0;32m-> 1393\u001b[0;31m                 context=self._context, check_hostname=self._check_hostname)\n\u001b[0m\u001b[1;32m   1394\u001b[0m \u001b[0;34m\u001b[0m\u001b[0m\n\u001b[1;32m   1395\u001b[0m         \u001b[0mhttps_request\u001b[0m \u001b[0;34m=\u001b[0m \u001b[0mAbstractHTTPHandler\u001b[0m\u001b[0;34m.\u001b[0m\u001b[0mdo_request_\u001b[0m\u001b[0;34m\u001b[0m\u001b[0;34m\u001b[0m\u001b[0m\n",
      "\u001b[0;32m/opt/anaconda3/envs/astroconda/lib/python3.7/urllib/request.py\u001b[0m in \u001b[0;36mdo_open\u001b[0;34m(self, http_class, req, **http_conn_args)\u001b[0m\n\u001b[1;32m   1348\u001b[0m             \u001b[0;32mtry\u001b[0m\u001b[0;34m:\u001b[0m\u001b[0;34m\u001b[0m\u001b[0;34m\u001b[0m\u001b[0m\n\u001b[1;32m   1349\u001b[0m                 h.request(req.get_method(), req.selector, req.data, headers,\n\u001b[0;32m-> 1350\u001b[0;31m                           encode_chunked=req.has_header('Transfer-encoding'))\n\u001b[0m\u001b[1;32m   1351\u001b[0m             \u001b[0;32mexcept\u001b[0m \u001b[0mOSError\u001b[0m \u001b[0;32mas\u001b[0m \u001b[0merr\u001b[0m\u001b[0;34m:\u001b[0m \u001b[0;31m# timeout error\u001b[0m\u001b[0;34m\u001b[0m\u001b[0;34m\u001b[0m\u001b[0m\n\u001b[1;32m   1352\u001b[0m                 \u001b[0;32mraise\u001b[0m \u001b[0mURLError\u001b[0m\u001b[0;34m(\u001b[0m\u001b[0merr\u001b[0m\u001b[0;34m)\u001b[0m\u001b[0;34m\u001b[0m\u001b[0;34m\u001b[0m\u001b[0m\n",
      "\u001b[0;32m/opt/anaconda3/envs/astroconda/lib/python3.7/http/client.py\u001b[0m in \u001b[0;36mrequest\u001b[0;34m(self, method, url, body, headers, encode_chunked)\u001b[0m\n\u001b[1;32m   1275\u001b[0m                 encode_chunked=False):\n\u001b[1;32m   1276\u001b[0m         \u001b[0;34m\"\"\"Send a complete request to the server.\"\"\"\u001b[0m\u001b[0;34m\u001b[0m\u001b[0;34m\u001b[0m\u001b[0m\n\u001b[0;32m-> 1277\u001b[0;31m         \u001b[0mself\u001b[0m\u001b[0;34m.\u001b[0m\u001b[0m_send_request\u001b[0m\u001b[0;34m(\u001b[0m\u001b[0mmethod\u001b[0m\u001b[0;34m,\u001b[0m \u001b[0murl\u001b[0m\u001b[0;34m,\u001b[0m \u001b[0mbody\u001b[0m\u001b[0;34m,\u001b[0m \u001b[0mheaders\u001b[0m\u001b[0;34m,\u001b[0m \u001b[0mencode_chunked\u001b[0m\u001b[0;34m)\u001b[0m\u001b[0;34m\u001b[0m\u001b[0;34m\u001b[0m\u001b[0m\n\u001b[0m\u001b[1;32m   1278\u001b[0m \u001b[0;34m\u001b[0m\u001b[0m\n\u001b[1;32m   1279\u001b[0m     \u001b[0;32mdef\u001b[0m \u001b[0m_send_request\u001b[0m\u001b[0;34m(\u001b[0m\u001b[0mself\u001b[0m\u001b[0;34m,\u001b[0m \u001b[0mmethod\u001b[0m\u001b[0;34m,\u001b[0m \u001b[0murl\u001b[0m\u001b[0;34m,\u001b[0m \u001b[0mbody\u001b[0m\u001b[0;34m,\u001b[0m \u001b[0mheaders\u001b[0m\u001b[0;34m,\u001b[0m \u001b[0mencode_chunked\u001b[0m\u001b[0;34m)\u001b[0m\u001b[0;34m:\u001b[0m\u001b[0;34m\u001b[0m\u001b[0;34m\u001b[0m\u001b[0m\n",
      "\u001b[0;32m/opt/anaconda3/envs/astroconda/lib/python3.7/http/client.py\u001b[0m in \u001b[0;36m_send_request\u001b[0;34m(self, method, url, body, headers, encode_chunked)\u001b[0m\n\u001b[1;32m   1321\u001b[0m             \u001b[0;31m# default charset of iso-8859-1.\u001b[0m\u001b[0;34m\u001b[0m\u001b[0;34m\u001b[0m\u001b[0;34m\u001b[0m\u001b[0m\n\u001b[1;32m   1322\u001b[0m             \u001b[0mbody\u001b[0m \u001b[0;34m=\u001b[0m \u001b[0m_encode\u001b[0m\u001b[0;34m(\u001b[0m\u001b[0mbody\u001b[0m\u001b[0;34m,\u001b[0m \u001b[0;34m'body'\u001b[0m\u001b[0;34m)\u001b[0m\u001b[0;34m\u001b[0m\u001b[0;34m\u001b[0m\u001b[0m\n\u001b[0;32m-> 1323\u001b[0;31m         \u001b[0mself\u001b[0m\u001b[0;34m.\u001b[0m\u001b[0mendheaders\u001b[0m\u001b[0;34m(\u001b[0m\u001b[0mbody\u001b[0m\u001b[0;34m,\u001b[0m \u001b[0mencode_chunked\u001b[0m\u001b[0;34m=\u001b[0m\u001b[0mencode_chunked\u001b[0m\u001b[0;34m)\u001b[0m\u001b[0;34m\u001b[0m\u001b[0;34m\u001b[0m\u001b[0m\n\u001b[0m\u001b[1;32m   1324\u001b[0m \u001b[0;34m\u001b[0m\u001b[0m\n\u001b[1;32m   1325\u001b[0m     \u001b[0;32mdef\u001b[0m \u001b[0mgetresponse\u001b[0m\u001b[0;34m(\u001b[0m\u001b[0mself\u001b[0m\u001b[0;34m)\u001b[0m\u001b[0;34m:\u001b[0m\u001b[0;34m\u001b[0m\u001b[0;34m\u001b[0m\u001b[0m\n",
      "\u001b[0;32m/opt/anaconda3/envs/astroconda/lib/python3.7/http/client.py\u001b[0m in \u001b[0;36mendheaders\u001b[0;34m(self, message_body, encode_chunked)\u001b[0m\n\u001b[1;32m   1270\u001b[0m         \u001b[0;32melse\u001b[0m\u001b[0;34m:\u001b[0m\u001b[0;34m\u001b[0m\u001b[0;34m\u001b[0m\u001b[0m\n\u001b[1;32m   1271\u001b[0m             \u001b[0;32mraise\u001b[0m \u001b[0mCannotSendHeader\u001b[0m\u001b[0;34m(\u001b[0m\u001b[0;34m)\u001b[0m\u001b[0;34m\u001b[0m\u001b[0;34m\u001b[0m\u001b[0m\n\u001b[0;32m-> 1272\u001b[0;31m         \u001b[0mself\u001b[0m\u001b[0;34m.\u001b[0m\u001b[0m_send_output\u001b[0m\u001b[0;34m(\u001b[0m\u001b[0mmessage_body\u001b[0m\u001b[0;34m,\u001b[0m \u001b[0mencode_chunked\u001b[0m\u001b[0;34m=\u001b[0m\u001b[0mencode_chunked\u001b[0m\u001b[0;34m)\u001b[0m\u001b[0;34m\u001b[0m\u001b[0;34m\u001b[0m\u001b[0m\n\u001b[0m\u001b[1;32m   1273\u001b[0m \u001b[0;34m\u001b[0m\u001b[0m\n\u001b[1;32m   1274\u001b[0m     def request(self, method, url, body=None, headers={}, *,\n",
      "\u001b[0;32m/opt/anaconda3/envs/astroconda/lib/python3.7/http/client.py\u001b[0m in \u001b[0;36m_send_output\u001b[0;34m(self, message_body, encode_chunked)\u001b[0m\n\u001b[1;32m   1030\u001b[0m         \u001b[0mmsg\u001b[0m \u001b[0;34m=\u001b[0m \u001b[0;34mb\"\\r\\n\"\u001b[0m\u001b[0;34m.\u001b[0m\u001b[0mjoin\u001b[0m\u001b[0;34m(\u001b[0m\u001b[0mself\u001b[0m\u001b[0;34m.\u001b[0m\u001b[0m_buffer\u001b[0m\u001b[0;34m)\u001b[0m\u001b[0;34m\u001b[0m\u001b[0;34m\u001b[0m\u001b[0m\n\u001b[1;32m   1031\u001b[0m         \u001b[0;32mdel\u001b[0m \u001b[0mself\u001b[0m\u001b[0;34m.\u001b[0m\u001b[0m_buffer\u001b[0m\u001b[0;34m[\u001b[0m\u001b[0;34m:\u001b[0m\u001b[0;34m]\u001b[0m\u001b[0;34m\u001b[0m\u001b[0;34m\u001b[0m\u001b[0m\n\u001b[0;32m-> 1032\u001b[0;31m         \u001b[0mself\u001b[0m\u001b[0;34m.\u001b[0m\u001b[0msend\u001b[0m\u001b[0;34m(\u001b[0m\u001b[0mmsg\u001b[0m\u001b[0;34m)\u001b[0m\u001b[0;34m\u001b[0m\u001b[0;34m\u001b[0m\u001b[0m\n\u001b[0m\u001b[1;32m   1033\u001b[0m \u001b[0;34m\u001b[0m\u001b[0m\n\u001b[1;32m   1034\u001b[0m         \u001b[0;32mif\u001b[0m \u001b[0mmessage_body\u001b[0m \u001b[0;32mis\u001b[0m \u001b[0;32mnot\u001b[0m \u001b[0;32mNone\u001b[0m\u001b[0;34m:\u001b[0m\u001b[0;34m\u001b[0m\u001b[0;34m\u001b[0m\u001b[0m\n",
      "\u001b[0;32m/opt/anaconda3/envs/astroconda/lib/python3.7/http/client.py\u001b[0m in \u001b[0;36msend\u001b[0;34m(self, data)\u001b[0m\n\u001b[1;32m    970\u001b[0m         \u001b[0;32mif\u001b[0m \u001b[0mself\u001b[0m\u001b[0;34m.\u001b[0m\u001b[0msock\u001b[0m \u001b[0;32mis\u001b[0m \u001b[0;32mNone\u001b[0m\u001b[0;34m:\u001b[0m\u001b[0;34m\u001b[0m\u001b[0;34m\u001b[0m\u001b[0m\n\u001b[1;32m    971\u001b[0m             \u001b[0;32mif\u001b[0m \u001b[0mself\u001b[0m\u001b[0;34m.\u001b[0m\u001b[0mauto_open\u001b[0m\u001b[0;34m:\u001b[0m\u001b[0;34m\u001b[0m\u001b[0;34m\u001b[0m\u001b[0m\n\u001b[0;32m--> 972\u001b[0;31m                 \u001b[0mself\u001b[0m\u001b[0;34m.\u001b[0m\u001b[0mconnect\u001b[0m\u001b[0;34m(\u001b[0m\u001b[0;34m)\u001b[0m\u001b[0;34m\u001b[0m\u001b[0;34m\u001b[0m\u001b[0m\n\u001b[0m\u001b[1;32m    973\u001b[0m             \u001b[0;32melse\u001b[0m\u001b[0;34m:\u001b[0m\u001b[0;34m\u001b[0m\u001b[0;34m\u001b[0m\u001b[0m\n\u001b[1;32m    974\u001b[0m                 \u001b[0;32mraise\u001b[0m \u001b[0mNotConnected\u001b[0m\u001b[0;34m(\u001b[0m\u001b[0;34m)\u001b[0m\u001b[0;34m\u001b[0m\u001b[0;34m\u001b[0m\u001b[0m\n",
      "\u001b[0;32m/opt/anaconda3/envs/astroconda/lib/python3.7/http/client.py\u001b[0m in \u001b[0;36mconnect\u001b[0;34m(self)\u001b[0m\n\u001b[1;32m   1445\u001b[0m \u001b[0;34m\u001b[0m\u001b[0m\n\u001b[1;32m   1446\u001b[0m             self.sock = self._context.wrap_socket(self.sock,\n\u001b[0;32m-> 1447\u001b[0;31m                                                   server_hostname=server_hostname)\n\u001b[0m\u001b[1;32m   1448\u001b[0m \u001b[0;34m\u001b[0m\u001b[0m\n\u001b[1;32m   1449\u001b[0m     \u001b[0m__all__\u001b[0m\u001b[0;34m.\u001b[0m\u001b[0mappend\u001b[0m\u001b[0;34m(\u001b[0m\u001b[0;34m\"HTTPSConnection\"\u001b[0m\u001b[0;34m)\u001b[0m\u001b[0;34m\u001b[0m\u001b[0;34m\u001b[0m\u001b[0m\n",
      "\u001b[0;32m/opt/anaconda3/envs/astroconda/lib/python3.7/ssl.py\u001b[0m in \u001b[0;36mwrap_socket\u001b[0;34m(self, sock, server_side, do_handshake_on_connect, suppress_ragged_eofs, server_hostname, session)\u001b[0m\n\u001b[1;32m    421\u001b[0m             \u001b[0mserver_hostname\u001b[0m\u001b[0;34m=\u001b[0m\u001b[0mserver_hostname\u001b[0m\u001b[0;34m,\u001b[0m\u001b[0;34m\u001b[0m\u001b[0;34m\u001b[0m\u001b[0m\n\u001b[1;32m    422\u001b[0m             \u001b[0mcontext\u001b[0m\u001b[0;34m=\u001b[0m\u001b[0mself\u001b[0m\u001b[0;34m,\u001b[0m\u001b[0;34m\u001b[0m\u001b[0;34m\u001b[0m\u001b[0m\n\u001b[0;32m--> 423\u001b[0;31m             \u001b[0msession\u001b[0m\u001b[0;34m=\u001b[0m\u001b[0msession\u001b[0m\u001b[0;34m\u001b[0m\u001b[0;34m\u001b[0m\u001b[0m\n\u001b[0m\u001b[1;32m    424\u001b[0m         )\n\u001b[1;32m    425\u001b[0m \u001b[0;34m\u001b[0m\u001b[0m\n",
      "\u001b[0;32m/opt/anaconda3/envs/astroconda/lib/python3.7/ssl.py\u001b[0m in \u001b[0;36m_create\u001b[0;34m(cls, sock, server_side, do_handshake_on_connect, suppress_ragged_eofs, server_hostname, context, session)\u001b[0m\n\u001b[1;32m    868\u001b[0m                         \u001b[0;31m# non-blocking\u001b[0m\u001b[0;34m\u001b[0m\u001b[0;34m\u001b[0m\u001b[0;34m\u001b[0m\u001b[0m\n\u001b[1;32m    869\u001b[0m                         \u001b[0;32mraise\u001b[0m \u001b[0mValueError\u001b[0m\u001b[0;34m(\u001b[0m\u001b[0;34m\"do_handshake_on_connect should not be specified for non-blocking sockets\"\u001b[0m\u001b[0;34m)\u001b[0m\u001b[0;34m\u001b[0m\u001b[0;34m\u001b[0m\u001b[0m\n\u001b[0;32m--> 870\u001b[0;31m                     \u001b[0mself\u001b[0m\u001b[0;34m.\u001b[0m\u001b[0mdo_handshake\u001b[0m\u001b[0;34m(\u001b[0m\u001b[0;34m)\u001b[0m\u001b[0;34m\u001b[0m\u001b[0;34m\u001b[0m\u001b[0m\n\u001b[0m\u001b[1;32m    871\u001b[0m             \u001b[0;32mexcept\u001b[0m \u001b[0;34m(\u001b[0m\u001b[0mOSError\u001b[0m\u001b[0;34m,\u001b[0m \u001b[0mValueError\u001b[0m\u001b[0;34m)\u001b[0m\u001b[0;34m:\u001b[0m\u001b[0;34m\u001b[0m\u001b[0;34m\u001b[0m\u001b[0m\n\u001b[1;32m    872\u001b[0m                 \u001b[0mself\u001b[0m\u001b[0;34m.\u001b[0m\u001b[0mclose\u001b[0m\u001b[0;34m(\u001b[0m\u001b[0;34m)\u001b[0m\u001b[0;34m\u001b[0m\u001b[0;34m\u001b[0m\u001b[0m\n",
      "\u001b[0;32m/opt/anaconda3/envs/astroconda/lib/python3.7/ssl.py\u001b[0m in \u001b[0;36mdo_handshake\u001b[0;34m(self, block)\u001b[0m\n\u001b[1;32m   1137\u001b[0m             \u001b[0;32mif\u001b[0m \u001b[0mtimeout\u001b[0m \u001b[0;34m==\u001b[0m \u001b[0;36m0.0\u001b[0m \u001b[0;32mand\u001b[0m \u001b[0mblock\u001b[0m\u001b[0;34m:\u001b[0m\u001b[0;34m\u001b[0m\u001b[0;34m\u001b[0m\u001b[0m\n\u001b[1;32m   1138\u001b[0m                 \u001b[0mself\u001b[0m\u001b[0;34m.\u001b[0m\u001b[0msettimeout\u001b[0m\u001b[0;34m(\u001b[0m\u001b[0;32mNone\u001b[0m\u001b[0;34m)\u001b[0m\u001b[0;34m\u001b[0m\u001b[0;34m\u001b[0m\u001b[0m\n\u001b[0;32m-> 1139\u001b[0;31m             \u001b[0mself\u001b[0m\u001b[0;34m.\u001b[0m\u001b[0m_sslobj\u001b[0m\u001b[0;34m.\u001b[0m\u001b[0mdo_handshake\u001b[0m\u001b[0;34m(\u001b[0m\u001b[0;34m)\u001b[0m\u001b[0;34m\u001b[0m\u001b[0;34m\u001b[0m\u001b[0m\n\u001b[0m\u001b[1;32m   1140\u001b[0m         \u001b[0;32mfinally\u001b[0m\u001b[0;34m:\u001b[0m\u001b[0;34m\u001b[0m\u001b[0;34m\u001b[0m\u001b[0m\n\u001b[1;32m   1141\u001b[0m             \u001b[0mself\u001b[0m\u001b[0;34m.\u001b[0m\u001b[0msettimeout\u001b[0m\u001b[0;34m(\u001b[0m\u001b[0mtimeout\u001b[0m\u001b[0;34m)\u001b[0m\u001b[0;34m\u001b[0m\u001b[0;34m\u001b[0m\u001b[0m\n",
      "\u001b[0;31mKeyboardInterrupt\u001b[0m: "
     ]
    }
   ],
   "source": [
    "counter = 0\n",
    "\n",
    "t0 = time.time()\n",
    "\n",
    "for nn in np.arange(start=1, stop=11, step=1):\n",
    "    # For KMTNet, get data from all the telescopes?\n",
    "    url = \"https://kmtnet.kasi.re.kr/~ulens/event/2022/view.php?event=KMT-2022-BLG-\" + str(nn).zfill(4)\n",
    "    response = urlopen(url)\n",
    "    html = response.read()\n",
    "    response.close()\n",
    "    soup = BeautifulSoup(html,\"html.parser\")\n",
    "    \n",
    "    links = soup.find_all('a', href=True)\n",
    "\n",
    "    # Only keep I-band lightcurves. \n",
    "    pysis_names = links[3].get_text(separator=',').split(',')[:-2]\n",
    "    \n",
    "    for pysis_name in pysis_names:\n",
    "        url = \"https://kmtnet.kasi.re.kr/~ulens/event/2022/data/KB22\" + str(nn).zfill(4) + \"/pysis/\" + pysis_name\n",
    "        bytes_data = requests.get(url).content\n",
    "        try:\n",
    "            df = pd.read_csv(BytesIO(bytes_data), \n",
    "                             delim_whitespace=True, skiprows=1, header=None, \n",
    "                             names=['hjd', 'Delta_flux', 'flux_err', 'mag', 'mag_err', 'fwhm', 'sky', 'secz'])\n",
    "\n",
    "            df['alert_name'] = 'KB22' + str(nn + 1).zfill(4) \n",
    "            df['lightcurve'] = pysis_name\n",
    "\n",
    "            cols = ['hjd', 'mag', 'mag_err', 'lightcurve', 'alert_name']\n",
    "            df[cols].to_sql(con=engine, schema=None, name=\"kmtnet\", if_exists=\"append\", index=False)\n",
    "            counter += 1\n",
    "        except:\n",
    "            print('This doesn\\'t exist, skipping.'.format(nn))\n",
    "            continue\n",
    "t1 = time.time()\n",
    "\n",
    "print('Time to write table: {0:.0f} sec for {1} files ({2} alerts)'.format(t1 - t0, counter, nn))"
   ]
  },
  {
   "cell_type": "code",
   "execution_count": 11,
   "id": "c9e2a14c",
   "metadata": {},
   "outputs": [
    {
     "ename": "KeyboardInterrupt",
     "evalue": "",
     "output_type": "error",
     "traceback": [
      "\u001b[0;31m---------------------------------------------------------------------------\u001b[0m",
      "\u001b[0;31mKeyboardInterrupt\u001b[0m                         Traceback (most recent call last)",
      "\u001b[0;32m<ipython-input-11-a074fa9b2154>\u001b[0m in \u001b[0;36m<module>\u001b[0;34m\u001b[0m\n\u001b[1;32m     21\u001b[0m         \u001b[0;32mif\u001b[0m \u001b[0;34m'_I.pysis'\u001b[0m \u001b[0;32min\u001b[0m \u001b[0mpysis_name\u001b[0m\u001b[0;34m:\u001b[0m\u001b[0;34m\u001b[0m\u001b[0;34m\u001b[0m\u001b[0m\n\u001b[1;32m     22\u001b[0m             \u001b[0murl\u001b[0m \u001b[0;34m=\u001b[0m \u001b[0;34m\"https://kmtnet.kasi.re.kr/~ulens/event/2022/data/KB22\"\u001b[0m \u001b[0;34m+\u001b[0m \u001b[0mstr\u001b[0m\u001b[0;34m(\u001b[0m\u001b[0mnn\u001b[0m\u001b[0;34m+\u001b[0m\u001b[0;36m1\u001b[0m\u001b[0;34m)\u001b[0m\u001b[0;34m.\u001b[0m\u001b[0mzfill\u001b[0m\u001b[0;34m(\u001b[0m\u001b[0;36m4\u001b[0m\u001b[0;34m)\u001b[0m \u001b[0;34m+\u001b[0m \u001b[0;34m\"/pysis/\"\u001b[0m \u001b[0;34m+\u001b[0m \u001b[0mpysis_name\u001b[0m\u001b[0;34m\u001b[0m\u001b[0;34m\u001b[0m\u001b[0m\n\u001b[0;32m---> 23\u001b[0;31m             \u001b[0mbytes_data\u001b[0m \u001b[0;34m=\u001b[0m \u001b[0mrequests\u001b[0m\u001b[0;34m.\u001b[0m\u001b[0mget\u001b[0m\u001b[0;34m(\u001b[0m\u001b[0murl\u001b[0m\u001b[0;34m)\u001b[0m\u001b[0;34m.\u001b[0m\u001b[0mcontent\u001b[0m\u001b[0;34m\u001b[0m\u001b[0;34m\u001b[0m\u001b[0m\n\u001b[0m\u001b[1;32m     24\u001b[0m             \u001b[0;32mtry\u001b[0m\u001b[0;34m:\u001b[0m\u001b[0;34m\u001b[0m\u001b[0;34m\u001b[0m\u001b[0m\n\u001b[1;32m     25\u001b[0m                 df = pd.read_csv(BytesIO(bytes_data), \n",
      "\u001b[0;32m/opt/anaconda3/envs/astroconda/lib/python3.7/site-packages/requests/api.py\u001b[0m in \u001b[0;36mget\u001b[0;34m(url, params, **kwargs)\u001b[0m\n\u001b[1;32m     74\u001b[0m \u001b[0;34m\u001b[0m\u001b[0m\n\u001b[1;32m     75\u001b[0m     \u001b[0mkwargs\u001b[0m\u001b[0;34m.\u001b[0m\u001b[0msetdefault\u001b[0m\u001b[0;34m(\u001b[0m\u001b[0;34m'allow_redirects'\u001b[0m\u001b[0;34m,\u001b[0m \u001b[0;32mTrue\u001b[0m\u001b[0;34m)\u001b[0m\u001b[0;34m\u001b[0m\u001b[0;34m\u001b[0m\u001b[0m\n\u001b[0;32m---> 76\u001b[0;31m     \u001b[0;32mreturn\u001b[0m \u001b[0mrequest\u001b[0m\u001b[0;34m(\u001b[0m\u001b[0;34m'get'\u001b[0m\u001b[0;34m,\u001b[0m \u001b[0murl\u001b[0m\u001b[0;34m,\u001b[0m \u001b[0mparams\u001b[0m\u001b[0;34m=\u001b[0m\u001b[0mparams\u001b[0m\u001b[0;34m,\u001b[0m \u001b[0;34m**\u001b[0m\u001b[0mkwargs\u001b[0m\u001b[0;34m)\u001b[0m\u001b[0;34m\u001b[0m\u001b[0;34m\u001b[0m\u001b[0m\n\u001b[0m\u001b[1;32m     77\u001b[0m \u001b[0;34m\u001b[0m\u001b[0m\n\u001b[1;32m     78\u001b[0m \u001b[0;34m\u001b[0m\u001b[0m\n",
      "\u001b[0;32m/opt/anaconda3/envs/astroconda/lib/python3.7/site-packages/requests/api.py\u001b[0m in \u001b[0;36mrequest\u001b[0;34m(method, url, **kwargs)\u001b[0m\n\u001b[1;32m     59\u001b[0m     \u001b[0;31m# cases, and look like a memory leak in others.\u001b[0m\u001b[0;34m\u001b[0m\u001b[0;34m\u001b[0m\u001b[0;34m\u001b[0m\u001b[0m\n\u001b[1;32m     60\u001b[0m     \u001b[0;32mwith\u001b[0m \u001b[0msessions\u001b[0m\u001b[0;34m.\u001b[0m\u001b[0mSession\u001b[0m\u001b[0;34m(\u001b[0m\u001b[0;34m)\u001b[0m \u001b[0;32mas\u001b[0m \u001b[0msession\u001b[0m\u001b[0;34m:\u001b[0m\u001b[0;34m\u001b[0m\u001b[0;34m\u001b[0m\u001b[0m\n\u001b[0;32m---> 61\u001b[0;31m         \u001b[0;32mreturn\u001b[0m \u001b[0msession\u001b[0m\u001b[0;34m.\u001b[0m\u001b[0mrequest\u001b[0m\u001b[0;34m(\u001b[0m\u001b[0mmethod\u001b[0m\u001b[0;34m=\u001b[0m\u001b[0mmethod\u001b[0m\u001b[0;34m,\u001b[0m \u001b[0murl\u001b[0m\u001b[0;34m=\u001b[0m\u001b[0murl\u001b[0m\u001b[0;34m,\u001b[0m \u001b[0;34m**\u001b[0m\u001b[0mkwargs\u001b[0m\u001b[0;34m)\u001b[0m\u001b[0;34m\u001b[0m\u001b[0;34m\u001b[0m\u001b[0m\n\u001b[0m\u001b[1;32m     62\u001b[0m \u001b[0;34m\u001b[0m\u001b[0m\n\u001b[1;32m     63\u001b[0m \u001b[0;34m\u001b[0m\u001b[0m\n",
      "\u001b[0;32m/opt/anaconda3/envs/astroconda/lib/python3.7/site-packages/requests/sessions.py\u001b[0m in \u001b[0;36mrequest\u001b[0;34m(self, method, url, params, data, headers, cookies, files, auth, timeout, allow_redirects, proxies, hooks, stream, verify, cert, json)\u001b[0m\n\u001b[1;32m    540\u001b[0m         }\n\u001b[1;32m    541\u001b[0m         \u001b[0msend_kwargs\u001b[0m\u001b[0;34m.\u001b[0m\u001b[0mupdate\u001b[0m\u001b[0;34m(\u001b[0m\u001b[0msettings\u001b[0m\u001b[0;34m)\u001b[0m\u001b[0;34m\u001b[0m\u001b[0;34m\u001b[0m\u001b[0m\n\u001b[0;32m--> 542\u001b[0;31m         \u001b[0mresp\u001b[0m \u001b[0;34m=\u001b[0m \u001b[0mself\u001b[0m\u001b[0;34m.\u001b[0m\u001b[0msend\u001b[0m\u001b[0;34m(\u001b[0m\u001b[0mprep\u001b[0m\u001b[0;34m,\u001b[0m \u001b[0;34m**\u001b[0m\u001b[0msend_kwargs\u001b[0m\u001b[0;34m)\u001b[0m\u001b[0;34m\u001b[0m\u001b[0;34m\u001b[0m\u001b[0m\n\u001b[0m\u001b[1;32m    543\u001b[0m \u001b[0;34m\u001b[0m\u001b[0m\n\u001b[1;32m    544\u001b[0m         \u001b[0;32mreturn\u001b[0m \u001b[0mresp\u001b[0m\u001b[0;34m\u001b[0m\u001b[0;34m\u001b[0m\u001b[0m\n",
      "\u001b[0;32m/opt/anaconda3/envs/astroconda/lib/python3.7/site-packages/requests/sessions.py\u001b[0m in \u001b[0;36msend\u001b[0;34m(self, request, **kwargs)\u001b[0m\n\u001b[1;32m    653\u001b[0m \u001b[0;34m\u001b[0m\u001b[0m\n\u001b[1;32m    654\u001b[0m         \u001b[0;31m# Send the request\u001b[0m\u001b[0;34m\u001b[0m\u001b[0;34m\u001b[0m\u001b[0;34m\u001b[0m\u001b[0m\n\u001b[0;32m--> 655\u001b[0;31m         \u001b[0mr\u001b[0m \u001b[0;34m=\u001b[0m \u001b[0madapter\u001b[0m\u001b[0;34m.\u001b[0m\u001b[0msend\u001b[0m\u001b[0;34m(\u001b[0m\u001b[0mrequest\u001b[0m\u001b[0;34m,\u001b[0m \u001b[0;34m**\u001b[0m\u001b[0mkwargs\u001b[0m\u001b[0;34m)\u001b[0m\u001b[0;34m\u001b[0m\u001b[0;34m\u001b[0m\u001b[0m\n\u001b[0m\u001b[1;32m    656\u001b[0m \u001b[0;34m\u001b[0m\u001b[0m\n\u001b[1;32m    657\u001b[0m         \u001b[0;31m# Total elapsed time of the request (approximately)\u001b[0m\u001b[0;34m\u001b[0m\u001b[0;34m\u001b[0m\u001b[0;34m\u001b[0m\u001b[0m\n",
      "\u001b[0;32m/opt/anaconda3/envs/astroconda/lib/python3.7/site-packages/requests/adapters.py\u001b[0m in \u001b[0;36msend\u001b[0;34m(self, request, stream, timeout, verify, cert, proxies)\u001b[0m\n\u001b[1;32m    447\u001b[0m                     \u001b[0mdecode_content\u001b[0m\u001b[0;34m=\u001b[0m\u001b[0;32mFalse\u001b[0m\u001b[0;34m,\u001b[0m\u001b[0;34m\u001b[0m\u001b[0;34m\u001b[0m\u001b[0m\n\u001b[1;32m    448\u001b[0m                     \u001b[0mretries\u001b[0m\u001b[0;34m=\u001b[0m\u001b[0mself\u001b[0m\u001b[0;34m.\u001b[0m\u001b[0mmax_retries\u001b[0m\u001b[0;34m,\u001b[0m\u001b[0;34m\u001b[0m\u001b[0;34m\u001b[0m\u001b[0m\n\u001b[0;32m--> 449\u001b[0;31m                     \u001b[0mtimeout\u001b[0m\u001b[0;34m=\u001b[0m\u001b[0mtimeout\u001b[0m\u001b[0;34m\u001b[0m\u001b[0;34m\u001b[0m\u001b[0m\n\u001b[0m\u001b[1;32m    450\u001b[0m                 )\n\u001b[1;32m    451\u001b[0m \u001b[0;34m\u001b[0m\u001b[0m\n",
      "\u001b[0;32m/opt/anaconda3/envs/astroconda/lib/python3.7/site-packages/urllib3/connectionpool.py\u001b[0m in \u001b[0;36murlopen\u001b[0;34m(self, method, url, body, headers, retries, redirect, assert_same_host, timeout, pool_timeout, release_conn, chunked, body_pos, **response_kw)\u001b[0m\n\u001b[1;32m    704\u001b[0m                 \u001b[0mbody\u001b[0m\u001b[0;34m=\u001b[0m\u001b[0mbody\u001b[0m\u001b[0;34m,\u001b[0m\u001b[0;34m\u001b[0m\u001b[0;34m\u001b[0m\u001b[0m\n\u001b[1;32m    705\u001b[0m                 \u001b[0mheaders\u001b[0m\u001b[0;34m=\u001b[0m\u001b[0mheaders\u001b[0m\u001b[0;34m,\u001b[0m\u001b[0;34m\u001b[0m\u001b[0;34m\u001b[0m\u001b[0m\n\u001b[0;32m--> 706\u001b[0;31m                 \u001b[0mchunked\u001b[0m\u001b[0;34m=\u001b[0m\u001b[0mchunked\u001b[0m\u001b[0;34m,\u001b[0m\u001b[0;34m\u001b[0m\u001b[0;34m\u001b[0m\u001b[0m\n\u001b[0m\u001b[1;32m    707\u001b[0m             )\n\u001b[1;32m    708\u001b[0m \u001b[0;34m\u001b[0m\u001b[0m\n",
      "\u001b[0;32m/opt/anaconda3/envs/astroconda/lib/python3.7/site-packages/urllib3/connectionpool.py\u001b[0m in \u001b[0;36m_make_request\u001b[0;34m(self, conn, method, url, timeout, chunked, **httplib_request_kw)\u001b[0m\n\u001b[1;32m    380\u001b[0m         \u001b[0;31m# Trigger any extra validation we need to do.\u001b[0m\u001b[0;34m\u001b[0m\u001b[0;34m\u001b[0m\u001b[0;34m\u001b[0m\u001b[0m\n\u001b[1;32m    381\u001b[0m         \u001b[0;32mtry\u001b[0m\u001b[0;34m:\u001b[0m\u001b[0;34m\u001b[0m\u001b[0;34m\u001b[0m\u001b[0m\n\u001b[0;32m--> 382\u001b[0;31m             \u001b[0mself\u001b[0m\u001b[0;34m.\u001b[0m\u001b[0m_validate_conn\u001b[0m\u001b[0;34m(\u001b[0m\u001b[0mconn\u001b[0m\u001b[0;34m)\u001b[0m\u001b[0;34m\u001b[0m\u001b[0;34m\u001b[0m\u001b[0m\n\u001b[0m\u001b[1;32m    383\u001b[0m         \u001b[0;32mexcept\u001b[0m \u001b[0;34m(\u001b[0m\u001b[0mSocketTimeout\u001b[0m\u001b[0;34m,\u001b[0m \u001b[0mBaseSSLError\u001b[0m\u001b[0;34m)\u001b[0m \u001b[0;32mas\u001b[0m \u001b[0me\u001b[0m\u001b[0;34m:\u001b[0m\u001b[0;34m\u001b[0m\u001b[0;34m\u001b[0m\u001b[0m\n\u001b[1;32m    384\u001b[0m             \u001b[0;31m# Py2 raises this as a BaseSSLError, Py3 raises it as socket timeout.\u001b[0m\u001b[0;34m\u001b[0m\u001b[0;34m\u001b[0m\u001b[0;34m\u001b[0m\u001b[0m\n",
      "\u001b[0;32m/opt/anaconda3/envs/astroconda/lib/python3.7/site-packages/urllib3/connectionpool.py\u001b[0m in \u001b[0;36m_validate_conn\u001b[0;34m(self, conn)\u001b[0m\n\u001b[1;32m   1008\u001b[0m         \u001b[0;31m# Force connect early to allow us to validate the connection.\u001b[0m\u001b[0;34m\u001b[0m\u001b[0;34m\u001b[0m\u001b[0;34m\u001b[0m\u001b[0m\n\u001b[1;32m   1009\u001b[0m         \u001b[0;32mif\u001b[0m \u001b[0;32mnot\u001b[0m \u001b[0mgetattr\u001b[0m\u001b[0;34m(\u001b[0m\u001b[0mconn\u001b[0m\u001b[0;34m,\u001b[0m \u001b[0;34m\"sock\"\u001b[0m\u001b[0;34m,\u001b[0m \u001b[0;32mNone\u001b[0m\u001b[0;34m)\u001b[0m\u001b[0;34m:\u001b[0m  \u001b[0;31m# AppEngine might not have  `.sock`\u001b[0m\u001b[0;34m\u001b[0m\u001b[0;34m\u001b[0m\u001b[0m\n\u001b[0;32m-> 1010\u001b[0;31m             \u001b[0mconn\u001b[0m\u001b[0;34m.\u001b[0m\u001b[0mconnect\u001b[0m\u001b[0;34m(\u001b[0m\u001b[0;34m)\u001b[0m\u001b[0;34m\u001b[0m\u001b[0;34m\u001b[0m\u001b[0m\n\u001b[0m\u001b[1;32m   1011\u001b[0m \u001b[0;34m\u001b[0m\u001b[0m\n\u001b[1;32m   1012\u001b[0m         \u001b[0;32mif\u001b[0m \u001b[0;32mnot\u001b[0m \u001b[0mconn\u001b[0m\u001b[0;34m.\u001b[0m\u001b[0mis_verified\u001b[0m\u001b[0;34m:\u001b[0m\u001b[0;34m\u001b[0m\u001b[0;34m\u001b[0m\u001b[0m\n",
      "\u001b[0;32m/opt/anaconda3/envs/astroconda/lib/python3.7/site-packages/urllib3/connection.py\u001b[0m in \u001b[0;36mconnect\u001b[0;34m(self)\u001b[0m\n\u001b[1;32m    419\u001b[0m             \u001b[0mserver_hostname\u001b[0m\u001b[0;34m=\u001b[0m\u001b[0mserver_hostname\u001b[0m\u001b[0;34m,\u001b[0m\u001b[0;34m\u001b[0m\u001b[0;34m\u001b[0m\u001b[0m\n\u001b[1;32m    420\u001b[0m             \u001b[0mssl_context\u001b[0m\u001b[0;34m=\u001b[0m\u001b[0mcontext\u001b[0m\u001b[0;34m,\u001b[0m\u001b[0;34m\u001b[0m\u001b[0;34m\u001b[0m\u001b[0m\n\u001b[0;32m--> 421\u001b[0;31m             \u001b[0mtls_in_tls\u001b[0m\u001b[0;34m=\u001b[0m\u001b[0mtls_in_tls\u001b[0m\u001b[0;34m,\u001b[0m\u001b[0;34m\u001b[0m\u001b[0;34m\u001b[0m\u001b[0m\n\u001b[0m\u001b[1;32m    422\u001b[0m         )\n\u001b[1;32m    423\u001b[0m \u001b[0;34m\u001b[0m\u001b[0m\n",
      "\u001b[0;32m/opt/anaconda3/envs/astroconda/lib/python3.7/site-packages/urllib3/util/ssl_.py\u001b[0m in \u001b[0;36mssl_wrap_socket\u001b[0;34m(sock, keyfile, certfile, cert_reqs, ca_certs, server_hostname, ssl_version, ciphers, ssl_context, ca_cert_dir, key_password, ca_cert_data, tls_in_tls)\u001b[0m\n\u001b[1;32m    379\u001b[0m     \u001b[0;32mif\u001b[0m \u001b[0mca_certs\u001b[0m \u001b[0;32mor\u001b[0m \u001b[0mca_cert_dir\u001b[0m \u001b[0;32mor\u001b[0m \u001b[0mca_cert_data\u001b[0m\u001b[0;34m:\u001b[0m\u001b[0;34m\u001b[0m\u001b[0;34m\u001b[0m\u001b[0m\n\u001b[1;32m    380\u001b[0m         \u001b[0;32mtry\u001b[0m\u001b[0;34m:\u001b[0m\u001b[0;34m\u001b[0m\u001b[0;34m\u001b[0m\u001b[0m\n\u001b[0;32m--> 381\u001b[0;31m             \u001b[0mcontext\u001b[0m\u001b[0;34m.\u001b[0m\u001b[0mload_verify_locations\u001b[0m\u001b[0;34m(\u001b[0m\u001b[0mca_certs\u001b[0m\u001b[0;34m,\u001b[0m \u001b[0mca_cert_dir\u001b[0m\u001b[0;34m,\u001b[0m \u001b[0mca_cert_data\u001b[0m\u001b[0;34m)\u001b[0m\u001b[0;34m\u001b[0m\u001b[0;34m\u001b[0m\u001b[0m\n\u001b[0m\u001b[1;32m    382\u001b[0m         \u001b[0;32mexcept\u001b[0m \u001b[0;34m(\u001b[0m\u001b[0mIOError\u001b[0m\u001b[0;34m,\u001b[0m \u001b[0mOSError\u001b[0m\u001b[0;34m)\u001b[0m \u001b[0;32mas\u001b[0m \u001b[0me\u001b[0m\u001b[0;34m:\u001b[0m\u001b[0;34m\u001b[0m\u001b[0;34m\u001b[0m\u001b[0m\n\u001b[1;32m    383\u001b[0m             \u001b[0;32mraise\u001b[0m \u001b[0mSSLError\u001b[0m\u001b[0;34m(\u001b[0m\u001b[0me\u001b[0m\u001b[0;34m)\u001b[0m\u001b[0;34m\u001b[0m\u001b[0;34m\u001b[0m\u001b[0m\n",
      "\u001b[0;31mKeyboardInterrupt\u001b[0m: "
     ]
    }
   ],
   "source": [
    "counter = 0\n",
    "\n",
    "t0 = time.time()\n",
    "\n",
    "for nn in np.arange(start=1, stop=11, step=1):\n",
    "    # For KMTNet, get data from all the telescopes?\n",
    "    url = \"https://kmtnet.kasi.re.kr/~ulens/event/2022/view.php?event=KMT-2022-BLG-\" + str(nn).zfill(4)\n",
    "    response = urlopen(url)\n",
    "    html = response.read()\n",
    "    response.close()\n",
    "    soup = BeautifulSoup(html,\"html.parser\")\n",
    "    \n",
    "    links = soup.find_all('a', href=True)\n",
    "\n",
    "    # Only keep I-band lightcurves. \n",
    "    # FIXME: Could probably trim this further down by only taking the one with the most data?\n",
    "    # But not sure if checking is more expensive than just writing it.\n",
    "    pysis_names = links[3].get_text(separator=',').split(',')[:-2]\n",
    "    \n",
    "    for pysis_name in pysis_names:\n",
    "        if '_I.pysis' in pysis_name:\n",
    "            url = \"https://kmtnet.kasi.re.kr/~ulens/event/2022/data/KB22\" + str(nn+1).zfill(4) + \"/pysis/\" + pysis_name\n",
    "            bytes_data = requests.get(url).content\n",
    "            try:\n",
    "                df = pd.read_csv(BytesIO(bytes_data), \n",
    "                                 delim_whitespace=True, skiprows=1, header=None, \n",
    "                                 names=['hjd', 'Delta_flux', 'flux_err', 'mag', 'mag_err', 'fwhm', 'sky', 'secz'])\n",
    "\n",
    "                df['alert_name'] = 'KB22' + str(nn + 1).zfill(4) \n",
    "                df['lightcurve'] = pysis_name\n",
    "                \n",
    "                cols = ['hjd', 'mag', 'mag_err', 'lightcurve', 'alert_name']\n",
    "                df[cols].to_sql(con=engine, schema=None, name=\"kmtnet\", if_exists=\"append\", index=False)\n",
    "                counter += 1\n",
    "            except:\n",
    "                print('This doesn\\'t exist, skipping.'.format(nn))\n",
    "                continue\n",
    "t1 = time.time()\n",
    "\n",
    "print('Time to write table: {0:.0f} sec for {1} files ({2} alerts)'.format(t1 - t0, counter, nn))"
   ]
  },
  {
   "cell_type": "code",
   "execution_count": 102,
   "id": "8b0043a1",
   "metadata": {},
   "outputs": [],
   "source": [
    "# s = text('DROP TABLE kmtnet')\n",
    "# result = conn.execute(s)\n",
    "\n",
    "# s = text('DROP TABLE ogle')\n",
    "# result = conn.execute(s)\n",
    "\n",
    "# s = text('DROP TABLE moa')\n",
    "# result = conn.execute(s)"
   ]
  },
  {
   "cell_type": "code",
   "execution_count": null,
   "id": "39f4d4a0",
   "metadata": {},
   "outputs": [],
   "source": [
    "# First way to query the table.\n",
    "# result = engine.execute(\"SELECT HJD FROM kmtnet\").fetchall()\n",
    "\n",
    "# Second way to query the table.\n",
    "# s = text('SELECT * FROM kmtnet')\n",
    "# result = conn.execute(s)\n",
    "# result.fetchall()"
   ]
  },
  {
   "cell_type": "markdown",
   "id": "5799d25e",
   "metadata": {},
   "source": [
    "Next, we'll put the alerts into the database. \n",
    "\n",
    "Do we want to post all alert values, or just the subset I have here?"
   ]
  },
  {
   "cell_type": "markdown",
   "id": "f9b6e158",
   "metadata": {},
   "source": [
    "# MOA"
   ]
  },
  {
   "cell_type": "code",
   "execution_count": 37,
   "id": "fbbc8fb0",
   "metadata": {},
   "outputs": [
    {
     "data": {
      "text/plain": [
       "211"
      ]
     },
     "execution_count": 37,
     "metadata": {},
     "output_type": "execute_result"
    }
   ],
   "source": [
    "url = \"http://www.massey.ac.nz/~iabond/moa/alert2022/alert.php\"\n",
    "response = urlopen(url)\n",
    "html = response.read()\n",
    "response.close()\n",
    "soup = BeautifulSoup(html,\"html.parser\")\n",
    "\n",
    "# Grab columns for tE and Ibase.\n",
    "tE = soup.find_all('td')[4::8]\n",
    "Ibase = soup.find_all('td')[6::8]\n",
    "\n",
    "# Convert them from strings to floats.\n",
    "tE_list = [float(ne.evaluate(item.get_text())) for item in tE]\n",
    "Ibase_list = [float(ne.evaluate(item.get_text())) for item in Ibase]\n",
    "\n",
    "# Now, grab the classification column.\n",
    "cat = soup.find_all('td')[7::8]\n",
    "cat_list = [item.get_text() for item in cat]\n",
    "\n",
    "# Link to the alert page.\n",
    "alert_url = soup.find_all('td')[0::8]\n",
    "moa_alert_url = 'http://www.massey.ac.nz/~iabond/moa/alert2022/'\n",
    "alert_url_list = [moa_alert_url + item.find_all('a', href=True)[0]['href'] for item in alert_url]\n",
    "\n",
    "# Alert name\n",
    "nn = len(tE_list)\n",
    "alert_name = []\n",
    "for ii in np.arange(nn):\n",
    "    alert_name.append('MB22' + str(ii+1).zfill(3))\n",
    "\n",
    "# Put it all into a dataframe.\n",
    "df = pd.DataFrame(list(zip(alert_name, cat_list, tE_list, Ibase_list, alert_url_list)),\n",
    "                 columns =['alert_name', 'class', 'tE', 'Ibase', 'alert_url'])\n",
    "\n",
    "df.to_sql(con=engine, schema=None, name=\"moa_alerts\", if_exists=\"replace\", index=False)"
   ]
  },
  {
   "cell_type": "markdown",
   "id": "2b019189",
   "metadata": {},
   "source": [
    "# OGLE "
   ]
  },
  {
   "cell_type": "code",
   "execution_count": 52,
   "id": "1d6522a5",
   "metadata": {},
   "outputs": [
    {
     "data": {
      "text/plain": [
       "1526"
      ]
     },
     "execution_count": 52,
     "metadata": {},
     "output_type": "execute_result"
    }
   ],
   "source": [
    "def ogle_str_to_float(item):\n",
    "    try:\n",
    "        return float(ne.evaluate(item.contents[0].replace(u'\\n', '')))\n",
    "    except:\n",
    "        return\n",
    "    \n",
    "# Get alerts using beautiful soup.\n",
    "url = \"https://ogle.astrouw.edu.pl/ogle4/ews/2019/ews.html\"\n",
    "response = urlopen(url)\n",
    "html = response.read()\n",
    "response.close()\n",
    "soup = BeautifulSoup(html,\"html.parser\")\n",
    "\n",
    "# Grab columns for tE and Ibase.\n",
    "tE = soup.find_all('td')[8::15] \n",
    "Ibase = soup.find_all('td')[13::15]\n",
    "\n",
    "# Convert them from strings to floats.\n",
    "tE_list = [ogle_str_to_float(item) for item in tE]\n",
    "Ibase_list = [ogle_str_to_float(item) for item in Ibase]\n",
    "    \n",
    "# Alert name and page link.\n",
    "nn = len(tE_list)\n",
    "alert_name = []\n",
    "alert_url_list = []\n",
    "ogle_alert_url = 'https://ogle.astrouw.edu.pl/ogle4/ews/'\n",
    "\n",
    "for ii in np.arange(nn):\n",
    "    alert_name.append('OB19' + str(ii+1).zfill(4))\n",
    "    alert_url_list.append(ogle_alert_url + str(ii+1).zfill(4) + '.html')\n",
    "\n",
    "# Put it all into a dataframe.\n",
    "df = pd.DataFrame(list(zip(alert_name, tE_list, Ibase_list, alert_url_list)),\n",
    "                 columns =['alert_name', 'tE', 'Ibase', 'alert_url'])\n",
    "\n",
    "df.to_sql(con=engine, schema=None, name=\"ogle_alerts\", if_exists=\"replace\", index=False)"
   ]
  },
  {
   "cell_type": "markdown",
   "id": "cc2daee3",
   "metadata": {},
   "source": [
    "# KMTNet"
   ]
  },
  {
   "cell_type": "code",
   "execution_count": 20,
   "id": "2cd46c86",
   "metadata": {},
   "outputs": [
    {
     "ename": "IndexError",
     "evalue": "list index out of range",
     "output_type": "error",
     "traceback": [
      "\u001b[0;31m---------------------------------------------------------------------------\u001b[0m",
      "\u001b[0;31mIndexError\u001b[0m                                Traceback (most recent call last)",
      "\u001b[0;32m<ipython-input-20-ce2013813073>\u001b[0m in \u001b[0;36m<module>\u001b[0;34m\u001b[0m\n\u001b[1;32m     30\u001b[0m \u001b[0malert_url\u001b[0m \u001b[0;34m=\u001b[0m \u001b[0msoup\u001b[0m\u001b[0;34m.\u001b[0m\u001b[0mfind_all\u001b[0m\u001b[0;34m(\u001b[0m\u001b[0;34m'td'\u001b[0m\u001b[0;34m)\u001b[0m\u001b[0;34m[\u001b[0m\u001b[0;36m0\u001b[0m\u001b[0;34m:\u001b[0m\u001b[0;34m:\u001b[0m\u001b[0;36m15\u001b[0m\u001b[0;34m]\u001b[0m\u001b[0;34m[\u001b[0m\u001b[0;36m1\u001b[0m\u001b[0;34m:\u001b[0m\u001b[0;34m]\u001b[0m\u001b[0;34m\u001b[0m\u001b[0;34m\u001b[0m\u001b[0m\n\u001b[1;32m     31\u001b[0m \u001b[0mkmt_alert_url\u001b[0m \u001b[0;34m=\u001b[0m \u001b[0;34m'https://kmtnet.kasi.re.kr/~ulens/event/'\u001b[0m \u001b[0;34m+\u001b[0m \u001b[0myear\u001b[0m \u001b[0;34m+\u001b[0m \u001b[0;34m'/'\u001b[0m\u001b[0;34m\u001b[0m\u001b[0;34m\u001b[0m\u001b[0m\n\u001b[0;32m---> 32\u001b[0;31m \u001b[0malert_url_list\u001b[0m \u001b[0;34m=\u001b[0m \u001b[0;34m[\u001b[0m\u001b[0mkmt_alert_url\u001b[0m \u001b[0;34m+\u001b[0m \u001b[0mitem\u001b[0m\u001b[0;34m.\u001b[0m\u001b[0mfind_all\u001b[0m\u001b[0;34m(\u001b[0m\u001b[0;34m'a'\u001b[0m\u001b[0;34m,\u001b[0m \u001b[0mhref\u001b[0m\u001b[0;34m=\u001b[0m\u001b[0;32mTrue\u001b[0m\u001b[0;34m)\u001b[0m\u001b[0;34m[\u001b[0m\u001b[0;36m0\u001b[0m\u001b[0;34m]\u001b[0m\u001b[0;34m[\u001b[0m\u001b[0;34m'href'\u001b[0m\u001b[0;34m]\u001b[0m \u001b[0;32mfor\u001b[0m \u001b[0mitem\u001b[0m \u001b[0;32min\u001b[0m \u001b[0malert_url\u001b[0m\u001b[0;34m]\u001b[0m\u001b[0;34m\u001b[0m\u001b[0;34m\u001b[0m\u001b[0m\n\u001b[0m\u001b[1;32m     33\u001b[0m \u001b[0;34m\u001b[0m\u001b[0m\n\u001b[1;32m     34\u001b[0m \u001b[0;31m# Alert name\u001b[0m\u001b[0;34m\u001b[0m\u001b[0;34m\u001b[0m\u001b[0;34m\u001b[0m\u001b[0m\n",
      "\u001b[0;32m<ipython-input-20-ce2013813073>\u001b[0m in \u001b[0;36m<listcomp>\u001b[0;34m(.0)\u001b[0m\n\u001b[1;32m     30\u001b[0m \u001b[0malert_url\u001b[0m \u001b[0;34m=\u001b[0m \u001b[0msoup\u001b[0m\u001b[0;34m.\u001b[0m\u001b[0mfind_all\u001b[0m\u001b[0;34m(\u001b[0m\u001b[0;34m'td'\u001b[0m\u001b[0;34m)\u001b[0m\u001b[0;34m[\u001b[0m\u001b[0;36m0\u001b[0m\u001b[0;34m:\u001b[0m\u001b[0;34m:\u001b[0m\u001b[0;36m15\u001b[0m\u001b[0;34m]\u001b[0m\u001b[0;34m[\u001b[0m\u001b[0;36m1\u001b[0m\u001b[0;34m:\u001b[0m\u001b[0;34m]\u001b[0m\u001b[0;34m\u001b[0m\u001b[0;34m\u001b[0m\u001b[0m\n\u001b[1;32m     31\u001b[0m \u001b[0mkmt_alert_url\u001b[0m \u001b[0;34m=\u001b[0m \u001b[0;34m'https://kmtnet.kasi.re.kr/~ulens/event/'\u001b[0m \u001b[0;34m+\u001b[0m \u001b[0myear\u001b[0m \u001b[0;34m+\u001b[0m \u001b[0;34m'/'\u001b[0m\u001b[0;34m\u001b[0m\u001b[0;34m\u001b[0m\u001b[0m\n\u001b[0;32m---> 32\u001b[0;31m \u001b[0malert_url_list\u001b[0m \u001b[0;34m=\u001b[0m \u001b[0;34m[\u001b[0m\u001b[0mkmt_alert_url\u001b[0m \u001b[0;34m+\u001b[0m \u001b[0mitem\u001b[0m\u001b[0;34m.\u001b[0m\u001b[0mfind_all\u001b[0m\u001b[0;34m(\u001b[0m\u001b[0;34m'a'\u001b[0m\u001b[0;34m,\u001b[0m \u001b[0mhref\u001b[0m\u001b[0;34m=\u001b[0m\u001b[0;32mTrue\u001b[0m\u001b[0;34m)\u001b[0m\u001b[0;34m[\u001b[0m\u001b[0;36m0\u001b[0m\u001b[0;34m]\u001b[0m\u001b[0;34m[\u001b[0m\u001b[0;34m'href'\u001b[0m\u001b[0;34m]\u001b[0m \u001b[0;32mfor\u001b[0m \u001b[0mitem\u001b[0m \u001b[0;32min\u001b[0m \u001b[0malert_url\u001b[0m\u001b[0;34m]\u001b[0m\u001b[0;34m\u001b[0m\u001b[0;34m\u001b[0m\u001b[0m\n\u001b[0m\u001b[1;32m     33\u001b[0m \u001b[0;34m\u001b[0m\u001b[0m\n\u001b[1;32m     34\u001b[0m \u001b[0;31m# Alert name\u001b[0m\u001b[0;34m\u001b[0m\u001b[0;34m\u001b[0m\u001b[0;34m\u001b[0m\u001b[0m\n",
      "\u001b[0;31mIndexError\u001b[0m: list index out of range"
     ]
    }
   ],
   "source": [
    "def kmtnet_str_to_float(item):\n",
    "    try:\n",
    "        return float(ne.evaluate(item.get_text().replace(u'\\xa0', u'')))\n",
    "    except:\n",
    "        return\n",
    "\n",
    "year = '2021'\n",
    "url = \"https://kmtnet.kasi.re.kr/~ulens/event/\" + year + \"/\"\n",
    "response = urlopen(url)\n",
    "html = response.read()\n",
    "response.close()\n",
    "soup = BeautifulSoup(html,\"html.parser\")\n",
    "\n",
    "if year in ['2022', '2020', '2017', '2016']:\n",
    "    tE = soup.find_all('td')[7::15][1:]\n",
    "    Ibase = soup.find_all('td')[10::15][1:]\n",
    "    cat = soup.find_all('td')[3::15][1:]\n",
    "elif year in ['2021', '2019', '2018']:\n",
    "    tE = soup.find_all('td')[8::16][1:]\n",
    "    Ibase = soup.find_all('td')[11::16][1:]\n",
    "    cat = soup.find_all('td')[4::15][1:]\n",
    "else:\n",
    "    raise Exception('Not a valid year')\n",
    "\n",
    "tE_list = [kmtnet_str_to_float(item) for item in tE]\n",
    "Ibase_list = [kmtnet_str_to_float(item) for item in Ibase]\n",
    "cat_list = [item.get_text().replace(u'\\xa0', u'') for item in cat]\n",
    "\n",
    "# Link to the alert page.\n",
    "alert_url = soup.find_all('td')[0::15][1:]\n",
    "kmt_alert_url = 'https://kmtnet.kasi.re.kr/~ulens/event/' + year + '/'\n",
    "alert_url_list = [kmt_alert_url + item.find_all('a', href=True)[0]['href'] for item in alert_url]\n",
    "\n",
    "# Alert name\n",
    "nn = len(tE_list)\n",
    "alert_name = []\n",
    "for ii in np.arange(nn):\n",
    "    alert_name.append('KB22' + str(ii+1).zfill(4))\n",
    "\n",
    "# Put it all into a dataframe.\n",
    "df = pd.DataFrame(list(zip(alert_name, cat_list, tE_list, Ibase_list, alert_url_list)),\n",
    "                 columns =['alert_name', 'class', 'tE', 'Ibase', 'alert_url'])\n",
    "\n",
    "df.to_sql(con=engine, schema=None, name=\"kmt_alerts\", if_exists=\"replace\", index=False)"
   ]
  },
  {
   "cell_type": "code",
   "execution_count": 21,
   "id": "material-peace",
   "metadata": {},
   "outputs": [
    {
     "name": "stdout",
     "output_type": "stream",
     "text": [
      "> \u001b[0;32m<ipython-input-20-ce2013813073>\u001b[0m(32)\u001b[0;36m<listcomp>\u001b[0;34m()\u001b[0m\n",
      "\u001b[0;32m     30 \u001b[0;31m\u001b[0malert_url\u001b[0m \u001b[0;34m=\u001b[0m \u001b[0msoup\u001b[0m\u001b[0;34m.\u001b[0m\u001b[0mfind_all\u001b[0m\u001b[0;34m(\u001b[0m\u001b[0;34m'td'\u001b[0m\u001b[0;34m)\u001b[0m\u001b[0;34m[\u001b[0m\u001b[0;36m0\u001b[0m\u001b[0;34m:\u001b[0m\u001b[0;34m:\u001b[0m\u001b[0;36m15\u001b[0m\u001b[0;34m]\u001b[0m\u001b[0;34m[\u001b[0m\u001b[0;36m1\u001b[0m\u001b[0;34m:\u001b[0m\u001b[0;34m]\u001b[0m\u001b[0;34m\u001b[0m\u001b[0;34m\u001b[0m\u001b[0m\n",
      "\u001b[0m\u001b[0;32m     31 \u001b[0;31m\u001b[0mkmt_alert_url\u001b[0m \u001b[0;34m=\u001b[0m \u001b[0;34m'https://kmtnet.kasi.re.kr/~ulens/event/'\u001b[0m \u001b[0;34m+\u001b[0m \u001b[0myear\u001b[0m \u001b[0;34m+\u001b[0m \u001b[0;34m'/'\u001b[0m\u001b[0;34m\u001b[0m\u001b[0;34m\u001b[0m\u001b[0m\n",
      "\u001b[0m\u001b[0;32m---> 32 \u001b[0;31m\u001b[0malert_url_list\u001b[0m \u001b[0;34m=\u001b[0m \u001b[0;34m[\u001b[0m\u001b[0mkmt_alert_url\u001b[0m \u001b[0;34m+\u001b[0m \u001b[0mitem\u001b[0m\u001b[0;34m.\u001b[0m\u001b[0mfind_all\u001b[0m\u001b[0;34m(\u001b[0m\u001b[0;34m'a'\u001b[0m\u001b[0;34m,\u001b[0m \u001b[0mhref\u001b[0m\u001b[0;34m=\u001b[0m\u001b[0;32mTrue\u001b[0m\u001b[0;34m)\u001b[0m\u001b[0;34m[\u001b[0m\u001b[0;36m0\u001b[0m\u001b[0;34m]\u001b[0m\u001b[0;34m[\u001b[0m\u001b[0;34m'href'\u001b[0m\u001b[0;34m]\u001b[0m \u001b[0;32mfor\u001b[0m \u001b[0mitem\u001b[0m \u001b[0;32min\u001b[0m \u001b[0malert_url\u001b[0m\u001b[0;34m]\u001b[0m\u001b[0;34m\u001b[0m\u001b[0;34m\u001b[0m\u001b[0m\n",
      "\u001b[0m\u001b[0;32m     33 \u001b[0;31m\u001b[0;34m\u001b[0m\u001b[0m\n",
      "\u001b[0m\u001b[0;32m     34 \u001b[0;31m\u001b[0;31m# Alert name\u001b[0m\u001b[0;34m\u001b[0m\u001b[0;34m\u001b[0m\u001b[0;34m\u001b[0m\u001b[0m\n",
      "\u001b[0m\n",
      "ipdb> alert_url\n",
      "[<td>Related event</td>, <td> 1.77 </td>, <td> 1 </td>, <td> 20.53 </td>, <td> 20.00 </td>, <td> 17.77 </td>, <td> 0.038 </td>, <td> 17.22 </td>, <td> 9281.83223 </td>, <td> -28:30:00.00 </td>, <td> 17:52:10.29 </td>, <td> probable </td>, <td> clear </td>, <td> 074025 </td>, <td> BLG11N0102 </td>, <td> <a href=\"view.php?event=KMT-2021-BLG-0015\">KMT-2021-BLG-0015</a> </td>, <td align=\"left\">  </td>, <td> 1.83 </td>, <td> 2 </td>, <td> 16.79 </td>, <td> 20.00 </td>, <td> 20.13 </td>, <td> 0.432 </td>, <td> 18.14 </td>, <td> 9281.85972 </td>, <td> -27:17:56.87 </td>, <td> 17:41:09.19 </td>, <td> clear </td>, <td> clear </td>, <td> 006139 </td>, <td> SAO18T0802 </td>, <td> <a href=\"view.php?event=KMT-2021-BLG-0030\">KMT-2021-BLG-0030</a> </td>, <td align=\"left\">  </td>, <td> 1.59 </td>, <td> 1 </td>, <td> 17.06 </td>, <td> 18.95 </td>, <td> 19.61 </td>, <td> 0.090 </td>, <td> 9.83 </td>, <td> 9282.05426 </td>, <td> -28:52:04.12 </td>, <td> 18:03:11.34 </td>, <td> possible </td>, <td> X </td>, <td> 001368 </td>, <td> BLG38K0101 </td>, <td> <a href=\"view.php?event=KMT-2021-BLG-0045\">KMT-2021-BLG-0045</a> </td>, <td align=\"left\">  </td>, <td> 1.70 </td>, <td> 1 </td>, <td> 16.88 </td>, <td> 17.62 </td>, <td> 19.14 </td>, <td> 0.107 </td>, <td> 8.36 </td>, <td> 9284.75401 </td>, <td> -30:36:08.39 </td>, <td> 17:34:40.10 </td>, <td> not-ulens </td>, <td> clear </td>, <td> 000148 </td>, <td> BLG15T0106 </td>, <td> <a href=\"view.php?event=KMT-2021-BLG-0060\">KMT-2021-BLG-0060</a> </td>, <td align=\"left\">  </td>, <td> 1.73 </td>, <td> 2 </td>, <td> 21.04 </td>, <td> 20.00 </td>, <td> 20.82 </td>, <td> 0.197 </td>, <td> 18.05 </td>, <td> 9285.24912 </td>, <td> -22:42:56.70 </td>, <td> 17:57:33.69 </td>, <td> clear </td>, <td> clear </td>, <td> 006934 </td>, <td> SAO34K0108 </td>, <td> <a href=\"view.php?event=KMT-2021-BLG-0075\">KMT-2021-BLG-0075</a> </td>, <td align=\"left\">  </td>, <td> 2.02 </td>, <td> 1 </td>, <td> 18.48 </td>, <td> 19.53 </td>, <td> 16.44 </td>, <td> 0.412 </td>, <td> 8.32 </td>, <td> 9282.03171 </td>, <td> -27:25:20.71 </td>, <td> 17:59:06.41 </td>, <td> clear </td>, <td> clear </td>, <td> 015725 </td>, <td> SSO43N0704 </td>, <td> <a href=\"view.php?event=KMT-2021-BLG-0090\">KMT-2021-BLG-0090</a> </td>, <td align=\"left\">  </td>, <td> 1.24 </td>, <td> 1 </td>, <td> 18.62 </td>, <td> 16.58 </td>, <td> 21.68 </td>, <td> 0.204 </td>, <td> 15.01 </td>, <td> 9300.15387 </td>, <td> -29:43:54.30 </td>, <td> 17:24:15.64 </td>, <td> possible </td>, <td> X </td>, <td> 011693 </td>, <td> BLG14T0203 </td>, <td> <a href=\"view.php?event=KMT-2021-BLG-0105\">KMT-2021-BLG-0105</a> </td>, <td align=\"left\"> MB21050 </td>, <td> 3.22 </td>, <td> 2 </td>, <td> 17.05 </td>, <td> 20.00 </td>, <td> 18.78 </td>, <td> 0.240 </td>, <td> 9.28 </td>, <td> 9398.17289 </td>, <td> -27:20:27.42 </td>, <td> 17:45:06.05 </td>, <td> clear </td>, <td> clear </td>, <td> 021757 </td>, <td> BLG33M0402 </td>, <td> <a href=\"view.php?event=KMT-2021-BLG-0120\">KMT-2021-BLG-0120</a> </td>, <td align=\"left\"> MB21060 </td>, <td> 2.80 </td>, <td> 1 </td>, <td> 18.97 </td>, <td> 16.57 </td>, <td> 20.12 </td>, <td> 0.028 </td>, <td> 54.05 </td>, <td> 9296.44177 </td>, <td> -29:26:32.71 </td>, <td> 17:57:44.43 </td>, <td> clear </td>, <td> clear </td>, <td> 014702 </td>, <td> BLG11K0404 </td>, <td> <a href=\"view.php?event=KMT-2021-BLG-0135\">KMT-2021-BLG-0135</a> </td>, <td align=\"left\">  </td>, <td> 2.30 </td>, <td> 3 </td>, <td> 17.81 </td>, <td> 18.77 </td>, <td> 20.99 </td>, <td> 0.026 </td>, <td> 53.47 </td>, <td> 9294.13040 </td>, <td> -30:32:18.60 </td>, <td> 17:58:32.78 </td>, <td> probable </td>, <td> clear </td>, <td> 027935 </td>, <td> SAO01T0206 </td>, <td> <a href=\"view.php?event=KMT-2021-BLG-0150\">KMT-2021-BLG-0150</a> </td>, <td align=\"left\">  </td>, <td> 4.79 </td>, <td> 2 </td>, <td> 20.97 </td>, <td> 17.40 </td>, <td> 18.78 </td>, <td> 0.912 </td>, <td> 6.84 </td>, <td> 9433.12278 </td>, <td> -32:33:02.02 </td>, <td> 18:00:53.58 </td>, <td> probable </td>, <td> clear </td>, <td> 049157 </td>, <td> SAO42K0201 </td>, <td> <a href=\"view.php?event=KMT-2021-BLG-0165\">KMT-2021-BLG-0165</a> </td>, <td align=\"left\"> MB21034 </td>, <td> 3.87 </td>, <td> 1 </td>, <td> 17.77 </td>, <td> 17.63 </td>, <td> 17.19 </td>, <td> 0.006 </td>, <td> 25.33 </td>, <td> 9309.09101 </td>, <td> -31:03:01.80 </td>, <td> 17:59:41.11 </td>, <td> probable </td>, <td> clear </td>, <td> 045598 </td>, <td> BLG14K0803 </td>, <td> <a href=\"view.php?event=KMT-2021-BLG-0180\">KMT-2021-BLG-0180</a> </td>, <td align=\"left\">  </td>, <td> 2.91 </td>, <td> 1 </td>, <td> 19.58 </td>, <td> 20.00 </td>, <td> 20.20 </td>, <td> 0.003 </td>, <td> 9.84 </td>, <td> 9310.30178 </td>, <td> -23:21:15.59 </td>, <td> 17:46:29.28 </td>, <td> clear </td>, <td> clear </td>, <td> 018005 </td>, <td> SSO43K0502 </td>, <td> <a href=\"view.php?event=KMT-2021-BLG-0195\">KMT-2021-BLG-0195</a> </td>, <td align=\"left\">  </td>, <td> 1.16 </td>, <td> 1 </td>, <td> 18.43 </td>, <td> 18.38 </td>, <td> 22.07 </td>, <td> 0.112 </td>, <td> 19.42 </td>, <td> 9301.51536 </td>, <td> -26:38:03.30 </td>, <td> 17:44:16.13 </td>, <td> probable </td>, <td> clear </td>, <td> 029717 </td>, <td> BLG01K0306 </td>, <td> <a href=\"view.php?event=KMT-2021-BLG-0210\">KMT-2021-BLG-0210</a> </td>, <td align=\"left\">  </td>, <td> 1.22 </td>, <td> 2 </td>, <td> 18.74 </td>, <td> 19.49 </td>, <td> 20.04 </td>, <td> 0.321 </td>, <td> 9.39 </td>, <td> 9308.21257 </td>, <td> -29:25:23.92 </td>, <td> 17:29:53.39 </td>, <td> clear </td>, <td> clear </td>, <td> 000966 </td>, <td> BLG20T0705 </td>, <td> <a href=\"view.php?event=KMT-2021-BLG-0225\">KMT-2021-BLG-0225</a> </td>, <td align=\"left\">  </td>, <td> 1.38 </td>, <td> 1 </td>, <td> 18.59 </td>, <td> 19.77 </td>, <td> 21.49 </td>, <td> 0.367 </td>, <td> 8.25 </td>, <td> 9308.46761 </td>, <td> -24:05:34.51 </td>, <td> 17:42:37.38 </td>, <td> clear </td>, <td> clear </td>, <td> 062194 </td>, <td> BLG01M0803 </td>, <td> <a href=\"view.php?event=KMT-2021-BLG-0240\">KMT-2021-BLG-0240</a> </td>, <td align=\"left\">  </td>, <td> 0.74 </td>, <td> 2 </td>, <td> 18.40 </td>, <td> 20.00 </td>, <td> 16.48 </td>, <td> 0.616 </td>, <td> 199.22 </td>, <td> 9330.12674 </td>, <td> -25:07:10.20 </td>, <td> 17:44:54.62 </td>, <td> clear </td>, <td> clear </td>, <td> 037530 </td>, <td> BLG22N0306 </td>, <td> <a href=\"view.php?event=KMT-2021-BLG-0255\">KMT-2021-BLG-0255</a> </td>, <td align=\"left\">  </td>, <td> 0.94 </td>, <td> 1 </td>, <td> 19.91 </td>, <td> 18.65 </td>, <td> 16.94 </td>, <td> 0.998 </td>, <td> 5.36 </td>, <td> 9316.24396 </td>, <td> -29:39:17.10 </td>, <td> 17:51:43.42 </td>, <td> clear </td>, <td> X </td>, <td> 005347 </td>, <td> BLG11T0207 </td>, <td> <a href=\"view.php?event=KMT-2021-BLG-0270\">KMT-2021-BLG-0270</a> </td>, <td align=\"left\">  </td>, <td> 2.84 </td>, <td> 2 </td>, <td> 20.02 </td>, <td> 20.00 </td>, <td> 21.75 </td>, <td> 0.083 </td>, <td> 13.00 </td>, <td> 9309.27969 </td>, <td> -32:55:52.39 </td>, <td> 17:57:38.97 </td>, <td> clear </td>, <td> clear </td>, <td> 008874 </td>, <td> BLG41N0201 </td>, <td> <a href=\"view.php?event=KMT-2021-BLG-0285\">KMT-2021-BLG-0285</a> </td>, <td align=\"left\">  </td>, <td> 1.47 </td>, <td> 1 </td>, <td> 19.85 </td>, <td> 20.00 </td>, <td> 23.15 </td>, <td> 0.083 </td>, <td> 6.42 </td>, <td> 9311.59790 </td>, <td> -27:10:39.68 </td>, <td> 18:00:00.50 </td>, <td> clear </td>, <td> clear </td>, <td> 026010 </td>, <td> BLG42N0503 </td>, <td> <a href=\"view.php?event=KMT-2021-BLG-0300\">KMT-2021-BLG-0300</a> </td>, <td align=\"left\">  </td>, <td> 3.41 </td>, <td> 1 </td>, <td> 17.85 </td>, <td> 20.00 </td>, <td> 21.56 </td>, <td> 0.503 </td>, <td> 60.77 </td>, <td> 9376.54161 </td>, <td> -24:45:39.85 </td>, <td> 17:41:31.66 </td>, <td> clear </td>, <td> clear </td>, <td> 016375 </td>, <td> SAO34N0307 </td>, <td> <a href=\"view.php?event=KMT-2021-BLG-0315\">KMT-2021-BLG-0315</a> </td>, <td align=\"left\"> MB21077 </td>, <td> 1.69 </td>, <td> 1 </td>, <td> 17.96 </td>, <td> 18.74 </td>, <td> 20.53 </td>, <td> 0.013 </td>, <td> 18.45 </td>, <td> 9318.30142 </td>, <td> -29:45:17.46 </td>, <td> 17:31:04.88 </td>, <td> probable </td>, <td> clear </td>, <td> 025139 </td>, <td> BLG19K0301 </td>, <td> <a href=\"view.php?event=KMT-2021-BLG-0330\">KMT-2021-BLG-0330</a> </td>, <td align=\"left\">  </td>, <td> 1.88 </td>, <td> 1 </td>, <td> 19.20 </td>, <td> 14.21 </td>, <td> 15.53 </td>, <td> 0.112 </td>, <td> 10.47 </td>, <td> 9343.29594 </td>, <td> -31:59:57.52 </td>, <td> 17:57:58.93 </td>, <td> clear </td>, <td> clear </td>, <td> 012059 </td>, <td> BLG01N0202 </td>, <td> <a href=\"view.php?event=KMT-2021-BLG-0345\">KMT-2021-BLG-0345</a> </td>, <td align=\"left\">  </td>, <td> 2.48 </td>, <td> 2 </td>, <td> 22.42 </td>, <td> 19.74 </td>, <td> 19.68 </td>, <td> 0.059 </td>, <td> 103.52 </td>, <td> 9322.34169 </td>, <td> -27:28:26.44 </td>, <td> 17:38:27.32 </td>, <td> clear </td>, <td> X </td>, <td> 032977 </td>, <td> BLG19M0704 </td>, <td> <a href=\"view.php?event=KMT-2021-BLG-0360\">KMT-2021-BLG-0360</a> </td>, <td align=\"left\">  </td>, <td> 1.79 </td>, <td> 1 </td>, <td> 21.01 </td>, <td> 17.54 </td>, <td> 19.83 </td>, <td> 0.297 </td>, <td> 55.64 </td>, <td> 9322.35480 </td>, <td> -26:24:24.01 </td>, <td> 17:39:43.18 </td>, <td> clear </td>, <td> clear </td>, <td> 046258 </td>, <td> BLG43T0304 </td>, <td> <a href=\"view.php?event=KMT-2021-BLG-0375\">KMT-2021-BLG-0375</a> </td>, <td align=\"left\">  </td>, <td> 3.11 </td>, <td> 1 </td>, <td> 18.40 </td>, <td> 19.92 </td>, <td> 17.78 </td>, <td> 0.976 </td>, <td> 199.98 </td>, <td> 9332.11382 </td>, <td> -25:59:14.60 </td>, <td> 17:42:04.18 </td>, <td> probable </td>, <td> clear </td>, <td> 058494 </td>, <td> BLG33N0806 </td>, <td> <a href=\"view.php?event=KMT-2021-BLG-0390\">KMT-2021-BLG-0390</a> </td>, <td align=\"left\">  </td>, <td> 1.85 </td>, <td> 1 </td>, <td> 18.02 </td>, <td> 18.62 </td>, <td> 18.86 </td>, <td> 0.194 </td>, <td> 12.95 </td>, <td> 9344.48289 </td>, <td> -30:00:59.15 </td>, <td> 17:31:41.39 </td>, <td> clear </td>, <td> clear </td>, <td> 011625 </td>, <td> BLG14T0306 </td>, <td> <a href=\"view.php?event=KMT-2021-BLG-0405\">KMT-2021-BLG-0405</a> </td>, <td align=\"left\">  </td>, <td> 2.81 </td>, <td> 2 </td>, <td> 19.60 </td>, <td> 17.07 </td>, <td> 18.74 </td>, <td> 0.906 </td>, <td> 55.76 </td>, <td> 9426.05364 </td>, <td> -27:30:07.99 </td>, <td> 18:05:02.95 </td>, <td> clear </td>, <td> clear </td>, <td> 093340 </td>, <td> BLG18M0604 </td>, <td> <a href=\"view.php?event=KMT-2021-BLG-0420\">KMT-2021-BLG-0420</a> </td>, <td align=\"left\">  </td>, <td> 1.40 </td>, <td> 3 </td>, <td> 19.13 </td>, <td> 18.36 </td>, <td> 18.76 </td>, <td> 0.974 </td>, <td> 7.43 </td>, <td> 9323.25764 </td>, <td> -33:21:50.00 </td>, <td> 17:33:49.90 </td>, <td> probable </td>, <td> clear </td>, <td> 010882 </td>, <td> BLG19K0302 </td>, <td> <a href=\"view.php?event=KMT-2021-BLG-0435\">KMT-2021-BLG-0435</a> </td>, <td align=\"left\">  </td>, <td> 0.99 </td>, <td> 1 </td>, <td> 21.28 </td>, <td> 18.31 </td>, <td> 22.16 </td>, <td> 0.845 </td>, <td> 3.70 </td>, <td> 9319.99134 </td>, <td> -29:44:12.44 </td>, <td> 17:34:03.71 </td>, <td> clear </td>, <td> clear </td>, <td> 054676 </td>, <td> BLG19T0608 </td>, <td> <a href=\"view.php?event=KMT-2021-BLG-0450\">KMT-2021-BLG-0450</a> </td>, <td align=\"left\">  </td>, <td> 2.40 </td>, <td> 1 </td>, <td> 19.31 </td>, <td> 17.95 </td>, <td> 23.92 </td>, <td> 0.403 </td>, <td> 16.22 </td>, <td> 9321.35205 </td>, <td> -28:25:08.29 </td>, <td> 17:52:52.31 </td>, <td> clear </td>, <td> clear </td>, <td> 058276 </td>, <td> BLG04K0302 </td>, <td> <a href=\"view.php?event=KMT-2021-BLG-0465\">KMT-2021-BLG-0465</a> </td>, <td align=\"left\">  </td>, <td> 1.46 </td>, <td> 1 </td>, <td> 20.80 </td>, <td> 20.00 </td>, <td> 23.18 </td>, <td> 0.619 </td>, <td> 37.83 </td>, <td> 9335.29453 </td>, <td> -29:33:07.99 </td>, <td> 17:35:20.75 </td>, <td> clear </td>, <td> clear </td>, <td> 013843 </td>, <td> BLG15T0207 </td>, <td> <a href=\"view.php?event=KMT-2021-BLG-0480\">KMT-2021-BLG-0480</a> </td>, <td align=\"left\">  </td>, <td> 3.66 </td>, <td> 1 </td>, <td> 20.84 </td>, <td> 20.00 </td>, <td> 20.58 </td>, <td> 0.897 </td>, <td> 0.50 </td>, <td> 9319.60140 </td>, <td> -27:38:39.08 </td>, <td> 18:11:34.80 </td>, <td> clear </td>, <td> X </td>, <td> 105820 </td>, <td> BLG37K0204 </td>, <td> <a href=\"view.php?event=KMT-2021-BLG-0495\">KMT-2021-BLG-0495</a> </td>, <td align=\"left\">  </td>, <td> 1.52 </td>, <td> 1 </td>, <td> 17.55 </td>, <td> 19.27 </td>, <td> 17.24 </td>, <td> 0.118 </td>, <td> 3.00 </td>, <td> 9322.02462 </td>, <td> -27:35:40.31 </td>, <td> 18:00:31.50 </td>, <td> clear </td>, <td> X </td>, <td> 014384 </td>, <td> BLG17M0802 </td>, <td> <a href=\"view.php?event=KMT-2021-BLG-0510\">KMT-2021-BLG-0510</a> </td>, <td align=\"left\">  </td>, <td> 3.04 </td>, <td> 2 </td>, <td> 20.32 </td>, <td> 19.01 </td>, <td> 18.53 </td>, <td> 0.666 </td>, <td> 0.50 </td>, <td> 9319.78801 </td>, <td> -28:48:55.12 </td>, <td> 17:41:41.52 </td>, <td> probable </td>, <td> clear </td>, <td> 041719 </td>, <td> SAO02T0604 </td>, <td> <a href=\"view.php?event=KMT-2021-BLG-0525\">KMT-2021-BLG-0525</a> </td>, <td align=\"left\"> MB21106 </td>, <td> 1.84 </td>, <td> 1 </td>, <td> 19.84 </td>, <td> 20.00 </td>, <td> 20.04 </td>, <td> 0.123 </td>, <td> 9.98 </td>, <td> 9329.12352 </td>, <td> -28:14:14.10 </td>, <td> 17:54:42.29 </td>, <td> clear </td>, <td> clear </td>, <td> 048047 </td>, <td> SAO43T0306 </td>, <td> <a href=\"view.php?event=KMT-2021-BLG-0540\">KMT-2021-BLG-0540</a> </td>, <td align=\"left\">  </td>, <td> 2.59 </td>, <td> 1 </td>, <td> 20.22 </td>, <td> 19.96 </td>, <td> 21.72 </td>, <td> 0.225 </td>, <td> 37.23 </td>, <td> 9332.73813 </td>, <td> -34:35:54.60 </td>, <td> 18:11:43.57 </td>, <td> clear </td>, <td> clear </td>, <td> 003382 </td>, <td> BLG37N0501 </td>, <td> <a href=\"view.php?event=KMT-2021-BLG-0555\">KMT-2021-BLG-0555</a> </td>, <td align=\"left\">  </td>, <td> 1.26 </td>, <td> 1 </td>, <td> 14.19 </td>, <td> 19.04 </td>, <td> 23.24 </td>, <td> 0.117 </td>, <td> 198.87 </td>, <td> 9481.76239 </td>, <td> -29:56:46.28 </td>, <td> 18:01:10.38 </td>, <td> probable </td>, <td> clear </td>, <td> 037272 </td>, <td> BLG04K0602 </td>, <td> <a href=\"view.php?event=KMT-2021-BLG-0570\">KMT-2021-BLG-0570</a> </td>, <td align=\"left\">  </td>, <td> 2.30 </td>, <td> 2 </td>, <td> 20.16 </td>, <td> 20.00 </td>, <td> 20.49 </td>, <td> 0.608 </td>, <td> 65.15 </td>, <td> 9329.03628 </td>, <td> -27:41:32.03 </td>, <td> 17:41:05.03 </td>, <td> clear </td>, <td> clear </td>, <td> 047223 </td>, <td> BLG19K0108 </td>, <td> <a href=\"view.php?event=KMT-2021-BLG-0585\">KMT-2021-BLG-0585</a> </td>, <td align=\"left\">  </td>, <td> 0.55 </td>, <td> 1 </td>, <td> 19.11 </td>, <td> 16.73 </td>, <td> 19.23 </td>, <td> 0.078 </td>, <td> 18.89 </td>, <td> 9328.13872 </td>, <td> -27:14:21.30 </td>, <td> 18:02:08.11 </td>, <td> clear </td>, <td> X </td>, <td> 072792 </td>, <td> BLG02M0702 </td>, <td> <a href=\"view.php?event=KMT-2021-BLG-0600\">KMT-2021-BLG-0600</a> </td>, <td align=\"left\">  </td>, <td> 3.88 </td>, <td> 2 </td>, <td> 20.96 </td>, <td> 20.00 </td>, <td> 21.65 </td>, <td> 0.104 </td>, <td> 41.73 </td>, <td> 9333.76419 </td>, <td> -33:58:22.01 </td>, <td> 18:14:27.01 </td>, <td> clear </td>, <td> clear </td>, <td> 033464 </td>, <td> BLG01K0203 </td>, <td> <a href=\"view.php?event=KMT-2021-BLG-0615\">KMT-2021-BLG-0615</a> </td>, <td align=\"left\">  </td>, <td> 1.74 </td>, <td> 1 </td>, <td> 19.33 </td>, <td> 20.00 </td>, <td> 18.97 </td>, <td> 0.002 </td>, <td> 18.83 </td>, <td> 9344.14362 </td>, <td> -34:36:33.80 </td>, <td> 17:53:45.41 </td>, <td> not-ulens </td>, <td> clear </td>, <td> 100266 </td>, <td> BLG03M0106 </td>, <td> <a href=\"view.php?event=KMT-2021-BLG-0630\">KMT-2021-BLG-0630</a> </td>, <td align=\"left\"> MB21208 </td>, <td> 2.42 </td>, <td> 2 </td>, <td> 21.81 </td>, <td> 20.00 </td>, <td> 20.67 </td>, <td> 0.523 </td>, <td> 26.77 </td>, <td> 9334.82101 </td>, <td> -26:46:59.02 </td>, <td> 17:52:33.22 </td>, <td> clear </td>, <td> clear </td>, <td> 069472 </td>, <td> BLG02N0305 </td>, <td> <a href=\"view.php?event=KMT-2021-BLG-0645\">KMT-2021-BLG-0645</a> </td>, <td align=\"left\">  </td>, <td> 2.61 </td>, <td> 2 </td>, <td> 20.79 </td>, <td> 20.00 </td>, <td> 20.53 </td>, <td> 0.176 </td>, <td> 22.90 </td>, <td> 9343.33278 </td>, <td> -31:54:06.41 </td>, <td> 17:50:26.80 </td>, <td> clear </td>, <td> clear </td>, <td> 033377 </td>, <td> BLG03N0308 </td>, <td> <a href=\"view.php?event=KMT-2021-BLG-0660\">KMT-2021-BLG-0660</a> </td>, <td align=\"left\">  </td>, <td> 1.06 </td>, <td> 1 </td>, <td> 19.00 </td>, <td> 19.85 </td>, <td> 15.87 </td>, <td> 0.132 </td>, <td> 3.37 </td>, <td> 9337.92662 </td>, <td> -26:43:50.59 </td>, <td> 18:10:17.39 </td>, <td> clear </td>, <td> clear </td>, <td> 027478 </td>, <td> BLG43M0204 </td>, <td> <a href=\"view.php?event=KMT-2021-BLG-0675\">KMT-2021-BLG-0675</a> </td>, <td align=\"left\">  </td>, <td> 1.52 </td>, <td> 1 </td>, <td> 19.94 </td>, <td> 18.58 </td>, <td> 16.11 </td>, <td> 0.255 </td>, <td> 19.86 </td>, <td> 9338.09348 </td>, <td> -26:10:21.50 </td>, <td> 17:43:32.83 </td>, <td> probable </td>, <td> clear </td>, <td> 053211 </td>, <td> BLG43T0401 </td>, <td> <a href=\"view.php?event=KMT-2021-BLG-0690\">KMT-2021-BLG-0690</a> </td>, <td align=\"left\"> MB21161 </td>, <td> 2.38 </td>, <td> 2 </td>, <td> 20.25 </td>, <td> 19.01 </td>, <td> 17.80 </td>, <td> 0.213 </td>, <td> 107.89 </td>, <td> 9343.76909 </td>, <td> -31:55:45.59 </td>, <td> 17:53:12.91 </td>, <td> clear </td>, <td> clear </td>, <td> 012622 </td>, <td> BLG12T0407 </td>, <td> <a href=\"view.php?event=KMT-2021-BLG-0705\">KMT-2021-BLG-0705</a> </td>, <td align=\"left\">  </td>, <td> 2.36 </td>, <td> 1 </td>, <td> 20.36 </td>, <td> 20.00 </td>, <td> 20.86 </td>, <td> 0.048 </td>, <td> 59.12 </td>, <td> 9340.19652 </td>, <td> -27:55:38.71 </td>, <td> 17:51:07.59 </td>, <td> probable </td>, <td> clear </td>, <td> 001580 </td>, <td> BLG12N0804 </td>, <td> <a href=\"view.php?event=KMT-2021-BLG-0720\">KMT-2021-BLG-0720</a> </td>, <td align=\"left\">  </td>, <td> 3.32 </td>, <td> 2 </td>, <td> 19.94 </td>, <td> 20.00 </td>, <td> 22.73 </td>, <td> 0.695 </td>, <td> 6.78 </td>, <td> 9354.61954 </td>, <td> -26:31:42.10 </td>, <td> 17:51:57.46 </td>, <td> probable </td>, <td> clear </td>, <td> 052506 </td>, <td> BLG02N0605 </td>, <td> <a href=\"view.php?event=KMT-2021-BLG-0735\">KMT-2021-BLG-0735</a> </td>, <td align=\"left\">  </td>, <td> 1.78 </td>, <td> 1 </td>, <td> 20.33 </td>, <td> 18.96 </td>, <td> 19.96 </td>, <td> 0.201 </td>, <td> 35.32 </td>, <td> 9352.23008 </td>, <td> -24:30:09.00 </td>, <td> 17:41:45.84 </td>, <td> clear </td>, <td> X </td>, <td> 016408 </td>, <td> BLG35N0806 </td>, <td> <a href=\"view.php?event=KMT-2021-BLG-0750\">KMT-2021-BLG-0750</a> </td>, <td align=\"left\">  </td>, <td> 2.23 </td>, <td> 1 </td>, <td> 17.37 </td>, <td> 18.95 </td>, <td> 23.06 </td>, <td> 0.151 </td>, <td> 12.31 </td>, <td> 9345.46637 </td>, <td> -29:41:07.30 </td>, <td> 18:03:18.49 </td>, <td> clear </td>, <td> clear </td>, <td> 034329 </td>, <td> SSO14K0303 </td>, <td> <a href=\"view.php?event=KMT-2021-BLG-0765\">KMT-2021-BLG-0765</a> </td>, <td align=\"left\">  </td>, <td> 2.91 </td>, <td> 3 </td>, <td> 19.89 </td>, <td> 20.00 </td>, <td> 20.13 </td>, <td> 0.022 </td>, <td> 62.27 </td>, <td> 9378.94915 </td>, <td> -31:36:17.89 </td>, <td> 17:57:30.64 </td>, <td> clear </td>, <td> clear </td>, <td> 050106 </td>, <td> SAO01K0206 </td>, <td> <a href=\"view.php?event=KMT-2021-BLG-0780\">KMT-2021-BLG-0780</a> </td>, <td align=\"left\">  </td>, <td> 1.59 </td>, <td> 1 </td>, <td> 20.09 </td>, <td> 18.88 </td>, <td> 19.98 </td>, <td> 0.806 </td>, <td> 9.32 </td>, <td> 9350.40703 </td>, <td> -26:28:21.65 </td>, <td> 17:38:33.30 </td>, <td> clear </td>, <td> clear </td>, <td> 015754 </td>, <td> BLG22T0208 </td>, <td> <a href=\"view.php?event=KMT-2021-BLG-0795\">KMT-2021-BLG-0795</a> </td>, <td align=\"left\">  </td>, <td> 1.81 </td>, <td> 4 </td>, <td> 20.64 </td>, <td> 20.00 </td>, <td> 14.73 </td>, <td> 0.109 </td>, <td> 18.25 </td>, <td> 9347.66069 </td>, <td> -34:02:47.94 </td>, <td> 17:41:56.12 </td>, <td> clear </td>, <td> clear </td>, <td> 038308 </td>, <td> SAO32T0508 </td>, <td> <a href=\"view.php?event=KMT-2021-BLG-0810\">KMT-2021-BLG-0810</a> </td>, <td align=\"left\">  </td>, <td> 2.91 </td>, <td> 1 </td>, <td> 19.66 </td>, <td> 18.69 </td>, <td> 23.21 </td>, <td> 0.266 </td>, <td> 10.66 </td>, <td> 9353.91792 </td>, <td> -34:50:35.81 </td>, <td> 17:51:35.13 </td>, <td> clear </td>, <td> clear </td>, <td> 008338 </td>, <td> SAO31T0606 </td>, <td> <a href=\"view.php?event=KMT-2021-BLG-0825\">KMT-2021-BLG-0825</a> </td>, <td align=\"left\">  </td>, <td> 1.69 </td>, <td> 2 </td>, <td> 20.02 </td>, <td> 19.47 </td>, <td> 19.83 </td>, <td> 0.016 </td>, <td> 84.09 </td>, <td> 9354.15020 </td>, <td> -27:02:16.01 </td>, <td> 18:00:49.70 </td>, <td> clear </td>, <td> clear </td>, <td> 038869 </td>, <td> BLG04K0801 </td>, <td> <a href=\"view.php?event=KMT-2021-BLG-0840\">KMT-2021-BLG-0840</a> </td>, <td align=\"left\">  </td>, <td> 1.97 </td>, <td> 2 </td>, <td> 20.60 </td>, <td> 19.30 </td>, <td> 20.64 </td>, <td> 0.169 </td>, <td> 14.03 </td>, <td> 9352.83565 </td>, <td> -23:57:22.39 </td>, <td> 17:43:51.30 </td>, <td> clear </td>, <td> clear </td>, <td> 019197 </td>, <td> BLG19M0806 </td>, <td> <a href=\"view.php?event=KMT-2021-BLG-0855\">KMT-2021-BLG-0855</a> </td>, <td align=\"left\">  </td>, <td> 2.15 </td>, <td> 1 </td>, <td> 15.72 </td>, <td> 18.56 </td>, <td> 19.98 </td>, <td> 0.485 </td>, <td> 19.54 </td>, <td> 9352.72702 </td>, <td> -31:05:27.20 </td>, <td> 17:54:29.76 </td>, <td> probable </td>, <td> possible </td>, <td> 048382 </td>, <td> SAO43M0807 </td>, <td> <a href=\"view.php?event=KMT-2021-BLG-0870\">KMT-2021-BLG-0870</a> </td>, <td align=\"left\"> MB21128 </td>, <td> 1.56 </td>, <td> 1 </td>, <td> 19.02 </td>, <td> 18.74 </td>, <td> 19.09 </td>, <td> 0.002 </td>, <td> 88.51 </td>, <td> 9355.04332 </td>, <td> -29:34:49.62 </td>, <td> 17:29:41.19 </td>, <td> clear </td>, <td> clear </td>, <td> 025853 </td>, <td> BLG16K0608 </td>, <td> <a href=\"view.php?event=KMT-2021-BLG-0885\">KMT-2021-BLG-0885</a> </td>, <td align=\"left\">  </td>, <td> 1.84 </td>, <td> 1 </td>, <td> 20.13 </td>, <td> 20.00 </td>, <td> 19.92 </td>, <td> 0.449 </td>, <td> 2.21 </td>, <td> 9351.49649 </td>, <td> -30:35:40.70 </td>, <td> 17:53:14.46 </td>, <td> probable </td>, <td> clear </td>, <td> 050988 </td>, <td> BLG12M0602 </td>, <td> <a href=\"view.php?event=KMT-2021-BLG-0900\">KMT-2021-BLG-0900</a> </td>, <td align=\"left\">  </td>, <td> 3.05 </td>, <td> 2 </td>, <td> 22.35 </td>, <td> 20.00 </td>, <td> 19.44 </td>, <td> 0.813 </td>, <td> 6.54 </td>, <td> 9353.54557 </td>, <td> -27:38:22.42 </td>, <td> 17:53:50.24 </td>, <td> clear </td>, <td> clear </td>, <td> 019562 </td>, <td> SAO42M0701 </td>, <td> <a href=\"view.php?event=KMT-2021-BLG-0915\">KMT-2021-BLG-0915</a> </td>, <td align=\"left\">  </td>, <td> 2.08 </td>, <td> 2 </td>, <td> 19.18 </td>, <td> 16.69 </td>, <td> 23.01 </td>, <td> 0.328 </td>, <td> 5.27 </td>, <td> 9365.76925 </td>, <td> -23:54:00.40 </td>, <td> 17:47:11.13 </td>, <td> probable </td>, <td> clear </td>, <td> 003499 </td>, <td> BLG37K0808 </td>, <td> <a href=\"view.php?event=KMT-2021-BLG-0930\">KMT-2021-BLG-0930</a> </td>, <td align=\"left\">  </td>, <td> 1.58 </td>, <td> 1 </td>, <td> 15.95 </td>, <td> 20.00 </td>, <td> 17.74 </td>, <td> 0.085 </td>, <td> 5.53 </td>, <td> 9374.86923 </td>, <td> -34:03:53.28 </td>, <td> 17:49:38.40 </td>, <td> clear </td>, <td> clear </td>, <td> 006975 </td>, <td> SAO43M0307 </td>, <td> <a href=\"view.php?event=KMT-2021-BLG-0945\">KMT-2021-BLG-0945</a> </td>, <td align=\"left\">  </td>, <td> 1.62 </td>, <td> 1 </td>, <td> 19.17 </td>, <td> 19.61 </td>, <td> 17.35 </td>, <td> 0.273 </td>, <td> 30.72 </td>, <td> 9357.06834 </td>, <td> -28:03:59.40 </td>, <td> 18:00:33.97 </td>, <td> clear </td>, <td> clear </td>, <td> 018429 </td>, <td> BLG14M0506 </td>, <td> <a href=\"view.php?event=KMT-2021-BLG-0960\">KMT-2021-BLG-0960</a> </td>, <td align=\"left\">  </td>, <td> 3.88 </td>, <td> 2 </td>, <td> 19.56 </td>, <td> 20.00 </td>, <td> 19.93 </td>, <td> 0.040 </td>, <td> 29.62 </td>, <td> 9361.96064 </td>, <td> -24:49:36.80 </td>, <td> 17:53:54.52 </td>, <td> clear </td>, <td> X </td>, <td> 009164 </td>, <td> BLG22K0705 </td>, <td> <a href=\"view.php?event=KMT-2021-BLG-0975\">KMT-2021-BLG-0975</a> </td>, <td align=\"left\">  </td>, <td> 1.39 </td>, <td> 1 </td>, <td> 17.44 </td>, <td> 17.61 </td>, <td> 21.17 </td>, <td> 0.899 </td>, <td> 12.85 </td>, <td> 9361.54133 </td>, <td> -28:18:21.71 </td>, <td> 17:58:23.66 </td>, <td> clear </td>, <td> clear </td>, <td> 001378 </td>, <td> BLG15N0406 </td>, <td> <a href=\"view.php?event=KMT-2021-BLG-0990\">KMT-2021-BLG-0990</a> </td>, <td align=\"left\">  </td>, <td> 2.61 </td>, <td> 2 </td>, <td> 21.33 </td>, <td> 20.00 </td>, <td> 21.84 </td>, <td> 0.101 </td>, <td> 89.64 </td>, <td> 9362.86361 </td>, <td> -30:44:19.28 </td>, <td> 17:57:14.27 </td>, <td> clear </td>, <td> X </td>, <td> 020949 </td>, <td> SAO31T0604 </td>, <td> <a href=\"view.php?event=KMT-2021-BLG-1005\">KMT-2021-BLG-1005</a> </td>, <td align=\"left\">  </td>, <td> 1.66 </td>, <td> 1 </td>, <td> 19.50 </td>, <td> 17.32 </td>, <td> 18.03 </td>, <td> 0.782 </td>, <td> 30.53 </td>, <td> 9358.40931 </td>, <td> -25:10:45.70 </td>, <td> 17:55:05.45 </td>, <td> clear </td>, <td> X </td>, <td> 021705 </td>, <td> BLG01M0704 </td>, <td> <a href=\"view.php?event=KMT-2021-BLG-1020\">KMT-2021-BLG-1020</a> </td>, <td align=\"left\">  </td>, <td> 5.78 </td>, <td> 1 </td>, <td> 18.90 </td>, <td> 19.25 </td>, <td> 18.01 </td>, <td> 0.800 </td>, <td> 37.74 </td>, <td> 9366.55137 </td>, <td> -29:57:03.38 </td>, <td> 17:25:43.00 </td>, <td> clear </td>, <td> clear </td>, <td> 038606 </td>, <td> BLG15M0102 </td>, <td> <a href=\"view.php?event=KMT-2021-BLG-1035\">KMT-2021-BLG-1035</a> </td>, <td align=\"left\">  </td>, <td> 2.80 </td>, <td> 2 </td>, <td> 18.27 </td>, <td> 20.00 </td>, <td> 19.83 </td>, <td> 0.002 </td>, <td> 21.24 </td>, <td> 9365.35158 </td>, <td> -23:58:28.63 </td>, <td> 17:49:40.09 </td>, <td> clear </td>, <td> possible </td>, <td> 037914 </td>, <td> BLG22N0108 </td>, <td> <a href=\"view.php?event=KMT-2021-BLG-1050\">KMT-2021-BLG-1050</a> </td>, <td align=\"left\">  </td>, <td> 1.18 </td>, <td> 1 </td>, <td> 19.49 </td>, <td> 20.00 </td>, <td> 21.02 </td>, <td> 0.187 </td>, <td> 66.88 </td>, <td> 9367.12104 </td>, <td> -28:55:35.04 </td>, <td> 17:57:32.18 </td>, <td> clear </td>, <td> clear </td>, <td> 029237 </td>, <td> BLG43T0304 </td>, <td> <a href=\"view.php?event=KMT-2021-BLG-1065\">KMT-2021-BLG-1065</a> </td>, <td align=\"left\">  </td>, <td> 2.17 </td>, <td> 1 </td>, <td> 19.24 </td>, <td> 17.88 </td>, <td> 19.06 </td>, <td> 0.112 </td>, <td> 24.93 </td>, <td> 9366.00124 </td>, <td> -27:12:26.68 </td>, <td> 17:37:13.66 </td>, <td> clear </td>, <td> clear </td>, <td> 014983 </td>, <td> BLG17T0202 </td>, <td> <a href=\"view.php?event=KMT-2021-BLG-1080\">KMT-2021-BLG-1080</a> </td>, <td align=\"left\">  </td>, <td> 1.74 </td>, <td> 1 </td>, <td> 20.34 </td>, <td> 19.41 </td>, <td> 19.93 </td>, <td> 0.506 </td>, <td> 6.13 </td>, <td> 9364.89440 </td>, <td> -29:48:50.11 </td>, <td> 18:08:29.27 </td>, <td> clear </td>, <td> clear </td>, <td> 019256 </td>, <td> BLG42N0807 </td>, <td> <a href=\"view.php?event=KMT-2021-BLG-1095\">KMT-2021-BLG-1095</a> </td>, <td align=\"left\"> MB21171 </td>, <td> 1.93 </td>, <td> 1 </td>, <td> 19.13 </td>, <td> 20.00 </td>, <td> 20.11 </td>, <td> 0.288 </td>, <td> 24.04 </td>, <td> 9371.79295 </td>, <td> -27:15:12.71 </td>, <td> 17:42:55.74 </td>, <td> clear </td>, <td> clear </td>, <td> 001654 </td>, <td> BLG35T0308 </td>, <td> <a href=\"view.php?event=KMT-2021-BLG-1110\">KMT-2021-BLG-1110</a> </td>, <td align=\"left\">  </td>, <td> 2.61 </td>, <td> 1 </td>, <td> 19.15 </td>, <td> 14.95 </td>, <td> 22.44 </td>, <td> 0.030 </td>, <td> 11.83 </td>, <td> 9371.56506 </td>, <td> -30:35:38.40 </td>, <td> 17:32:10.95 </td>, <td> clear </td>, <td> clear </td>, <td> 039418 </td>, <td> BLG14T0705 </td>, <td> <a href=\"view.php?event=KMT-2021-BLG-1125\">KMT-2021-BLG-1125</a> </td>, <td align=\"left\">  </td>, <td> 4.04 </td>, <td> 2 </td>, <td> 20.70 </td>, <td> 18.91 </td>, <td> 21.68 </td>, <td> 0.184 </td>, <td> 28.21 </td>, <td> 9383.55456 </td>, <td> -29:04:15.20 </td>, <td> 18:01:16.00 </td>, <td> clear </td>, <td> clear </td>, <td> 121871 </td>, <td> BLG15T0308 </td>, <td> <a href=\"view.php?event=KMT-2021-BLG-1140\">KMT-2021-BLG-1140</a> </td>, <td align=\"left\">  </td>, <td> 3.08 </td>, <td> 2 </td>, <td> 20.33 </td>, <td> 18.19 </td>, <td> 19.39 </td>, <td> 0.190 </td>, <td> 27.46 </td>, <td> 9376.84897 </td>, <td> -36:12:28.51 </td>, <td> 17:55:09.63 </td>, <td> probable </td>, <td> clear </td>, <td> 021307 </td>, <td> BLG02K0503 </td>, <td> <a href=\"view.php?event=KMT-2021-BLG-1155\">KMT-2021-BLG-1155</a> </td>, <td align=\"left\">  </td>, <td> 2.52 </td>, <td> 1 </td>, <td> 21.98 </td>, <td> 18.91 </td>, <td> 20.90 </td>, <td> 0.051 </td>, <td> 27.83 </td>, <td> 9371.47396 </td>, <td> -30:33:22.61 </td>, <td> 17:31:58.38 </td>, <td> clear </td>, <td> clear </td>, <td> 020434 </td>, <td> BLG14M0208 </td>, <td> <a href=\"view.php?event=KMT-2021-BLG-1170\">KMT-2021-BLG-1170</a> </td>, <td align=\"left\">  </td>, <td> 2.82 </td>, <td> 2 </td>, <td> 22.94 </td>, <td> 20.00 </td>, <td> 22.49 </td>, <td> 0.039 </td>, <td> 10.70 </td>, <td> 9375.79149 </td>, <td> -26:58:16.93 </td>, <td> 17:34:26.83 </td>, <td> clear </td>, <td> clear </td>, <td> 108767 </td>, <td> BLG18K0506 </td>, <td> <a href=\"view.php?event=KMT-2021-BLG-1185\">KMT-2021-BLG-1185</a> </td>, <td align=\"left\">  </td>, <td> 3.42 </td>, <td> 2 </td>, <td> 20.52 </td>, <td> 20.00 </td>, <td> 21.66 </td>, <td> 0.829 </td>, <td> 52.77 </td>, <td> 9373.16339 </td>, <td> -33:01:52.90 </td>, <td> 17:56:47.64 </td>, <td> clear </td>, <td> clear </td>, <td> 083808 </td>, <td> BLG37K0707 </td>, <td> <a href=\"view.php?event=KMT-2021-BLG-1200\">KMT-2021-BLG-1200</a> </td>, <td align=\"left\">  </td>, <td> 1.12 </td>, <td> 1 </td>, <td> 19.17 </td>, <td> 17.94 </td>, <td> 19.39 </td>, <td> 0.033 </td>, <td> 89.05 </td>, <td> 9374.34623 </td>, <td> -27:08:51.61 </td>, <td> 18:02:00.80 </td>, <td> clear </td>, <td> clear </td>, <td> 001400 </td>, <td> BLG02M0602 </td>, <td> <a href=\"view.php?event=KMT-2021-BLG-1215\">KMT-2021-BLG-1215</a> </td>, <td align=\"left\"> MB21184 </td>, <td> 1.55 </td>, <td> 1 </td>, <td> 19.32 </td>, <td> 19.74 </td>, <td> 20.67 </td>, <td> 0.174 </td>, <td> 24.42 </td>, <td> 9389.27459 </td>, <td> -23:59:26.27 </td>, <td> 17:40:59.65 </td>, <td> clear </td>, <td> clear </td>, <td> 003571 </td>, <td> BLG22M0808 </td>, <td> <a href=\"view.php?event=KMT-2021-BLG-1230\">KMT-2021-BLG-1230</a> </td>, <td align=\"left\">  </td>, <td> 0.77 </td>, <td> 1 </td>, <td> 18.05 </td>, <td> 19.50 </td>, <td> 21.73 </td>, <td> 0.026 </td>, <td> 25.78 </td>, <td> 9373.23105 </td>, <td> -29:08:31.31 </td>, <td> 17:24:20.74 </td>, <td> clear </td>, <td> clear </td>, <td> 004925 </td>, <td> BLG17N0605 </td>, <td> <a href=\"view.php?event=KMT-2021-BLG-1245\">KMT-2021-BLG-1245</a> </td>, <td align=\"left\">  </td>, <td> 3.04 </td>, <td> 1 </td>, <td> 15.98 </td>, <td> 19.31 </td>, <td> 18.32 </td>, <td> 0.413 </td>, <td> 40.87 </td>, <td> 9374.40926 </td>, <td> -29:51:18.22 </td>, <td> 17:33:47.86 </td>, <td> clear </td>, <td> clear </td>, <td> 002588 </td>, <td> BLG17M0408 </td>, <td> <a href=\"view.php?event=KMT-2021-BLG-1260\">KMT-2021-BLG-1260</a> </td>, <td align=\"left\">  </td>, <td> 3.84 </td>, <td> 1 </td>, <td> 19.12 </td>, <td> 18.20 </td>, <td> 22.92 </td>, <td> 0.388 </td>, <td> 41.42 </td>, <td> 9378.91195 </td>, <td> -28:08:20.47 </td>, <td> 17:56:02.78 </td>, <td> possible </td>, <td> clear </td>, <td> 014602 </td>, <td> BLG11T0405 </td>, <td> <a href=\"view.php?event=KMT-2021-BLG-1275\">KMT-2021-BLG-1275</a> </td>, <td align=\"left\">  </td>, <td> 2.84 </td>, <td> 2 </td>, <td> 18.04 </td>, <td> 20.00 </td>, <td> 19.99 </td>, <td> 0.497 </td>, <td> 10.42 </td>, <td> 9398.04137 </td>, <td> -31:22:50.20 </td>, <td> 18:08:45.75 </td>, <td> clear </td>, <td> clear </td>, <td> 089713 </td>, <td> SAO43K0305 </td>, <td> <a href=\"view.php?event=KMT-2021-BLG-1290\">KMT-2021-BLG-1290</a> </td>, <td align=\"left\">  </td>, <td> 1.43 </td>, <td> 2 </td>, <td> 17.93 </td>, <td> 20.00 </td>, <td> 22.80 </td>, <td> 0.924 </td>, <td> 30.00 </td>, <td> 9381.73227 </td>, <td> -28:19:41.59 </td>, <td> 18:02:21.04 </td>, <td> probable </td>, <td> clear </td>, <td> 046480 </td>, <td> BLG04T0707 </td>, <td> <a href=\"view.php?event=KMT-2021-BLG-1305\">KMT-2021-BLG-1305</a> </td>, <td align=\"left\">  </td>, <td> 2.08 </td>, <td> 3 </td>, <td> 21.18 </td>, <td> 16.52 </td>, <td> 21.85 </td>, <td> 0.353 </td>, <td> 80.89 </td>, <td> 9377.82529 </td>, <td> -29:41:16.73 </td>, <td> 17:32:10.54 </td>, <td> clear </td>, <td> clear </td>, <td> 031849 </td>, <td> BLG17T0607 </td>, <td> <a href=\"view.php?event=KMT-2021-BLG-1320\">KMT-2021-BLG-1320</a> </td>, <td align=\"left\">  </td>, <td> 2.71 </td>, <td> 2 </td>, <td> 21.87 </td>, <td> 19.65 </td>, <td> 21.23 </td>, <td> 0.999 </td>, <td> 4.93 </td>, <td> 9377.72948 </td>, <td> -26:02:13.42 </td>, <td> 18:10:23.83 </td>, <td> clear </td>, <td> clear </td>, <td> 011572 </td>, <td> BLG41K0407 </td>, <td> <a href=\"view.php?event=KMT-2021-BLG-1335\">KMT-2021-BLG-1335</a> </td>, <td align=\"left\">  </td>, <td> 1.80 </td>, <td> 1 </td>, <td> 18.78 </td>, <td> 15.87 </td>, <td> 22.03 </td>, <td> 0.356 </td>, <td> 7.03 </td>, <td> 9384.66831 </td>, <td> -29:46:46.20 </td>, <td> 18:05:20.39 </td>, <td> clear </td>, <td> clear </td>, <td> 018018 </td>, <td> BLG14M0605 </td>, <td> <a href=\"view.php?event=KMT-2021-BLG-1350\">KMT-2021-BLG-1350</a> </td>, <td align=\"left\">  </td>, <td> 2.27 </td>, <td> 4 </td>, <td> 18.15 </td>, <td> 18.48 </td>, <td> 20.79 </td>, <td> 0.033 </td>, <td> 4.41 </td>, <td> 9383.18685 </td>, <td> -29:32:51.40 </td>, <td> 17:39:46.81 </td>, <td> clear </td>, <td> clear </td>, <td> 074148 </td>, <td> BLG32K0604 </td>, <td> <a href=\"view.php?event=KMT-2021-BLG-1365\">KMT-2021-BLG-1365</a> </td>, <td align=\"left\">  </td>, <td> 1.90 </td>, <td> 1 </td>, <td> 19.92 </td>, <td> 19.26 </td>, <td> 20.04 </td>, <td> 0.539 </td>, <td> 140.95 </td>, <td> 9395.83237 </td>, <td> -23:10:30.79 </td>, <td> 18:10:37.10 </td>, <td> clear </td>, <td> clear </td>, <td> 007885 </td>, <td> SSO17M0503 </td>, <td> <a href=\"view.php?event=KMT-2021-BLG-1380\">KMT-2021-BLG-1380</a> </td>, <td align=\"left\">  </td>, <td> 1.74 </td>, <td> 4 </td>, <td> 19.01 </td>, <td> 16.81 </td>, <td> 20.59 </td>, <td> 0.074 </td>, <td> 4.30 </td>, <td> 9368.98981 </td>, <td> -27:04:30.22 </td>, <td> 18:04:00.04 </td>, <td> clear </td>, <td> clear </td>, <td> 019517 </td>, <td> SAO11K0607 </td>, <td> <a href=\"view.php?event=KMT-2021-BLG-1395\">KMT-2021-BLG-1395</a> </td>, <td align=\"left\">  </td>, <td> 2.57 </td>, <td> 2 </td>, <td> 22.21 </td>, <td> 18.72 </td>, <td> 21.35 </td>, <td> 0.458 </td>, <td> 12.13 </td>, <td> 9387.62391 </td>, <td> -33:39:46.51 </td>, <td> 17:43:59.72 </td>, <td> clear </td>, <td> X </td>, <td> 070224 </td>, <td> BLG19K0603 </td>, <td> <a href=\"view.php?event=KMT-2021-BLG-1410\">KMT-2021-BLG-1410</a> </td>, <td align=\"left\">  </td>, <td> 2.29 </td>, <td> 1 </td>, <td> 20.54 </td>, <td> 15.26 </td>, <td> 22.00 </td>, <td> 0.573 </td>, <td> 10.25 </td>, <td> 9409.18169 </td>, <td> -27:17:33.68 </td>, <td> 18:09:00.65 </td>, <td> clear </td>, <td> clear </td>, <td> 021935 </td>, <td> BLG37M0407 </td>, <td> <a href=\"view.php?event=KMT-2021-BLG-1425\">KMT-2021-BLG-1425</a> </td>, <td align=\"left\">  </td>, <td> 1.44 </td>, <td> 1 </td>, <td> 20.73 </td>, <td> 17.44 </td>, <td> 18.34 </td>, <td> 0.181 </td>, <td> 26.66 </td>, <td> 9385.73107 </td>, <td> -28:22:02.10 </td>, <td> 17:54:46.44 </td>, <td> clear </td>, <td> clear </td>, <td> 009084 </td>, <td> BLG03N0106 </td>, <td> <a href=\"view.php?event=KMT-2021-BLG-1440\">KMT-2021-BLG-1440</a> </td>, <td align=\"left\">  </td>, <td> 1.86 </td>, <td> 2 </td>, <td> 18.39 </td>, <td> 18.82 </td>, <td> 23.15 </td>, <td> 0.122 </td>, <td> 30.74 </td>, <td> 9379.03490 </td>, <td> -27:30:54.50 </td>, <td> 17:59:42.38 </td>, <td> clear </td>, <td> clear </td>, <td> 060096 </td>, <td> BLG42N0806 </td>, <td> <a href=\"view.php?event=KMT-2021-BLG-1455\">KMT-2021-BLG-1455</a> </td>, <td align=\"left\">  </td>, <td> 2.48 </td>, <td> 2 </td>, <td> 19.36 </td>, <td> 20.00 </td>, <td> 22.93 </td>, <td> 0.395 </td>, <td> 41.70 </td>, <td> 9387.29040 </td>, <td> -23:50:03.98 </td>, <td> 17:52:26.83 </td>, <td> probable </td>, <td> X </td>, <td> 049437 </td>, <td> BLG42T0806 </td>, <td> <a href=\"view.php?event=KMT-2021-BLG-1470\">KMT-2021-BLG-1470</a> </td>, <td align=\"left\">  </td>, <td> 3.23 </td>, <td> 2 </td>, <td> 25.00 </td>, <td> 18.59 </td>, <td> 19.16 </td>, <td> 0.216 </td>, <td> 4.92 </td>, <td> 9426.15283 </td>, <td> -24:53:00.10 </td>, <td> 17:48:43.72 </td>, <td> clear </td>, <td> clear </td>, <td> 067083 </td>, <td> BLG34K0106 </td>, <td> <a href=\"view.php?event=KMT-2021-BLG-1485\">KMT-2021-BLG-1485</a> </td>, <td align=\"left\">  </td>, <td> 1.12 </td>, <td> 1 </td>, <td> 19.24 </td>, <td> 19.74 </td>, <td> 21.57 </td>, <td> 0.303 </td>, <td> 10.38 </td>, <td> 9405.73197 </td>, <td> -28:50:24.14 </td>, <td> 17:58:33.47 </td>, <td> clear </td>, <td> clear </td>, <td> 034346 </td>, <td> SAO04T0501 </td>, <td> <a href=\"view.php?event=KMT-2021-BLG-1500\">KMT-2021-BLG-1500</a> </td>, <td align=\"left\">  </td>, <td> 2.76 </td>, <td> 2 </td>, <td> 20.00 </td>, <td> 19.36 </td>, <td> 20.72 </td>, <td> 0.454 </td>, <td> 53.45 </td>, <td> 9393.61792 </td>, <td> -25:29:38.33 </td>, <td> 17:43:10.99 </td>, <td> clear </td>, <td> clear </td>, <td> 000805 </td>, <td> BLG22N0302 </td>, <td> <a href=\"view.php?event=KMT-2021-BLG-1515\">KMT-2021-BLG-1515</a> </td>, <td align=\"left\">  </td>, <td> 1.48 </td>, <td> 2 </td>, <td> 19.88 </td>, <td> 17.95 </td>, <td> 22.04 </td>, <td> 0.120 </td>, <td> 130.76 </td>, <td> 9392.86489 </td>, <td> -28:51:02.41 </td>, <td> 17:54:31.53 </td>, <td> clear </td>, <td> X </td>, <td> 089532 </td>, <td> BLG16M0106 </td>, <td> <a href=\"view.php?event=KMT-2021-BLG-1530\">KMT-2021-BLG-1530</a> </td>, <td align=\"left\">  </td>, <td> 2.99 </td>, <td> 1 </td>, <td> 18.68 </td>, <td> 19.41 </td>, <td> 19.21 </td>, <td> 0.579 </td>, <td> 5.91 </td>, <td> 9396.50054 </td>, <td> -35:06:15.62 </td>, <td> 17:35:41.64 </td>, <td> clear </td>, <td> clear </td>, <td> 012403 </td>, <td> BLG22M0506 </td>, <td> <a href=\"view.php?event=KMT-2021-BLG-1545\">KMT-2021-BLG-1545</a> </td>, <td align=\"left\">  </td>, <td> 0.98 </td>, <td> 1 </td>, <td> 17.25 </td>, <td> 17.18 </td>, <td> 20.21 </td>, <td> 0.049 </td>, <td> 11.45 </td>, <td> 9391.82804 </td>, <td> -31:51:51.70 </td>, <td> 17:52:55.38 </td>, <td> probable </td>, <td> clear </td>, <td> 069269 </td>, <td> BLG18K0406 </td>, <td> <a href=\"view.php?event=KMT-2021-BLG-1560\">KMT-2021-BLG-1560</a> </td>, <td align=\"left\"> MB21251 </td>, <td> 2.45 </td>, <td> 1 </td>, <td> 18.03 </td>, <td> 17.46 </td>, <td> 20.53 </td>, <td> 0.146 </td>, <td> 4.61 </td>, <td> 9399.62163 </td>, <td> -29:09:43.24 </td>, <td> 17:23:14.98 </td>, <td> clear </td>, <td> clear </td>, <td> 032476 </td>, <td> BLG11M0806 </td>, <td> <a href=\"view.php?event=KMT-2021-BLG-1575\">KMT-2021-BLG-1575</a> </td>, <td align=\"left\">  </td>, <td> 1.93 </td>, <td> 2 </td>, <td> 20.30 </td>, <td> 19.84 </td>, <td> 25.35 </td>, <td> 0.023 </td>, <td> 15.17 </td>, <td> 9406.48799 </td>, <td> -24:04:31.40 </td>, <td> 17:49:15.38 </td>, <td> clear </td>, <td> clear </td>, <td> 059352 </td>, <td> BLG19K0602 </td>, <td> <a href=\"view.php?event=KMT-2021-BLG-1590\">KMT-2021-BLG-1590</a> </td>, <td align=\"left\">  </td>, <td> 1.40 </td>, <td> 1 </td>, <td> 17.98 </td>, <td> 18.87 </td>, <td> 19.03 </td>, <td> 0.131 </td>, <td> 17.58 </td>, <td> 9396.22612 </td>, <td> -24:44:55.50 </td>, <td> 18:13:40.09 </td>, <td> clear </td>, <td> clear </td>, <td> 067002 </td>, <td> BLG43M0305 </td>, <td> <a href=\"view.php?event=KMT-2021-BLG-1605\">KMT-2021-BLG-1605</a> </td>, <td align=\"left\">  </td>, <td> 2.35 </td>, <td> 2 </td>, <td> 19.12 </td>, <td> 20.00 </td>, <td> 20.05 </td>, <td> 0.185 </td>, <td> 44.15 </td>, <td> 9398.94456 </td>, <td> -27:48:23.44 </td>, <td> 18:07:13.68 </td>, <td> clear </td>, <td> possible </td>, <td> 029755 </td>, <td> BLG41M0407 </td>, <td> <a href=\"view.php?event=KMT-2021-BLG-1620\">KMT-2021-BLG-1620</a> </td>, <td align=\"left\"> MB21227 </td>, <td> 0.78 </td>, <td> 2 </td>, <td> 18.94 </td>, <td> 20.00 </td>, <td> 20.22 </td>, <td> 0.181 </td>, <td> 5.66 </td>, <td> 9403.58087 </td>, <td> -28:34:26.90 </td>, <td> 18:10:34.57 </td>, <td> clear </td>, <td> clear </td>, <td> 006948 </td>, <td> BLG41K0602 </td>, <td> <a href=\"view.php?event=KMT-2021-BLG-1635\">KMT-2021-BLG-1635</a> </td>, <td align=\"left\">  </td>, <td> 2.77 </td>, <td> 1 </td>, <td> 19.26 </td>, <td> 20.00 </td>, <td> 19.66 </td>, <td> 0.416 </td>, <td> 19.48 </td>, <td> 9402.28811 </td>, <td> -27:50:20.36 </td>, <td> 17:33:23.33 </td>, <td> probable </td>, <td> clear </td>, <td> 096049 </td>, <td> BLG15N0608 </td>, <td> <a href=\"view.php?event=KMT-2021-BLG-1650\">KMT-2021-BLG-1650</a> </td>, <td align=\"left\">  </td>, <td> 1.98 </td>, <td> 2 </td>, <td> 19.41 </td>, <td> 20.00 </td>, <td> 23.90 </td>, <td> 0.271 </td>, <td> 47.88 </td>, <td> 9473.98411 </td>, <td> -28:59:04.49 </td>, <td> 17:59:45.53 </td>, <td> clear </td>, <td> X </td>, <td> 039226 </td>, <td> BLG03N0405 </td>, <td> <a href=\"view.php?event=KMT-2021-BLG-1665\">KMT-2021-BLG-1665</a> </td>, <td align=\"left\">  </td>, <td> 0.83 </td>, <td> 1 </td>, <td> 22.10 </td>, <td> 20.00 </td>, <td> 20.70 </td>, <td> 0.504 </td>, <td> 18.03 </td>, <td> 9428.31074 </td>, <td> -26:24:46.12 </td>, <td> 17:45:01.40 </td>, <td> clear </td>, <td> X </td>, <td> 028212 </td>, <td> BLG22N0502 </td>, <td> <a href=\"view.php?event=KMT-2021-BLG-1680\">KMT-2021-BLG-1680</a> </td>, <td align=\"left\">  </td>, <td> 0.71 </td>, <td> 2 </td>, <td> 21.13 </td>, <td> 19.55 </td>, <td> 19.46 </td>, <td> 0.268 </td>, <td> 0.96 </td>, <td> 9406.23933 </td>, <td> -30:08:43.12 </td>, <td> 17:53:37.74 </td>, <td> clear </td>, <td> clear </td>, <td> 065517 </td>, <td> BLG02T0808 </td>, <td> <a href=\"view.php?event=KMT-2021-BLG-1695\">KMT-2021-BLG-1695</a> </td>, <td align=\"left\">  </td>, <td> 2.76 </td>, <td> 2 </td>, <td> 17.29 </td>, <td> 20.00 </td>, <td> 20.46 </td>, <td> 0.089 </td>, <td> 15.65 </td>, <td> 9407.41775 </td>, <td> -28:36:01.04 </td>, <td> 17:37:39.08 </td>, <td> clear </td>, <td> clear </td>, <td> 033895 </td>, <td> BLG15N0503 </td>, <td> <a href=\"view.php?event=KMT-2021-BLG-1710\">KMT-2021-BLG-1710</a> </td>, <td align=\"left\">  </td>, <td> 3.46 </td>, <td> 2 </td>, <td> 21.34 </td>, <td> 19.46 </td>, <td> 20.00 </td>, <td> 0.208 </td>, <td> 123.88 </td>, <td> 9415.60802 </td>, <td> -27:05:11.40 </td>, <td> 18:11:45.83 </td>, <td> clear </td>, <td> clear </td>, <td> 002730 </td>, <td> BLG35M0106 </td>, <td> <a href=\"view.php?event=KMT-2021-BLG-1725\">KMT-2021-BLG-1725</a> </td>, <td align=\"left\">  </td>, <td> 1.95 </td>, <td> 3 </td>, <td> 25.00 </td>, <td> 18.26 </td>, <td> 19.99 </td>, <td> 0.127 </td>, <td> 20.82 </td>, <td> 9409.39113 </td>, <td> -26:57:29.99 </td>, <td> 17:57:26.83 </td>, <td> probable </td>, <td> clear </td>, <td> 047405 </td>, <td> BLG04T0701 </td>, <td> <a href=\"view.php?event=KMT-2021-BLG-1740\">KMT-2021-BLG-1740</a> </td>, <td align=\"left\">  </td>, <td> 2.53 </td>, <td> 1 </td>, <td> 19.20 </td>, <td> 19.43 </td>, <td> 18.12 </td>, <td> 0.171 </td>, <td> 125.84 </td>, <td> 9407.51713 </td>, <td> -31:09:29.02 </td>, <td> 17:52:52.75 </td>, <td> clear </td>, <td> clear </td>, <td> 079511 </td>, <td> BLG17M0103 </td>, <td> <a href=\"view.php?event=KMT-2021-BLG-1755\">KMT-2021-BLG-1755</a> </td>, <td align=\"left\">  </td>, <td> 2.63 </td>, <td> 1 </td>, <td> 17.37 </td>, <td> 20.00 </td>, <td> 18.44 </td>, <td> 0.004 </td>, <td> 13.95 </td>, <td> 9416.89008 </td>, <td> -26:53:01.21 </td>, <td> 17:42:20.14 </td>, <td> probable </td>, <td> clear </td>, <td> 007626 </td>, <td> BLG43K0506 </td>, <td> <a href=\"view.php?event=KMT-2021-BLG-1770\">KMT-2021-BLG-1770</a> </td>, <td align=\"left\">  </td>, <td> 0.80 </td>, <td> 1 </td>, <td> 21.67 </td>, <td> 20.00 </td>, <td> 21.25 </td>, <td> 0.035 </td>, <td> 88.55 </td>, <td> 9422.59319 </td>, <td> -24:34:22.91 </td>, <td> 17:44:11.53 </td>, <td> clear </td>, <td> clear </td>, <td> 026419 </td>, <td> BLG31K0802 </td>, <td> <a href=\"view.php?event=KMT-2021-BLG-1785\">KMT-2021-BLG-1785</a> </td>, <td align=\"left\"> MB21254 </td>, <td> 2.41 </td>, <td> 1 </td>, <td> 16.32 </td>, <td> 19.32 </td>, <td> 23.75 </td>, <td> 0.525 </td>, <td> 5.02 </td>, <td> 9420.32007 </td>, <td> -27:53:45.24 </td>, <td> 17:53:19.72 </td>, <td> clear </td>, <td> clear </td>, <td> 024998 </td>, <td> BLG02T0408 </td>, <td> <a href=\"view.php?event=KMT-2021-BLG-1800\">KMT-2021-BLG-1800</a> </td>, <td align=\"left\">  </td>, <td> 0.83 </td>, <td> 1 </td>, <td> 18.93 </td>, <td> 17.96 </td>, <td> 19.65 </td>, <td> 0.606 </td>, <td> 30.18 </td>, <td> 9412.57431 </td>, <td> -30:21:32.76 </td>, <td> 17:30:13.81 </td>, <td> clear </td>, <td> possible </td>, <td> 062992 </td>, <td> BLG14M0205 </td>, <td> <a href=\"view.php?event=KMT-2021-BLG-1815\">KMT-2021-BLG-1815</a> </td>, <td align=\"left\">  </td>, <td> 3.13 </td>, <td> 2 </td>, <td> 21.00 </td>, <td> 20.00 </td>, <td> 20.32 </td>, <td> 0.256 </td>, <td> 58.46 </td>, <td> 9426.38585 </td>, <td> -34:10:00.37 </td>, <td> 17:45:34.40 </td>, <td> clear </td>, <td> clear </td>, <td> 030286 </td>, <td> BLG32T0801 </td>, <td> <a href=\"view.php?event=KMT-2021-BLG-1830\">KMT-2021-BLG-1830</a> </td>, <td align=\"left\"> MB21289 </td>, <td> 1.54 </td>, <td> 1 </td>, <td> 19.21 </td>, <td> 20.00 </td>, <td> 19.86 </td>, <td> 0.002 </td>, <td> 181.14 </td>, <td> 9434.84679 </td>, <td> -29:33:33.08 </td>, <td> 17:32:01.23 </td>, <td> clear </td>, <td> clear </td>, <td> 063397 </td>, <td> BLG31T0806 </td>, <td> <a href=\"view.php?event=KMT-2021-BLG-1845\">KMT-2021-BLG-1845</a> </td>, <td align=\"left\"> MB21371 </td>, <td> 1.67 </td>, <td> 1 </td>, <td> 20.12 </td>, <td> 19.12 </td>, <td> 18.15 </td>, <td> 0.105 </td>, <td> 42.57 </td>, <td> 9418.24331 </td>, <td> -30:59:19.79 </td>, <td> 17:59:40.85 </td>, <td> clear </td>, <td> clear </td>, <td> 002105 </td>, <td> BLG19T0103 </td>, <td> <a href=\"view.php?event=KMT-2021-BLG-1860\">KMT-2021-BLG-1860</a> </td>, <td align=\"left\">  </td>, <td> 0.71 </td>, <td> 1 </td>, <td> 21.99 </td>, <td> 16.79 </td>, <td> 21.03 </td>, <td> 0.046 </td>, <td> 23.77 </td>, <td> 9423.63586 </td>, <td> -26:07:38.71 </td>, <td> 18:03:38.41 </td>, <td> probable </td>, <td> clear </td>, <td> 005008 </td>, <td> BLG21N0501 </td>, <td> <a href=\"view.php?event=KMT-2021-BLG-1875\">KMT-2021-BLG-1875</a> </td>, <td align=\"left\">  </td>, <td> 2.33 </td>, <td> 1 </td>, <td> 18.53 </td>, <td> 17.01 </td>, <td> 22.29 </td>, <td> 0.165 </td>, <td> 48.62 </td>, <td> 9430.82423 </td>, <td> -27:05:40.42 </td>, <td> 17:59:24.33 </td>, <td> clear </td>, <td> clear </td>, <td> 022713 </td>, <td> BLG12M0708 </td>, <td> <a href=\"view.php?event=KMT-2021-BLG-1890\">KMT-2021-BLG-1890</a> </td>, <td align=\"left\">  </td>, <td> 2.98 </td>, <td> 2 </td>, <td> 20.38 </td>, <td> 17.68 </td>, <td> 20.85 </td>, <td> 0.215 </td>, <td> 69.58 </td>, <td> 9421.53307 </td>, <td> -34:27:24.59 </td>, <td> 18:14:00.99 </td>, <td> clear </td>, <td> clear </td>, <td> 037343 </td>, <td> SAO35T0702 </td>, <td> <a href=\"view.php?event=KMT-2021-BLG-1905\">KMT-2021-BLG-1905</a> </td>, <td align=\"left\"> MB21331 </td>, <td> 4.68 </td>, <td> 1 </td>, <td> 17.49 </td>, <td> 17.01 </td>, <td> 22.96 </td>, <td> 0.648 </td>, <td> 18.41 </td>, <td> 9433.58858 </td>, <td> -26:13:22.58 </td>, <td> 17:40:49.69 </td>, <td> clear </td>, <td> clear </td>, <td> 012285 </td>, <td> SAO22N0507 </td>, <td> <a href=\"view.php?event=KMT-2021-BLG-1920\">KMT-2021-BLG-1920</a> </td>, <td align=\"left\">  </td>, <td> 0.82 </td>, <td> 1 </td>, <td> 16.34 </td>, <td> 18.78 </td>, <td> 25.29 </td>, <td> 0.743 </td>, <td> 198.23 </td>, <td> 9444.52002 </td>, <td> -26:34:51.82 </td>, <td> 17:46:14.82 </td>, <td> clear </td>, <td> clear </td>, <td> 003912 </td>, <td> SAO37M0602 </td>, <td> <a href=\"view.php?event=KMT-2021-BLG-1935\">KMT-2021-BLG-1935</a> </td>, <td align=\"left\"> MB21306 </td>, <td> 1.55 </td>, <td> 2 </td>, <td> 15.77 </td>, <td> 14.80 </td>, <td> 19.54 </td>, <td> 0.907 </td>, <td> 127.76 </td>, <td> 9425.72632 </td>, <td> -30:16:51.49 </td>, <td> 17:24:35.41 </td>, <td> clear </td>, <td> clear </td>, <td> 010962 </td>, <td> BLG17N0706 </td>, <td> <a href=\"view.php?event=KMT-2021-BLG-1950\">KMT-2021-BLG-1950</a> </td>, <td align=\"left\">  </td>, <td> 2.16 </td>, <td> 2 </td>, <td> 19.87 </td>, <td> 20.00 </td>, <td> 21.55 </td>, <td> 0.150 </td>, <td> 67.48 </td>, <td> 9423.69372 </td>, <td> -27:22:54.08 </td>, <td> 18:02:48.77 </td>, <td> clear </td>, <td> clear </td>, <td> 030087 </td>, <td> BLG01K0503 </td>, <td> <a href=\"view.php?event=KMT-2021-BLG-1965\">KMT-2021-BLG-1965</a> </td>, <td align=\"left\"> MB21337 </td>, <td> 1.94 </td>, <td> 1 </td>, <td> 21.26 </td>, <td> 18.76 </td>, <td> 14.19 </td>, <td> 0.045 </td>, <td> 6.87 </td>, <td> 9425.97755 </td>, <td> -29:59:13.99 </td>, <td> 18:00:35.92 </td>, <td> clear </td>, <td> clear </td>, <td> 038900 </td>, <td> BLG13M0106 </td>, <td> <a href=\"view.php?event=KMT-2021-BLG-1980\">KMT-2021-BLG-1980</a> </td>, <td align=\"left\">  </td>, <td> 2.91 </td>, <td> 2 </td>, <td> 19.14 </td>, <td> 20.00 </td>, <td> 21.29 </td>, <td> 0.491 </td>, <td> 32.21 </td>, <td> 9432.06837 </td>, <td> -25:28:17.00 </td>, <td> 18:09:27.60 </td>, <td> clear </td>, <td> clear </td>, <td> 050771 </td>, <td> BLG38M0707 </td>, <td> <a href=\"view.php?event=KMT-2021-BLG-1995\">KMT-2021-BLG-1995</a> </td>, <td align=\"left\"> MB21332 </td>, <td> 1.26 </td>, <td> 1 </td>, <td> 18.44 </td>, <td> 19.57 </td>, <td> 18.09 </td>, <td> 0.013 </td>, <td> 49.47 </td>, <td> 9430.20242 </td>, <td> -22:13:13.01 </td>, <td> 17:59:00.26 </td>, <td> clear </td>, <td> clear </td>, <td> 092705 </td>, <td> BLG38T0306 </td>, <td> <a href=\"view.php?event=KMT-2021-BLG-2010\">KMT-2021-BLG-2010</a> </td>, <td align=\"left\">  </td>, <td> 3.06 </td>, <td> 1 </td>, <td> 19.37 </td>, <td> 19.57 </td>, <td> 20.17 </td>, <td> 0.070 </td>, <td> 2.33 </td>, <td> 9424.80879 </td>, <td> -26:54:28.62 </td>, <td> 17:34:18.11 </td>, <td> clear </td>, <td> possible </td>, <td> 017421 </td>, <td> BLG43T0301 </td>, <td> <a href=\"view.php?event=KMT-2021-BLG-2025\">KMT-2021-BLG-2025</a> </td>, <td align=\"left\">  </td>, <td> 1.56 </td>, <td> 1 </td>, <td> 19.11 </td>, <td> 19.48 </td>, <td> 22.71 </td>, <td> 0.273 </td>, <td> 18.73 </td>, <td> 9437.04731 </td>, <td> -26:10:18.44 </td>, <td> 17:45:31.47 </td>, <td> clear </td>, <td> clear </td>, <td> 017880 </td>, <td> SAO41T0802 </td>, <td> <a href=\"view.php?event=KMT-2021-BLG-2040\">KMT-2021-BLG-2040</a> </td>, <td align=\"left\">  </td>, <td> 3.45 </td>, <td> 1 </td>, <td> 21.54 </td>, <td> 19.86 </td>, <td> 21.26 </td>, <td> 0.236 </td>, <td> 5.72 </td>, <td> 9438.78972 </td>, <td> -26:51:43.96 </td>, <td> 17:45:52.94 </td>, <td> clear </td>, <td> possible </td>, <td> 010600 </td>, <td> SAO02T0201 </td>, <td> <a href=\"view.php?event=KMT-2021-BLG-2055\">KMT-2021-BLG-2055</a> </td>, <td align=\"left\">  </td>, <td> 2.54 </td>, <td> 1 </td>, <td> 19.58 </td>, <td> 19.31 </td>, <td> 20.77 </td>, <td> 0.005 </td>, <td> 2.29 </td>, <td> 9440.29115 </td>, <td> -28:17:11.47 </td>, <td> 17:41:17.89 </td>, <td> clear </td>, <td> clear </td>, <td> 001815 </td>, <td> BLG15N0701 </td>, <td> <a href=\"view.php?event=KMT-2021-BLG-2070\">KMT-2021-BLG-2070</a> </td>, <td align=\"left\">  </td>, <td> 3.17 </td>, <td> 2 </td>, <td> 20.56 </td>, <td> 18.74 </td>, <td> 18.81 </td>, <td> 0.798 </td>, <td> 2.19 </td>, <td> 9436.50336 </td>, <td> -31:08:13.63 </td>, <td> 17:56:47.54 </td>, <td> clear </td>, <td> clear </td>, <td> 017613 </td>, <td> BLG02T0504 </td>, <td> <a href=\"view.php?event=KMT-2021-BLG-2085\">KMT-2021-BLG-2085</a> </td>, <td align=\"left\">  </td>, <td> 4.48 </td>, <td> 1 </td>, <td> 19.71 </td>, <td> 20.00 </td>, <td> 21.63 </td>, <td> 0.142 </td>, <td> 133.69 </td>, <td> 9443.99407 </td>, <td> -33:58:00.19 </td>, <td> 17:44:03.10 </td>, <td> clear </td>, <td> X </td>, <td> 015678 </td>, <td> BLG03N0603 </td>, <td> <a href=\"view.php?event=KMT-2021-BLG-2100\">KMT-2021-BLG-2100</a> </td>, <td align=\"left\">  </td>, <td> 1.75 </td>, <td> 2 </td>, <td> 18.97 </td>, <td> 19.22 </td>, <td> 19.34 </td>, <td> 0.090 </td>, <td> 8.34 </td>, <td> 9437.49815 </td>, <td> -26:38:07.58 </td>, <td> 18:00:07.58 </td>, <td> clear </td>, <td> clear </td>, <td> 058880 </td>, <td> SAO42K0501 </td>, <td> <a href=\"view.php?event=KMT-2021-BLG-2115\">KMT-2021-BLG-2115</a> </td>, <td align=\"left\">  </td>, <td> 0.95 </td>, <td> 1 </td>, <td> 18.23 </td>, <td> 17.73 </td>, <td> 20.60 </td>, <td> 0.038 </td>, <td> 36.43 </td>, <td> 9438.23764 </td>, <td> -31:20:46.68 </td>, <td> 17:56:02.57 </td>, <td> probable </td>, <td> clear </td>, <td> 016325 </td>, <td> BLG03M0503 </td>, <td> <a href=\"view.php?event=KMT-2021-BLG-2130\">KMT-2021-BLG-2130</a> </td>, <td align=\"left\">  </td>, <td> 2.36 </td>, <td> 2 </td>, <td> 21.74 </td>, <td> 20.00 </td>, <td> 19.92 </td>, <td> 0.088 </td>, <td> 48.02 </td>, <td> 9441.13463 </td>, <td> -27:19:57.65 </td>, <td> 17:36:30.41 </td>, <td> clear </td>, <td> clear </td>, <td> 024053 </td>, <td> BLG19K0101 </td>, <td> <a href=\"view.php?event=KMT-2021-BLG-2145\">KMT-2021-BLG-2145</a> </td>, <td align=\"left\">  </td>, <td> 3.24 </td>, <td> 2 </td>, <td> 18.25 </td>, <td> 20.00 </td>, <td> 21.21 </td>, <td> 0.168 </td>, <td> 15.54 </td>, <td> 9443.93536 </td>, <td> -34:22:16.07 </td>, <td> 17:58:30.91 </td>, <td> probable </td>, <td> clear </td>, <td> 061503 </td>, <td> BLG42T0606 </td>, <td> <a href=\"view.php?event=KMT-2021-BLG-2160\">KMT-2021-BLG-2160</a> </td>, <td align=\"left\">  </td>, <td> 3.38 </td>, <td> 1 </td>, <td> 25.00 </td>, <td> 18.77 </td>, <td> 20.36 </td>, <td> 0.025 </td>, <td> 44.22 </td>, <td> 9453.07693 </td>, <td> -29:32:18.20 </td>, <td> 17:54:48.50 </td>, <td> clear </td>, <td> clear </td>, <td> 077754 </td>, <td> BLG04K0402 </td>, <td> <a href=\"view.php?event=KMT-2021-BLG-2175\">KMT-2021-BLG-2175</a> </td>, <td align=\"left\">  </td>, <td> 1.77 </td>, <td> 2 </td>, <td> 17.18 </td>, <td> 19.33 </td>, <td> 19.92 </td>, <td> 0.064 </td>, <td> 51.71 </td>, <td> 9439.77000 </td>, <td> -28:38:15.22 </td>, <td> 17:47:40.89 </td>, <td> clear </td>, <td> clear </td>, <td> 015771 </td>, <td> SAO42N0406 </td>, <td> <a href=\"view.php?event=KMT-2021-BLG-2190\">KMT-2021-BLG-2190</a> </td>, <td align=\"left\">  </td>, <td> 2.08 </td>, <td> 2 </td>, <td> 19.82 </td>, <td> 18.25 </td>, <td> 21.02 </td>, <td> 0.054 </td>, <td> 17.62 </td>, <td> 9481.28161 </td>, <td> -26:24:58.82 </td>, <td> 17:33:45.23 </td>, <td> clear </td>, <td> clear </td>, <td> 049534 </td>, <td> BLG32T0101 </td>, <td> <a href=\"view.php?event=KMT-2021-BLG-2205\">KMT-2021-BLG-2205</a> </td>, <td align=\"left\">  </td>, <td> 1.18 </td>, <td> 1 </td>, <td> 19.61 </td>, <td> 19.01 </td>, <td> 19.61 </td>, <td> 0.584 </td>, <td> 37.06 </td>, <td> 9445.67057 </td>, <td> -30:00:49.21 </td>, <td> 17:54:09.81 </td>, <td> clear </td>, <td> clear </td>, <td> 020569 </td>, <td> BLG03T0208 </td>, <td> <a href=\"view.php?event=KMT-2021-BLG-2220\">KMT-2021-BLG-2220</a> </td>, <td align=\"left\">  </td>, <td> 1.04 </td>, <td> 2 </td>, <td> 20.48 </td>, <td> 20.00 </td>, <td> 23.36 </td>, <td> 0.282 </td>, <td> 88.51 </td>, <td> 9452.50422 </td>, <td> -35:39:35.71 </td>, <td> 18:16:19.80 </td>, <td> clear </td>, <td> clear </td>, <td> 005563 </td>, <td> BLG34T0306 </td>, <td> <a href=\"view.php?event=KMT-2021-BLG-2235\">KMT-2021-BLG-2235</a> </td>, <td align=\"left\">  </td>, <td> 1.87 </td>, <td> 1 </td>, <td> 19.31 </td>, <td> 18.85 </td>, <td> 20.57 </td>, <td> 0.900 </td>, <td> 42.97 </td>, <td> 9454.82126 </td>, <td> -29:30:46.69 </td>, <td> 18:01:32.68 </td>, <td> clear </td>, <td> clear </td>, <td> 052757 </td>, <td> SAO11N0107 </td>, <td> <a href=\"view.php?event=KMT-2021-BLG-2250\">KMT-2021-BLG-2250</a> </td>, <td align=\"left\">  </td>, <td> 3.33 </td>, <td> 2 </td>, <td> 19.54 </td>, <td> 20.00 </td>, <td> 17.33 </td>, <td> 0.959 </td>, <td> 37.53 </td>, <td> 9453.53445 </td>, <td> -26:09:32.18 </td>, <td> 18:18:40.36 </td>, <td> clear </td>, <td> X </td>, <td> 036717 </td>, <td> BLG02M0801 </td>, <td> <a href=\"view.php?event=KMT-2021-BLG-2265\">KMT-2021-BLG-2265</a> </td>, <td align=\"left\">  </td>, <td> 0.77 </td>, <td> 2 </td>, <td> 20.01 </td>, <td> 18.62 </td>, <td> 19.33 </td>, <td> 0.308 </td>, <td> 28.94 </td>, <td> 9463.95126 </td>, <td> -24:02:48.91 </td>, <td> 17:54:28.84 </td>, <td> clear </td>, <td> clear </td>, <td> 030042 </td>, <td> BLG02N0801 </td>, <td> <a href=\"view.php?event=KMT-2021-BLG-2280\">KMT-2021-BLG-2280</a> </td>, <td align=\"left\">  </td>, <td> 2.70 </td>, <td> 1 </td>, <td> 17.41 </td>, <td> 19.65 </td>, <td> 19.84 </td>, <td> 0.399 </td>, <td> 38.52 </td>, <td> 9486.12508 </td>, <td> -32:35:26.81 </td>, <td> 17:58:23.95 </td>, <td> clear </td>, <td> clear </td>, <td> 058471 </td>, <td> SAO43T0305 </td>, <td> <a href=\"view.php?event=KMT-2021-BLG-2295\">KMT-2021-BLG-2295</a> </td>, <td align=\"left\">  </td>, <td> 1.59 </td>, <td> 1 </td>, <td> 18.65 </td>, <td> 17.55 </td>, <td> 25.56 </td>, <td> 0.024 </td>, <td> 18.16 </td>, <td> 9468.66281 </td>, <td> -30:08:44.81 </td>, <td> 17:31:47.19 </td>, <td> clear </td>, <td> clear </td>, <td> 004491 </td>, <td> BLG14M0308 </td>, <td> <a href=\"view.php?event=KMT-2021-BLG-2310\">KMT-2021-BLG-2310</a> </td>, <td align=\"left\">  </td>, <td> 3.04 </td>, <td> 2 </td>, <td> 17.40 </td>, <td> 20.00 </td>, <td> 21.65 </td>, <td> 0.283 </td>, <td> 7.59 </td>, <td> 9477.66991 </td>, <td> -33:41:31.06 </td>, <td> 18:09:44.82 </td>, <td> clear </td>, <td> clear </td>, <td> 056792 </td>, <td> BLG32T0604 </td>, <td> <a href=\"view.php?event=KMT-2021-BLG-2325\">KMT-2021-BLG-2325</a> </td>, <td align=\"left\">  </td>, <td> 1.13 </td>, <td> 2 </td>, <td> 20.10 </td>, <td> 16.84 </td>, <td> 19.86 </td>, <td> 0.265 </td>, <td> 51.36 </td>, <td> 9459.58911 </td>, <td> -29:16:11.39 </td>, <td> 18:05:26.02 </td>, <td> clear </td>, <td> clear </td>, <td> 021213 </td>, <td> SAO03M0407 </td>, <td> <a href=\"view.php?event=KMT-2021-BLG-2340\">KMT-2021-BLG-2340</a> </td>, <td align=\"left\"> MB21367 </td>, <td> 1.09 </td>, <td> 1 </td>, <td> 17.45 </td>, <td> 20.00 </td>, <td> 22.29 </td>, <td> 0.006 </td>, <td> 11.30 </td>, <td> 9466.63561 </td>, <td> -27:26:12.91 </td>, <td> 18:14:38.16 </td>, <td> probable </td>, <td> clear </td>, <td> 075871 </td>, <td> BLG42T0701 </td>, <td> <a href=\"view.php?event=KMT-2021-BLG-2355\">KMT-2021-BLG-2355</a> </td>, <td align=\"left\">  </td>, <td> 2.43 </td>, <td> 1 </td>, <td> 19.09 </td>, <td> 19.47 </td>, <td> 24.06 </td>, <td> 0.406 </td>, <td> 13.00 </td>, <td> 9458.91748 </td>, <td> -30:48:37.44 </td>, <td> 17:35:08.28 </td>, <td> clear </td>, <td> clear </td>, <td> 001454 </td>, <td> BLG17M0202 </td>, <td> <a href=\"view.php?event=KMT-2021-BLG-2370\">KMT-2021-BLG-2370</a> </td>, <td align=\"left\">  </td>, <td> 3.70 </td>, <td> 1 </td>, <td> 17.73 </td>, <td> 19.76 </td>, <td> 19.85 </td>, <td> 0.100 </td>, <td> 15.90 </td>, <td> 9458.29551 </td>, <td> -30:46:57.11 </td>, <td> 17:50:45.34 </td>, <td> clear </td>, <td> clear </td>, <td> 083696 </td>, <td> BLG11M0108 </td>, <td> <a href=\"view.php?event=KMT-2021-BLG-2385\">KMT-2021-BLG-2385</a> </td>, <td align=\"left\">  </td>, <td> 2.86 </td>, <td> 1 </td>, <td> 20.08 </td>, <td> 19.30 </td>, <td> 21.14 </td>, <td> 0.204 </td>, <td> 25.30 </td>, <td> 9458.60918 </td>, <td> -29:22:30.00 </td>, <td> 18:10:47.15 </td>, <td> probable </td>, <td> clear </td>, <td> 051225 </td>, <td> BLG36K0401 </td>, <td> <a href=\"view.php?event=KMT-2021-BLG-2400\">KMT-2021-BLG-2400</a> </td>, <td align=\"left\">  </td>, <td> 1.96 </td>, <td> 1 </td>, <td> 16.77 </td>, <td> 18.81 </td>, <td> 20.21 </td>, <td> 0.295 </td>, <td> 54.87 </td>, <td> 9508.29953 </td>, <td> -29:31:18.59 </td>, <td> 17:39:27.51 </td>, <td> clear </td>, <td> X </td>, <td> 042437 </td>, <td> BLG15T0702 </td>, <td> <a href=\"view.php?event=KMT-2021-BLG-2415\">KMT-2021-BLG-2415</a> </td>, <td align=\"left\">  </td>, <td> 1.55 </td>, <td> 1 </td>, <td> 22.93 </td>, <td> 20.00 </td>, <td> 20.66 </td>, <td> 0.056 </td>, <td> 22.43 </td>, <td> 9469.68135 </td>, <td> -24:39:52.31 </td>, <td> 17:46:43.78 </td>, <td> clear </td>, <td> clear </td>, <td> 075351 </td>, <td> BLG41K0504 </td>, <td> <a href=\"view.php?event=KMT-2021-BLG-2430\">KMT-2021-BLG-2430</a> </td>, <td align=\"left\">  </td>, <td> 1.70 </td>, <td> 1 </td>, <td> 17.03 </td>, <td> 20.00 </td>, <td> 17.26 </td>, <td> 0.118 </td>, <td> 56.17 </td>, <td> 9459.88976 </td>, <td> -28:50:45.31 </td>, <td> 17:59:31.33 </td>, <td> clear </td>, <td> clear </td>, <td> 052328 </td>, <td> BLG04K0706 </td>, <td> <a href=\"view.php?event=KMT-2021-BLG-2445\">KMT-2021-BLG-2445</a> </td>, <td align=\"left\">  </td>, <td> 1.67 </td>, <td> 2 </td>, <td> 20.55 </td>, <td> 20.00 </td>, <td> 19.14 </td>, <td> 0.282 </td>, <td> 0.50 </td>, <td> 9465.65471 </td>, <td> -25:48:38.59 </td>, <td> 17:43:36.52 </td>, <td> clear </td>, <td> clear </td>, <td> 022080 </td>, <td> BLG04T0704 </td>, <td> <a href=\"view.php?event=KMT-2021-BLG-2460\">KMT-2021-BLG-2460</a> </td>, <td align=\"left\">  </td>, <td> 2.89 </td>, <td> 3 </td>, <td> 19.69 </td>, <td> 14.30 </td>, <td> 22.77 </td>, <td> 0.999 </td>, <td> 53.53 </td>, <td> 9470.86517 </td>, <td> -29:11:14.32 </td>, <td> 17:40:02.12 </td>, <td> clear </td>, <td> clear </td>, <td> 001274 </td>, <td> BLG21T0707 </td>, <td> <a href=\"view.php?event=KMT-2021-BLG-2475\">KMT-2021-BLG-2475</a> </td>, <td align=\"left\">  </td>, <td> 1.89 </td>, <td> 1 </td>, <td> 18.00 </td>, <td> 18.59 </td>, <td> 21.59 </td>, <td> 0.173 </td>, <td> 16.69 </td>, <td> 9508.44315 </td>, <td> -29:21:24.98 </td>, <td> 17:28:40.42 </td>, <td> clear </td>, <td> clear </td>, <td> 011329 </td>, <td> BLG14K0807 </td>, <td> <a href=\"view.php?event=KMT-2021-BLG-2490\">KMT-2021-BLG-2490</a> </td>, <td align=\"left\">  </td>, <td> 2.74 </td>, <td> 2 </td>, <td> 20.03 </td>, <td> 19.39 </td>, <td> 20.61 </td>, <td> 0.013 </td>, <td> 31.40 </td>, <td> 9472.02538 </td>, <td> -27:30:44.89 </td>, <td> 17:48:03.84 </td>, <td> clear </td>, <td> clear </td>, <td> 012540 </td>, <td> BLG21T0806 </td>, <td> <a href=\"view.php?event=KMT-2021-BLG-2505\">KMT-2021-BLG-2505</a> </td>, <td align=\"left\">  </td>, <td> 0.85 </td>, <td> 1 </td>, <td> 17.05 </td>, <td> 19.24 </td>, <td> 20.60 </td>, <td> 0.167 </td>, <td> 12.11 </td>, <td> 9480.85372 </td>, <td> -26:40:48.90 </td>, <td> 18:02:51.16 </td>, <td> probable </td>, <td> clear </td>, <td> 049196 </td>, <td> BLG41K0507 </td>, <td> <a href=\"view.php?event=KMT-2021-BLG-2520\">KMT-2021-BLG-2520</a> </td>, <td align=\"left\">  </td>, <td> 1.97 </td>, <td> 3 </td>, <td> 15.73 </td>, <td> 15.86 </td>, <td> 18.57 </td>, <td> 0.005 </td>, <td> 62.75 </td>, <td> 9476.72451 </td>, <td> -30:49:07.21 </td>, <td> 17:52:34.22 </td>, <td> clear </td>, <td> clear </td>, <td> 014296 </td>, <td> BLG15N0203 </td>, <td> <a href=\"view.php?event=KMT-2021-BLG-2535\">KMT-2021-BLG-2535</a> </td>, <td align=\"left\">  </td>, <td> 3.83 </td>, <td> 1 </td>, <td> 19.27 </td>, <td> 18.77 </td>, <td> 19.23 </td>, <td> 0.777 </td>, <td> 56.11 </td>, <td> 9468.89578 </td>, <td> -23:48:31.43 </td>, <td> 17:43:49.17 </td>, <td> probable </td>, <td> X </td>, <td> 011220 </td>, <td> SAO42M0505 </td>, <td> <a href=\"view.php?event=KMT-2021-BLG-2550\">KMT-2021-BLG-2550</a> </td>, <td align=\"left\">  </td>, <td> 0.87 </td>, <td> 1 </td>, <td> 19.01 </td>, <td> 19.63 </td>, <td> 20.73 </td>, <td> 0.880 </td>, <td> 61.42 </td>, <td> 9490.67143 </td>, <td> -27:48:24.59 </td>, <td> 18:06:40.26 </td>, <td> clear </td>, <td> X </td>, <td> 057650 </td>, <td> BLG01N0704 </td>, <td> <a href=\"view.php?event=KMT-2021-BLG-2565\">KMT-2021-BLG-2565</a> </td>, <td align=\"left\">  </td>, <td> 1.69 </td>, <td> 1 </td>, <td> 19.81 </td>, <td> 18.80 </td>, <td> 16.10 </td>, <td> 0.349 </td>, <td> 14.14 </td>, <td> 9474.65740 </td>, <td> -28:30:43.56 </td>, <td> 17:39:00.64 </td>, <td> clear </td>, <td> X </td>, <td> 060905 </td>, <td> BLG19T0705 </td>, <td> <a href=\"view.php?event=KMT-2021-BLG-2580\">KMT-2021-BLG-2580</a> </td>, <td align=\"left\">  </td>, <td> 1.33 </td>, <td> 1 </td>, <td> 16.41 </td>, <td> 18.76 </td>, <td> 19.49 </td>, <td> 0.054 </td>, <td> 0.50 </td>, <td> 9475.60039 </td>, <td> -29:23:32.60 </td>, <td> 17:39:23.19 </td>, <td> clear </td>, <td> clear </td>, <td> 006664 </td>, <td> BLG15N0504 </td>, <td> <a href=\"view.php?event=KMT-2021-BLG-2595\">KMT-2021-BLG-2595</a> </td>, <td align=\"left\">  </td>, <td> 1.64 </td>, <td> 1 </td>, <td> 18.24 </td>, <td> 19.93 </td>, <td> 20.09 </td>, <td> 0.123 </td>, <td> 78.45 </td>, <td> 9474.97978 </td>, <td> -30:37:50.09 </td>, <td> 17:54:28.52 </td>, <td> probable </td>, <td> clear </td>, <td> 071065 </td>, <td> BLG15T0502 </td>, <td> <a href=\"view.php?event=KMT-2021-BLG-2610\">KMT-2021-BLG-2610</a> </td>, <td align=\"left\">  </td>, <td> 2.39 </td>, <td> 1 </td>, <td> 20.14 </td>, <td> 19.41 </td>, <td> 20.22 </td>, <td> 0.315 </td>, <td> 0.50 </td>, <td> 9482.78928 </td>, <td> -29:51:23.51 </td>, <td> 17:52:20.43 </td>, <td> clear </td>, <td> clear </td>, <td> 016379 </td>, <td> BLG03T0406 </td>, <td> <a href=\"view.php?event=KMT-2021-BLG-2625\">KMT-2021-BLG-2625</a> </td>, <td align=\"left\">  </td>, <td> 1.28 </td>, <td> 2 </td>, <td> 19.60 </td>, <td> 20.00 </td>, <td> 18.62 </td>, <td> 0.815 </td>, <td> 34.50 </td>, <td> 9482.67788 </td>, <td> -27:22:01.92 </td>, <td> 17:45:47.42 </td>, <td> probable </td>, <td> clear </td>, <td> 003724 </td>, <td> SAO19T0608 </td>, <td> <a href=\"view.php?event=KMT-2021-BLG-2640\">KMT-2021-BLG-2640</a> </td>, <td align=\"left\">  </td>, <td> 0.91 </td>, <td> 1 </td>, <td> 17.88 </td>, <td> 19.40 </td>, <td> 17.92 </td>, <td> 0.027 </td>, <td> 87.39 </td>, <td> 9484.97037 </td>, <td> -30:16:12.40 </td>, <td> 17:52:31.25 </td>, <td> probable </td>, <td> clear </td>, <td> 057192 </td>, <td> BLG42M0608 </td>, <td> <a href=\"view.php?event=KMT-2021-BLG-2655\">KMT-2021-BLG-2655</a> </td>, <td align=\"left\">  </td>, <td> 2.00 </td>, <td> 2 </td>, <td> 15.38 </td>, <td> 18.34 </td>, <td> 17.69 </td>, <td> 0.035 </td>, <td> 55.88 </td>, <td> 9494.23936 </td>, <td> -30:40:44.51 </td>, <td> 17:53:27.80 </td>, <td> X </td>, <td> clear </td>, <td> 036609 </td>, <td> SAO01K0406 </td>, <td> <a href=\"view.php?event=KMT-2021-BLG-2670\">KMT-2021-BLG-2670</a> </td>, <td align=\"left\">  </td>, <td> 2.23 </td>, <td> 1 </td>, <td> 20.63 </td>, <td> 15.82 </td>, <td> 20.24 </td>, <td> 0.665 </td>, <td> 55.83 </td>, <td> 9510.46831 </td>, <td> -30:07:29.71 </td>, <td> 17:59:07.40 </td>, <td> X </td>, <td> clear </td>, <td> 010256 </td>, <td> BLG01N0306 </td>, <td> <a href=\"view.php?event=KMT-2021-BLG-2685\">KMT-2021-BLG-2685</a> </td>, <td align=\"left\">  </td>, <td> 1.38 </td>, <td> 1 </td>, <td> 19.06 </td>, <td> 17.30 </td>, <td> 19.83 </td>, <td> 0.501 </td>, <td> 12.74 </td>, <td> 9422.04097 </td>, <td> -31:31:54.41 </td>, <td> 17:53:51.55 </td>, <td> X </td>, <td> clear </td>, <td> 037398 </td>, <td> BLG02K0103 </td>, <td> <a href=\"view.php?event=KMT-2021-BLG-2700\">KMT-2021-BLG-2700</a> </td>, <td align=\"left\">  </td>, <td> 3.02 </td>, <td> 2 </td>, <td> 15.30 </td>, <td> 18.68 </td>, <td> 22.33 </td>, <td> 0.074 </td>, <td> 60.56 </td>, <td> 9504.17004 </td>, <td> -28:12:06.41 </td>, <td> 17:57:31.39 </td>, <td> X </td>, <td> clear </td>, <td> 001476 </td>, <td> BLG02M0602 </td>, <td> <a href=\"view.php?event=KMT-2021-BLG-2715\">KMT-2021-BLG-2715</a> </td>, <td align=\"left\">  </td>, <td> 2.90 </td>, <td> 2 </td>, <td> 17.79 </td>, <td> 19.68 </td>, <td> 20.06 </td>, <td> 0.100 </td>, <td> 4.31 </td>, <td> 9268.76945 </td>, <td> -29:18:19.91 </td>, <td> 17:57:06.46 </td>, <td> X </td>, <td> clear </td>, <td> 009606 </td>, <td> BLG02N0506 </td>, <td> <a href=\"view.php?event=KMT-2021-BLG-2730\">KMT-2021-BLG-2730</a> </td>, <td align=\"left\">  </td>, <td> 2.69 </td>, <td> 1 </td>, <td> 19.56 </td>, <td> 15.08 </td>, <td> 20.40 </td>, <td> 0.071 </td>, <td> 51.19 </td>, <td> 9497.79946 </td>, <td> -29:36:40.21 </td>, <td> 17:54:05.04 </td>, <td> X </td>, <td> clear </td>, <td> 049174 </td>, <td> BLG02T0501 </td>, <td> <a href=\"view.php?event=KMT-2021-BLG-2745\">KMT-2021-BLG-2745</a> </td>, <td align=\"left\">  </td>, <td> 2.61 </td>, <td> 1 </td>, <td> 19.73 </td>, <td> 19.31 </td>, <td> 20.05 </td>, <td> 0.257 </td>, <td> 80.19 </td>, <td> 9414.51724 </td>, <td> -27:13:51.82 </td>, <td> 17:58:55.80 </td>, <td> X </td>, <td> clear </td>, <td> 079575 </td>, <td> BLG03K0805 </td>, <td> <a href=\"view.php?event=KMT-2021-BLG-2760\">KMT-2021-BLG-2760</a> </td>, <td align=\"left\">  </td>, <td> 1.01 </td>, <td> 1 </td>, <td> 18.28 </td>, <td> 20.00 </td>, <td> 20.31 </td>, <td> 0.872 </td>, <td> 1.07 </td>, <td> 9323.48028 </td>, <td> -28:05:49.20 </td>, <td> 18:04:55.05 </td>, <td> X </td>, <td> clear </td>, <td> 072832 </td>, <td> BLG03N0608 </td>, <td> <a href=\"view.php?event=KMT-2021-BLG-2775\">KMT-2021-BLG-2775</a> </td>, <td align=\"left\">  </td>, <td> 0.83 </td>, <td> 1 </td>, <td> 19.08 </td>, <td> 19.80 </td>, <td> 19.62 </td>, <td> 0.621 </td>, <td> 36.26 </td>, <td> 9506.65554 </td>, <td> -29:27:24.52 </td>, <td> 18:02:14.65 </td>, <td> X </td>, <td> clear </td>, <td> 056354 </td>, <td> BLG04M0204 </td>, <td> <a href=\"view.php?event=KMT-2021-BLG-2790\">KMT-2021-BLG-2790</a> </td>, <td align=\"left\">  </td>, <td> 1.07 </td>, <td> 1 </td>, <td> 18.27 </td>, <td> 18.11 </td>, <td> 21.14 </td>, <td> 0.253 </td>, <td> 28.45 </td>, <td> 9285.37433 </td>, <td> -30:24:29.30 </td>, <td> 18:00:40.67 </td>, <td> X </td>, <td> clear </td>, <td> 032609 </td>, <td> BLG04T0806 </td>, <td> <a href=\"view.php?event=KMT-2021-BLG-2805\">KMT-2021-BLG-2805</a> </td>, <td align=\"left\">  </td>, <td> 3.00 </td>, <td> 2 </td>, <td> 19.07 </td>, <td> 19.75 </td>, <td> 19.53 </td>, <td> 0.665 </td>, <td> 18.38 </td>, <td> 9351.10531 </td>, <td> -30:27:43.63 </td>, <td> 17:29:50.45 </td>, <td> X </td>, <td> clear </td>, <td> 092431 </td>, <td> BLG11T0608 </td>, <td> <a href=\"view.php?event=KMT-2021-BLG-2820\">KMT-2021-BLG-2820</a> </td>, <td align=\"left\">  </td>, <td> 2.27 </td>, <td> 2 </td>, <td> 17.42 </td>, <td> 20.00 </td>, <td> 21.14 </td>, <td> 0.147 </td>, <td> 197.93 </td>, <td> 9495.14527 </td>, <td> -28:27:32.18 </td>, <td> 17:29:48.99 </td>, <td> X </td>, <td> clear </td>, <td> 023504 </td>, <td> BLG12T0107 </td>, <td> <a href=\"view.php?event=KMT-2021-BLG-2835\">KMT-2021-BLG-2835</a> </td>, <td align=\"left\">  </td>, <td> 3.55 </td>, <td> 2 </td>, <td> 25.00 </td>, <td> 18.72 </td>, <td> 20.32 </td>, <td> 0.116 </td>, <td> 11.30 </td>, <td> 9423.56232 </td>, <td> -28:36:39.38 </td>, <td> 17:35:15.09 </td>, <td> X </td>, <td> clear </td>, <td> 056027 </td>, <td> BLG14K0808 </td>, <td> <a href=\"view.php?event=KMT-2021-BLG-2850\">KMT-2021-BLG-2850</a> </td>, <td align=\"left\">  </td>, <td> 3.73 </td>, <td> 2 </td>, <td> 22.42 </td>, <td> 20.00 </td>, <td> 22.77 </td>, <td> 0.174 </td>, <td> 104.76 </td>, <td> 9492.49226 </td>, <td> -28:40:55.06 </td>, <td> 17:37:14.71 </td>, <td> X </td>, <td> clear </td>, <td> 046848 </td>, <td> BLG14M0806 </td>, <td> <a href=\"view.php?event=KMT-2021-BLG-2865\">KMT-2021-BLG-2865</a> </td>, <td align=\"left\">  </td>, <td> 4.35 </td>, <td> 2 </td>, <td> 25.00 </td>, <td> 17.93 </td>, <td> 18.55 </td>, <td> 0.650 </td>, <td> 0.63 </td>, <td> 9244.13428 </td>, <td> -29:35:02.47 </td>, <td> 17:32:11.85 </td>, <td> X </td>, <td> clear </td>, <td> 030536 </td>, <td> BLG15K0404 </td>, <td> <a href=\"view.php?event=KMT-2021-BLG-2880\">KMT-2021-BLG-2880</a> </td>, <td align=\"left\">  </td>, <td> 3.54 </td>, <td> 2 </td>, <td> 20.71 </td>, <td> 16.73 </td>, <td> 19.21 </td>, <td> 0.199 </td>, <td> 109.25 </td>, <td> 9263.92930 </td>, <td> -27:16:07.46 </td>, <td> 17:40:32.43 </td>, <td> X </td>, <td> clear </td>, <td> 010495 </td>, <td> BLG15N0401 </td>, <td> <a href=\"view.php?event=KMT-2021-BLG-2895\">KMT-2021-BLG-2895</a> </td>, <td align=\"left\">  </td>, <td> 2.38 </td>, <td> 2 </td>, <td> 22.55 </td>, <td> 20.00 </td>, <td> 21.22 </td>, <td> 0.019 </td>, <td> 20.45 </td>, <td> 9280.58962 </td>, <td> -27:36:39.89 </td>, <td> 17:36:34.27 </td>, <td> X </td>, <td> clear </td>, <td> 029599 </td>, <td> BLG15T0507 </td>, <td> <a href=\"view.php?event=KMT-2021-BLG-2910\">KMT-2021-BLG-2910</a> </td>, <td align=\"left\">  </td>, <td> 2.52 </td>, <td> 2 </td>, <td> 19.04 </td>, <td> 19.53 </td>, <td> 20.04 </td>, <td> 0.359 </td>, <td> 118.82 </td>, <td> 9258.60972 </td>, <td> -25:19:34.79 </td>, <td> 17:36:33.60 </td>, <td> X </td>, <td> clear </td>, <td> 091407 </td>, <td> BLG17K0701 </td>, <td> <a href=\"view.php?event=KMT-2021-BLG-2925\">KMT-2021-BLG-2925</a> </td>, <td align=\"left\">  </td>, <td> 2.31 </td>, <td> 2 </td>, <td> 20.35 </td>, <td> 19.98 </td>, <td> 14.25 </td>, <td> 0.135 </td>, <td> 13.65 </td>, <td> 9507.80843 </td>, <td> -33:26:53.20 </td>, <td> 17:46:10.00 </td>, <td> X </td>, <td> clear </td>, <td> 036347 </td>, <td> BLG17T0406 </td>, <td> <a href=\"view.php?event=KMT-2021-BLG-2940\">KMT-2021-BLG-2940</a> </td>, <td align=\"left\">  </td>, <td> 3.30 </td>, <td> 2 </td>, <td> 18.38 </td>, <td> 18.67 </td>, <td> 20.01 </td>, <td> 0.028 </td>, <td> 2.86 </td>, <td> 9260.15522 </td>, <td> -26:31:03.29 </td>, <td> 17:41:32.09 </td>, <td> X </td>, <td> clear </td>, <td> 016155 </td>, <td> BLG18T0406 </td>, <td> <a href=\"view.php?event=KMT-2021-BLG-2955\">KMT-2021-BLG-2955</a> </td>, <td align=\"left\">  </td>, <td> 3.24 </td>, <td> 2 </td>, <td> 19.51 </td>, <td> 19.28 </td>, <td> 19.52 </td>, <td> 0.381 </td>, <td> 25.81 </td>, <td> 9256.38661 </td>, <td> -23:54:33.08 </td>, <td> 17:49:51.93 </td>, <td> X </td>, <td> clear </td>, <td> 069867 </td>, <td> BLG19M0305 </td>, <td> <a href=\"view.php?event=KMT-2021-BLG-2970\">KMT-2021-BLG-2970</a> </td>, <td align=\"left\">  </td>, <td> 2.18 </td>, <td> 2 </td>, <td> 20.57 </td>, <td> 16.69 </td>, <td> 18.96 </td>, <td> 0.086 </td>, <td> 69.37 </td>, <td> 9313.92510 </td>, <td> -25:42:19.91 </td>, <td> 17:47:28.87 </td>, <td> X </td>, <td> clear </td>, <td> 005287 </td>, <td> BLG19T0407 </td>, <td> <a href=\"view.php?event=KMT-2021-BLG-2985\">KMT-2021-BLG-2985</a> </td>, <td align=\"left\">  </td>, <td> 2.76 </td>, <td> 2 </td>, <td> 16.04 </td>, <td> 19.25 </td>, <td> 22.68 </td>, <td> 0.502 </td>, <td> 4.03 </td>, <td> 9476.26483 </td>, <td> -21:51:20.77 </td>, <td> 17:44:15.70 </td>, <td> X </td>, <td> clear </td>, <td> 001107 </td>, <td> SAO20N0407 </td>, <td> <a href=\"view.php?event=KMT-2021-BLG-3000\">KMT-2021-BLG-3000</a> </td>, <td align=\"left\">  </td>, <td> 0.96 </td>, <td> 1 </td>, <td> 17.41 </td>, <td> 18.31 </td>, <td> 20.93 </td>, <td> 0.575 </td>, <td> 26.71 </td>, <td> 9285.95709 </td>, <td> -36:15:43.31 </td>, <td> 17:54:08.05 </td>, <td> X </td>, <td> clear </td>, <td> 041043 </td>, <td> BLG22M0205 </td>, <td> <a href=\"view.php?event=KMT-2021-BLG-3015\">KMT-2021-BLG-3015</a> </td>, <td align=\"left\">  </td>, <td> 1.45 </td>, <td> 1 </td>, <td> 20.03 </td>, <td> 16.94 </td>, <td> 18.88 </td>, <td> 0.772 </td>, <td> 52.85 </td>, <td> 9260.66513 </td>, <td> -25:44:13.09 </td>, <td> 18:11:59.24 </td>, <td> X </td>, <td> clear </td>, <td> 002299 </td>, <td> BLG31N0801 </td>, <td> <a href=\"view.php?event=KMT-2021-BLG-3030\">KMT-2021-BLG-3030</a> </td>, <td align=\"left\">  </td>, <td> 0.73 </td>, <td> 2 </td>, <td> 19.21 </td>, <td> 18.98 </td>, <td> 20.15 </td>, <td> 0.059 </td>, <td> 20.78 </td>, <td> 9250.52654 </td>, <td> -27:25:27.70 </td>, <td> 18:12:17.33 </td>, <td> X </td>, <td> clear </td>, <td> 075107 </td>, <td> BLG32T0704 </td>, <td> <a href=\"view.php?event=KMT-2021-BLG-3045\">KMT-2021-BLG-3045</a> </td>, <td align=\"left\">  </td>, <td> 0.64 </td>, <td> 1 </td>, <td> 20.72 </td>, <td> 18.31 </td>, <td> 20.32 </td>, <td> 0.012 </td>, <td> 199.21 </td>, <td> 9308.65304 </td>, <td> -32:04:14.41 </td>, <td> 18:02:23.02 </td>, <td> X </td>, <td> clear </td>, <td> 017473 </td>, <td> BLG34M0702 </td>, <td> <a href=\"view.php?event=KMT-2021-BLG-3060\">KMT-2021-BLG-3060</a> </td>, <td align=\"left\">  </td>, <td> 0.93 </td>, <td> 1 </td>, <td> 17.86 </td>, <td> 18.76 </td>, <td> 19.82 </td>, <td> 0.600 </td>, <td> 10.50 </td>, <td> 9292.89220 </td>, <td> -25:54:15.19 </td>, <td> 18:08:00.09 </td>, <td> X </td>, <td> clear </td>, <td> 000662 </td>, <td> BLG35N0604 </td>, <td> <a href=\"view.php?event=KMT-2021-BLG-3075\">KMT-2021-BLG-3075</a> </td>, <td align=\"left\">  </td>, <td> 2.45 </td>, <td> 2 </td>, <td> 19.05 </td>, <td> 18.31 </td>, <td> 22.44 </td>, <td> 1.000 </td>, <td> 25.02 </td>, <td> 9283.47211 </td>, <td> -35:16:00.55 </td>, <td> 17:44:48.34 </td>, <td> X </td>, <td> clear </td>, <td> 000574 </td>, <td> BLG38N0805 </td>, <td> <a href=\"view.php?event=KMT-2021-BLG-3090\">KMT-2021-BLG-3090</a> </td>, <td align=\"left\">  </td>, <td> 2.52 </td>, <td> 1 </td>, <td> 18.42 </td>, <td> 20.00 </td>, <td> 19.54 </td>, <td> 0.145 </td>, <td> 109.52 </td>, <td> 9258.82300 </td>, <td> -30:29:32.39 </td>, <td> 17:56:51.34 </td>, <td> X </td>, <td> clear </td>, <td> 013533 </td>, <td> BLG41M0607 </td>, <td> <a href=\"view.php?event=KMT-2021-BLG-3105\">KMT-2021-BLG-3105</a> </td>, <td align=\"left\">  </td>, <td> 1.64 </td>, <td> 1 </td>, <td> 18.78 </td>, <td> 19.86 </td>, <td> 21.57 </td>, <td> 0.355 </td>, <td> 55.74 </td>, <td> 9491.95552 </td>, <td> -28:56:03.91 </td>, <td> 17:58:00.83 </td>, <td> X </td>, <td> clear </td>, <td> 004323 </td>, <td> BLG42M0706 </td>, <td> <a href=\"view.php?event=KMT-2021-BLG-3120\">KMT-2021-BLG-3120</a> </td>, <td align=\"left\">  </td>, <td> 1.98 </td>, <td> 4 </td>, <td> 19.51 </td>, <td> 19.52 </td>, <td> 20.47 </td>, <td> 0.999 </td>, <td> 58.26 </td>, <td> 9273.64939 </td>, <td> -29:42:57.71 </td>, <td> 17:55:43.03 </td>, <td> X </td>, <td> clear </td>, <td> 025761 </td>, <td> SAO42N0708 </td>, <td> <a href=\"view.php?event=KMT-2021-BLG-3135\">KMT-2021-BLG-3135</a> </td>, <td align=\"left\">  </td>, <td> 2.08 </td>, <td> 1 </td>, <td> 17.98 </td>, <td> 16.11 </td>, <td> 21.12 </td>, <td> 0.290 </td>, <td> 199.94 </td>, <td> 9302.14617 </td>, <td> -27:15:56.12 </td>, <td> 17:57:31.33 </td>, <td> X </td>, <td> clear </td>, <td> 048673 </td>, <td> SAO43M0603 </td>, <td> <a href=\"view.php?event=KMT-2021-BLG-3150\">KMT-2021-BLG-3150</a> </td>, <td align=\"left\">  </td>, <td> 1.38 </td>, <td> 1 </td>, <td> 19.07 </td>, <td> 17.88 </td>, <td> 22.61 </td>, <td> 0.365 </td>, <td> 12.80 </td>, <td> 9500.07645 </td>, <td> -29:04:02.21 </td>, <td> 18:00:36.47 </td>, <td> X </td>, <td> clear </td>, <td> 015113 </td>, <td> BLG01K0107 </td>, <td> <a href=\"view.php?event=KMT-2021-BLG-3165\">KMT-2021-BLG-3165</a> </td>, <td align=\"left\">  </td>, <td> 2.46 </td>, <td> 2 </td>, <td> 20.53 </td>, <td> 20.00 </td>, <td> 18.35 </td>, <td> 0.908 </td>, <td> 42.35 </td>, <td> 9290.07702 </td>, <td> -31:52:17.51 </td>, <td> 17:54:49.51 </td>, <td> X </td>, <td> possible </td>, <td> 006420 </td>, <td> SAO02K0106 </td>, <td> <a href=\"view.php?event=KMT-2021-BLG-3180\">KMT-2021-BLG-3180</a> </td>, <td align=\"left\">  </td>, <td> 3.06 </td>, <td> 1 </td>, <td> 19.55 </td>, <td> 20.00 </td>, <td> 20.26 </td>, <td> 0.063 </td>, <td> 7.97 </td>, <td> 9382.79683 </td>, <td> -29:42:56.92 </td>, <td> 17:58:09.26 </td>, <td> X </td>, <td> possible </td>, <td> 011629 </td>, <td> SAO02N0806 </td>, <td> <a href=\"view.php?event=KMT-2021-BLG-3195\">KMT-2021-BLG-3195</a> </td>, <td align=\"left\">  </td>, <td> 1.82 </td>, <td> 1 </td>, <td> 20.21 </td>, <td> 20.00 </td>, <td> 22.15 </td>, <td> 0.098 </td>, <td> 199.55 </td>, <td> 9293.00748 </td>, <td> -27:19:57.68 </td>, <td> 18:05:53.34 </td>, <td> X </td>, <td> possible </td>, <td> 043564 </td>, <td> BLG03N0301 </td>, <td> <a href=\"view.php?event=KMT-2021-BLG-3210\">KMT-2021-BLG-3210</a> </td>, <td align=\"left\">  </td>, <td> 0.91 </td>, <td> 1 </td>, <td> 19.04 </td>, <td> 19.76 </td>, <td> 21.20 </td>, <td> 0.998 </td>, <td> 41.94 </td>, <td> 9429.32346 </td>, <td> -30:14:44.30 </td>, <td> 18:06:09.10 </td>, <td> X </td>, <td> possible </td>, <td> 015920 </td>, <td> BLG14K0607 </td>, <td> <a href=\"view.php?event=KMT-2021-BLG-3225\">KMT-2021-BLG-3225</a> </td>, <td align=\"left\">  </td>, <td> 4.85 </td>, <td> 2 </td>, <td> 20.29 </td>, <td> 18.79 </td>, <td> 19.74 </td>, <td> 0.769 </td>, <td> 38.44 </td>, <td> 9407.79137 </td>, <td> -27:29:14.93 </td>, <td> 17:37:33.82 </td>, <td> X </td>, <td> possible </td>, <td> 030593 </td>, <td> BLG17K0304 </td>, <td> <a href=\"view.php?event=KMT-2021-BLG-3240\">KMT-2021-BLG-3240</a> </td>, <td align=\"left\">  </td>, <td> 2.35 </td>, <td> 2 </td>, <td> 21.17 </td>, <td> 19.35 </td>, <td> 21.10 </td>, <td> 0.402 </td>, <td> 14.91 </td>, <td> 9513.62671 </td>, <td> -24:00:36.72 </td>, <td> 17:46:28.74 </td>, <td> X </td>, <td> possible </td>, <td> 020669 </td>, <td> BLG20T0306 </td>, <td> <a href=\"view.php?event=KMT-2021-BLG-3255\">KMT-2021-BLG-3255</a> </td>, <td align=\"left\">  </td>, <td> 0.87 </td>, <td> 1 </td>, <td> 18.17 </td>, <td> 18.69 </td>, <td> 19.80 </td>, <td> 0.700 </td>, <td> 38.47 </td>, <td> 9452.38132 </td>, <td> -25:15:24.98 </td>, <td> 18:16:42.33 </td>, <td> X </td>, <td> possible </td>, <td> 016751 </td>, <td> BLG34M0806 </td>, <td> <a href=\"view.php?event=KMT-2021-BLG-3270\">KMT-2021-BLG-3270</a> </td>, <td align=\"left\">  </td>, <td> 2.29 </td>, <td> 1 </td>, <td> 15.91 </td>, <td> 20.00 </td>, <td> 20.32 </td>, <td> 0.575 </td>, <td> 53.61 </td>, <td> 9385.03299 </td>, <td> -36:18:31.90 </td>, <td> 17:41:55.16 </td>, <td> X </td>, <td> possible </td>, <td> 035660 </td>, <td> BLG41M0504 </td>, <td> <a href=\"view.php?event=KMT-2021-BLG-3285\">KMT-2021-BLG-3285</a> </td>, <td align=\"left\">  </td>, <td> 1.39 </td>, <td> 1 </td>, <td> 19.27 </td>, <td> 20.00 </td>, <td> 21.27 </td>, <td> 0.074 </td>, <td> 93.15 </td>, <td> 9317.16828 </td>, <td> -29:05:16.80 </td>, <td> 17:53:14.63 </td>, <td> X </td>, <td> possible </td>, <td> 082756 </td>, <td> BLG42M0407 </td>, <td> <a href=\"view.php?event=KMT-2021-BLG-3300\">KMT-2021-BLG-3300</a> </td>, <td align=\"left\">  </td>, <td> 1.76 </td>, <td> 1 </td>, <td> 19.86 </td>, <td> 17.66 </td>, <td> 21.32 </td>, <td> 0.006 </td>, <td> 9.95 </td>, <td> 9421.04370 </td>, <td> -29:38:22.20 </td>, <td> 17:55:59.04 </td>, <td> X </td>, <td> possible </td>, <td> 022660 </td>, <td> BLG42T0805 </td>, <td> <a href=\"view.php?event=KMT-2021-BLG-3315\">KMT-2021-BLG-3315</a> </td>, <td align=\"left\">  </td>, <td> 1.96 </td>, <td> 1 </td>, <td> 18.28 </td>, <td> 15.22 </td>, <td> 20.96 </td>, <td> 1.000 </td>]\n"
     ]
    },
    {
     "name": "stdout",
     "output_type": "stream",
     "text": [
      "ipdb> alert_url[0].find_all('a', href=True)\n",
      "[]\n",
      "ipdb> alert_url[1].find_all('a', href=True)\n",
      "[]\n",
      "ipdb> alert_url[0]\n",
      "<td>Related event</td>\n",
      "--KeyboardInterrupt--\n",
      "\n",
      "KeyboardInterrupt: Interrupted by user\n"
     ]
    }
   ],
   "source": [
    "import pdb\n",
    "pdb.pm()"
   ]
  },
  {
   "cell_type": "code",
   "execution_count": 4,
   "id": "0023ff83",
   "metadata": {},
   "outputs": [
    {
     "name": "stderr",
     "output_type": "stream",
     "text": [
      "/tmp/ipykernel_1776/4162273999.py:1: SADeprecationWarning: The Engine.table_names() method is deprecated and will be removed in a future release.  Please refer to Inspector.get_table_names(). (deprecated since: 1.4)\n",
      "  engine.table_names()\n"
     ]
    },
    {
     "data": {
      "text/plain": [
       "['kmt_alerts', 'kmtnet', 'moa', 'moa_alerts', 'ogle', 'ogle_alerts']"
      ]
     },
     "execution_count": 4,
     "metadata": {},
     "output_type": "execute_result"
    }
   ],
   "source": [
    "engine.table_names()"
   ]
  },
  {
   "cell_type": "code",
   "execution_count": 106,
   "id": "dc9d3066",
   "metadata": {},
   "outputs": [
    {
     "data": {
      "text/plain": [
       "[(9641.22538, 15.9393, 0.0074, 'KMTA04_I.pysis', 'KB220002'),\n",
       " (9644.20631, 16.1599, 0.0122, 'KMTA04_I.pysis', 'KB220002'),\n",
       " (9644.26027, 15.9376, 0.0064, 'KMTA04_I.pysis', 'KB220002'),\n",
       " (9648.23209, 15.9066, 0.0055, 'KMTA04_I.pysis', 'KB220002'),\n",
       " (9649.18022, 15.9085, 0.0056, 'KMTA04_I.pysis', 'KB220002'),\n",
       " (9650.17749, 15.8952, 0.0062, 'KMTA04_I.pysis', 'KB220002'),\n",
       " (9650.23155, 15.9029, 0.0055, 'KMTA04_I.pysis', 'KB220002'),\n",
       " (9652.1816, 15.8897, 0.0058, 'KMTA04_I.pysis', 'KB220002'),\n",
       " (9652.23741, 15.8934, 0.0045, 'KMTA04_I.pysis', 'KB220002'),\n",
       " (9653.20286, 15.8563, 0.0055, 'KMTA04_I.pysis', 'KB220002')]"
      ]
     },
     "execution_count": 106,
     "metadata": {},
     "output_type": "execute_result"
    }
   ],
   "source": [
    "engine.execute(\"SELECT * FROM kmtnet\").fetchall()[0:10]"
   ]
  },
  {
   "cell_type": "code",
   "execution_count": 118,
   "id": "d79ff015",
   "metadata": {},
   "outputs": [
    {
     "data": {
      "text/plain": [
       "[('KB220001', 'clear', 47.92, 16.03, 'https://kmtnet.kasi.re.kr/~ulens/event/2022/view.php?event=KMT-2022-BLG-0001'),\n",
       " ('KB220002', 'clear', 6.64, 16.58, 'https://kmtnet.kasi.re.kr/~ulens/event/2022/view.php?event=KMT-2022-BLG-0002'),\n",
       " ('KB220003', 'clear', 189.81, 19.14, 'https://kmtnet.kasi.re.kr/~ulens/event/2022/view.php?event=KMT-2022-BLG-0003'),\n",
       " ('KB220004', 'clear', 5.0, 17.62, 'https://kmtnet.kasi.re.kr/~ulens/event/2022/view.php?event=KMT-2022-BLG-0004'),\n",
       " ('KB220005', 'clear', 30.9, 17.41, 'https://kmtnet.kasi.re.kr/~ulens/event/2022/view.php?event=KMT-2022-BLG-0005'),\n",
       " ('KB220006', 'clear', 47.95, 18.86, 'https://kmtnet.kasi.re.kr/~ulens/event/2022/view.php?event=KMT-2022-BLG-0006'),\n",
       " ('KB220007', 'clear', 7.5, 16.75, 'https://kmtnet.kasi.re.kr/~ulens/event/2022/view.php?event=KMT-2022-BLG-0007'),\n",
       " ('KB220008', 'clear', 99.57, 18.43, 'https://kmtnet.kasi.re.kr/~ulens/event/2022/view.php?event=KMT-2022-BLG-0008'),\n",
       " ('KB220009', 'probable', 6.91, 17.73, 'https://kmtnet.kasi.re.kr/~ulens/event/2022/view.php?event=KMT-2022-BLG-0009'),\n",
       " ('KB220010', 'clear', 101.49, 17.28, 'https://kmtnet.kasi.re.kr/~ulens/event/2022/view.php?event=KMT-2022-BLG-0010')]"
      ]
     },
     "execution_count": 118,
     "metadata": {},
     "output_type": "execute_result"
    }
   ],
   "source": [
    "engine.execute(\"SELECT * FROM kmt_alerts\").fetchall()[0:10]"
   ]
  },
  {
   "cell_type": "code",
   "execution_count": 119,
   "id": "eac2c117",
   "metadata": {},
   "outputs": [
    {
     "data": {
      "text/plain": [
       "[(2457424.86801, 17.262, 0.013, 'OB220002'),\n",
       " (2457426.88843, 17.274, 0.025, 'OB220002'),\n",
       " (2457427.85677, 17.292, 0.018, 'OB220002'),\n",
       " (2457428.85249, 17.262, 0.013, 'OB220002'),\n",
       " (2457429.84937, 17.274, 0.015, 'OB220002'),\n",
       " (2457431.84908, 17.264, 0.014, 'OB220002'),\n",
       " (2457432.85138, 17.241, 0.013, 'OB220002'),\n",
       " (2457433.84953, 17.287, 0.014, 'OB220002'),\n",
       " (2457434.84167, 17.253, 0.017, 'OB220002'),\n",
       " (2457435.84744, 17.325, 0.018, 'OB220002')]"
      ]
     },
     "execution_count": 119,
     "metadata": {},
     "output_type": "execute_result"
    }
   ],
   "source": [
    "engine.execute(\"SELECT * FROM ogle\").fetchall()[0:10]"
   ]
  },
  {
   "cell_type": "code",
   "execution_count": 120,
   "id": "2c5a5f7a",
   "metadata": {},
   "outputs": [
    {
     "data": {
      "text/plain": [
       "[('OB190001', 54.554, 17.267, 'https://ogle.astrouw.edu.pl/ogle4/ews/0000.html'),\n",
       " ('OB190002', 2.061, 15.999, 'https://ogle.astrouw.edu.pl/ogle4/ews/0001.html'),\n",
       " ('OB190003', 51.13, 18.293, 'https://ogle.astrouw.edu.pl/ogle4/ews/0002.html'),\n",
       " ('OB190004', 2.673, 19.763, 'https://ogle.astrouw.edu.pl/ogle4/ews/0003.html'),\n",
       " ('OB190005', 17.447, 18.588, 'https://ogle.astrouw.edu.pl/ogle4/ews/0004.html'),\n",
       " ('OB190006', 11.543, 19.354, 'https://ogle.astrouw.edu.pl/ogle4/ews/0005.html'),\n",
       " ('OB190007', 33.064, 18.977, 'https://ogle.astrouw.edu.pl/ogle4/ews/0006.html'),\n",
       " ('OB190008', 103.082, 18.373, 'https://ogle.astrouw.edu.pl/ogle4/ews/0007.html'),\n",
       " ('OB190009', 83.851, 19.07, 'https://ogle.astrouw.edu.pl/ogle4/ews/0008.html'),\n",
       " ('OB190010', 36.882, 13.683, 'https://ogle.astrouw.edu.pl/ogle4/ews/0009.html')]"
      ]
     },
     "execution_count": 120,
     "metadata": {},
     "output_type": "execute_result"
    }
   ],
   "source": [
    "engine.execute(\"SELECT * FROM ogle_alerts\").fetchall()[0:10]"
   ]
  },
  {
   "cell_type": "code",
   "execution_count": 121,
   "id": "a3b309c9",
   "metadata": {},
   "outputs": [
    {
     "data": {
      "text/plain": [
       "[(2453665.89736, 17.31345229775939, 0.30650568956881086, 'MB22001'),\n",
       " (2453666.87143, 17.297472140289724, 0.29902339121361526, 'MB22001'),\n",
       " (2453667.86726, 18.806602068065125, 1.428339356277067, 'MB22001'),\n",
       " (2453667.91423, 18.595125021713844, 0.5900105029368989, 'MB22001'),\n",
       " (2453824.13931, 21.09675360031579, 2.0866864926727384, 'MB22001'),\n",
       " (2453837.12457, 21.15913915153447, 1.0965901846786645, 'MB22001'),\n",
       " (2453837.17138, 20.641273090478833, 0.9590328599599511, 'MB22001'),\n",
       " (2453839.07034, 20.467020389216028, 0.5677064613487173, 'MB22001'),\n",
       " (2453839.11008, 21.536248087070604, 1.6210742184679157, 'MB22001'),\n",
       " (2453839.14989, 22.266006587346027, 2.9583624975803273, 'MB22001')]"
      ]
     },
     "execution_count": 121,
     "metadata": {},
     "output_type": "execute_result"
    }
   ],
   "source": [
    "engine.execute(\"SELECT * FROM moa\").fetchall()[0:10]"
   ]
  },
  {
   "cell_type": "code",
   "execution_count": 122,
   "id": "a51fb085",
   "metadata": {},
   "outputs": [
    {
     "data": {
      "text/plain": [
       "[('MB22000', 'microlensing', 50.5, 19.63, 'http://www.massey.ac.nz/~iabond/moa/alert2022/display.php?id=gb10-R-6-69586'),\n",
       " ('MB22001', 'microlensing', 104.99, 15.47, 'http://www.massey.ac.nz/~iabond/moa/alert2022/display.php?id=gb12-R-9-23523'),\n",
       " ('MB22002', 'microlensing', 40.81, 16.57, 'http://www.massey.ac.nz/~iabond/moa/alert2022/display.php?id=gb13-R-9-75098'),\n",
       " ('MB22003', 'microlensing', 24.41, 16.33, 'http://www.massey.ac.nz/~iabond/moa/alert2022/display.php?id=gb17-R-9-23110'),\n",
       " ('MB22004', 'microlensing', 40.69, 16.96, 'http://www.massey.ac.nz/~iabond/moa/alert2022/display.php?id=gb5-R-8-125249'),\n",
       " ('MB22005', 'microlensing', 12.53, 15.73, 'http://www.massey.ac.nz/~iabond/moa/alert2022/display.php?id=gb8-R-2-48157'),\n",
       " ('MB22006', 'microlensing', 125.36, 17.36, 'http://www.massey.ac.nz/~iabond/moa/alert2022/display.php?id=gb9-R-2-225288'),\n",
       " ('MB22007', 'microlensing', 54.28, 16.82, 'http://www.massey.ac.nz/~iabond/moa/alert2022/display.php?id=gb9-R-8-73343'),\n",
       " ('MB22008', 'microlensing', 40.39, 16.34, 'http://www.massey.ac.nz/~iabond/moa/alert2022/display.php?id=gb10-R-6-68441'),\n",
       " ('MB22009', 'microlensing', 1.53, 0.47, 'http://www.massey.ac.nz/~iabond/moa/alert2022/display.php?id=gb12-R-10-7492')]"
      ]
     },
     "execution_count": 122,
     "metadata": {},
     "output_type": "execute_result"
    }
   ],
   "source": [
    "engine.execute(\"SELECT * FROM moa_alerts\").fetchall()[0:10]"
   ]
  },
  {
   "cell_type": "code",
   "execution_count": 30,
   "id": "cbf2ecff",
   "metadata": {},
   "outputs": [
    {
     "name": "stdout",
     "output_type": "stream",
     "text": [
      "Overwriting query_alerts.py\n"
     ]
    }
   ],
   "source": [
    "%%writefile query_alerts.py\n",
    "\n",
    "# FIXME: ONLY DOWNLOAD ALERT YEAR + PREVIOUS YEAR (otherwise tooons of data.)\n",
    "\n",
    "import ftplib\n",
    "from sqlalchemy import create_engine, text\n",
    "from sqlalchemy.sql import select\n",
    "from bs4 import BeautifulSoup\n",
    "import numpy as np \n",
    "from io import BytesIO\n",
    "import pandas as pd\n",
    "import time \n",
    "from urllib.request import urlopen\n",
    "import numexpr as ne\n",
    "import requests\n",
    "engine = create_engine('sqlite:///microlensing.db')\n",
    "conn = engine.connect()\n",
    "\n",
    "def get_moa_lightcurves(year):\n",
    "    # So we don't have to deal with the log10 complaining.\n",
    "    import warnings\n",
    "    warnings.filterwarnings(\"ignore\")\n",
    "\n",
    "    year = str(year)\n",
    "\n",
    "    url = \"http://www.massey.ac.nz/~iabond/moa/alert\" + year + \"/alert.php\"\n",
    "    response = urlopen(url)\n",
    "    html = response.read()\n",
    "    response.close()\n",
    "    soup = BeautifulSoup(html,\"html.parser\")\n",
    "    links = soup.find_all('a', href=True)\n",
    "    alert_dirs = []\n",
    "    # Get a list of all the bulge microlensing alerts\n",
    "    for ii, link in enumerate(links):\n",
    "        if 'BLG' in link.text:\n",
    "            alert_dirs.append(links[ii]['href'])\n",
    "\n",
    "    for nn, alert_dir in enumerate(alert_dirs[0:10]):\n",
    "        url = \"http://www.massey.ac.nz/~iabond/moa/alert\" + year + \"/\" + alert_dir\n",
    "        response = urlopen(url)\n",
    "        html = response.read()\n",
    "        response.close()\n",
    "        soup = BeautifulSoup(html,\"html.parser\")\n",
    "\n",
    "        # Get the magnitude and flux offsets.\n",
    "        foo = soup.find('b').next_sibling\n",
    "        moff = foo.split('=')[1].split('-')[0].strip(' ')\n",
    "        bah = soup.find('sub').next_sibling\n",
    "        foff = bah.split('+')[1].split(')')[0].strip(' ')\n",
    "\n",
    "        # Now convert these into floats\n",
    "        m = ne.evaluate(moff)\n",
    "        f = ne.evaluate(foff)\n",
    "\n",
    "        # Now scrape the .dat file into a pandas dataframe.\n",
    "        url = \"https://www.massey.ac.nz/~iabond/moa/alert\" + year + \"/fetchtxt.php?path=moa/ephot/phot-\" + \\\n",
    "                alert_dir.strip('display.php?id=') + \".dat\"\n",
    "        bytes_data = requests.get(url).content\n",
    "        df = pd.read_csv(BytesIO(bytes_data), \n",
    "                         delim_whitespace=True, skiprows=11, skipfooter=1, header=None, engine='python', \n",
    "                         names=['hjd', 'delta_flux', 'flux_err', 'foo1', 'foo2', 'foo3', 'foo4', 'foo5'])\n",
    "\n",
    "        df['mag'] = m - 2.5*np.log10(df['delta_flux'] + f)\n",
    "        df['mag_err'] = 1.09 * df['flux_err']/(df['delta_flux'] + f)\n",
    "        df['alert_name'] = 'MB' + year[2:] + str(nn + 1).zfill(3)  # need to make sure this always works.\n",
    "        \n",
    "        df['hjd'] -= 2450000\n",
    "\n",
    "        df.dropna(axis='index', how='any', inplace=True)\n",
    "\n",
    "        cols = ['hjd', 'mag', 'mag_err', 'alert_name']\n",
    "        df[cols].to_sql(con=engine, schema=None, name=\"moa_\" + year, if_exists=\"append\", index=False)\n",
    "        \n",
    "def get_ogle_lightcurves(year):\n",
    "    year = str(year)\n",
    "\n",
    "    ftp = ftplib.FTP(\"ftp.astrouw.edu.pl\")\n",
    "    ftp.login()\n",
    "    ftp.cwd(\"ogle/ogle4/ews/\" + year + \"/\")\n",
    "\n",
    "    for nn in np.arange(start=1, stop=10, step=1):\n",
    "        ftp.cwd(\"blg-\" + str(nn).zfill(4))\n",
    "\n",
    "        flo = BytesIO()\n",
    "        ftp.retrbinary('RETR phot.dat', flo.write)\n",
    "        flo.seek(0)\n",
    "        df = pd.read_fwf(flo, header=0, names=['hjd', 'mag', 'mag_err', 'see', 'sky'])\n",
    "\n",
    "        df['alert_name'] = 'OB' + year[2:] + str(nn + 1).zfill(4) \n",
    "\n",
    "        cols = ['hjd', 'mag', 'mag_err', 'alert_name']\n",
    "        df[cols].to_sql(con=engine, schema=None, name=\"ogle_\" + year, if_exists=\"append\", index=False)\n",
    "\n",
    "        ftp.cwd(\"../\")\n",
    "        \n",
    "def get_kmtnet_lightcurves(year):\n",
    "    year = str(year)\n",
    "    \n",
    "    for nn in np.arange(start=1, stop=11, step=1):\n",
    "        # For KMTNet, get data from all the telescopes?\n",
    "        url = \"https://kmtnet.kasi.re.kr/~ulens/event/\" + year + \"/view.php?event=KMT-\" + year + \\\n",
    "                \"-BLG-\" + str(nn).zfill(4)\n",
    "        response = urlopen(url)\n",
    "        html = response.read()\n",
    "        response.close()\n",
    "        soup = BeautifulSoup(html,\"html.parser\")\n",
    "\n",
    "        links = soup.find_all('a', href=True)\n",
    "\n",
    "        # Only keep I-band lightcurves. \n",
    "        pysis_names = links[3].get_text(separator=',').split(',')[:-2]\n",
    "        for pysis_name in pysis_names:\n",
    "            if '_I.pysis' in pysis_name:\n",
    "                url = \"https://kmtnet.kasi.re.kr/~ulens/event/\" + year + \"/data/KB\" + \\\n",
    "                        year[2:] + str(nn).zfill(4) + \"/pysis/\" + pysis_name\n",
    "                print(url)\n",
    "                bytes_data = requests.get(url).content\n",
    "                try:\n",
    "                    df = pd.read_csv(BytesIO(bytes_data), \n",
    "                                     delim_whitespace=True, skiprows=1, header=None, \n",
    "                                     names=['hjd', 'Delta_flux', 'flux_err', 'mag', 'mag_err', 'fwhm', 'sky', 'secz'])\n",
    "\n",
    "                    df['alert_name'] = 'KB' + year[2:] + str(nn).zfill(4) \n",
    "                    df['lightcurve'] = pysis_name\n",
    "\n",
    "                    cols = ['hjd', 'mag', 'mag_err', 'lightcurve', 'alert_name']\n",
    "                    df[cols].to_sql(con=engine, schema=None, name=\"kmtnet_\" + year, if_exists=\"append\", index=False)\n",
    "                except:\n",
    "                    print('This doesn\\'t exist, skipping.'.format(nn))\n",
    "                    continue\n",
    "                    \n",
    "def get_moa_alerts(year):\n",
    "    year = str(year)\n",
    "\n",
    "    url = \"http://www.massey.ac.nz/~iabond/moa/alert2022/alert.php\"\n",
    "    response = urlopen(url)\n",
    "    html = response.read()\n",
    "    response.close()\n",
    "    soup = BeautifulSoup(html,\"html.parser\")\n",
    "\n",
    "    \n",
    "    # Grab columns for tE and Ibase.\n",
    "    tE = soup.find_all('td')[4::8]\n",
    "    Ibase = soup.find_all('td')[6::8]\n",
    "\n",
    "    # Convert them from strings to floats.\n",
    "    tE_list = [float(ne.evaluate(item.get_text())) for item in tE]\n",
    "    Ibase_list = [float(ne.evaluate(item.get_text())) for item in Ibase]\n",
    "\n",
    "    # Now, grab the classification column.\n",
    "    cat = soup.find_all('td')[7::8]\n",
    "    cat_list = [item.get_text() for item in cat]\n",
    "\n",
    "    # Link to the alert page.\n",
    "    alert_url = soup.find_all('td')[0::8]\n",
    "    moa_alert_url = 'http://www.massey.ac.nz/~iabond/moa/alert' + year + '/'\n",
    "    alert_url_list = [moa_alert_url + item.find_all('a', href=True)[0]['href'] for item in alert_url]\n",
    "\n",
    "    # Alert name\n",
    "    nn = len(tE_list)\n",
    "    alert_name = []\n",
    "    for ii in np.arange(nn):\n",
    "        alert_name.append('MB' + year[2:] + str(ii+1).zfill(3))\n",
    "\n",
    "    # Put it all into a dataframe.\n",
    "    df = pd.DataFrame(list(zip(alert_name, cat_list, tE_list, Ibase_list, alert_url_list)),\n",
    "                     columns =['alert_name', 'class', 'tE', 'Ibase', 'alert_url'])\n",
    "\n",
    "    df.to_sql(con=engine, schema=None, name=\"moa_alerts_\" + year, if_exists=\"replace\", index=False)\n",
    "    \n",
    "def get_ogle_alerts(year):\n",
    "    def ogle_str_to_float(item):\n",
    "        try:\n",
    "            return float(ne.evaluate(item.contents[0].replace(u'\\n', '')))\n",
    "        except:\n",
    "            return\n",
    "\n",
    "    year = str(year)\n",
    "  \n",
    "    # Get alerts using beautiful soup.\n",
    "    url = \"https://ogle.astrouw.edu.pl/ogle4/ews/\" + year + \"/ews.html\"\n",
    "    response = urlopen(url)\n",
    "    html = response.read()\n",
    "    response.close()\n",
    "    soup = BeautifulSoup(html,\"html.parser\")\n",
    "\n",
    "    # Grab columns for tE and Ibase.\n",
    "    tE = soup.find_all('td')[8::15] \n",
    "    Ibase = soup.find_all('td')[13::15]\n",
    "\n",
    "    # Convert them from strings to floats.\n",
    "    tE_list = [ogle_str_to_float(item) for item in tE]\n",
    "    Ibase_list = [ogle_str_to_float(item) for item in Ibase]\n",
    "\n",
    "    # Alert name and page link.\n",
    "    nn = len(tE_list)\n",
    "    alert_name = []\n",
    "    alert_url_list = []\n",
    "    ogle_alert_url = 'https://ogle.astrouw.edu.pl/ogle4/ews/'\n",
    "\n",
    "    for ii in np.arange(nn):\n",
    "        alert_name.append('OB' + year[2:] + str(ii+1).zfill(4))\n",
    "        alert_url_list.append(ogle_alert_url + str(ii+1).zfill(4) + '.html')\n",
    "\n",
    "    # Put it all into a dataframe.\n",
    "    df = pd.DataFrame(list(zip(alert_name, tE_list, Ibase_list, alert_url_list)),\n",
    "                     columns =['alert_name', 'tE', 'Ibase', 'alert_url'])\n",
    "\n",
    "    df.to_sql(con=engine, schema=None, name=\"ogle_alerts_\" + year, if_exists=\"replace\", index=False)\n",
    "    \n",
    "def get_kmtnet_alerts(year):\n",
    "    \"\"\"\n",
    "    year is an integer.\n",
    "    \"\"\"\n",
    "    def kmtnet_str_to_float(item):\n",
    "        try:\n",
    "            return float(ne.evaluate(item.get_text().replace(u'\\xa0', u'')))\n",
    "        except:\n",
    "            return\n",
    "\n",
    "    year = str(year)\n",
    "    url = \"https://kmtnet.kasi.re.kr/~ulens/event/\" + year + \"/\"\n",
    "    response = urlopen(url)\n",
    "    html = response.read()\n",
    "    response.close()\n",
    "    soup = BeautifulSoup(html,\"html.parser\")\n",
    "\n",
    "    if year in ['2022', '2020', '2017', '2016']:\n",
    "        tE = soup.find_all('td')[7::15][1:]\n",
    "        Ibase = soup.find_all('td')[10::15][1:]\n",
    "        cat = soup.find_all('td')[3::15][1:]\n",
    "    elif year in ['2021', '2019', '2018']:\n",
    "        tE = soup.find_all('td')[8::16][1:]\n",
    "        Ibase = soup.find_all('td')[11::16][1:]\n",
    "        cat = soup.find_all('td')[4::16][1:]\n",
    "    else:\n",
    "        raise Exception('Not a valid year')\n",
    "\n",
    "    tE_list = [kmtnet_str_to_float(item) for item in tE]\n",
    "    Ibase_list = [kmtnet_str_to_float(item) for item in Ibase]\n",
    "    cat_list = [item.get_text().replace(u'\\xa0', u'') for item in cat]\n",
    "\n",
    "    # Link to the alert page.\n",
    "    if year in ['2022', '2020', '2017', '2016']:\n",
    "        alert_url = soup.find_all('td')[0::15][1:]\n",
    "    elif year in ['2021', '2019', '2018']:\n",
    "        alert_url = soup.find_all('td')[0::16][1:]\n",
    "    else:\n",
    "        raise Exception('Not a valid year')\n",
    "    kmt_alert_url = 'https://kmtnet.kasi.re.kr/~ulens/event/' + year + '/'\n",
    "    alert_url_list = [kmt_alert_url + item.find_all('a', href=True)[0]['href'] for item in alert_url]\n",
    "\n",
    "    # Alert name\n",
    "    nn = len(tE_list)\n",
    "    alert_name = []\n",
    "    for ii in np.arange(nn):\n",
    "        alert_name.append('KB' + year[2:] + str(ii+1).zfill(4))\n",
    "\n",
    "    # Put it all into a dataframe.\n",
    "    df = pd.DataFrame(list(zip(alert_name, cat_list, tE_list, Ibase_list, alert_url_list)),\n",
    "                     columns =['alert_name', 'class', 'tE', 'Ibase', 'alert_url'])\n",
    "\n",
    "    df.to_sql(con=engine, schema=None, name=\"kmtnet_alerts_\" + year, if_exists=\"replace\", index=False)"
   ]
  },
  {
   "cell_type": "code",
   "execution_count": null,
   "id": "native-individual",
   "metadata": {},
   "outputs": [],
   "source": []
  }
 ],
 "metadata": {
  "kernelspec": {
   "display_name": "Python 3",
   "language": "python",
   "name": "python3"
  },
  "language_info": {
   "codemirror_mode": {
    "name": "ipython",
    "version": 3
   },
   "file_extension": ".py",
   "mimetype": "text/x-python",
   "name": "python",
   "nbconvert_exporter": "python",
   "pygments_lexer": "ipython3",
   "version": "3.7.10"
  }
 },
 "nbformat": 4,
 "nbformat_minor": 5
}
