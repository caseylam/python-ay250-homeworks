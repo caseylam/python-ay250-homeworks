{
 "cells": [
  {
   "cell_type": "code",
   "execution_count": 2,
   "id": "5335617c",
   "metadata": {},
   "outputs": [],
   "source": [
    "import ftplib\n",
    "from sqlalchemy import create_engine, text\n",
    "from sqlalchemy.sql import select\n",
    "from bs4 import BeautifulSoup\n",
    "import numpy as np \n",
    "from io import BytesIO\n",
    "import pandas as pd\n",
    "import time \n",
    "from urllib.request import urlopen\n",
    "import numexpr as ne\n",
    "import requests"
   ]
  },
  {
   "cell_type": "markdown",
   "id": "4dd869df",
   "metadata": {},
   "source": [
    "This notebook outlines how to dump the lightcurves and alerts into databases. Let's use SQLAlchemy Core.\n",
    "\n",
    "First, let's put the lightcurves into the database."
   ]
  },
  {
   "cell_type": "code",
   "execution_count": 3,
   "id": "ce343613",
   "metadata": {},
   "outputs": [],
   "source": [
    "engine = create_engine('sqlite:///foo.db')\n",
    "conn = engine.connect()"
   ]
  },
  {
   "cell_type": "markdown",
   "id": "a8e68f35",
   "metadata": {},
   "source": [
    "# MOA"
   ]
  },
  {
   "cell_type": "code",
   "execution_count": 99,
   "id": "972ed940",
   "metadata": {},
   "outputs": [
    {
     "name": "stdout",
     "output_type": "stream",
     "text": [
      "Time to write table: 31 sec for 10 alerts\n"
     ]
    }
   ],
   "source": [
    "# So we don't have to deal with the log10 complaining.\n",
    "import warnings\n",
    "warnings.filterwarnings(\"ignore\")\n",
    "\n",
    "url = \"http://www.massey.ac.nz/~iabond/moa/alert2022/alert.php\"\n",
    "response = urlopen(url)\n",
    "html = response.read()\n",
    "response.close()\n",
    "soup = BeautifulSoup(html,\"html.parser\")\n",
    "links = soup.find_all('a', href=True)\n",
    "alert_dirs = []\n",
    "# Get a list of all the bulge microlensing alerts\n",
    "for ii, link in enumerate(links):\n",
    "    if 'BLG' in link.text:\n",
    "        alert_dirs.append(links[ii]['href'])\n",
    "        \n",
    "counter = 0\n",
    "\n",
    "t0 = time.time()\n",
    "\n",
    "for nn, alert_dir in enumerate(alert_dirs[0:10]):\n",
    "    url = \"http://www.massey.ac.nz/~iabond/moa/alert2022/\" + alert_dir\n",
    "    response = urlopen(url)\n",
    "    html = response.read()\n",
    "    response.close()\n",
    "    soup = BeautifulSoup(html,\"html.parser\")\n",
    "\n",
    "    # Get the magnitude and flux offsets.\n",
    "    foo = soup.find('b').next_sibling\n",
    "    moff = foo.split('=')[1].split('-')[0].strip(' ')\n",
    "    bah = soup.find('sub').next_sibling\n",
    "    foff = bah.split('+')[1].split(')')[0].strip(' ')\n",
    "\n",
    "    # Now convert these into floats\n",
    "    m = ne.evaluate(moff)\n",
    "    f = ne.evaluate(foff)\n",
    "\n",
    "    # Now scrape the .dat file into a pandas dataframe.\n",
    "    url = \"https://www.massey.ac.nz/~iabond/moa/alert2022/fetchtxt.php?path=moa/ephot/phot-\" + \\\n",
    "            alert_dir.strip('display.php?id=') + \".dat\"\n",
    "    bytes_data = requests.get(url).content\n",
    "    df = pd.read_csv(BytesIO(bytes_data), \n",
    "                     delim_whitespace=True, skiprows=11, skipfooter=1, header=None, engine='python', \n",
    "                     names=['hjd', 'delta_flux', 'flux_err', 'foo1', 'foo2', 'foo3', 'foo4', 'foo5'])\n",
    "\n",
    "    df['mag'] = m - 2.5*np.log10(df['delta_flux'] + f)\n",
    "    df['mag_err'] = 1.09 * df['flux_err']/(df['delta_flux'] + f)\n",
    "    df['alert_name'] = 'MB22' + str(nn + 1).zfill(3)  # need to make sure this always works.\n",
    "\n",
    "    df.dropna(axis='index', how='any', inplace=True)\n",
    "\n",
    "    cols = ['hjd', 'mag', 'mag_err', 'alert_name']\n",
    "    df[cols].to_sql(con=engine, schema=None, name=\"moa\", if_exists=\"append\", index=False)\n",
    "    counter += 1\n",
    "t1 = time.time()\n",
    "\n",
    "print('Time to write table: {0:.0f} sec for {1} alerts'.format(t1 - t0, counter))"
   ]
  },
  {
   "cell_type": "markdown",
   "id": "5c328ce0",
   "metadata": {},
   "source": [
    "# OGLE"
   ]
  },
  {
   "cell_type": "code",
   "execution_count": 100,
   "id": "86cda875",
   "metadata": {},
   "outputs": [
    {
     "name": "stdout",
     "output_type": "stream",
     "text": [
      "Time to write table: 14 sec for 9 alerts\n"
     ]
    }
   ],
   "source": [
    "ftp = ftplib.FTP(\"ftp.astrouw.edu.pl\")\n",
    "ftp.login()\n",
    "ftp.cwd(\"ogle/ogle4/ews/2019/\")\n",
    "\n",
    "counter = 0\n",
    "\n",
    "t0 = time.time()\n",
    "\n",
    "for nn in np.arange(start=1, stop=10, step=1):\n",
    "    ftp.cwd(\"blg-\" + str(nn).zfill(4))\n",
    "    \n",
    "    flo = BytesIO()\n",
    "    ftp.retrbinary('RETR phot.dat', flo.write)\n",
    "    flo.seek(0)\n",
    "    df = pd.read_fwf(flo, header=0, names=['hjd', 'mag', 'mag_err', 'see', 'sky'])\n",
    "    \n",
    "    df['alert_name'] = 'OB19' + str(nn + 1).zfill(4) \n",
    "\n",
    "    cols = ['hjd', 'mag', 'mag_err', 'alert_name']\n",
    "    df[cols].to_sql(con=engine, schema=None, name=\"ogle\", if_exists=\"append\", index=False)\n",
    "    \n",
    "    ftp.cwd(\"../\")\n",
    "    \n",
    "    counter += 1\n",
    "t1 = time.time()\n",
    "\n",
    "print('Time to write table: {0:.0f} sec for {1} alerts'.format(t1 - t0, counter))"
   ]
  },
  {
   "cell_type": "markdown",
   "id": "34ef9e8e",
   "metadata": {},
   "source": [
    "# KMTNet"
   ]
  },
  {
   "cell_type": "code",
   "execution_count": 103,
   "id": "9192a462",
   "metadata": {},
   "outputs": [
    {
     "name": "stdout",
     "output_type": "stream",
     "text": [
      "Time to write table: 112 sec for 109 files (10 alerts)\n"
     ]
    }
   ],
   "source": [
    "counter = 0\n",
    "\n",
    "t0 = time.time()\n",
    "\n",
    "for nn in np.arange(start=1, stop=11, step=1):\n",
    "    # For KMTNet, get data from all the telescopes?\n",
    "    url = \"https://kmtnet.kasi.re.kr/~ulens/event/2022/view.php?event=KMT-2022-BLG-\" + str(nn).zfill(4)\n",
    "    response = urlopen(url)\n",
    "    html = response.read()\n",
    "    response.close()\n",
    "    soup = BeautifulSoup(html,\"html.parser\")\n",
    "    \n",
    "    links = soup.find_all('a', href=True)\n",
    "\n",
    "    # Only keep I-band lightcurves. \n",
    "    pysis_names = links[3].get_text(separator=',').split(',')[:-2]\n",
    "    \n",
    "    for pysis_name in pysis_names:\n",
    "        url = \"https://kmtnet.kasi.re.kr/~ulens/event/2022/data/KB22\" + str(nn).zfill(4) + \"/pysis/\" + pysis_name\n",
    "        bytes_data = requests.get(url).content\n",
    "        try:\n",
    "            df = pd.read_csv(BytesIO(bytes_data), \n",
    "                             delim_whitespace=True, skiprows=1, header=None, \n",
    "                             names=['hjd', 'Delta_flux', 'flux_err', 'mag', 'mag_err', 'fwhm', 'sky', 'secz'])\n",
    "\n",
    "            df['alert_name'] = 'KB22' + str(nn + 1).zfill(4) \n",
    "            df['lightcurve'] = pysis_name\n",
    "\n",
    "            cols = ['hjd', 'mag', 'mag_err', 'lightcurve', 'alert_name']\n",
    "            df[cols].to_sql(con=engine, schema=None, name=\"kmtnet\", if_exists=\"append\", index=False)\n",
    "            counter += 1\n",
    "        except:\n",
    "            print('This doesn\\'t exist, skipping.'.format(nn))\n",
    "            continue\n",
    "t1 = time.time()\n",
    "\n",
    "print('Time to write table: {0:.0f} sec for {1} files ({2} alerts)'.format(t1 - t0, counter, nn))"
   ]
  },
  {
   "cell_type": "code",
   "execution_count": 101,
   "id": "c9e2a14c",
   "metadata": {},
   "outputs": [
    {
     "name": "stdout",
     "output_type": "stream",
     "text": [
      "Time to write table: 68 sec for 56 files (10 alerts)\n"
     ]
    }
   ],
   "source": [
    "counter = 0\n",
    "\n",
    "t0 = time.time()\n",
    "\n",
    "for nn in np.arange(start=1, stop=11, step=1):\n",
    "    # For KMTNet, get data from all the telescopes?\n",
    "    url = \"https://kmtnet.kasi.re.kr/~ulens/event/2022/view.php?event=KMT-2022-BLG-\" + str(nn).zfill(4)\n",
    "    response = urlopen(url)\n",
    "    html = response.read()\n",
    "    response.close()\n",
    "    soup = BeautifulSoup(html,\"html.parser\")\n",
    "    \n",
    "    links = soup.find_all('a', href=True)\n",
    "\n",
    "    # Only keep I-band lightcurves. \n",
    "    # FIXME: Could probably trim this further down by only taking the one with the most data?\n",
    "    # But not sure if checking is more expensive than just writing it.\n",
    "    pysis_names = links[3].get_text(separator=',').split(',')[:-2]\n",
    "    \n",
    "    for pysis_name in pysis_names:\n",
    "        if '_I.pysis' in pysis_name:\n",
    "            url = \"https://kmtnet.kasi.re.kr/~ulens/event/2022/data/KB22\" + str(nn+1).zfill(4) + \"/pysis/\" + pysis_name\n",
    "            bytes_data = requests.get(url).content\n",
    "            try:\n",
    "                df = pd.read_csv(BytesIO(bytes_data), \n",
    "                                 delim_whitespace=True, skiprows=1, header=None, \n",
    "                                 names=['hjd', 'Delta_flux', 'flux_err', 'mag', 'mag_err', 'fwhm', 'sky', 'secz'])\n",
    "\n",
    "                df['alert_name'] = 'KB22' + str(nn + 1).zfill(4) \n",
    "                df['lightcurve'] = pysis_name\n",
    "                \n",
    "                cols = ['hjd', 'mag', 'mag_err', 'lightcurve', 'alert_name']\n",
    "                df[cols].to_sql(con=engine, schema=None, name=\"kmtnet\", if_exists=\"append\", index=False)\n",
    "                counter += 1\n",
    "            except:\n",
    "                print('This doesn\\'t exist, skipping.'.format(nn))\n",
    "                continue\n",
    "t1 = time.time()\n",
    "\n",
    "print('Time to write table: {0:.0f} sec for {1} files ({2} alerts)'.format(t1 - t0, counter, nn))"
   ]
  },
  {
   "cell_type": "code",
   "execution_count": 102,
   "id": "8b0043a1",
   "metadata": {},
   "outputs": [],
   "source": [
    "# s = text('DROP TABLE kmtnet')\n",
    "# result = conn.execute(s)\n",
    "\n",
    "# s = text('DROP TABLE ogle')\n",
    "# result = conn.execute(s)\n",
    "\n",
    "# s = text('DROP TABLE moa')\n",
    "# result = conn.execute(s)"
   ]
  },
  {
   "cell_type": "code",
   "execution_count": null,
   "id": "39f4d4a0",
   "metadata": {},
   "outputs": [],
   "source": [
    "# First way to query the table.\n",
    "# result = engine.execute(\"SELECT HJD FROM kmtnet\").fetchall()\n",
    "\n",
    "# Second way to query the table.\n",
    "# s = text('SELECT * FROM kmtnet')\n",
    "# result = conn.execute(s)\n",
    "# result.fetchall()"
   ]
  },
  {
   "cell_type": "markdown",
   "id": "5799d25e",
   "metadata": {},
   "source": [
    "Next, we'll put the alerts into the database. \n",
    "\n",
    "Do we want to post all alert values, or just the subset I have here?"
   ]
  },
  {
   "cell_type": "markdown",
   "id": "f9b6e158",
   "metadata": {},
   "source": [
    "# MOA"
   ]
  },
  {
   "cell_type": "code",
   "execution_count": 37,
   "id": "fbbc8fb0",
   "metadata": {},
   "outputs": [
    {
     "data": {
      "text/plain": [
       "211"
      ]
     },
     "execution_count": 37,
     "metadata": {},
     "output_type": "execute_result"
    }
   ],
   "source": [
    "url = \"http://www.massey.ac.nz/~iabond/moa/alert2022/alert.php\"\n",
    "response = urlopen(url)\n",
    "html = response.read()\n",
    "response.close()\n",
    "soup = BeautifulSoup(html,\"html.parser\")\n",
    "\n",
    "# Grab columns for tE and Ibase.\n",
    "tE = soup.find_all('td')[4::8]\n",
    "Ibase = soup.find_all('td')[6::8]\n",
    "\n",
    "# Convert them from strings to floats.\n",
    "tE_list = [float(ne.evaluate(item.get_text())) for item in tE]\n",
    "Ibase_list = [float(ne.evaluate(item.get_text())) for item in Ibase]\n",
    "\n",
    "# Now, grab the classification column.\n",
    "cat = soup.find_all('td')[7::8]\n",
    "cat_list = [item.get_text() for item in cat]\n",
    "\n",
    "# Link to the alert page.\n",
    "alert_url = soup.find_all('td')[0::8]\n",
    "moa_alert_url = 'http://www.massey.ac.nz/~iabond/moa/alert2022/'\n",
    "alert_url_list = [moa_alert_url + item.find_all('a', href=True)[0]['href'] for item in alert_url]\n",
    "\n",
    "# Alert name\n",
    "nn = len(tE_list)\n",
    "alert_name = []\n",
    "for ii in np.arange(nn):\n",
    "    alert_name.append('MB22' + str(ii+1).zfill(3))\n",
    "\n",
    "# Put it all into a dataframe.\n",
    "df = pd.DataFrame(list(zip(alert_name, cat_list, tE_list, Ibase_list, alert_url_list)),\n",
    "                 columns =['alert_name', 'class', 'tE', 'Ibase', 'alert_url'])\n",
    "\n",
    "df.to_sql(con=engine, schema=None, name=\"moa_alerts\", if_exists=\"replace\", index=False)"
   ]
  },
  {
   "cell_type": "markdown",
   "id": "2b019189",
   "metadata": {},
   "source": [
    "# OGLE "
   ]
  },
  {
   "cell_type": "code",
   "execution_count": 52,
   "id": "1d6522a5",
   "metadata": {},
   "outputs": [
    {
     "data": {
      "text/plain": [
       "1526"
      ]
     },
     "execution_count": 52,
     "metadata": {},
     "output_type": "execute_result"
    }
   ],
   "source": [
    "def ogle_str_to_float(item):\n",
    "    try:\n",
    "        return float(ne.evaluate(item.contents[0].replace(u'\\n', '')))\n",
    "    except:\n",
    "        return\n",
    "    \n",
    "# Get alerts using beautiful soup.\n",
    "url = \"https://ogle.astrouw.edu.pl/ogle4/ews/2019/ews.html\"\n",
    "response = urlopen(url)\n",
    "html = response.read()\n",
    "response.close()\n",
    "soup = BeautifulSoup(html,\"html.parser\")\n",
    "\n",
    "# Grab columns for tE and Ibase.\n",
    "tE = soup.find_all('td')[8::15] \n",
    "Ibase = soup.find_all('td')[13::15]\n",
    "\n",
    "# Convert them from strings to floats.\n",
    "tE_list = [ogle_str_to_float(item) for item in tE]\n",
    "Ibase_list = [ogle_str_to_float(item) for item in Ibase]\n",
    "    \n",
    "# Alert name and page link.\n",
    "nn = len(tE_list)\n",
    "alert_name = []\n",
    "alert_url_list = []\n",
    "ogle_alert_url = 'https://ogle.astrouw.edu.pl/ogle4/ews/'\n",
    "\n",
    "for ii in np.arange(nn):\n",
    "    alert_name.append('OB19' + str(ii+1).zfill(4))\n",
    "    alert_url_list.append(ogle_alert_url + str(ii+1).zfill(4) + '.html')\n",
    "\n",
    "# Put it all into a dataframe.\n",
    "df = pd.DataFrame(list(zip(alert_name, tE_list, Ibase_list, alert_url_list)),\n",
    "                 columns =['alert_name', 'tE', 'Ibase', 'alert_url'])\n",
    "\n",
    "df.to_sql(con=engine, schema=None, name=\"ogle_alerts\", if_exists=\"replace\", index=False)"
   ]
  },
  {
   "cell_type": "markdown",
   "id": "cc2daee3",
   "metadata": {},
   "source": [
    "# KMTNet"
   ]
  },
  {
   "cell_type": "code",
   "execution_count": 117,
   "id": "2cd46c86",
   "metadata": {},
   "outputs": [
    {
     "data": {
      "text/plain": [
       "576"
      ]
     },
     "execution_count": 117,
     "metadata": {},
     "output_type": "execute_result"
    }
   ],
   "source": [
    "def kmtnet_str_to_float(item):\n",
    "    try:\n",
    "        return float(ne.evaluate(item.get_text().replace(u'\\xa0', u'')))\n",
    "    except:\n",
    "        return\n",
    "\n",
    "year = '2022'\n",
    "url = \"https://kmtnet.kasi.re.kr/~ulens/event/\" + year + \"/\"\n",
    "response = urlopen(url)\n",
    "html = response.read()\n",
    "response.close()\n",
    "soup = BeautifulSoup(html,\"html.parser\")\n",
    "\n",
    "if year in ['2022', '2020', '2017', '2016']:\n",
    "    tE = soup.find_all('td')[7::15][1:]\n",
    "    Ibase = soup.find_all('td')[10::15][1:]\n",
    "elif year in ['2021', '2019', '2018']:\n",
    "    tE = soup.find_all('td')[8::16][1:]\n",
    "    Ibase = soup.find_all('td')[11::16][1:]\n",
    "else:\n",
    "    raise Exception('Not a valid year')\n",
    "\n",
    "tE_list = [kmtnet_str_to_float(item) for item in tE]\n",
    "Ibase_list = [kmtnet_str_to_float(item) for item in Ibase]\n",
    "\n",
    "# Now, grab the classification column.\n",
    "cat = soup.find_all('td')[3::15][1:]\n",
    "cat_list = [item.get_text().replace(u'\\xa0', u'') for item in cat]\n",
    "\n",
    "# Link to the alert page.\n",
    "alert_url = soup.find_all('td')[0::15][1:]\n",
    "kmt_alert_url = 'https://kmtnet.kasi.re.kr/~ulens/event/2022/'\n",
    "alert_url_list = [kmt_alert_url + item.find_all('a', href=True)[0]['href'] for item in alert_url]\n",
    "\n",
    "# Alert name\n",
    "nn = len(tE_list)\n",
    "alert_name = []\n",
    "for ii in np.arange(nn):\n",
    "    alert_name.append('KB22' + str(ii+1).zfill(4))\n",
    "\n",
    "# Put it all into a dataframe.\n",
    "df = pd.DataFrame(list(zip(alert_name, cat_list, tE_list, Ibase_list, alert_url_list)),\n",
    "                 columns =['alert_name', 'class', 'tE', 'Ibase', 'alert_url'])\n",
    "\n",
    "df.to_sql(con=engine, schema=None, name=\"kmt_alerts\", if_exists=\"replace\", index=False)"
   ]
  },
  {
   "cell_type": "code",
   "execution_count": 4,
   "id": "0023ff83",
   "metadata": {},
   "outputs": [
    {
     "name": "stderr",
     "output_type": "stream",
     "text": [
      "/tmp/ipykernel_1776/4162273999.py:1: SADeprecationWarning: The Engine.table_names() method is deprecated and will be removed in a future release.  Please refer to Inspector.get_table_names(). (deprecated since: 1.4)\n",
      "  engine.table_names()\n"
     ]
    },
    {
     "data": {
      "text/plain": [
       "['kmt_alerts', 'kmtnet', 'moa', 'moa_alerts', 'ogle', 'ogle_alerts']"
      ]
     },
     "execution_count": 4,
     "metadata": {},
     "output_type": "execute_result"
    }
   ],
   "source": [
    "engine.table_names()"
   ]
  },
  {
   "cell_type": "code",
   "execution_count": 106,
   "id": "dc9d3066",
   "metadata": {},
   "outputs": [
    {
     "data": {
      "text/plain": [
       "[(9641.22538, 15.9393, 0.0074, 'KMTA04_I.pysis', 'KB220002'),\n",
       " (9644.20631, 16.1599, 0.0122, 'KMTA04_I.pysis', 'KB220002'),\n",
       " (9644.26027, 15.9376, 0.0064, 'KMTA04_I.pysis', 'KB220002'),\n",
       " (9648.23209, 15.9066, 0.0055, 'KMTA04_I.pysis', 'KB220002'),\n",
       " (9649.18022, 15.9085, 0.0056, 'KMTA04_I.pysis', 'KB220002'),\n",
       " (9650.17749, 15.8952, 0.0062, 'KMTA04_I.pysis', 'KB220002'),\n",
       " (9650.23155, 15.9029, 0.0055, 'KMTA04_I.pysis', 'KB220002'),\n",
       " (9652.1816, 15.8897, 0.0058, 'KMTA04_I.pysis', 'KB220002'),\n",
       " (9652.23741, 15.8934, 0.0045, 'KMTA04_I.pysis', 'KB220002'),\n",
       " (9653.20286, 15.8563, 0.0055, 'KMTA04_I.pysis', 'KB220002')]"
      ]
     },
     "execution_count": 106,
     "metadata": {},
     "output_type": "execute_result"
    }
   ],
   "source": [
    "engine.execute(\"SELECT * FROM kmtnet\").fetchall()[0:10]"
   ]
  },
  {
   "cell_type": "code",
   "execution_count": 118,
   "id": "d79ff015",
   "metadata": {},
   "outputs": [
    {
     "data": {
      "text/plain": [
       "[('KB220001', 'clear', 47.92, 16.03, 'https://kmtnet.kasi.re.kr/~ulens/event/2022/view.php?event=KMT-2022-BLG-0001'),\n",
       " ('KB220002', 'clear', 6.64, 16.58, 'https://kmtnet.kasi.re.kr/~ulens/event/2022/view.php?event=KMT-2022-BLG-0002'),\n",
       " ('KB220003', 'clear', 189.81, 19.14, 'https://kmtnet.kasi.re.kr/~ulens/event/2022/view.php?event=KMT-2022-BLG-0003'),\n",
       " ('KB220004', 'clear', 5.0, 17.62, 'https://kmtnet.kasi.re.kr/~ulens/event/2022/view.php?event=KMT-2022-BLG-0004'),\n",
       " ('KB220005', 'clear', 30.9, 17.41, 'https://kmtnet.kasi.re.kr/~ulens/event/2022/view.php?event=KMT-2022-BLG-0005'),\n",
       " ('KB220006', 'clear', 47.95, 18.86, 'https://kmtnet.kasi.re.kr/~ulens/event/2022/view.php?event=KMT-2022-BLG-0006'),\n",
       " ('KB220007', 'clear', 7.5, 16.75, 'https://kmtnet.kasi.re.kr/~ulens/event/2022/view.php?event=KMT-2022-BLG-0007'),\n",
       " ('KB220008', 'clear', 99.57, 18.43, 'https://kmtnet.kasi.re.kr/~ulens/event/2022/view.php?event=KMT-2022-BLG-0008'),\n",
       " ('KB220009', 'probable', 6.91, 17.73, 'https://kmtnet.kasi.re.kr/~ulens/event/2022/view.php?event=KMT-2022-BLG-0009'),\n",
       " ('KB220010', 'clear', 101.49, 17.28, 'https://kmtnet.kasi.re.kr/~ulens/event/2022/view.php?event=KMT-2022-BLG-0010')]"
      ]
     },
     "execution_count": 118,
     "metadata": {},
     "output_type": "execute_result"
    }
   ],
   "source": [
    "engine.execute(\"SELECT * FROM kmt_alerts\").fetchall()[0:10]"
   ]
  },
  {
   "cell_type": "code",
   "execution_count": 119,
   "id": "eac2c117",
   "metadata": {},
   "outputs": [
    {
     "data": {
      "text/plain": [
       "[(2457424.86801, 17.262, 0.013, 'OB220002'),\n",
       " (2457426.88843, 17.274, 0.025, 'OB220002'),\n",
       " (2457427.85677, 17.292, 0.018, 'OB220002'),\n",
       " (2457428.85249, 17.262, 0.013, 'OB220002'),\n",
       " (2457429.84937, 17.274, 0.015, 'OB220002'),\n",
       " (2457431.84908, 17.264, 0.014, 'OB220002'),\n",
       " (2457432.85138, 17.241, 0.013, 'OB220002'),\n",
       " (2457433.84953, 17.287, 0.014, 'OB220002'),\n",
       " (2457434.84167, 17.253, 0.017, 'OB220002'),\n",
       " (2457435.84744, 17.325, 0.018, 'OB220002')]"
      ]
     },
     "execution_count": 119,
     "metadata": {},
     "output_type": "execute_result"
    }
   ],
   "source": [
    "engine.execute(\"SELECT * FROM ogle\").fetchall()[0:10]"
   ]
  },
  {
   "cell_type": "code",
   "execution_count": 120,
   "id": "2c5a5f7a",
   "metadata": {},
   "outputs": [
    {
     "data": {
      "text/plain": [
       "[('OB190001', 54.554, 17.267, 'https://ogle.astrouw.edu.pl/ogle4/ews/0000.html'),\n",
       " ('OB190002', 2.061, 15.999, 'https://ogle.astrouw.edu.pl/ogle4/ews/0001.html'),\n",
       " ('OB190003', 51.13, 18.293, 'https://ogle.astrouw.edu.pl/ogle4/ews/0002.html'),\n",
       " ('OB190004', 2.673, 19.763, 'https://ogle.astrouw.edu.pl/ogle4/ews/0003.html'),\n",
       " ('OB190005', 17.447, 18.588, 'https://ogle.astrouw.edu.pl/ogle4/ews/0004.html'),\n",
       " ('OB190006', 11.543, 19.354, 'https://ogle.astrouw.edu.pl/ogle4/ews/0005.html'),\n",
       " ('OB190007', 33.064, 18.977, 'https://ogle.astrouw.edu.pl/ogle4/ews/0006.html'),\n",
       " ('OB190008', 103.082, 18.373, 'https://ogle.astrouw.edu.pl/ogle4/ews/0007.html'),\n",
       " ('OB190009', 83.851, 19.07, 'https://ogle.astrouw.edu.pl/ogle4/ews/0008.html'),\n",
       " ('OB190010', 36.882, 13.683, 'https://ogle.astrouw.edu.pl/ogle4/ews/0009.html')]"
      ]
     },
     "execution_count": 120,
     "metadata": {},
     "output_type": "execute_result"
    }
   ],
   "source": [
    "engine.execute(\"SELECT * FROM ogle_alerts\").fetchall()[0:10]"
   ]
  },
  {
   "cell_type": "code",
   "execution_count": 121,
   "id": "a3b309c9",
   "metadata": {},
   "outputs": [
    {
     "data": {
      "text/plain": [
       "[(2453665.89736, 17.31345229775939, 0.30650568956881086, 'MB22001'),\n",
       " (2453666.87143, 17.297472140289724, 0.29902339121361526, 'MB22001'),\n",
       " (2453667.86726, 18.806602068065125, 1.428339356277067, 'MB22001'),\n",
       " (2453667.91423, 18.595125021713844, 0.5900105029368989, 'MB22001'),\n",
       " (2453824.13931, 21.09675360031579, 2.0866864926727384, 'MB22001'),\n",
       " (2453837.12457, 21.15913915153447, 1.0965901846786645, 'MB22001'),\n",
       " (2453837.17138, 20.641273090478833, 0.9590328599599511, 'MB22001'),\n",
       " (2453839.07034, 20.467020389216028, 0.5677064613487173, 'MB22001'),\n",
       " (2453839.11008, 21.536248087070604, 1.6210742184679157, 'MB22001'),\n",
       " (2453839.14989, 22.266006587346027, 2.9583624975803273, 'MB22001')]"
      ]
     },
     "execution_count": 121,
     "metadata": {},
     "output_type": "execute_result"
    }
   ],
   "source": [
    "engine.execute(\"SELECT * FROM moa\").fetchall()[0:10]"
   ]
  },
  {
   "cell_type": "code",
   "execution_count": 122,
   "id": "a51fb085",
   "metadata": {},
   "outputs": [
    {
     "data": {
      "text/plain": [
       "[('MB22000', 'microlensing', 50.5, 19.63, 'http://www.massey.ac.nz/~iabond/moa/alert2022/display.php?id=gb10-R-6-69586'),\n",
       " ('MB22001', 'microlensing', 104.99, 15.47, 'http://www.massey.ac.nz/~iabond/moa/alert2022/display.php?id=gb12-R-9-23523'),\n",
       " ('MB22002', 'microlensing', 40.81, 16.57, 'http://www.massey.ac.nz/~iabond/moa/alert2022/display.php?id=gb13-R-9-75098'),\n",
       " ('MB22003', 'microlensing', 24.41, 16.33, 'http://www.massey.ac.nz/~iabond/moa/alert2022/display.php?id=gb17-R-9-23110'),\n",
       " ('MB22004', 'microlensing', 40.69, 16.96, 'http://www.massey.ac.nz/~iabond/moa/alert2022/display.php?id=gb5-R-8-125249'),\n",
       " ('MB22005', 'microlensing', 12.53, 15.73, 'http://www.massey.ac.nz/~iabond/moa/alert2022/display.php?id=gb8-R-2-48157'),\n",
       " ('MB22006', 'microlensing', 125.36, 17.36, 'http://www.massey.ac.nz/~iabond/moa/alert2022/display.php?id=gb9-R-2-225288'),\n",
       " ('MB22007', 'microlensing', 54.28, 16.82, 'http://www.massey.ac.nz/~iabond/moa/alert2022/display.php?id=gb9-R-8-73343'),\n",
       " ('MB22008', 'microlensing', 40.39, 16.34, 'http://www.massey.ac.nz/~iabond/moa/alert2022/display.php?id=gb10-R-6-68441'),\n",
       " ('MB22009', 'microlensing', 1.53, 0.47, 'http://www.massey.ac.nz/~iabond/moa/alert2022/display.php?id=gb12-R-10-7492')]"
      ]
     },
     "execution_count": 122,
     "metadata": {},
     "output_type": "execute_result"
    }
   ],
   "source": [
    "engine.execute(\"SELECT * FROM moa_alerts\").fetchall()[0:10]"
   ]
  },
  {
   "cell_type": "code",
   "execution_count": 123,
   "id": "3ec7c0a9",
   "metadata": {},
   "outputs": [],
   "source": [
    "# FIXME: Make all the times the same? \n",
    "# Be able to pass in the year somewhere? "
   ]
  },
  {
   "cell_type": "code",
   "execution_count": null,
   "id": "cbf2ecff",
   "metadata": {},
   "outputs": [],
   "source": []
  }
 ],
 "metadata": {
  "kernelspec": {
   "display_name": "Python 3 (ipykernel)",
   "language": "python",
   "name": "python3"
  },
  "language_info": {
   "codemirror_mode": {
    "name": "ipython",
    "version": 3
   },
   "file_extension": ".py",
   "mimetype": "text/x-python",
   "name": "python",
   "nbconvert_exporter": "python",
   "pygments_lexer": "ipython3",
   "version": "3.9.9"
  }
 },
 "nbformat": 4,
 "nbformat_minor": 5
}
