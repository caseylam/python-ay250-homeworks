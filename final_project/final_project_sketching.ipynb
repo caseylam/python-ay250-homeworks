{
 "cells": [
  {
   "cell_type": "markdown",
   "id": "1ca1b17f",
   "metadata": {},
   "source": [
    "Preliminary idea: an online data-base that lists good microlensing black hole candidates. Motivation: We want to choose photometric microlensing events from alert systems (i.e. MOA, KMTNet, hopefully OGLE soon) to follow up astrometrically. Currently, we look through alert pages and note anything interesting. But it's not ideal because 0) it is manual and very time consuming to click through all these webpages 1) we choose events based on reported parameters, which often get updated as time goes on-- so what looked good might not be so good two weeks later, or vice versa.  2) it's not very well organized. 3) I want to additionally process the data, so a batch way of downloading lightcurves and re-analyzing them myself would be helpful.\n",
    "\n",
    "So I propose to use flask to make an online webapp where you can choose requirements (say on tE, baseline magnitude, change in magnification) then will automatically return links to all those alerts across  several alert systems, as well as an option to re-analyze the data. Then you can re-run it to see if you get new updates. This will require knowledge of interacting with the web, databases, and maybe application building\n",
    "\n",
    "Want to think about how can persistently host the app and make sure that the DB in the backend is not destroyed when the (python) webserver goes down."
   ]
  },
  {
   "cell_type": "markdown",
   "id": "3cc8edd6",
   "metadata": {},
   "source": [
    "Update: instead of doing this on alerts, do it on the lightcurves themselves??\n",
    "Is a SQL database the best way to do this? Maybe re-read Michael's paper and figure out how he did it."
   ]
  },
  {
   "cell_type": "markdown",
   "id": "61d00d66",
   "metadata": {},
   "source": [
    "Ideas:\n",
    "   * Baseline magnitude of X\n",
    "       * Calculate by removing all data from alert year, then calculating average. (Can compare to reported baseline mag).\n",
    "   * Delta magnitude of X\n",
    "       * Calculate the maximum (excluding outliers-- this is a problem in KMTNet/MOA in particular). Then diff against baseline magnitude.\n",
    "   * Coverage of peak, rise, and fall with sufficient cadence\n",
    "       * Calculate how many observations there are away from baseline\n",
    "       * Check there is a local maximum\n",
    "       * Check there is a rise/fall (not discrete \"jump\" but with sufficient magnitude coverage?)\n",
    "   * Single peak\n",
    "       * Only one local maximum (and somehow exclude outliers)\n",
    "   * A way to flag ongoing (rising) events vs in progress (falling) events vs completed (baseline) events\n",
    "       * Check location of local maximum and how close events are to the baseline"
   ]
  },
  {
   "cell_type": "markdown",
   "id": "262274dd",
   "metadata": {},
   "source": [
    "OGLE has Dmag.\n",
    "Can cut based on I_baseline and Dmag for what to re-fit.\n",
    "Figure out why not all MOA data downloading automatically??"
   ]
  },
  {
   "cell_type": "markdown",
   "id": "f9095214",
   "metadata": {},
   "source": [
    "* Need to somehow dump all the alert data into a database (is a SQL database the best way?)\n",
    "* Then be able to query on it (either using the reported alert parameters, or my self calculated one)\n",
    "* Have a little util that allows to re-visualize MOA data.\n",
    "* Best way to update a database so don't have to repeat the process every time?\n",
    "* Way to save outputs?"
   ]
  },
  {
   "cell_type": "markdown",
   "id": "5e4df2d3",
   "metadata": {},
   "source": [
    "Throw out outliers-- any points that don't have things within 0.1 mag (or something) of it?"
   ]
  },
  {
   "cell_type": "markdown",
   "id": "30d8ce32",
   "metadata": {},
   "source": [
    "Put all the alerts into a database:\n",
    "* Separate databases for OGLE, MOA, KMTNet \n",
    "* Separate databases for alert values and photometry data itself and photometry data: \n",
    "    * How to deal with that they don't necessarily share all column names for alerts?\n",
    "    * Should all the photometry data go into a single database?"
   ]
  },
  {
   "cell_type": "markdown",
   "id": "903b8b66",
   "metadata": {},
   "source": [
    "Choose only a specific time window to put into the alert? (Phot peak +/- 1 year?)"
   ]
  },
  {
   "cell_type": "code",
   "execution_count": null,
   "id": "aebb7402",
   "metadata": {},
   "outputs": [],
   "source": []
  }
 ],
 "metadata": {
  "kernelspec": {
   "display_name": "Python 3 (ipykernel)",
   "language": "python",
   "name": "python3"
  },
  "language_info": {
   "codemirror_mode": {
    "name": "ipython",
    "version": 3
   },
   "file_extension": ".py",
   "mimetype": "text/x-python",
   "name": "python",
   "nbconvert_exporter": "python",
   "pygments_lexer": "ipython3",
   "version": "3.9.9"
  }
 },
 "nbformat": 4,
 "nbformat_minor": 5
}
