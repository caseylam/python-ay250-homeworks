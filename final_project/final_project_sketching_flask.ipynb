{
 "cells": [
  {
   "cell_type": "code",
   "execution_count": 3,
   "id": "0f634538",
   "metadata": {},
   "outputs": [
    {
     "name": "stdout",
     "output_type": "stream",
     "text": [
      "Overwriting app.py\n"
     ]
    }
   ],
   "source": [
    "%%writefile app.py\n",
    "import os\n",
    "import pandas as pd\n",
    "import numpy as np\n",
    "from flask import Flask, flash, request, redirect, url_for, send_from_directory, render_template\n",
    "from werkzeug.utils import secure_filename\n",
    "import sqlite3\n",
    "\n",
    "app = Flask(__name__)\n",
    "\n",
    "@app.route('/', methods=['GET', 'POST'])\n",
    "def start_page():\n",
    "    \"\"\"\n",
    "    Homepage. Depending on whether there is a database or not,\n",
    "    will either prompt you to upload, or will give you the \n",
    "    option to upload or query.\n",
    "    \"\"\"\n",
    "    render_template('start_filled.html')\n",
    "\n",
    "# @app.route('/update', methods=['GET', 'POST'])\n",
    "# def upload_file():\n",
    "#     \"\"\"\n",
    "#     From https://flask.palletsprojects.com/en/2.1.x/patterns/fileuploads/\n",
    "#     With some minor modifications.\n",
    "#     \"\"\"\n",
    "#     if request.method == 'POST':\n",
    "#         # check if the post request has the file part\n",
    "#         if 'file' not in request.files:\n",
    "#             flash('No file part')\n",
    "#             return redirect(request.url)\n",
    "#         file = request.files['file']\n",
    "#         # If the user does not select a file, the browser submits an\n",
    "#         # empty file without a filename.\n",
    "#         if file.filename == '':\n",
    "#             flash('No selected file')\n",
    "#             return redirect(request.url)\n",
    "#         if file and allowed_file(file.filename):\n",
    "#             collection_name = request.form['collname']\n",
    "#             filename = secure_filename(file.filename)\n",
    "#             bibfile = os.path.join(app.config['UPLOAD_FOLDER'], filename)\n",
    "#             file.save(bibfile)\n",
    "            \n",
    "#             # Save bib into dataframe\n",
    "#             bibdf = parse_bib_to_df(bibfile, collection_name)\n",
    "#             df_to_sql(bibdf)\n",
    "            \n",
    "#             return redirect(url_for('start_page'))\n",
    "#     return render_template('upload_file.html', start_page=url_for('start_page'))\n",
    "\n",
    "    \n",
    "# @app.route('/query', methods=['GET', 'POST'])\n",
    "# def query_db():\n",
    "#     \"\"\"\n",
    "#     Provide the interface to query the database.\n",
    "#     \"\"\"\n",
    "#     if request.method == 'POST':\n",
    "#         connection = sqlite3.connect(\"bibliography.db\")\n",
    "#         cursor = connection.cursor()\n",
    "#         sql_cmd = request.form['query']\n",
    "#         cursor.execute(sql_cmd)\n",
    "\n",
    "#         db_info = cursor.fetchall()\n",
    "        \n",
    "#         return render_template('display.html', len = len(db_info), db_info = db_info, start_page=url_for('start_page'))\n",
    "\n",
    "#     return render_template('query.html', start_page=url_for('start_page'))\n",
    "\n",
    "if __name__ == '__main__':\n",
    "    app.run(port=8000, debug = True)"
   ]
  },
  {
   "cell_type": "code",
   "execution_count": 4,
   "id": "5a0a169a",
   "metadata": {},
   "outputs": [
    {
     "name": "stdout",
     "output_type": "stream",
     "text": [
      " * Serving Flask app 'app' (lazy loading)\n",
      " * Environment: production\n",
      "\u001b[31m   WARNING: This is a development server. Do not use it in a production deployment.\u001b[0m\n",
      "\u001b[2m   Use a production WSGI server instead.\u001b[0m\n",
      " * Debug mode: on\n",
      " * Running on http://127.0.0.1:8000/ (Press CTRL+C to quit)\n",
      " * Restarting with stat\n",
      " * Debugger is active!\n",
      " * Debugger PIN: 126-674-104\n",
      "^C\n"
     ]
    }
   ],
   "source": [
    "!python app.py"
   ]
  },
  {
   "cell_type": "code",
   "execution_count": null,
   "id": "ab732c1e",
   "metadata": {},
   "outputs": [],
   "source": []
  }
 ],
 "metadata": {
  "kernelspec": {
   "display_name": "Python 3 (ipykernel)",
   "language": "python",
   "name": "python3"
  },
  "language_info": {
   "codemirror_mode": {
    "name": "ipython",
    "version": 3
   },
   "file_extension": ".py",
   "mimetype": "text/x-python",
   "name": "python",
   "nbconvert_exporter": "python",
   "pygments_lexer": "ipython3",
   "version": "3.9.9"
  }
 },
 "nbformat": 4,
 "nbformat_minor": 5
}
