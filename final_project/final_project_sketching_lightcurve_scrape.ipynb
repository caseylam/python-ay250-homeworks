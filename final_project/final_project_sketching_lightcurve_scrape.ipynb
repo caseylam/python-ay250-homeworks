{
 "cells": [
  {
   "cell_type": "markdown",
   "id": "cadb1157",
   "metadata": {},
   "source": [
    "This notebook briefly outlines how to get lightcurve data for particular events from different microlensing alert webpages."
   ]
  },
  {
   "cell_type": "markdown",
   "id": "d7309f95",
   "metadata": {},
   "source": [
    "# MOA"
   ]
  },
  {
   "cell_type": "markdown",
   "id": "33d78007",
   "metadata": {},
   "source": [
    "# OGLE"
   ]
  },
  {
   "cell_type": "markdown",
   "id": "e7fe169b",
   "metadata": {},
   "source": [
    "# KMTNet"
   ]
  },
  {
   "cell_type": "code",
   "execution_count": 38,
   "id": "161f517a",
   "metadata": {},
   "outputs": [],
   "source": [
    "import requests\n",
    "import pandas as pd\n",
    "from io import BytesIO\n",
    "\n",
    "# Figure out a way to skip the first line.\n",
    "url = \"https://kmtnet.kasi.re.kr/~ulens/event/2022/data/KB220001/pysis/KMTA01_I.pysis\"\n",
    "bytes_data = requests.get(url).content\n",
    "df = pd.read_csv(BytesIO(bytes_data), delim_whitespace=True, skiprows=1, header=None)"
   ]
  },
  {
   "cell_type": "code",
   "execution_count": 39,
   "id": "e875ba89",
   "metadata": {},
   "outputs": [
    {
     "data": {
      "text/plain": [
       "numpy.float64"
      ]
     },
     "execution_count": 39,
     "metadata": {},
     "output_type": "execute_result"
    }
   ],
   "source": [
    "type(df[0][0])"
   ]
  },
  {
   "cell_type": "code",
   "execution_count": 40,
   "id": "9b419ffb",
   "metadata": {},
   "outputs": [],
   "source": [
    "# Why is there missing data???\n",
    "url = \"http://www.massey.ac.nz/~iabond/moa/alert2022/fetchtxt.php?path=moa/ephot/phot-gb8-R-3-40286.dat\"\n",
    "bytes_data = requests.get(url).content\n",
    "df = pd.read_csv(BytesIO(bytes_data), delim_whitespace=True, skiprows=11, skipfooter=1, header=None, engine='python')"
   ]
  },
  {
   "cell_type": "code",
   "execution_count": 41,
   "id": "de534840",
   "metadata": {},
   "outputs": [
    {
     "data": {
      "text/plain": [
       "numpy.float64"
      ]
     },
     "execution_count": 41,
     "metadata": {},
     "output_type": "execute_result"
    }
   ],
   "source": [
    "type(df[0][0])"
   ]
  },
  {
   "cell_type": "code",
   "execution_count": 48,
   "id": "761292c4",
   "metadata": {},
   "outputs": [
    {
     "data": {
      "text/plain": [
       "[<matplotlib.lines.Line2D at 0x7f730e28a3a0>]"
      ]
     },
     "execution_count": 48,
     "metadata": {},
     "output_type": "execute_result"
    },
    {
     "data": {
      "image/png": "[encoded data removed]",
      "text/plain": [
       "<Figure size 432x288 with 1 Axes>"
      ]
     },
     "metadata": {
      "needs_background": "light"
     },
     "output_type": "display_data"
    }
   ],
   "source": [
    "import matplotlib.pyplot as plt\n",
    "plt.plot(df.iloc[:,0], df.iloc[:,1], '.')"
   ]
  },
  {
   "cell_type": "code",
   "execution_count": null,
   "id": "e4a92f54",
   "metadata": {},
   "outputs": [],
   "source": []
  }
 ],
 "metadata": {
  "kernelspec": {
   "display_name": "Python 3 (ipykernel)",
   "language": "python",
   "name": "python3"
  },
  "language_info": {
   "codemirror_mode": {
    "name": "ipython",
    "version": 3
   },
   "file_extension": ".py",
   "mimetype": "text/x-python",
   "name": "python",
   "nbconvert_exporter": "python",
   "pygments_lexer": "ipython3",
   "version": "3.9.9"
  }
 },
 "nbformat": 4,
 "nbformat_minor": 5
}
