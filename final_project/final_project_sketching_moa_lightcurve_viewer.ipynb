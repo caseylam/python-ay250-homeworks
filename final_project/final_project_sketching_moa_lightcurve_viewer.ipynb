{
 "cells": [
  {
   "cell_type": "code",
   "execution_count": 1,
   "id": "negative-status",
   "metadata": {},
   "outputs": [
    {
     "name": "stdout",
     "output_type": "stream",
     "text": [
      "Overwriting plot_app.py\n"
     ]
    }
   ],
   "source": [
    "%%writefile plot_app.py\n",
    "from flask import Flask\n",
    "import io\n",
    "import random\n",
    "from flask import Flask, Response, flash, request, redirect, url_for, send_from_directory, render_template\n",
    "from matplotlib.backends.backend_agg import FigureCanvasAgg as FigureCanvas\n",
    "from matplotlib.figure import Figure\n",
    "\n",
    "app = Flask(__name__)\n",
    "\n",
    "# alert_id=1\n",
    "# @app.route('/plot<alert_id>.png')\n",
    "# def plot_png(time, mag, title=alert_id):\n",
    "#     fig = create_figure(time, mag)\n",
    "#     output = io.BytesIO()\n",
    "#     FigureCanvas(fig).print_png(output)\n",
    "#     return Response(output.getvalue(), mimetype='image/png')\n",
    "\n",
    "# def create_figure(time, mag, mag_err=None, title=None):\n",
    "#     fig = Figure()\n",
    "#     axis = fig.add_subplot(1, 1, 1)\n",
    "#     axis.invert_yaxis()\n",
    "#     if mag_err is not None:\n",
    "#         axis.errorbar(time, mag, yerr=mag_err, ls='none', marker='.')\n",
    "#     else:\n",
    "#         axis.plot(time, mag)\n",
    "        \n",
    "#     if title is not None:\n",
    "#         axis.set_title(title)\n",
    "#     return fig\n",
    "\n",
    "@app.route('/print<int:ii>')\n",
    "def print_num(ii):\n",
    "    return render_template('test_number.html', \n",
    "                           next_page=url_for('print_num', ii=ii+1), \n",
    "                           prev_page=url_for('print_num', ii=ii-1), \n",
    "                           home=url_for('home'),\n",
    "                           ii=ii, qmax=10)\n",
    "\n",
    "@app.route('/')\n",
    "def home():\n",
    "    ii=1\n",
    "    return render_template('test_display.html', \n",
    "                           next_page=url_for('print_num', ii=ii+1), \n",
    "                           prev_page=url_for('print_num', ii=ii-1), \n",
    "                           ii=ii, qmax=10,\n",
    "                          num_list=range(10))\n",
    "\n",
    "\n",
    "if __name__ == '__main__':\n",
    "    app.run(port=8001, debug = True)"
   ]
  },
  {
   "cell_type": "code",
   "execution_count": null,
   "id": "sixth-postcard",
   "metadata": {},
   "outputs": [
    {
     "name": "stdout",
     "output_type": "stream",
     "text": [
      " * Serving Flask app \"plot_app\" (lazy loading)\n",
      " * Environment: production\n",
      "\u001b[31m   WARNING: This is a development server. Do not use it in a production deployment.\u001b[0m\n",
      "\u001b[2m   Use a production WSGI server instead.\u001b[0m\n",
      " * Debug mode: on\n",
      " * Running on http://127.0.0.1:8001/ (Press CTRL+C to quit)\n",
      " * Restarting with stat\n",
      " * Debugger is active!\n",
      " * Debugger PIN: 145-043-719\n",
      "127.0.0.1 - - [06/May/2022 09:54:48] \"\u001b[37mGET / HTTP/1.1\u001b[0m\" 200 -\n",
      "127.0.0.1 - - [06/May/2022 09:54:48] \"\u001b[33mGET /plot.png HTTP/1.1\u001b[0m\" 404 -\n",
      "127.0.0.1 - - [06/May/2022 09:54:48] \"\u001b[37mGET / HTTP/1.1\u001b[0m\" 200 -\n",
      "127.0.0.1 - - [06/May/2022 09:54:48] \"\u001b[33mGET /plot.png HTTP/1.1\u001b[0m\" 404 -\n",
      "127.0.0.1 - - [06/May/2022 09:54:48] \"\u001b[37mGET / HTTP/1.1\u001b[0m\" 200 -\n",
      "127.0.0.1 - - [06/May/2022 09:54:48] \"\u001b[33mGET /plot.png HTTP/1.1\u001b[0m\" 404 -\n",
      "127.0.0.1 - - [06/May/2022 09:55:14] \"\u001b[37mGET / HTTP/1.1\u001b[0m\" 200 -\n",
      "127.0.0.1 - - [06/May/2022 09:55:29] \"\u001b[37mGET /print2 HTTP/1.1\u001b[0m\" 200 -\n",
      "127.0.0.1 - - [06/May/2022 09:55:31] \"\u001b[37mGET /print1 HTTP/1.1\u001b[0m\" 200 -\n",
      "127.0.0.1 - - [06/May/2022 09:55:32] \"\u001b[37mGET /print0 HTTP/1.1\u001b[0m\" 200 -\n",
      "127.0.0.1 - - [06/May/2022 09:55:34] \"\u001b[37mGET / HTTP/1.1\u001b[0m\" 200 -\n",
      "127.0.0.1 - - [06/May/2022 09:56:15] \"\u001b[37mGET / HTTP/1.1\u001b[0m\" 200 -\n",
      "127.0.0.1 - - [06/May/2022 09:56:16] \"\u001b[37mGET / HTTP/1.1\u001b[0m\" 200 -\n",
      "127.0.0.1 - - [06/May/2022 09:56:21] \"\u001b[37mGET /print2 HTTP/1.1\u001b[0m\" 200 -\n",
      "127.0.0.1 - - [06/May/2022 09:56:22] \"\u001b[37mGET /print3 HTTP/1.1\u001b[0m\" 200 -\n",
      "127.0.0.1 - - [06/May/2022 09:57:08] \"\u001b[37mGET /print3 HTTP/1.1\u001b[0m\" 200 -\n",
      "127.0.0.1 - - [06/May/2022 09:57:11] \"\u001b[37mGET / HTTP/1.1\u001b[0m\" 200 -\n",
      "127.0.0.1 - - [06/May/2022 09:57:12] \"\u001b[37mGET / HTTP/1.1\u001b[0m\" 200 -\n",
      "127.0.0.1 - - [06/May/2022 09:57:13] \"\u001b[37mGET /print0 HTTP/1.1\u001b[0m\" 200 -\n",
      "127.0.0.1 - - [06/May/2022 09:57:16] \"\u001b[37mGET /print7 HTTP/1.1\u001b[0m\" 200 -\n",
      "127.0.0.1 - - [06/May/2022 09:57:18] \"\u001b[37mGET /print8 HTTP/1.1\u001b[0m\" 200 -\n",
      "127.0.0.1 - - [06/May/2022 09:57:20] \"\u001b[37mGET / HTTP/1.1\u001b[0m\" 200 -\n",
      "127.0.0.1 - - [06/May/2022 10:13:05] \"\u001b[37mGET / HTTP/1.1\u001b[0m\" 200 -\n",
      "127.0.0.1 - - [06/May/2022 15:06:58] \"\u001b[37mGET /print4 HTTP/1.1\u001b[0m\" 200 -\n",
      "127.0.0.1 - - [06/May/2022 15:07:00] \"\u001b[37mGET /print5 HTTP/1.1\u001b[0m\" 200 -\n"
     ]
    }
   ],
   "source": [
    "!python plot_app.py"
   ]
  },
  {
   "cell_type": "code",
   "execution_count": null,
   "id": "rational-attempt",
   "metadata": {},
   "outputs": [],
   "source": [
    "# Option to view MOA lightcurves.\n",
    "# Required: moa_lightcurve, hjd, mag. Optional are mag err and alert_name (will just return a random number otherwise.)"
   ]
  },
  {
   "cell_type": "code",
   "execution_count": null,
   "id": "lonely-scheme",
   "metadata": {},
   "outputs": [],
   "source": [
    "ls"
   ]
  },
  {
   "cell_type": "code",
   "execution_count": null,
   "id": "infrared-monroe",
   "metadata": {},
   "outputs": [],
   "source": []
  }
 ],
 "metadata": {
  "kernelspec": {
   "display_name": "Python 3",
   "language": "python",
   "name": "python3"
  },
  "language_info": {
   "codemirror_mode": {
    "name": "ipython",
    "version": 3
   },
   "file_extension": ".py",
   "mimetype": "text/x-python",
   "name": "python",
   "nbconvert_exporter": "python",
   "pygments_lexer": "ipython3",
   "version": "3.7.10"
  }
 },
 "nbformat": 4,
 "nbformat_minor": 5
}
