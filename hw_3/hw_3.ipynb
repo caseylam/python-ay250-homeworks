{
 "cells": [
  {
   "cell_type": "markdown",
   "metadata": {},
   "source": [
    "# Homework 3 - Application Building\n",
    "\n",
    "- Python Computing for Data Science (2022)\n",
    "\n",
    "- Due Tuesday Feb 15 (8pm)\n",
    "\n",
    "### Casey Lam, casey_lam@berkeley.edu\n",
    "\n",
    "### Collaborators: TBD\n",
    "\n",
    "## CalCalc\n",
    "\n",
    "Write a module called `CalCalc`, with a method called `calculate` that evaluates any string passed to it, and can be used from either the command line (using `argparse` with reasonable flags) or imported within Python. Feel free to use something like `eval()`, but be aware of some of the nasty things it can do, and make sure it doesn’t have too much power:  http://nedbatchelder.com/blog/201206/eval_really_is_dangerous.html. Perhaps explore the use of `numexpr` to constrain the landscape of possible uses to math expressions.\n",
    "\n",
    "EXAMPLE:\n",
    "```bash\n",
    "$ python CalCalc.py -s '34*28'\n",
    "$ 952\n",
    "```\n",
    " AND, from within Python\n",
    " \n",
    "```python\n",
    ">>> from CalCalc import calculate\n",
    ">>> calculate('34*20')\n",
    ">>> 952\n",
    "```"
   ]
  },
  {
   "cell_type": "code",
   "execution_count": 97,
   "metadata": {},
   "outputs": [
    {
     "name": "stdout",
     "output_type": "stream",
     "text": [
      "Overwriting calcalc/CalCalc.py\n"
     ]
    }
   ],
   "source": [
    "%%writefile calcalc/CalCalc.py\n",
    "\n",
    "import argparse\n",
    "import numexpr\n",
    "import urllib\n",
    "import requests\n",
    "import pdb\n",
    "import re\n",
    "\n",
    "def calculate(in_str, return_float=False):\n",
    "    # Evaluate remotely using wolfram.\n",
    "    if return_float:\n",
    "        url_str = urllib.parse.quote_plus(in_str)\n",
    "        app_id = 'Q9RQK4-QK54QKTJ72'\n",
    "        url_wolfram = 'https://api.wolframalpha.com/v2/query?input=' + url_str + '&appid=' + app_id + '&output=json&scanner=Data'\n",
    "        # url_wolfram = 'https://api.wolframalpha.com/v2/query?input=' + url_str + '&appid=' + app_id\n",
    "        #url_wolfram = 'https://api.wolframalpha.com/v1/result?i=How+many+ounces+are+in+a+gallon%3F&appid=DEMO'\n",
    "        \n",
    "        try:\n",
    "            # Need some condition for \"about\"\n",
    "            # No short answer available\n",
    "            # hundred, ten, thousand, etc...\n",
    "            answer = requests.get(url_wolfram)\n",
    "            answer_text = answer.json()['queryresult']['pods'][0]['subpods'][0]['img']['title']\n",
    "            print('Answer (direct from Wolfram): ', answer_text)\n",
    "            #answer_text.rstrip().split('(') \n",
    "            #answer_text.rstrip().split('\\n') \n",
    "            answer_text = answer_text.split('\\n', 1)[0] # skip parenthetical clarifications, units.\n",
    "            answer_text = answer_text.split(' (', 1)[0] # skip blah blah details.\n",
    "            answer_text = answer_text.split('to', 1)[0] # give lower range\n",
    "            #print(answer_text)\n",
    "            #answer_text = requests.get(url_wolfram).text\n",
    "            #print(answer_text)\n",
    "            answer_text = answer_text.replace('×', '*')\n",
    "            answer_text = answer_text.replace('^', '**')\n",
    "            #answer_text = answer_text.replace(' to the ', '**')\n",
    "            #answer_text = answer_text.replace(' times ', '*')\n",
    "            answer_text = re.sub('[^1234567890*.]', '', answer_text)\n",
    "            print('Answer (cleaned up): ', answer_text)\n",
    "            answer = float(numexpr.evaluate(answer_text))\n",
    "            print('Answer (float): ', answer)\n",
    "            return answer\n",
    "        \n",
    "        except:\n",
    "            print('This question\\'s answer isn\\'t convertable to a string. \\n' + \n",
    "                  'Try rephrasing your question (e.g. specify units of the result).')\n",
    "\n",
    "    # Evaluate locally using python.\n",
    "    else:\n",
    "        try:\n",
    "            print('input: ', in_str)\n",
    "            print('numexpr: ', numexpr.evaluate(in_str))\n",
    "            answer = float(numexpr.evaluate(in_str))\n",
    "            print('floated: ', answer)\n",
    "            return answer\n",
    "        except:\n",
    "            print('This expression can\\'t be evaluated numerically. \\n' + \n",
    "                  'Did you mean to evaluate with wolfram? \\n' +\n",
    "                  'If not, check your question for typos.')\n",
    "        \n",
    "def test1():\n",
    "    assert abs(4. - calculate('2**2')) < 0.001\n",
    "    \n",
    "def test2():\n",
    "    assert abs(4. - calculate('2**2')) < 0.001\n",
    "    \n",
    "def test3():\n",
    "    assert abs(4. - calculate('2**2')) < 0.001\n",
    "    \n",
    "def test4():\n",
    "    assert abs(4. - calculate('2**2')) < 0.001\n",
    "    \n",
    "def test5():\n",
    "    assert abs(4. - calculate('2**2')) < 0.001\n",
    "    \n",
    "if __name__ == '__main__':\n",
    "    parser = argparse.ArgumentParser(description='Write something useful here.')\n",
    "    parser.add_argument('-s', action='store', dest='question_python', \n",
    "                        help='Numbers', default=None)\n",
    "    parser.add_argument('-w', action='store', dest='question_wolfram',\n",
    "                        help='Words', default=None)\n",
    "    # Maybe edit this, so that instead it will return as string.\n",
    "\n",
    "    results = parser.parse_args()\n",
    "    \n",
    "#    print(results.question_python)\n",
    "#    print(results.question_wolfram)\n",
    "    \n",
    "    if (results.question_python != None) & (results.question_wolfram != None):\n",
    "        raise Exception('Make up your mind! You can only set one flag.')\n",
    "\n",
    "    if results.question_wolfram is None:\n",
    "        return_float=False\n",
    "        question = results.question_python\n",
    "    else:\n",
    "        return_float=True     \n",
    "        question = results.question_wolfram\n",
    "        \n",
    "    calculate(question, return_float=return_float)"
   ]
  },
  {
   "cell_type": "code",
   "execution_count": 99,
   "metadata": {},
   "outputs": [
    {
     "name": "stdout",
     "output_type": "stream",
     "text": [
      "Answer (direct from Wolfram):  7.3459×10^22 kg (kilograms)\n",
      "Answer (cleaned up):  7.3459*10**22\n",
      "Answer (float):  7.3459e+22\n",
      "Answer (direct from Wolfram):  7.71 billion people (2019 estimate)\n",
      "Answer (cleaned up):  7.71\n",
      "Answer (float):  7.71\n",
      "Answer (direct from Wolfram):  (1×10^20 to 1×10^24)\n",
      "Answer (cleaned up):  1*10**20\n",
      "This question's answer isn't convertable to a string. \n",
      "Try rephrasing your question (e.g. specify units of the result).\n",
      "input:  mass of the moon in kg\n",
      "This expression can't be evaluated numerically. \n",
      "Did you mean to evaluate with wolfram? \n",
      "If not, check your question for typos.\n",
      "input:  1*10**100\n",
      "This expression can't be evaluated numerically. \n",
      "Did you mean to evaluate with wolfram? \n",
      "If not, check your question for typos.\n",
      "input:  1.*10**100\n",
      "numexpr:  1e+100\n",
      "floated:  1e+100\n"
     ]
    }
   ],
   "source": [
    "# !python calcalc/CalCalc.py -w 'mass of the moon in kg'\n",
    "# !python calcalc/CalCalc.py -w 'how many pandas'\n",
    "# !python calcalc/CalCalc.py -w 'how many countries'\n",
    "# !python calcalc/CalCalc.py -w 'price of gold'\n",
    "# !python calcalc/CalCalc.py -w 'price of gold in dollars per oz'\n",
    "# !python calcalc/CalCalc.py -w 'CHICKENS!!!!!'\n",
    "!python calcalc/CalCalc.py -w 'how many people on earth' # This does not behave right. Need dictionary of values.\n",
    "!python calcalc/CalCalc.py -w 'how many grains of sand' # This requires the 1 to be 1. to work.\n",
    "!python calcalc/CalCalc.py -s 'mass of the moon in kg'\n",
    "!python calcalc/CalCalc.py -s '1*10**100'\n",
    "!python calcalc/CalCalc.py -s '1.*10**100'"
   ]
  },
  {
   "cell_type": "code",
   "execution_count": 63,
   "metadata": {},
   "outputs": [],
   "source": [
    "import urllib\n",
    "import requests \n",
    "\n",
    "url_str = urllib.parse.quote_plus('number of countries')\n",
    "app_id = 'Q9RQK4-QK54QKTJ72'\n",
    "url_wolfram = 'https://api.wolframalpha.com/v2/query?input=' + url_str + '&appid=' + app_id + '&output=json&scanner=Data'\n",
    "#url_wolfram = 'https://api.wolframalpha.com/v1/result?i=How+many+ounces+are+in+a+gallon%3F&appid=DEMO'\n",
    "\n",
    "answer = requests.get(url_wolfram)"
   ]
  },
  {
   "cell_type": "code",
   "execution_count": 72,
   "metadata": {},
   "outputs": [
    {
     "name": "stdout",
     "output_type": "stream",
     "text": [
      "> \u001b[0;32m/home/jovyan/python-ay250-homeworks/hw_3/calcalc/CalCalc.py\u001b[0m(25)\u001b[0;36mcalculate\u001b[0;34m()\u001b[0m\n",
      "\u001b[0;32m     23 \u001b[0;31m            \u001b[0manswer_text\u001b[0m \u001b[0;34m=\u001b[0m \u001b[0manswer\u001b[0m\u001b[0;34m.\u001b[0m\u001b[0mjson\u001b[0m\u001b[0;34m(\u001b[0m\u001b[0;34m)\u001b[0m\u001b[0;34m[\u001b[0m\u001b[0;34m'queryresult'\u001b[0m\u001b[0;34m]\u001b[0m\u001b[0;34m[\u001b[0m\u001b[0;34m'pods'\u001b[0m\u001b[0;34m]\u001b[0m\u001b[0;34m[\u001b[0m\u001b[0;36m0\u001b[0m\u001b[0;34m]\u001b[0m\u001b[0;34m[\u001b[0m\u001b[0;34m'subpods'\u001b[0m\u001b[0;34m]\u001b[0m\u001b[0;34m[\u001b[0m\u001b[0;36m0\u001b[0m\u001b[0;34m]\u001b[0m\u001b[0;34m[\u001b[0m\u001b[0;34m'img'\u001b[0m\u001b[0;34m]\u001b[0m\u001b[0;34m[\u001b[0m\u001b[0;34m'title'\u001b[0m\u001b[0;34m]\u001b[0m\u001b[0;34m\u001b[0m\u001b[0;34m\u001b[0m\u001b[0m\n",
      "\u001b[0m\u001b[0;32m     24 \u001b[0;31m            \u001b[0mpdb\u001b[0m\u001b[0;34m.\u001b[0m\u001b[0mset_trace\u001b[0m\u001b[0;34m(\u001b[0m\u001b[0;34m)\u001b[0m\u001b[0;34m\u001b[0m\u001b[0;34m\u001b[0m\u001b[0m\n",
      "\u001b[0m\u001b[0;32m---> 25 \u001b[0;31m            \u001b[0mprint\u001b[0m\u001b[0;34m(\u001b[0m\u001b[0;34m'Answer (direct from Wolfram): '\u001b[0m\u001b[0;34m,\u001b[0m \u001b[0manswer_text\u001b[0m\u001b[0;34m)\u001b[0m\u001b[0;34m\u001b[0m\u001b[0;34m\u001b[0m\u001b[0m\n",
      "\u001b[0m\u001b[0;32m     26 \u001b[0;31m            \u001b[0;31m#answer_text.rstrip().split('(') # skip parenthetical clarifications, units.\u001b[0m\u001b[0;34m\u001b[0m\u001b[0;34m\u001b[0m\u001b[0m\n",
      "\u001b[0m\u001b[0;32m     27 \u001b[0;31m            \u001b[0;31m#answer_text.rstrip().split('\\n') # skip blah blah details.\u001b[0m\u001b[0;34m\u001b[0m\u001b[0;34m\u001b[0m\u001b[0m\n",
      "\u001b[0m\n",
      "ipdb> l\n",
      "\u001b[1;32m     20 \u001b[0m            \u001b[0;31m# No short answer available\u001b[0m\u001b[0;34m\u001b[0m\u001b[0;34m\u001b[0m\u001b[0m\n",
      "\u001b[1;32m     21 \u001b[0m            \u001b[0;31m# hundred, ten, thousand, etc...\u001b[0m\u001b[0;34m\u001b[0m\u001b[0;34m\u001b[0m\u001b[0m\n",
      "\u001b[1;32m     22 \u001b[0m            \u001b[0manswer\u001b[0m \u001b[0;34m=\u001b[0m \u001b[0mrequests\u001b[0m\u001b[0;34m.\u001b[0m\u001b[0mget\u001b[0m\u001b[0;34m(\u001b[0m\u001b[0murl_wolfram\u001b[0m\u001b[0;34m)\u001b[0m\u001b[0;34m\u001b[0m\u001b[0;34m\u001b[0m\u001b[0m\n",
      "\u001b[1;32m     23 \u001b[0m            \u001b[0manswer_text\u001b[0m \u001b[0;34m=\u001b[0m \u001b[0manswer\u001b[0m\u001b[0;34m.\u001b[0m\u001b[0mjson\u001b[0m\u001b[0;34m(\u001b[0m\u001b[0;34m)\u001b[0m\u001b[0;34m[\u001b[0m\u001b[0;34m'queryresult'\u001b[0m\u001b[0;34m]\u001b[0m\u001b[0;34m[\u001b[0m\u001b[0;34m'pods'\u001b[0m\u001b[0;34m]\u001b[0m\u001b[0;34m[\u001b[0m\u001b[0;36m0\u001b[0m\u001b[0;34m]\u001b[0m\u001b[0;34m[\u001b[0m\u001b[0;34m'subpods'\u001b[0m\u001b[0;34m]\u001b[0m\u001b[0;34m[\u001b[0m\u001b[0;36m0\u001b[0m\u001b[0;34m]\u001b[0m\u001b[0;34m[\u001b[0m\u001b[0;34m'img'\u001b[0m\u001b[0;34m]\u001b[0m\u001b[0;34m[\u001b[0m\u001b[0;34m'title'\u001b[0m\u001b[0;34m]\u001b[0m\u001b[0;34m\u001b[0m\u001b[0;34m\u001b[0m\u001b[0m\n",
      "\u001b[1;32m     24 \u001b[0m            \u001b[0mpdb\u001b[0m\u001b[0;34m.\u001b[0m\u001b[0mset_trace\u001b[0m\u001b[0;34m(\u001b[0m\u001b[0;34m)\u001b[0m\u001b[0;34m\u001b[0m\u001b[0;34m\u001b[0m\u001b[0m\n",
      "\u001b[0;32m---> 25 \u001b[0;31m            \u001b[0mprint\u001b[0m\u001b[0;34m(\u001b[0m\u001b[0;34m'Answer (direct from Wolfram): '\u001b[0m\u001b[0;34m,\u001b[0m \u001b[0manswer_text\u001b[0m\u001b[0;34m)\u001b[0m\u001b[0;34m\u001b[0m\u001b[0;34m\u001b[0m\u001b[0m\n",
      "\u001b[0m\u001b[1;32m     26 \u001b[0m            \u001b[0;31m#answer_text.rstrip().split('(') # skip parenthetical clarifications, units.\u001b[0m\u001b[0;34m\u001b[0m\u001b[0;34m\u001b[0m\u001b[0m\n",
      "\u001b[1;32m     27 \u001b[0m            \u001b[0;31m#answer_text.rstrip().split('\\n') # skip blah blah details.\u001b[0m\u001b[0;34m\u001b[0m\u001b[0;34m\u001b[0m\u001b[0m\n",
      "\u001b[1;32m     28 \u001b[0m            \u001b[0manswer_text\u001b[0m \u001b[0;34m=\u001b[0m \u001b[0manswer_text\u001b[0m\u001b[0;34m.\u001b[0m\u001b[0msplit\u001b[0m\u001b[0;34m(\u001b[0m\u001b[0;34m'\\n'\u001b[0m\u001b[0;34m,\u001b[0m \u001b[0;36m1\u001b[0m\u001b[0;34m)\u001b[0m\u001b[0;34m[\u001b[0m\u001b[0;36m0\u001b[0m\u001b[0;34m]\u001b[0m\u001b[0;34m\u001b[0m\u001b[0;34m\u001b[0m\u001b[0m\n",
      "\u001b[1;32m     29 \u001b[0m            \u001b[0manswer_text\u001b[0m \u001b[0;34m=\u001b[0m \u001b[0manswer_text\u001b[0m\u001b[0;34m.\u001b[0m\u001b[0msplit\u001b[0m\u001b[0;34m(\u001b[0m\u001b[0;34m'('\u001b[0m\u001b[0;34m,\u001b[0m \u001b[0;36m1\u001b[0m\u001b[0;34m)\u001b[0m\u001b[0;34m[\u001b[0m\u001b[0;36m0\u001b[0m\u001b[0;34m]\u001b[0m\u001b[0;34m\u001b[0m\u001b[0;34m\u001b[0m\u001b[0m\n",
      "\u001b[1;32m     30 \u001b[0m            \u001b[0;31m#print(answer_text)\u001b[0m\u001b[0;34m\u001b[0m\u001b[0;34m\u001b[0m\u001b[0m\n",
      "\n",
      "ipdb> n\n",
      "Answer (direct from Wolfram):  206\n",
      "(according to Article 1 of the Montevideo Convention of 1933, in which a state must have: (1) a permanent population, (2) a defined territory, (3) a government, and (4) a capacity to enter into relations with the other states)\n",
      "> \u001b[0;32m/home/jovyan/python-ay250-homeworks/hw_3/calcalc/CalCalc.py\u001b[0m(28)\u001b[0;36mcalculate\u001b[0;34m()\u001b[0m\n",
      "\u001b[0;32m     26 \u001b[0;31m            \u001b[0;31m#answer_text.rstrip().split('(') # skip parenthetical clarifications, units.\u001b[0m\u001b[0;34m\u001b[0m\u001b[0;34m\u001b[0m\u001b[0m\n",
      "\u001b[0m\u001b[0;32m     27 \u001b[0;31m            \u001b[0;31m#answer_text.rstrip().split('\\n') # skip blah blah details.\u001b[0m\u001b[0;34m\u001b[0m\u001b[0;34m\u001b[0m\u001b[0m\n",
      "\u001b[0m\u001b[0;32m---> 28 \u001b[0;31m            \u001b[0manswer_text\u001b[0m \u001b[0;34m=\u001b[0m \u001b[0manswer_text\u001b[0m\u001b[0;34m.\u001b[0m\u001b[0msplit\u001b[0m\u001b[0;34m(\u001b[0m\u001b[0;34m'\\n'\u001b[0m\u001b[0;34m,\u001b[0m \u001b[0;36m1\u001b[0m\u001b[0;34m)\u001b[0m\u001b[0;34m[\u001b[0m\u001b[0;36m0\u001b[0m\u001b[0;34m]\u001b[0m\u001b[0;34m\u001b[0m\u001b[0;34m\u001b[0m\u001b[0m\n",
      "\u001b[0m\u001b[0;32m     29 \u001b[0;31m            \u001b[0manswer_text\u001b[0m \u001b[0;34m=\u001b[0m \u001b[0manswer_text\u001b[0m\u001b[0;34m.\u001b[0m\u001b[0msplit\u001b[0m\u001b[0;34m(\u001b[0m\u001b[0;34m'('\u001b[0m\u001b[0;34m,\u001b[0m \u001b[0;36m1\u001b[0m\u001b[0;34m)\u001b[0m\u001b[0;34m[\u001b[0m\u001b[0;36m0\u001b[0m\u001b[0;34m]\u001b[0m\u001b[0;34m\u001b[0m\u001b[0;34m\u001b[0m\u001b[0m\n",
      "\u001b[0m\u001b[0;32m     30 \u001b[0;31m            \u001b[0;31m#print(answer_text)\u001b[0m\u001b[0;34m\u001b[0m\u001b[0;34m\u001b[0m\u001b[0m\n",
      "\u001b[0m\n",
      "ipdb> l\n",
      "\u001b[1;32m     23 \u001b[0m            \u001b[0manswer_text\u001b[0m \u001b[0;34m=\u001b[0m \u001b[0manswer\u001b[0m\u001b[0;34m.\u001b[0m\u001b[0mjson\u001b[0m\u001b[0;34m(\u001b[0m\u001b[0;34m)\u001b[0m\u001b[0;34m[\u001b[0m\u001b[0;34m'queryresult'\u001b[0m\u001b[0;34m]\u001b[0m\u001b[0;34m[\u001b[0m\u001b[0;34m'pods'\u001b[0m\u001b[0;34m]\u001b[0m\u001b[0;34m[\u001b[0m\u001b[0;36m0\u001b[0m\u001b[0;34m]\u001b[0m\u001b[0;34m[\u001b[0m\u001b[0;34m'subpods'\u001b[0m\u001b[0;34m]\u001b[0m\u001b[0;34m[\u001b[0m\u001b[0;36m0\u001b[0m\u001b[0;34m]\u001b[0m\u001b[0;34m[\u001b[0m\u001b[0;34m'img'\u001b[0m\u001b[0;34m]\u001b[0m\u001b[0;34m[\u001b[0m\u001b[0;34m'title'\u001b[0m\u001b[0;34m]\u001b[0m\u001b[0;34m\u001b[0m\u001b[0;34m\u001b[0m\u001b[0m\n",
      "\u001b[1;32m     24 \u001b[0m            \u001b[0mpdb\u001b[0m\u001b[0;34m.\u001b[0m\u001b[0mset_trace\u001b[0m\u001b[0;34m(\u001b[0m\u001b[0;34m)\u001b[0m\u001b[0;34m\u001b[0m\u001b[0;34m\u001b[0m\u001b[0m\n",
      "\u001b[1;32m     25 \u001b[0m            \u001b[0mprint\u001b[0m\u001b[0;34m(\u001b[0m\u001b[0;34m'Answer (direct from Wolfram): '\u001b[0m\u001b[0;34m,\u001b[0m \u001b[0manswer_text\u001b[0m\u001b[0;34m)\u001b[0m\u001b[0;34m\u001b[0m\u001b[0;34m\u001b[0m\u001b[0m\n",
      "\u001b[1;32m     26 \u001b[0m            \u001b[0;31m#answer_text.rstrip().split('(') # skip parenthetical clarifications, units.\u001b[0m\u001b[0;34m\u001b[0m\u001b[0;34m\u001b[0m\u001b[0m\n",
      "\u001b[1;32m     27 \u001b[0m            \u001b[0;31m#answer_text.rstrip().split('\\n') # skip blah blah details.\u001b[0m\u001b[0;34m\u001b[0m\u001b[0;34m\u001b[0m\u001b[0m\n",
      "\u001b[0;32m---> 28 \u001b[0;31m            \u001b[0manswer_text\u001b[0m \u001b[0;34m=\u001b[0m \u001b[0manswer_text\u001b[0m\u001b[0;34m.\u001b[0m\u001b[0msplit\u001b[0m\u001b[0;34m(\u001b[0m\u001b[0;34m'\\n'\u001b[0m\u001b[0;34m,\u001b[0m \u001b[0;36m1\u001b[0m\u001b[0;34m)\u001b[0m\u001b[0;34m[\u001b[0m\u001b[0;36m0\u001b[0m\u001b[0;34m]\u001b[0m\u001b[0;34m\u001b[0m\u001b[0;34m\u001b[0m\u001b[0m\n",
      "\u001b[0m\u001b[1;32m     29 \u001b[0m            \u001b[0manswer_text\u001b[0m \u001b[0;34m=\u001b[0m \u001b[0manswer_text\u001b[0m\u001b[0;34m.\u001b[0m\u001b[0msplit\u001b[0m\u001b[0;34m(\u001b[0m\u001b[0;34m'('\u001b[0m\u001b[0;34m,\u001b[0m \u001b[0;36m1\u001b[0m\u001b[0;34m)\u001b[0m\u001b[0;34m[\u001b[0m\u001b[0;36m0\u001b[0m\u001b[0;34m]\u001b[0m\u001b[0;34m\u001b[0m\u001b[0;34m\u001b[0m\u001b[0m\n",
      "\u001b[1;32m     30 \u001b[0m            \u001b[0;31m#print(answer_text)\u001b[0m\u001b[0;34m\u001b[0m\u001b[0;34m\u001b[0m\u001b[0m\n",
      "\u001b[1;32m     31 \u001b[0m            \u001b[0;31m#answer_text = requests.get(url_wolfram).text\u001b[0m\u001b[0;34m\u001b[0m\u001b[0;34m\u001b[0m\u001b[0m\n",
      "\u001b[1;32m     32 \u001b[0m            \u001b[0;31m#print(answer_text)\u001b[0m\u001b[0;34m\u001b[0m\u001b[0;34m\u001b[0m\u001b[0m\n",
      "\u001b[1;32m     33 \u001b[0m            \u001b[0manswer_text\u001b[0m \u001b[0;34m=\u001b[0m \u001b[0manswer_text\u001b[0m\u001b[0;34m.\u001b[0m\u001b[0mreplace\u001b[0m\u001b[0;34m(\u001b[0m\u001b[0;34m'×'\u001b[0m\u001b[0;34m,\u001b[0m \u001b[0;34m'*'\u001b[0m\u001b[0;34m)\u001b[0m\u001b[0;34m\u001b[0m\u001b[0;34m\u001b[0m\u001b[0m\n",
      "\n",
      "ipdb> n\n",
      "> \u001b[0;32m/home/jovyan/python-ay250-homeworks/hw_3/calcalc/CalCalc.py\u001b[0m(29)\u001b[0;36mcalculate\u001b[0;34m()\u001b[0m\n",
      "\u001b[0;32m     27 \u001b[0;31m            \u001b[0;31m#answer_text.rstrip().split('\\n') # skip blah blah details.\u001b[0m\u001b[0;34m\u001b[0m\u001b[0;34m\u001b[0m\u001b[0m\n",
      "\u001b[0m\u001b[0;32m     28 \u001b[0;31m            \u001b[0manswer_text\u001b[0m \u001b[0;34m=\u001b[0m \u001b[0manswer_text\u001b[0m\u001b[0;34m.\u001b[0m\u001b[0msplit\u001b[0m\u001b[0;34m(\u001b[0m\u001b[0;34m'\\n'\u001b[0m\u001b[0;34m,\u001b[0m \u001b[0;36m1\u001b[0m\u001b[0;34m)\u001b[0m\u001b[0;34m[\u001b[0m\u001b[0;36m0\u001b[0m\u001b[0;34m]\u001b[0m\u001b[0;34m\u001b[0m\u001b[0;34m\u001b[0m\u001b[0m\n",
      "\u001b[0m\u001b[0;32m---> 29 \u001b[0;31m            \u001b[0manswer_text\u001b[0m \u001b[0;34m=\u001b[0m \u001b[0manswer_text\u001b[0m\u001b[0;34m.\u001b[0m\u001b[0msplit\u001b[0m\u001b[0;34m(\u001b[0m\u001b[0;34m'('\u001b[0m\u001b[0;34m,\u001b[0m \u001b[0;36m1\u001b[0m\u001b[0;34m)\u001b[0m\u001b[0;34m[\u001b[0m\u001b[0;36m0\u001b[0m\u001b[0;34m]\u001b[0m\u001b[0;34m\u001b[0m\u001b[0;34m\u001b[0m\u001b[0m\n",
      "\u001b[0m\u001b[0;32m     30 \u001b[0;31m            \u001b[0;31m#print(answer_text)\u001b[0m\u001b[0;34m\u001b[0m\u001b[0;34m\u001b[0m\u001b[0m\n",
      "\u001b[0m\u001b[0;32m     31 \u001b[0;31m            \u001b[0;31m#answer_text = requests.get(url_wolfram).text\u001b[0m\u001b[0;34m\u001b[0m\u001b[0;34m\u001b[0m\u001b[0m\n",
      "\u001b[0m\n",
      "ipdb> l\n",
      "\u001b[1;32m     24 \u001b[0m            \u001b[0mpdb\u001b[0m\u001b[0;34m.\u001b[0m\u001b[0mset_trace\u001b[0m\u001b[0;34m(\u001b[0m\u001b[0;34m)\u001b[0m\u001b[0;34m\u001b[0m\u001b[0;34m\u001b[0m\u001b[0m\n",
      "\u001b[1;32m     25 \u001b[0m            \u001b[0mprint\u001b[0m\u001b[0;34m(\u001b[0m\u001b[0;34m'Answer (direct from Wolfram): '\u001b[0m\u001b[0;34m,\u001b[0m \u001b[0manswer_text\u001b[0m\u001b[0;34m)\u001b[0m\u001b[0;34m\u001b[0m\u001b[0;34m\u001b[0m\u001b[0m\n",
      "\u001b[1;32m     26 \u001b[0m            \u001b[0;31m#answer_text.rstrip().split('(') # skip parenthetical clarifications, units.\u001b[0m\u001b[0;34m\u001b[0m\u001b[0;34m\u001b[0m\u001b[0m\n",
      "\u001b[1;32m     27 \u001b[0m            \u001b[0;31m#answer_text.rstrip().split('\\n') # skip blah blah details.\u001b[0m\u001b[0;34m\u001b[0m\u001b[0;34m\u001b[0m\u001b[0m\n",
      "\u001b[1;32m     28 \u001b[0m            \u001b[0manswer_text\u001b[0m \u001b[0;34m=\u001b[0m \u001b[0manswer_text\u001b[0m\u001b[0;34m.\u001b[0m\u001b[0msplit\u001b[0m\u001b[0;34m(\u001b[0m\u001b[0;34m'\\n'\u001b[0m\u001b[0;34m,\u001b[0m \u001b[0;36m1\u001b[0m\u001b[0;34m)\u001b[0m\u001b[0;34m[\u001b[0m\u001b[0;36m0\u001b[0m\u001b[0;34m]\u001b[0m\u001b[0;34m\u001b[0m\u001b[0;34m\u001b[0m\u001b[0m\n",
      "\u001b[0;32m---> 29 \u001b[0;31m            \u001b[0manswer_text\u001b[0m \u001b[0;34m=\u001b[0m \u001b[0manswer_text\u001b[0m\u001b[0;34m.\u001b[0m\u001b[0msplit\u001b[0m\u001b[0;34m(\u001b[0m\u001b[0;34m'('\u001b[0m\u001b[0;34m,\u001b[0m \u001b[0;36m1\u001b[0m\u001b[0;34m)\u001b[0m\u001b[0;34m[\u001b[0m\u001b[0;36m0\u001b[0m\u001b[0;34m]\u001b[0m\u001b[0;34m\u001b[0m\u001b[0;34m\u001b[0m\u001b[0m\n",
      "\u001b[0m\u001b[1;32m     30 \u001b[0m            \u001b[0;31m#print(answer_text)\u001b[0m\u001b[0;34m\u001b[0m\u001b[0;34m\u001b[0m\u001b[0m\n",
      "\u001b[1;32m     31 \u001b[0m            \u001b[0;31m#answer_text = requests.get(url_wolfram).text\u001b[0m\u001b[0;34m\u001b[0m\u001b[0;34m\u001b[0m\u001b[0m\n",
      "\u001b[1;32m     32 \u001b[0m            \u001b[0;31m#print(answer_text)\u001b[0m\u001b[0;34m\u001b[0m\u001b[0;34m\u001b[0m\u001b[0m\n",
      "\u001b[1;32m     33 \u001b[0m            \u001b[0manswer_text\u001b[0m \u001b[0;34m=\u001b[0m \u001b[0manswer_text\u001b[0m\u001b[0;34m.\u001b[0m\u001b[0mreplace\u001b[0m\u001b[0;34m(\u001b[0m\u001b[0;34m'×'\u001b[0m\u001b[0;34m,\u001b[0m \u001b[0;34m'*'\u001b[0m\u001b[0;34m)\u001b[0m\u001b[0;34m\u001b[0m\u001b[0;34m\u001b[0m\u001b[0m\n",
      "\u001b[1;32m     34 \u001b[0m            \u001b[0manswer_text\u001b[0m \u001b[0;34m=\u001b[0m \u001b[0manswer_text\u001b[0m\u001b[0;34m.\u001b[0m\u001b[0mreplace\u001b[0m\u001b[0;34m(\u001b[0m\u001b[0;34m'^'\u001b[0m\u001b[0;34m,\u001b[0m \u001b[0;34m'**'\u001b[0m\u001b[0;34m)\u001b[0m\u001b[0;34m\u001b[0m\u001b[0;34m\u001b[0m\u001b[0m\n",
      "\n"
     ]
    },
    {
     "name": "stdout",
     "output_type": "stream",
     "text": [
      "ipdb> answer_text\n",
      "'206'\n",
      "ipdb> q\n",
      "This question's answer isn't convertable to a string. \\Try rephrasing your question (e.g. specify units of the result).\n"
     ]
    }
   ],
   "source": [
    "from importlib import reload\n",
    "reload(CalCalc)\n",
    "CalCalc.calculate('how many countries', return_float=True)"
   ]
  },
  {
   "cell_type": "code",
   "execution_count": 28,
   "metadata": {},
   "outputs": [
    {
     "data": {
      "text/plain": [
       "'https://api.wolframalpha.com/v2/query?input=number+of+countries&appid=Q9RQK4-QK54QKTJ72&output=json&scanner=Data'"
      ]
     },
     "execution_count": 28,
     "metadata": {},
     "output_type": "execute_result"
    }
   ],
   "source": [
    "url_wolfram"
   ]
  },
  {
   "cell_type": "code",
   "execution_count": 29,
   "metadata": {},
   "outputs": [
    {
     "name": "stdout",
     "output_type": "stream",
     "text": [
      "success\n",
      "True\n",
      "\n",
      "error\n",
      "False\n",
      "\n",
      "numpods\n",
      "1\n",
      "\n",
      "datatypes\n",
      "\n",
      "\n",
      "timedout\n",
      "\n",
      "\n",
      "timedoutpods\n",
      "\n",
      "\n",
      "timing\n",
      "0.628\n",
      "\n",
      "parsetiming\n",
      "0.47800000000000004\n",
      "\n",
      "parsetimedout\n",
      "False\n",
      "\n",
      "recalculate\n",
      "\n",
      "\n",
      "id\n",
      "MSP5109143043e73cih7e21000039hcag778a435cbf\n",
      "\n",
      "host\n",
      "https://www6b3.wolframalpha.com\n",
      "\n",
      "server\n",
      "11\n",
      "\n",
      "related\n",
      "https://www6b3.wolframalpha.com/api/v1/relatedQueries.jsp?id=MSPa5110143043e73cih7e21000037a3fc6h96a81b115481992349747128482\n",
      "\n",
      "version\n",
      "2.6\n",
      "\n",
      "inputstring\n",
      "number of countries\n",
      "\n",
      "pods\n",
      "[{'title': 'Result', 'scanner': 'Data', 'id': 'Result', 'position': 200, 'error': False, 'numsubpods': 1, 'primary': True, 'subpods': [{'title': '', 'img': {'src': 'https://www6b3.wolframalpha.com/Calculate/MSP/MSP5111143043e73cih7e210000529d7a1bg100c7ff?MSPStoreType=image/gif&s=11', 'alt': '206\\n(according to Article 1 of the Montevideo Convention of 1933, in which a state must have: (1) a permanent population, (2) a defined territory, (3) a government, and (4) a capacity to enter into relations with the other states)', 'title': '206\\n(according to Article 1 of the Montevideo Convention of 1933, in which a state must have: (1) a permanent population, (2) a defined territory, (3) a government, and (4) a capacity to enter into relations with the other states)', 'width': 541, 'height': 63, 'type': 'Grid', 'themes': '1,2,3,4,5,6,7,8,9,10,11,12', 'colorinvertable': True, 'contenttype': 'image/gif'}, 'plaintext': '206\\n(according to Article 1 of the Montevideo Convention of 1933, in which a state must have: (1) a permanent population, (2) a defined territory, (3) a government, and (4) a capacity to enter into relations with the other states)'}], 'expressiontypes': {'name': 'Grid'}}]\n",
      "\n"
     ]
    }
   ],
   "source": [
    "for key in answer.json()['queryresult'].keys():\n",
    "    print(key)\n",
    "    print(answer.json()['queryresult'][key])\n",
    "    print('')"
   ]
  },
  {
   "cell_type": "code",
   "execution_count": 65,
   "metadata": {},
   "outputs": [],
   "source": [
    "import sys\n",
    "sys.path.append('./calcalc/')\n",
    "import CalCalc"
   ]
  },
  {
   "cell_type": "markdown",
   "metadata": {},
   "source": [
    "### Add Wolfram\n",
    "\n",
    "To make this more awesome, have your function interact with the Wolfram|Alpha API to ask it what it thinks of the difficult questions.  To make this work, experiment with `urllib2` and a URL like this:\n",
    "'http://api.wolframalpha.com/v2/query?input=XXXXX&appid=UAGAWR-3X6Y8W777Q'\n",
    "where you replace the XXXXX with what you want to know.  NOTE: the ‘&appid=UAGAWR-3X6Y8W777Q’ part is vital; it is a W|A AppID I got for the class.  Feel free to use that one, or you can get your own and read more about the API, here:   http://products.wolframalpha.com/api/\n",
    "And you can explore how it works here:  http://products.wolframalpha.com/api/explorer.html\n",
    "\n",
    "EXAMPLE:\n",
    "\n",
    "```bash\n",
    "$ python CalCalc.py -w 'mass of the moon in kg'\n",
    "7.3459e+22\n",
    "```\n",
    "\n",
    "AND, from within Python\n",
    "\n",
    "```python\n",
    ">>> from CalCalc import calculate\n",
    ">>> calculate('mass of the moon in kg',  return_float=True) * 10\n",
    ">>> 7.3459e+23\n",
    "```"
   ]
  },
  {
   "cell_type": "markdown",
   "metadata": {},
   "source": [
    "## Adding it to Github\n",
    "\n",
    "Start a github project for CalCalc. Include a setup.py, README.txt, LICENSE.txt, MANIFEST.in, etc. and turn your module into a proper Python Distribution, so that we can install it and use it. See https://packaging.python.org/en/latest/guides/distributing-packages-using-setuptools/ \n",
    "\n",
    "Example Folder Hierarchy:\n",
    "```bash\n",
    "Your_Homework3_Folder/calcalc\n",
    "                      |--> CalCalc.py\n",
    "                      |--> __init__.py\n",
    "Your_Homework3_Folder/setup.py\n",
    "Your_Homework3_Folder/README.txt\n",
    "...\n",
    "```\n",
    "Include at least 5 test functions in CalCalc.py, and test with `pytest`, to make sure it behaves the way you think it should.\n",
    "\n",
    "EXAMPLE `CalCalc.py`:\n",
    "```python\n",
    "# ...\n",
    "def calculate([...]):\n",
    "    [...]\n",
    "\n",
    "def test_1():\n",
    "    assert abs(4. - calculate('2**2')) < 0.001\n",
    "```\n",
    "\n",
    "When grading, we will create a virtual environment and attempt to install your module by running:\n",
    "\n",
    "```bash\n",
    "pip install build\n",
    "```"
   ]
  },
  {
   "cell_type": "markdown",
   "metadata": {},
   "source": [
    "### CalCalc on CI\n",
    "\n",
    "Get your project working with GitHub Actions and make sure your tests are run and pass. Give us a link to you GH actions for your site here (e.g. https://github.com/profjsb/PyAdder/actions):"
   ]
  },
  {
   "cell_type": "code",
   "execution_count": null,
   "metadata": {},
   "outputs": [],
   "source": []
  },
  {
   "cell_type": "markdown",
   "metadata": {},
   "source": [
    "### **(Bonus/Extra Credit)** \n",
    "\n",
    "  Get your project working on Azure, AWS or Google Compute Cloud with a Flask front-end. You can use the example from class as a template. Start a VM on one of these PaaS. A user should be able to submit their calcalc query on a form (hosted on your VM) and get the result back.\n",
    "\n",
    "You should be able to add an `app.py` (with Flask) into your CalCalc project. Be sure to open up the port on the VM that you are serving on. Let us know the URL to your app here:"
   ]
  },
  {
   "cell_type": "code",
   "execution_count": null,
   "metadata": {
    "collapsed": true
   },
   "outputs": [],
   "source": []
  }
 ],
 "metadata": {
  "kernelspec": {
   "display_name": "Python 3 (ipykernel)",
   "language": "python",
   "name": "python3"
  },
  "language_info": {
   "codemirror_mode": {
    "name": "ipython",
    "version": 3
   },
   "file_extension": ".py",
   "mimetype": "text/x-python",
   "name": "python",
   "nbconvert_exporter": "python",
   "pygments_lexer": "ipython3",
   "version": "3.9.9"
  },
  "toc": {
   "base_numbering": 1,
   "nav_menu": {},
   "number_sections": true,
   "sideBar": true,
   "skip_h1_title": false,
   "title_cell": "Table of Contents",
   "title_sidebar": "Contents",
   "toc_cell": false,
   "toc_position": {},
   "toc_section_display": true,
   "toc_window_display": false
  },
  "varInspector": {
   "cols": {
    "lenName": 16,
    "lenType": 16,
    "lenVar": 40
   },
   "kernels_config": {
    "python": {
     "delete_cmd_postfix": "",
     "delete_cmd_prefix": "del ",
     "library": "var_list.py",
     "varRefreshCmd": "print(var_dic_list())"
    },
    "r": {
     "delete_cmd_postfix": ") ",
     "delete_cmd_prefix": "rm(",
     "library": "var_list.r",
     "varRefreshCmd": "cat(var_dic_list()) "
    }
   },
   "types_to_exclude": [
    "module",
    "function",
    "builtin_function_or_method",
    "instance",
    "_Feature"
   ],
   "window_display": false
  }
 },
 "nbformat": 4,
 "nbformat_minor": 1
}
