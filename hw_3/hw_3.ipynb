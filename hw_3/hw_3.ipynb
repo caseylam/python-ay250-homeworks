{
 "cells": [
  {
   "cell_type": "markdown",
   "metadata": {},
   "source": [
    "# Homework 3 - Application Building\n",
    "\n",
    "- Python Computing for Data Science (2022)\n",
    "\n",
    "- Due Tuesday Feb 15 (8pm)\n",
    "\n",
    "### Casey Lam, casey_lam@berkeley.edu\n",
    "\n",
    "### Collaborators: #hw3-discussion channel\n",
    "\n",
    "## CalCalc\n",
    "\n",
    "Write a module called `CalCalc`, with a method called `calculate` that evaluates any string passed to it, and can be used from either the command line (using `argparse` with reasonable flags) or imported within Python. Feel free to use something like `eval()`, but be aware of some of the nasty things it can do, and make sure it doesn’t have too much power:  http://nedbatchelder.com/blog/201206/eval_really_is_dangerous.html. Perhaps explore the use of `numexpr` to constrain the landscape of possible uses to math expressions.\n",
    "\n",
    "EXAMPLE:\n",
    "```bash\n",
    "$ python CalCalc.py -s '34*28'\n",
    "$ 952\n",
    "```\n",
    " AND, from within Python\n",
    " \n",
    "```python\n",
    ">>> from CalCalc import calculate\n",
    ">>> calculate('34*20')\n",
    ">>> 952\n",
    "```"
   ]
  },
  {
   "cell_type": "code",
   "execution_count": 34,
   "metadata": {},
   "outputs": [
    {
     "name": "stdout",
     "output_type": "stream",
     "text": [
      "Overwriting calcalc/CalCalc.py\n"
     ]
    }
   ],
   "source": [
    "%%writefile calcalc/CalCalc.py\n",
    "\n",
    "import argparse\n",
    "import numexpr\n",
    "import urllib\n",
    "import requests\n",
    "import pdb\n",
    "import re\n",
    "\n",
    "number_dict = {'one' : '*1.',\n",
    "               'ten' : '*10.',\n",
    "               'hundred' : '*100.',\n",
    "               'thousand' : '*1000.',\n",
    "               'million' : '*10.**6',\n",
    "               'billion' : '*10.**9',\n",
    "               'trillion' : '*10.**12',\n",
    "               'quadrillion' : '*10.**15',\n",
    "               'quintillion' : '*10.**18',\n",
    "               'sextillion' : '*10.**21',\n",
    "               'septillion' : '*10.**24'}\n",
    "\n",
    "def calculate(in_str, return_float=False):\n",
    "    # Evaluate remotely using wolfram.\n",
    "    if return_float:\n",
    "        # Convert question to URL and sent to wolfram\n",
    "        url_str = urllib.parse.quote_plus(in_str)\n",
    "        app_id = 'Q9RQK4-QK54QKTJ72'\n",
    "        url_wolfram = 'https://api.wolframalpha.com/v2/query?input=' + url_str \\\n",
    "                        + '&appid=' + app_id + '&output=json&scanner=Data,Identity'\n",
    "        try:\n",
    "            answer = requests.get(url_wolfram)\n",
    "\n",
    "            # Get the answer string, location depends on whether the scanner is Identity or Data\n",
    "            if answer.json()['queryresult']['pods'][0]['scanner'] == 'Identity':\n",
    "                answer_text = answer.json()['queryresult']['pods'][1]['subpods'][0]['plaintext']\n",
    "            elif answer.json()['queryresult']['pods'][0]['scanner'] == 'Data':\n",
    "                answer_text = answer.json()['queryresult']['pods'][0]['subpods'][0]['img']['title']\n",
    "            print('Answer (direct from Wolfram): ', answer_text)\n",
    "\n",
    "            # Simplify answers that are convoluted\n",
    "            answer_text = answer_text.split('\\n', 1)[0] # skip parenthetical clarifications, units.\n",
    "            answer_text = answer_text.split(' (', 1)[0] # skip blah blah details. THE SPACE IS IMPORTANT\n",
    "            answer_text = answer_text.split('to', 1)[0] # give lower range\n",
    "\n",
    "            # Convert math symbols to be python.\n",
    "            answer_text = answer_text.replace('×', '*')\n",
    "            answer_text = answer_text.replace('^', '**')\n",
    "            #answer_text = answer_text.replace(' to the ', '**')\n",
    "            #answer_text = answer_text.replace(' times ', '*')\n",
    "            \n",
    "            # Convert numbers spelled out in words to numbers\n",
    "            if any([x in answer_text for x in number_dict.keys()]):\n",
    "                for key in number_dict.keys():\n",
    "                    if key in answer_text:\n",
    "                        answer_text = answer_text.replace(key, number_dict[key])\n",
    "            \n",
    "            # Fix potential overflow due to integers only.\n",
    "            if '**' in answer_text:\n",
    "                if '.' not in answer_text:\n",
    "                    answer_text += '.'\n",
    "            \n",
    "            # Clean up anything that is not a number or relevant math symbol\n",
    "            answer_text = re.sub('[^1234567890*.]', '', answer_text)\n",
    "            answer = float(numexpr.evaluate(answer_text))\n",
    "            print('Answer (float): ', answer)\n",
    "            return answer\n",
    "        \n",
    "        except:\n",
    "            print('This question\\'s answer isn\\'t convertable to a numerical string. \\n' + \n",
    "                  'Try rephrasing your question (e.g. specify units of the result).')\n",
    "\n",
    "    # Evaluate locally using python.\n",
    "    else:\n",
    "        try:\n",
    "            # Fix potential overflow due to integers only.\n",
    "            if '**' in in_str:\n",
    "                if '.' not in in_str:\n",
    "                    in_str += '.'\n",
    "            answer = float(numexpr.evaluate(in_str))\n",
    "            print(answer)\n",
    "            return answer\n",
    "        except:\n",
    "            print('This expression can\\'t be evaluated numerically. \\n' + \n",
    "                  'Did you mean to evaluate with wolfram? \\n' +\n",
    "                  'If not, check your question for typos.')\n",
    "\n",
    "def test0():\n",
    "    assert abs(4. - calculate('2**2')) < 0.001\n",
    "\n",
    "def test1():\n",
    "    assert abs(206. - calculate('how many bones in the human body', return_float=True)) < 0.001\n",
    "    \n",
    "def test2():\n",
    "    assert abs(12. - calculate('convert 1 feet to inches', return_float=True)) < 0.001\n",
    "    \n",
    "def test3():\n",
    "    assert abs(2.e204 - calculate('10e3*2e200')) < 10.e203\n",
    "    \n",
    "def test4():\n",
    "    assert abs(7.3459e22 - calculate('mass of the moon in kg', return_float=True)) < 10.e21\n",
    "    \n",
    "def test5():\n",
    "    assert abs(100. - calculate('water boiling point in celsius', return_float=True)) < 1\n",
    "    \n",
    "if __name__ == '__main__':\n",
    "    parser = argparse.ArgumentParser(description='Write something useful here.')\n",
    "    parser.add_argument('-s', action='store', dest='question_python', \n",
    "                        help='Numbers', default=None)\n",
    "    parser.add_argument('-w', action='store', dest='question_wolfram',\n",
    "                        help='Words', default=None)\n",
    "\n",
    "    results = parser.parse_args()\n",
    "    \n",
    "    \n",
    "    if (results.question_python != None) & (results.question_wolfram != None):\n",
    "        raise Exception('Make up your mind! You can only set one flag.')\n",
    "\n",
    "    if results.question_wolfram is None:\n",
    "        return_float=False\n",
    "        question = results.question_python\n",
    "    else:\n",
    "        return_float=True     \n",
    "        question = results.question_wolfram\n",
    "        \n",
    "    calculate(question, return_float=return_float)"
   ]
  },
  {
   "cell_type": "code",
   "execution_count": 35,
   "metadata": {},
   "outputs": [
    {
     "name": "stdout",
     "output_type": "stream",
     "text": [
      "This question's answer isn't convertable to a numerical string. \r\n",
      "Try rephrasing your question (e.g. specify units of the result).\r\n"
     ]
    }
   ],
   "source": [
    "!python calcalc/CalCalc.py -w 'CHICKENS!!!!!'"
   ]
  },
  {
   "cell_type": "code",
   "execution_count": 36,
   "metadata": {},
   "outputs": [
    {
     "name": "stdout",
     "output_type": "stream",
     "text": [
      "Answer (direct from Wolfram):  365 days\n",
      "Answer (float):  365.0\n",
      "Answer (direct from Wolfram):  12 inches\n",
      "Answer (float):  12.0\n",
      "Answer (direct from Wolfram):  1.62 miles\n",
      "Answer (float):  1.62\n",
      "Answer (direct from Wolfram):  206\n",
      "Answer (float):  206.0\n",
      "Answer (direct from Wolfram):  (620 to 750) nm (nanometers)\n",
      "Answer (float):  620.0\n",
      "Answer (direct from Wolfram):  (2.03×10^-6 to 2.46×10^-6) feet\n",
      "Answer (float):  2029999.9999999998\n",
      "Answer (direct from Wolfram):  7.3459×10^22 kg (kilograms)\n",
      "Answer (float):  7.3459e+22\n",
      "Answer (direct from Wolfram):  1800\n",
      "Answer (float):  1800.0\n",
      "Answer (direct from Wolfram):  206\n",
      "(according to Article 1 of the Montevideo Convention of 1933, in which a state must have: (1) a permanent population, (2) a defined territory, (3) a government, and (4) a capacity to enter into relations with the other states)\n",
      "Answer (float):  206.0\n",
      "Answer (direct from Wolfram):  $1860/oz t (US dollars per troy ounce) (Sunday, February 13, 2022)\n",
      "Answer (float):  1860.0\n",
      "Answer (direct from Wolfram):  $1695/oz (US dollars per ounce) (Sunday, February 13, 2022)\n",
      "Answer (float):  1695.0\n",
      "This question's answer isn't convertable to a numerical string. \n",
      "Try rephrasing your question (e.g. specify units of the result).\n",
      "Answer (direct from Wolfram):  7.71 billion people (2019 estimate)\n",
      "Answer (float):  7710000000.0\n",
      "Answer (direct from Wolfram):  (1×10^20 to 1×10^24)\n",
      "Answer (float):  1e+20\n",
      "This expression can't be evaluated numerically. \n",
      "Did you mean to evaluate with wolfram? \n",
      "If not, check your question for typos.\n",
      "1e+100\n",
      "1e+100\n"
     ]
    }
   ],
   "source": [
    "# All sorts of things I tried.\n",
    "!python calcalc/CalCalc.py -w 'how many days in a year'\n",
    "!python calcalc/CalCalc.py -w 'how many inches in 1 foot'\n",
    "!python calcalc/CalCalc.py -w 'how many miles in 2.6 km'\n",
    "!python calcalc/CalCalc.py -w 'how many bones in the body'\n",
    "!python calcalc/CalCalc.py -w 'wavelength of red light'\n",
    "!python calcalc/CalCalc.py -w 'wavelength of red light IN FEET'\n",
    "!python calcalc/CalCalc.py -w 'mass of the moon in kg'\n",
    "!python calcalc/CalCalc.py -w 'how many pandas'\n",
    "!python calcalc/CalCalc.py -w 'how many countries'\n",
    "!python calcalc/CalCalc.py -w 'price of gold'\n",
    "!python calcalc/CalCalc.py -w 'price of gold in dollars per oz'\n",
    "!python calcalc/CalCalc.py -w 'CHICKENS!!!!!'\n",
    "!python calcalc/CalCalc.py -w 'how many people on earth' \n",
    "!python calcalc/CalCalc.py -w 'how many grains of sand' \n",
    "!python calcalc/CalCalc.py -s 'mass of the moon in kg'\n",
    "!python calcalc/CalCalc.py -s '1*10**100'\n",
    "!python calcalc/CalCalc.py -s '1.*10**100'"
   ]
  },
  {
   "cell_type": "code",
   "execution_count": 37,
   "metadata": {},
   "outputs": [
    {
     "name": "stdout",
     "output_type": "stream",
     "text": [
      "\u001b[1m============================= test session starts ==============================\u001b[0m\n",
      "platform linux -- Python 3.9.9, pytest-7.0.1, pluggy-1.0.0\n",
      "rootdir: /home/jovyan/python-ay250-homeworks/hw_3\n",
      "plugins: anyio-3.4.0\n",
      "collected 6 items                                                              \u001b[0m\n",
      "\n",
      "calcalc/CalCalc.py \u001b[32m.\u001b[0m\u001b[32m.\u001b[0m\u001b[32m.\u001b[0m\u001b[32m.\u001b[0m\u001b[32m.\u001b[0m\u001b[32m.\u001b[0m\u001b[32m                                                [100%]\u001b[0m\n",
      "\n",
      "\u001b[32m============================== \u001b[32m\u001b[1m6 passed\u001b[0m\u001b[32m in 4.29s\u001b[0m\u001b[32m ===============================\u001b[0m\n"
     ]
    }
   ],
   "source": [
    "# pip install -U pytest\n",
    "!pytest ./calcalc/CalCalc.py"
   ]
  },
  {
   "cell_type": "markdown",
   "metadata": {},
   "source": [
    "### Add Wolfram\n",
    "\n",
    "To make this more awesome, have your function interact with the Wolfram|Alpha API to ask it what it thinks of the difficult questions.  To make this work, experiment with `urllib2` and a URL like this:\n",
    "'http://api.wolframalpha.com/v2/query?input=XXXXX&appid=UAGAWR-3X6Y8W777Q'\n",
    "where you replace the XXXXX with what you want to know.  NOTE: the ‘&appid=UAGAWR-3X6Y8W777Q’ part is vital; it is a W|A AppID I got for the class.  Feel free to use that one, or you can get your own and read more about the API, here:   http://products.wolframalpha.com/api/\n",
    "And you can explore how it works here:  http://products.wolframalpha.com/api/explorer.html\n",
    "\n",
    "EXAMPLE:\n",
    "\n",
    "```bash\n",
    "$ python CalCalc.py -w 'mass of the moon in kg'\n",
    "7.3459e+22\n",
    "```\n",
    "\n",
    "AND, from within Python\n",
    "\n",
    "```python\n",
    ">>> from CalCalc import calculate\n",
    ">>> calculate('mass of the moon in kg',  return_float=True) * 10\n",
    ">>> 7.3459e+23\n",
    "```"
   ]
  },
  {
   "cell_type": "markdown",
   "metadata": {},
   "source": [
    "## Adding it to Github\n",
    "\n",
    "Start a github project for CalCalc. Include a setup.py, README.txt, LICENSE.txt, MANIFEST.in, etc. and turn your module into a proper Python Distribution, so that we can install it and use it. See https://packaging.python.org/en/latest/guides/distributing-packages-using-setuptools/ \n",
    "\n",
    "Example Folder Hierarchy:\n",
    "```bash\n",
    "Your_Homework3_Folder/calcalc\n",
    "                      |--> CalCalc.py\n",
    "                      |--> __init__.py\n",
    "Your_Homework3_Folder/setup.py\n",
    "Your_Homework3_Folder/README.txt\n",
    "...\n",
    "```\n",
    "Include at least 5 test functions in CalCalc.py, and test with `pytest`, to make sure it behaves the way you think it should.\n",
    "\n",
    "EXAMPLE `CalCalc.py`:\n",
    "```python\n",
    "# ...\n",
    "def calculate([...]):\n",
    "    [...]\n",
    "\n",
    "def test_1():\n",
    "    assert abs(4. - calculate('2**2')) < 0.001\n",
    "```\n",
    "\n",
    "When grading, we will create a virtual environment and attempt to install your module by running:\n",
    "\n",
    "```bash\n",
    "pip install build\n",
    "```"
   ]
  },
  {
   "cell_type": "markdown",
   "metadata": {},
   "source": [
    "**Answer:** Link to package at https://pypi.org/project/calcalc/"
   ]
  },
  {
   "cell_type": "markdown",
   "metadata": {},
   "source": [
    "### CalCalc on CI\n",
    "\n",
    "Get your project working with GitHub Actions and make sure your tests are run and pass. Give us a link to you GH actions for your site here (e.g. https://github.com/profjsb/PyAdder/actions):"
   ]
  },
  {
   "cell_type": "code",
   "execution_count": null,
   "metadata": {},
   "outputs": [],
   "source": []
  },
  {
   "cell_type": "markdown",
   "metadata": {},
   "source": [
    "### **(Bonus/Extra Credit)** \n",
    "\n",
    "  Get your project working on Azure, AWS or Google Compute Cloud with a Flask front-end. You can use the example from class as a template. Start a VM on one of these PaaS. A user should be able to submit their calcalc query on a form (hosted on your VM) and get the result back.\n",
    "\n",
    "You should be able to add an `app.py` (with Flask) into your CalCalc project. Be sure to open up the port on the VM that you are serving on. Let us know the URL to your app here:"
   ]
  },
  {
   "cell_type": "code",
   "execution_count": null,
   "metadata": {},
   "outputs": [],
   "source": []
  }
 ],
 "metadata": {
  "kernelspec": {
   "display_name": "Python 3 (ipykernel)",
   "language": "python",
   "name": "python3"
  },
  "language_info": {
   "codemirror_mode": {
    "name": "ipython",
    "version": 3
   },
   "file_extension": ".py",
   "mimetype": "text/x-python",
   "name": "python",
   "nbconvert_exporter": "python",
   "pygments_lexer": "ipython3",
   "version": "3.9.9"
  },
  "toc": {
   "base_numbering": 1,
   "nav_menu": {},
   "number_sections": true,
   "sideBar": true,
   "skip_h1_title": false,
   "title_cell": "Table of Contents",
   "title_sidebar": "Contents",
   "toc_cell": false,
   "toc_position": {},
   "toc_section_display": true,
   "toc_window_display": false
  },
  "varInspector": {
   "cols": {
    "lenName": 16,
    "lenType": 16,
    "lenVar": 40
   },
   "kernels_config": {
    "python": {
     "delete_cmd_postfix": "",
     "delete_cmd_prefix": "del ",
     "library": "var_list.py",
     "varRefreshCmd": "print(var_dic_list())"
    },
    "r": {
     "delete_cmd_postfix": ") ",
     "delete_cmd_prefix": "rm(",
     "library": "var_list.r",
     "varRefreshCmd": "cat(var_dic_list()) "
    }
   },
   "types_to_exclude": [
    "module",
    "function",
    "builtin_function_or_method",
    "instance",
    "_Feature"
   ],
   "window_display": false
  }
 },
 "nbformat": 4,
 "nbformat_minor": 1
}
